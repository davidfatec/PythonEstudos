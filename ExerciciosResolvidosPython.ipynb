{
  "nbformat": 4,
  "nbformat_minor": 0,
  "metadata": {
    "colab": {
      "name": "ExerciciosResolvidosPython.ipynb",
      "provenance": [],
      "authorship_tag": "ABX9TyOxB1DbHCy0T6mUfVqxgXtr",
      "include_colab_link": true
    },
    "kernelspec": {
      "name": "python3",
      "display_name": "Python 3"
    },
    "language_info": {
      "name": "python"
    }
  },
  "cells": [
    {
      "cell_type": "markdown",
      "metadata": {
        "id": "view-in-github",
        "colab_type": "text"
      },
      "source": [
        "<a href=\"https://colab.research.google.com/github/davidfatec/PythonEstudos/blob/main/ExerciciosResolvidosPython.ipynb\" target=\"_parent\"><img src=\"https://colab.research.google.com/assets/colab-badge.svg\" alt=\"Open In Colab\"/></a>"
      ]
    },
    {
      "cell_type": "markdown",
      "metadata": {
        "id": "ZbcskiM5-VXo"
      },
      "source": [
        "**PYTHON**"
      ]
    },
    {
      "cell_type": "markdown",
      "metadata": {
        "id": "DQ6NY2PuIrsQ"
      },
      "source": [
        "**MODULO 1**"
      ]
    },
    {
      "cell_type": "code",
      "metadata": {
        "id": "IkuLQH3p-UY3"
      },
      "source": [
        "print('Ola, mundo!')\n",
        "#digite um nome e de boas vindas\n",
        "nome = input('Digite seu nome: ')\n",
        "print('Boa noite {} é muito bom ter você por aqui.'.format(nome))"
      ],
      "execution_count": null,
      "outputs": []
    },
    {
      "cell_type": "markdown",
      "metadata": {
        "id": "RqHlR-tdKqgz"
      },
      "source": [
        "**FATIANDO E MANIPULANDO STRING**"
      ]
    },
    {
      "cell_type": "code",
      "metadata": {
        "id": "v_pnnlUtJBKh"
      },
      "source": [
        "#manipulando texto => a frase abaixo é armazenada caracter por caracter inicia no 0 e vai até 19, pois possui 20 caracteres\n",
        "frase = 'Eu moro em Bebedouro'\n",
        "#Eu moro em  B e b e d o u r o\n",
        "#012345678910111213141516171819\n",
        "print(frase)\n",
        "#fatiando a string                                \n",
        "print(frase[5])\n",
        "#fatiando pedaço da frase range nesse caso o ultimo valor(8) nao entra na contagem\n",
        "print(frase[3:8])\n",
        "#fatiando pulando de 2 em 2\n",
        "print(frase[3:8:2])\n",
        "#fatiando começando do caracter zero e indo até o 8 ou seja até o caracter 7 pois o 8 não é incluido\n",
        "print(frase[:8])\n",
        "#fatiando indo do caracter indicado(incluindo ele mesmo) até o final \n",
        "print(frase[11:])\n",
        "#fatiando do nono caracter até o ultimo\n",
        "print(frase[9:])\n",
        "#fatiando do nono ate o ultimo de 3 em 3\n",
        "print(frase[9::3])\n",
        "\n",
        "#analisando uma string\n",
        "#o len (comprimento) mostra o total de caracteres \n",
        "print(len(frase)) \n",
        "#comando count(a) conta quantos caracteres (a) tem na string \n",
        "print(frase.count('o'))\n",
        "#conta com fatiamento de 0 a 10, anulando o 10ºcaracter\n",
        "print(frase.count('o',0,13))\n",
        "#encontrar a parte desejada .find('caracter desejado') se retornar o valor -1 indica que não foi encontrado\n",
        "print(frase.find('dou'))\n",
        "#indicador indica true or false\n",
        "print('moro' in frase)\n",
        "\n",
        "#transformação muda por metodos\n",
        "print(frase.replace('Bebedouro','Gramado'))\n",
        "#upper modifica o caracter minusculo pelo maiusculo\n",
        "print(frase.upper())\n",
        "#lower modifica todos os caracteres para minusculo\n",
        "print(frase.lower())\n",
        "#capitalize modifica a primeira letras da string para maiuscula\n",
        "print(frase.capitalize())\n",
        "#title modifica todas as primeiras letras das palavras para maiusculo (ele percebe isso pela posição do espaço)\n",
        "print(frase.title())\n",
        "#strip - remove espaço no inicio e final da string rstrip (remove direita) lstrip(remove esquerda)\n",
        "fraseEspaco = '   deixei espaço no inicio e no fim   '\n",
        "print(fraseEspaco)\n",
        "print(fraseEspaco.strip())\n",
        "print(fraseEspaco.rstrip())\n",
        "print(fraseEspaco.lstrip())\n",
        "\n",
        "#divisão de strings\n",
        "#split - dividi a string considerando os espaços\n",
        "print(frase.split())\n",
        "#join - junta os caracteres\n",
        "frase2 = frase.split()\n",
        "print(' '.join(frase2))"
      ],
      "execution_count": null,
      "outputs": []
    },
    {
      "cell_type": "markdown",
      "metadata": {
        "id": "NHEQzA5gK0wu"
      },
      "source": [
        " **Extrutura sequencial => executa uma sequencia de instrução sem usar extrutura condicional**\n",
        "\n",
        "**Extrutura condicional => executa uma sequencia de instrução usando determinada condição**"
      ]
    },
    {
      "cell_type": "code",
      "metadata": {
        "id": "gv_i1Ai5JCsB"
      },
      "source": [
        "print('start programing')\n",
        "carro = int(input('Digite quantos anos tem seu carro: '))\n",
        "if(carro <= 5):\n",
        "    print('carro semi novo')\n",
        "else:\n",
        "    print('O carro NÃO é semi novo ')    \n",
        "print('stop programing')"
      ],
      "execution_count": null,
      "outputs": []
    },
    {
      "cell_type": "markdown",
      "metadata": {
        "id": "rPgbxFWVLRC-"
      },
      "source": [
        "Operações aritmeticas soma +, subtração -, divisão /, multiplicação \"*\" , potencia \"**\" , divisão inteira //, resto da divisão %"
      ]
    },
    {
      "cell_type": "code",
      "metadata": {
        "id": "ZzJzGoqiJC40"
      },
      "source": [
        "numero1 = int(input('Digite um numero: '))\n",
        "numero2 = int(input('Digite outro numero: '))\n",
        "soma = numero1 + numero2\n",
        "subtracao = numero1 - numero2\n",
        "multiplicacao = numero1 * numero2\n",
        "divisao = numero1 / numero2\n",
        "potencia = numero1 ** numero2\n",
        "divisaoInteira = numero1 // numero2\n",
        "restoDaDivisao = numero1 % numero2\n",
        "\n",
        "print('As operações aritmeticas entre {} e {} são:'\n",
        "       '\\n Soma {},\\n Subtração {}, \\n Multiplicação {},'\n",
        "       '\\n Divisão {}, \\n Potenciação {},\\n Divisão inteira {}, \\n resto da divisão {}'\n",
        "       .format(numero1,numero2,soma,subtracao,multiplicacao,\n",
        "              divisao,potencia,divisaoInteira,restoDaDivisao)\n",
        "     )\n",
        "\n",
        "#ordem de precedencia () , ** potenciação, {* / // %} e por ultimo + e -  "
      ],
      "execution_count": null,
      "outputs": []
    },
    {
      "cell_type": "markdown",
      "metadata": {
        "id": "oZil9fA4MDc0"
      },
      "source": [
        "**TIPOS DE VARIÁVEIS (int, float, bool, str)**"
      ]
    },
    {
      "cell_type": "code",
      "metadata": {
        "id": "UaX-FFIZJDBT"
      },
      "source": [
        "# no formato abaixo vai ser concatenado \n",
        "    #n1 = input('Digite um número: ')\n",
        "    #n2 = input('Digite outro número: ')\n",
        "    #s = n1 + n2\n",
        "    #print(s)\n",
        "# o correto é trabalhar tipando os inputs os tipos podem ser (int, float, bool, str)\n",
        "n1 = int(input('Digite um número: '))\n",
        "n2 = int(input('Digite outro número: '))\n",
        "s = n1 + n2\n",
        "print('A soma de {} e {} é {}'.format(n1,n2,s))\n",
        "\n",
        "# int 1 2 3 -1 0 9587\n",
        "# float 4.5 0.078 -45.587 7.0\n",
        "# bool True False\n",
        "# str 'Olá Mundo' '123' '' String vazia"
      ],
      "execution_count": null,
      "outputs": []
    },
    {
      "cell_type": "markdown",
      "metadata": {
        "id": "l_3meesYKjID"
      },
      "source": [
        "**Cores**"
      ]
    },
    {
      "cell_type": "code",
      "metadata": {
        "id": "UIUDWS1nJDDz"
      },
      "source": [
        "#Cores no terminal\n",
        "print('-=-' * 15)\n",
        "print('Cores no terminal')\n",
        "print('-=-' * 15)\n",
        "#ANSI escape sequence\n",
        "#\\033[   m] tres codigos sequencais entre o [ e o m  1-style 2-text 3-back \n",
        "#\\033[0;33;44m\n",
        "#STYLE\n",
        "#0 = sem estilo\n",
        "#1 = negrito\n",
        "#4 = underline\n",
        "#7 = negative inverte a coloraçao letra e fundo \n",
        "#TEXT (30 a 37 - branco/vermelho/verde/amarelo/azul/magenta/ciano/cinza)\n",
        "#BACK (40 a 47 - branco/vermelho/verde/amarelo/azul/magenta/ciano/cinza)\n",
        "print('\\033[0;31mOlá, mundo\\033[m')\n",
        "print('\\033[1;36mNegrito\\033[m')\n",
        "nome = input('digite seu nome: ')\n",
        "#criando cores na variavel\n",
        "cores = {'limpa':'\\033[m',\n",
        "         'azul':'\\033[34m',\n",
        "         'amarelo':'\\033[33m',\n",
        "         'pretoEbranco':'\\033[7;30m'}\n",
        "print('seu nome é {}{}{}'.format(cores['pretoEbranco'],nome, cores['limpa']))"
      ],
      "execution_count": null,
      "outputs": []
    },
    {
      "cell_type": "markdown",
      "metadata": {
        "id": "A2oADtIhKLcv"
      },
      "source": [
        "Trabalhando com modulos (bibliotecas podem ser importadas) para isso usamos o comando import. Quando voce importa uma biblioteca voce importa todas as funcionalidades nessa biblioteca, mas pode tambem optar por determinadas funcionalidades, usando from nome da biblioteca import funcionalidade desejada\n",
        "outros programadores disponibilizam funcionalidades na comunidade python.org ex: validação de CPF\n",
        "biblioteca math (ceil arredonda pra cima) (floor arredonda pra baixo) (trunc elimina da virgula pra frente) (pow potencia(**))\n",
        "(sqrt raiz quadrada) (factorial calcula fatorial) "
      ]
    },
    {
      "cell_type": "code",
      "metadata": {
        "id": "BZoLMIovJDGC"
      },
      "source": [
        "import math                       #importa todas as funcionalidades\n",
        "n = int(input('Digite um numero: '))\n",
        "raiz = math.sqrt(n)\n",
        "msg = 'A raiz quadrada de {} é {} .'.format(n,raiz)\n",
        "print(msg)"
      ],
      "execution_count": null,
      "outputs": []
    },
    {
      "cell_type": "markdown",
      "metadata": {
        "id": "7mXbJ00pMk9V"
      },
      "source": [
        "**EXERCICIOS MODULO 1**"
      ]
    },
    {
      "cell_type": "markdown",
      "metadata": {
        "id": "teBCuZ-6OBl_"
      },
      "source": [
        "**1)Escreva um programa que pergunte a quantidade de Km percorridos por um carro alugado e a quantidade de dias pelos quais ele foi alugado.Calcule o preço a pagar, sabendo que o custo por dia é 60,00 e o KM rodado custa 0,15.**"
      ]
    },
    {
      "cell_type": "code",
      "metadata": {
        "id": "lAlw35-PJDJb"
      },
      "source": [
        "diasLocados = int(input('Digite o numero de dias que o carro foi locado: '))\n",
        "valorDia = float(input('Digite o valor da diario: R$'))\n",
        "kmInicial = float(input('Digite o km inicial: ')) \n",
        "kmFinal = float(input('Digite o km Final: '))\n",
        "valorKm = float(input('Digite o valor por km: R$'))\n",
        "kmRodado = kmFinal - kmInicial\n",
        "totalPagar = (diasLocados * valorDia) + (kmRodado * valorKm)\n",
        "msg ='''Descrição da locação \n",
        "Dias locados: {} dias (R${:.2f}) \n",
        "Km Rodado:   {:.0f}km (R${:.2f})\n",
        "==================================\n",
        "          Total a pagar R${:.2f}\n",
        "'''.format(diasLocados,diasLocados * valorDia,kmRodado,kmRodado * valorKm,totalPagar)\n",
        "print(msg)"
      ],
      "execution_count": null,
      "outputs": []
    },
    {
      "cell_type": "markdown",
      "metadata": {
        "id": "3HqtnrlXP3lF"
      },
      "source": [
        "**2)Escreva um algoritmo que leia uma temperatura em ºC e converta para ºF**\n",
        "**Formula ( °C × 9/5) + 32 = °F**"
      ]
    },
    {
      "cell_type": "code",
      "metadata": {
        "id": "hMSIV1J8JDX_"
      },
      "source": [
        "c = float(input('Digite a temperatura em ºC: '))\n",
        "f = (c * 9/5) + 32\n",
        "msg = '{} ºC equivale a {} ºF'.format(c,f)\n",
        "print(msg)"
      ],
      "execution_count": null,
      "outputs": []
    },
    {
      "cell_type": "markdown",
      "metadata": {
        "id": "jsAGAoMrQFxY"
      },
      "source": [
        "**3)Faça um programa que leia algo pelo teclado e mostre na tela seu tipo primitivo e todas as informações possiveis sobre ela**"
      ]
    },
    {
      "cell_type": "code",
      "metadata": {
        "id": "nUGsqrEzQGIq"
      },
      "source": [
        "palavra = input('digite algo: ')\n",
        "print('tipo primitivo é ',type(palavra))\n",
        "print('é numerico?',palavra.isnumeric())\n",
        "print('é alpha numerico?',palavra.isalnum())\n",
        "print('é apenas alpha?',palavra.isalpha())\n",
        "print('possue espaço?',palavra.isspace())\n",
        "print('é só minusculo?',palavra.islower())\n",
        "print('é só maiusculo?',palavra.isupper())\n",
        "print('é capitalizada?',palavra.istitle())"
      ],
      "execution_count": null,
      "outputs": []
    },
    {
      "cell_type": "markdown",
      "metadata": {
        "id": "Ia7bOLxLQGdn"
      },
      "source": [
        "**4)Faça um programa que leia o nome de uma pessoa e mostre uma msg de boas vindas**"
      ]
    },
    {
      "cell_type": "code",
      "metadata": {
        "id": "nLpWMO9IQGwo"
      },
      "source": [
        "nome = input('Digite seu Nome: ')\n",
        "msg = 'Bom dia Sr(a) {} Seja bem vindo(a)!'.format(nome)\n",
        "print(msg)"
      ],
      "execution_count": null,
      "outputs": []
    },
    {
      "cell_type": "markdown",
      "metadata": {
        "id": "LUecdMKTQHDU"
      },
      "source": [
        "**5)faça um algoritmo que leia um numero inteiro e mostre na tela o seu antecessor e seu sucessor**"
      ]
    },
    {
      "cell_type": "code",
      "metadata": {
        "id": "1N-TDrbIQHUo"
      },
      "source": [
        "numero = int(input('Digite um numero: '))\n",
        "sucessor = numero + 1 \n",
        "antecessor = numero -1\n",
        "msg = 'O antecessor de {} é {} e seu sucessor é {}'.format(numero,antecessor,sucessor) \n",
        "print(msg)"
      ],
      "execution_count": null,
      "outputs": []
    },
    {
      "cell_type": "markdown",
      "metadata": {
        "id": "7_LezMfgQHlT"
      },
      "source": [
        "**6)Crie um algoritmo que leia um numero e mostre seu dobro, triplo e raiz quadrada**"
      ]
    },
    {
      "cell_type": "code",
      "metadata": {
        "id": "_HLj4x3JQH3R"
      },
      "source": [
        "numero = int(input('Digite um numero: '))\n",
        "dobro = numero * 2\n",
        "triplo = numero * 3 \n",
        "raiz = numero ** 0.5\n",
        "msg = 'Referente ao número {} temos: \\nDobro {}, \\ntriplo {}, \\nRaiz quadrada {}'.format(numero,dobro,triplo,raiz)\n",
        "print(msg)"
      ],
      "execution_count": null,
      "outputs": []
    },
    {
      "cell_type": "markdown",
      "metadata": {
        "id": "8KwwfWntQIUL"
      },
      "source": [
        "**7)Escreva um programa que leia duas notas de um aluno e calcule e mostre a sua média**"
      ]
    },
    {
      "cell_type": "code",
      "metadata": {
        "id": "nuH8yFt_QIl7"
      },
      "source": [
        "nota1 = float(input(\"Digite a nota da primeira prova: \"))\n",
        "nota2 = float(input('Digite a nota da segunda prova: '))\n",
        "media = (nota1 + nota2)/2\n",
        "msg = 'A notas de suas duas provas foram respectivamente {} e {} e sua média é {} '.format(nota1,nota2,media)\n",
        "print(msg)"
      ],
      "execution_count": null,
      "outputs": []
    },
    {
      "cell_type": "markdown",
      "metadata": {
        "id": "9A_eci-CQI2d"
      },
      "source": [
        "**8)Escreva um programa que receba um valor em metros e o converta para centimetros e milimetros**"
      ]
    },
    {
      "cell_type": "code",
      "metadata": {
        "id": "k1rD2HRmQJGQ"
      },
      "source": [
        "metro = int(input('Digite um valor em metros: '))\n",
        "centimetros = metro * 100\n",
        "milimetros = metro * 1000\n",
        "msg = 'O valor de {} metro(s), corresponde a {} centimetros e {} milimetros'.format(metro, centimetros,milimetros)\n",
        "print(msg)"
      ],
      "execution_count": null,
      "outputs": []
    },
    {
      "cell_type": "markdown",
      "metadata": {
        "id": "gTjv-u8MXzMS"
      },
      "source": [
        "**9)Escreva um programa que receba um numero e mostre sua tabuada**"
      ]
    },
    {
      "cell_type": "code",
      "metadata": {
        "id": "pRrLunU8Xzky"
      },
      "source": [
        "numero = int(input('Digite um numero: '))\n",
        "controlador = 1\n",
        "while controlador <= 10:\n",
        "    resultado = numero * controlador\n",
        "    msg = '{} X {} = {}'.format(numero,controlador,resultado)\n",
        "    controlador +=1\n",
        "    print(msg)"
      ],
      "execution_count": null,
      "outputs": []
    },
    {
      "cell_type": "markdown",
      "metadata": {
        "id": "oBTg2bpCXz1_"
      },
      "source": [
        "**10)Digite um programa que leia quanto de dinheiro uma pessoa tem e converta em dolares. considere o dollar a R$5,27**"
      ]
    },
    {
      "cell_type": "code",
      "metadata": {
        "id": "E4ldP7e1X0Gp"
      },
      "source": [
        "real = float(input('Digite quanto tem em reais: R$'))\n",
        "dollar = 5.27\n",
        "convertido = real / dollar\n",
        "msg = 'O valor de R${:.2f} representa US${:.2f} '.format(real,convertido)\n",
        "print(msg)"
      ],
      "execution_count": null,
      "outputs": []
    },
    {
      "cell_type": "markdown",
      "metadata": {
        "id": "RpsmuIAPX0W7"
      },
      "source": [
        " **11)faça um programa que leia a largura e altura de uma parede em metros calcule sua area e a quantidade necessaria de tinta é necessário para pinta-lá, sabendo que para cada 2 metros quadrados utiliza 1 litro de tinta** "
      ]
    },
    {
      "cell_type": "code",
      "metadata": {
        "id": "CxQ-B5B4X0mz"
      },
      "source": [
        "largura = float(input('Digite a largura da parede: '))\n",
        "altura = float(input('Digite a altura da parede: '))\n",
        "metragemTT = largura * altura\n",
        "tintaNecessaria = metragemTT / 2 \n",
        "msg = 'A area total é {} m² e você precisa de {} litro(s) de tinta'.format(metragemTT,tintaNecessaria)\n",
        "print(msg)"
      ],
      "execution_count": null,
      "outputs": []
    },
    {
      "cell_type": "markdown",
      "metadata": {
        "id": "m-_P3vRSX0-v"
      },
      "source": [
        "**12)Faça um algoritmo que leia o preço de um produto e mostre o preço com 5% de desconto.**"
      ]
    },
    {
      "cell_type": "code",
      "metadata": {
        "id": "QXs1z048X1PA"
      },
      "source": [
        "produto = input('Digite um produto: ')\n",
        "preco = float(input('Digite o preço: '))\n",
        "desconto = float(input('Digite o desconto: '))\n",
        "novopreco = preco - ((preco * desconto)/100)\n",
        "msg = 'O produto {}, custa R${:.2f} pagando a vista tem desconto de {:.0f}% , e você só paga R${:.2f}'.format(produto,preco,desconto,novopreco)\n",
        "print(msg)"
      ],
      "execution_count": null,
      "outputs": []
    },
    {
      "cell_type": "markdown",
      "metadata": {
        "id": "BNIJlCqNX1g0"
      },
      "source": [
        "**13)Faça um algoritimo que leia um salario de um funcionario e mostre seu novo salario com 15% de aumento**"
      ]
    },
    {
      "cell_type": "code",
      "metadata": {
        "id": "cX0m0ZZ8X1x0"
      },
      "source": [
        "funcionario = input('Digite o nome do funcionario: ')\n",
        "salario = float(input('Digite o salário: R$'))\n",
        "aumento = float(15)\n",
        "novoSalario = salario + ((salario*aumento)/100)\n",
        "msg = 'O SR(A) {} com o salario atual de R${:.2f} foi promovido com um ajuste de {:.0f}%, passando agora a ganhar um salario de R${:.2f}'.format(funcionario,salario,aumento,novoSalario)\n",
        "print(msg)"
      ],
      "execution_count": null,
      "outputs": []
    },
    {
      "cell_type": "markdown",
      "metadata": {
        "id": "LX34UyN5X2A_"
      },
      "source": [
        "**14)Crie um programa que leia um numero real (8.584)qualquer pelo teclado e mostre na tela a sua porção inteira(apenas 8).**"
      ]
    },
    {
      "cell_type": "code",
      "metadata": {
        "id": "EHMIphj2X2Pg"
      },
      "source": [
        "from math import trunc\n",
        "numeroReal = float(input('Digite um numero: '))\n",
        "msg = ('O numero inteiro de {} é {}.'.format(numeroReal,trunc(numeroReal)))\n",
        "print(msg)\n",
        "\n",
        "#sem importar trunc\n",
        "nReal = float(input('Digite um numero: '))\n",
        "msg2 = 'A porção inteira do numero {} é {}'.format(nReal,int(nReal))\n",
        "print(msg2)"
      ],
      "execution_count": null,
      "outputs": []
    },
    {
      "cell_type": "markdown",
      "metadata": {
        "id": "NWvdS2vnX2el"
      },
      "source": [
        "**15)Faça um programa que leia o comprimento do cateto oposto e do cateto adjacente de um triangulo retangulo, calcule e mostre o comprimento da hipotenusa.**"
      ]
    },
    {
      "cell_type": "code",
      "metadata": {
        "id": "4ZpQde1oX2tR"
      },
      "source": [
        "catetoOposto = float(input('Qual o comprimento do cateto oposto: '))\n",
        "catetoAdjacente = float(input('Qual o comprimento do cateto adjascente: '))\n",
        "hipotenusa = (catetoOposto ** 2 + catetoAdjacente ** 2) ** 0.5\n",
        "msg = 'O comprimento da hipotenusa que tem o cateto oposto de {} e o cateto adjascente de {} é {:.2f}'.format(catetoOposto,catetoAdjacente,hipotenusa)\n",
        "print(msg)\n",
        "\n",
        "#usando biblioteca\n",
        "from math import hypot\n",
        "co = float(input('Digite o cateto oposto: '))\n",
        "ca = float(input('Digite o cateto adjascente: '))\n",
        "hi = hypot(co,ca)\n",
        "msg2 = 'O comprimento da hipotenusa que tem o cateto oposto de {} e o cateto adjascente de {} é {:.2f}'.format(co,ca,hi)\n",
        "print(msg2)"
      ],
      "execution_count": null,
      "outputs": []
    },
    {
      "cell_type": "markdown",
      "metadata": {
        "id": "0n953Os5X27I"
      },
      "source": [
        "**16)Faça um programa que leia um angulo qualquer e mostre na tela o valor do seno, cossano e tangente desse angulo. Importamos da biblioteca math apenas o que seria utilizado aqui (radians,sin,cos,tan)**\n"
      ]
    },
    {
      "cell_type": "code",
      "metadata": {
        "id": "8WuD878-X3KE"
      },
      "source": [
        "from math import radians,sin,cos,tan\n",
        "angulo = float(input('Digite o angulo desejado: '))\n",
        "seno = sin(radians(angulo))\n",
        "cosseno = cos(radians(angulo))\n",
        "tangente = tan(radians(angulo))\n",
        "\n",
        "msg = 'O ângulo {:.0f}º tem o seno {:.2f} o cosseno {:.2f} e a tangente {:.2f}'.format(angulo,seno,cosseno,tangente)\n",
        "print(msg)"
      ],
      "execution_count": null,
      "outputs": []
    },
    {
      "cell_type": "markdown",
      "metadata": {
        "id": "XjNIlJj4X3Zg"
      },
      "source": [
        "**17)Um professor quer sortear um dos seus quatro alunos para apagar o quadro. Faça um programa que ajude ele, lendo o nome deles e escrevendo o nome escolhido**"
      ]
    },
    {
      "cell_type": "code",
      "metadata": {
        "id": "L3PDyTfkX3pX"
      },
      "source": [
        "from random import choice\n",
        "aluno1 = input('Digite o nome do primeiro aluno: ')\n",
        "aluno2 = input('Digite o nome do segundo aluno: ')\n",
        "aluno3 = input('Digite o nome do terceiro aluno: ')\n",
        "aluno4 = input('Digite o nome do quarto aluno: ')\n",
        "alunos=[aluno1,aluno2,aluno3,aluno4]\n",
        "sorteado = choice(alunos)\n",
        "msg = 'O(a) aluno(a) escolhido foi {}.'.format(sorteado)\n",
        "print(msg)"
      ],
      "execution_count": null,
      "outputs": []
    },
    {
      "cell_type": "markdown",
      "metadata": {
        "id": "q-N_F8BJtAdp"
      },
      "source": [
        "**18)O mesmo professor do desafio anterior quer sortear a ordem de apresentação dos trabalhos, faça um programa que leia e sorteie em ordem de apresentação**"
      ]
    },
    {
      "cell_type": "code",
      "metadata": {
        "id": "FlhEEol4tA27"
      },
      "source": [
        "from random import shuffle\n",
        "aluno1 = input('Digite o nome do primeiro aluno: ')\n",
        "aluno2 = input('Digite o nome do segundo aluno: ')\n",
        "aluno3 = input('Digite o nome do terceiro aluno: ')\n",
        "aluno4 = input('Digite o nome do quarto aluno: ')\n",
        "alunos = [aluno1,aluno2,aluno3,aluno4]\n",
        "shuffle(alunos) #embaralha a lista de forma aleatoria \n",
        "msg = alunos\n",
        "print(msg)"
      ],
      "execution_count": null,
      "outputs": []
    },
    {
      "cell_type": "markdown",
      "metadata": {
        "id": "Xs-QhHiitBLs"
      },
      "source": [
        "**19)Crie um programa que leia um nome completo de uma pessoa e mostre:**"
      ]
    },
    {
      "cell_type": "code",
      "metadata": {
        "id": "r7vag_crtBfH"
      },
      "source": [
        "nome = str(input('Digite seu nome completo: ')).strip() #elimina os espaços antes e depois\n",
        "print(nome)\n",
        "#Nome com todas as letras em maiusculo\n",
        "maiusculo = nome.upper()\n",
        "print('Seu nome em maiusculo: ',maiusculo)\n",
        "#todas as letras minusculas\n",
        "minusculo = nome.lower()\n",
        "print('Seu nome em minusculo: ',minusculo)\n",
        "#quantas letras ao todo sem considerar espaços\n",
        "semEspacos = nome.replace(' ','')\n",
        "semEspacos2 = len(nome) - nome.count(' ')\n",
        "print('Tamanho com espaços {} e tamanho sem espaços {}'.format(len(nome),len(semEspacos)))\n",
        "print('sem espaços tem {} letras'.format(semEspacos2))\n",
        "#quantas letras tem o primeiro nome\n",
        "separa = nome.split()\n",
        "print('Seu primero nome tem: ',len(separa[0]), ' letras')"
      ],
      "execution_count": null,
      "outputs": []
    },
    {
      "cell_type": "markdown",
      "metadata": {
        "id": "mM43qL7_tByF"
      },
      "source": [
        "**20)faça um programa que leia um numero de 0 a 9999 e mostre na tela cada um dos digitos separados inteiro**\n"
      ]
    },
    {
      "cell_type": "code",
      "metadata": {
        "colab": {
          "base_uri": "https://localhost:8080/"
        },
        "id": "rsBz-rE5tCCO",
        "outputId": "966751a3-faa9-4675-b688-bf50ab166def"
      },
      "source": [
        "numero = int(input('Digite um número de 0 a 9999: '))\n",
        "u = numero // 1 % 10\n",
        "d = numero // 10 % 10 \n",
        "c = numero // 100 % 10\n",
        "m = numero // 1000 % 10\n",
        "print('Analisando o número: ',numero)\n",
        "print('Unidade: {}'.format(u))\n",
        "print('Dezena: {}'.format(d))\n",
        "print('Centena: {}'.format(c))\n",
        "print('Milhar: {}'.format(m))"
      ],
      "execution_count": null,
      "outputs": [
        {
          "output_type": "stream",
          "name": "stdout",
          "text": [
            "Digite um número de 0 a 9999: 4587\n",
            "Analisando o número:  4587\n",
            "Unidade: 7\n",
            "Dezena: 8\n",
            "Centena: 5\n",
            "Milhar: 4\n"
          ]
        }
      ]
    },
    {
      "cell_type": "markdown",
      "metadata": {
        "id": "XW75zO6CtCRt"
      },
      "source": [
        "**21)Crie um programa que leia o nome de uma cidade e diga se ela começa ou não com 'SANTO'**\n"
      ]
    },
    {
      "cell_type": "code",
      "metadata": {
        "colab": {
          "base_uri": "https://localhost:8080/"
        },
        "id": "jmWRAtfqtCgX",
        "outputId": "0f745121-6d22-44b4-c949-782767289bdb"
      },
      "source": [
        "cidade = str(input('Digite o nome da cidade: ')).strip()\n",
        "cidade = cidade.upper()\n",
        "cidade = cidade.split()\n",
        "\n",
        "if(cidade[0] == \"SANTO\"):\n",
        "  print('Começa com SANTO')\n",
        "else:\n",
        "  print('Não começa com SANTO')"
      ],
      "execution_count": null,
      "outputs": [
        {
          "output_type": "stream",
          "name": "stdout",
          "text": [
            "7\n"
          ]
        }
      ]
    },
    {
      "cell_type": "markdown",
      "metadata": {
        "id": "t8SC2dLStDlb"
      },
      "source": [
        "**22)Crie um programa que leia o nome de uma pessoa e diga se ela tem \"SILVA\" no nome**\n"
      ]
    },
    {
      "cell_type": "code",
      "metadata": {
        "id": "piEpHfYStEOn"
      },
      "source": [
        "nome = str(input('Digite o seu nome: ')).strip()\n",
        "nome = nome.upper()\n",
        "encontrar = str(input('Digite o que deseja encontrar: ')).strip()\n",
        "encontrar = encontrar.upper()\n",
        "\n",
        "if(encontrar in nome):\n",
        "    print('Seu nome possui',encontrar)\n",
        "else:\n",
        "    print('Não Possui',encontrar)    \n",
        " "
      ],
      "execution_count": null,
      "outputs": []
    },
    {
      "cell_type": "markdown",
      "metadata": {
        "id": "RHBcCIigtEok"
      },
      "source": [
        "**23)Faça um programa que leia uma frase pelo teclado e mostre:**"
      ]
    },
    {
      "cell_type": "code",
      "metadata": {
        "id": "5AgBKZ7btE8n"
      },
      "source": [
        "frase = str(input('Digite uma frase qualquer: ')).strip()\n",
        "frase = frase.lower()\n",
        "\n",
        "#quantas vezes aparece a letra a.\n",
        "print('A letra a aparece {} vezes'.format(frase.count('a')))\n",
        "\n",
        "#em que posiçao ela aparece a primeira vez\n",
        "print('A primeira letra a foi encontrada na posição {} a primeira vez'.format(frase.find('a')+1))\n",
        "\n",
        "#em que posição ela aparece na ultima vez\n",
        "print('A letra a aprececeu por ultimo na posição {}'.format(frase.rfind('a')+1))"
      ],
      "execution_count": null,
      "outputs": []
    },
    {
      "cell_type": "markdown",
      "metadata": {
        "id": "32rU6uuYxK3O"
      },
      "source": [
        "**24)Faça um programa que leia o nome completo de uma pessoa, mostrando em seguida o primeiro e o ultimo nome separadamente**"
      ]
    },
    {
      "cell_type": "code",
      "metadata": {
        "id": "OXQTtqiexLVQ"
      },
      "source": [
        "nomeCompleto = str(input('Digite o seu nome completo: ')).strip()\n",
        "fatiando = nomeCompleto.split()\n",
        "primeiro = fatiando[0]\n",
        "ultimo = format(fatiando[len(fatiando)-1])\n",
        "\n",
        "print('O Primeiro nome é {} e o ultimo nome é {}'.format(primeiro,ultimo))"
      ],
      "execution_count": null,
      "outputs": []
    },
    {
      "cell_type": "markdown",
      "metadata": {
        "id": "SxGxipW0xLl2"
      },
      "source": [
        "**25)Escreva um programa que faça o computador pensar em u mnumero inteiro entre 0 e 5 e peça para o usuario tentar descobrir qual foi o numero escolhido pelo computador. O progama deverá escrever na tela se o usuario venceu ou perdeu**"
      ]
    },
    {
      "cell_type": "code",
      "metadata": {
        "id": "GaqtQ66txL1p"
      },
      "source": [
        "from random import choice,randint \n",
        "from time import sleep\n",
        "lista = [1,2,3,4,5,0]\n",
        "numerocomputador = choice(lista)\n",
        "seuNumero = int(input('Digite um numero de 0 a 5: '))\n",
        "\n",
        "print('Computador: ',numerocomputador)\n",
        "print('Voce: ',seuNumero)\n",
        "\n",
        "if(numerocomputador == seuNumero):\n",
        "    print('você venceu')\n",
        "else:\n",
        "    print('Perdeu')    \n",
        "\n",
        "#outra forma \n",
        "comp = randint(0,5)\n",
        "print('-=-' * 25)\n",
        "print('Vou pensar em um numero de 0 a 5, Adivinhe se puder')\n",
        "print('-=-' * 25)\n",
        "jogador = int(input('Digite um numero de 0 a 5: '))\n",
        "print('PROCESSANDO. . . . . ')\n",
        "sleep(2)\n",
        "if(jogador == comp):\n",
        "    print('Ganhou Abestado pensei {} e voce pensou em {} tambem'.format(comp,jogador))\n",
        "else:\n",
        "    print('Perdeu KKKKKKK abestado {} é diferente do que pensei {}'.format(jogador,comp)) "
      ],
      "execution_count": null,
      "outputs": []
    },
    {
      "cell_type": "markdown",
      "metadata": {
        "id": "XTPx2c-gxMDy"
      },
      "source": [
        "**26)Escreva um programa que leia a velocidade de um carro Se ele ultrapassa 80km/h, mostre a mensagem dizendo que ele foi multado. A musta vai custar R$7,00 por km acima do permitido**\n"
      ]
    },
    {
      "cell_type": "code",
      "metadata": {
        "id": "RLHH-r0IxMTJ"
      },
      "source": [
        "velocidade = float(input('Digite a velocidade do carro: '))\n",
        "velocidadeMaxima = 80\n",
        "velocidadeAcima = velocidade - velocidadeMaxima\n",
        "ValormultaPorKm = float(7)\n",
        "if(velocidade <= 80):\n",
        "    print('Você esta a {} km/h, Obrigado por respeitar as leis de transito'.format(velocidade))\n",
        "else:\n",
        "    valorTotalMulta = velocidadeAcima * ValormultaPorKm\n",
        "    print('Você excedeu a velocidade maxima permitida em {}, sua multa foi gerada.\\nValor da Multa: R${:.2f}'\n",
        "          '\\nVelocidade permitida {}'.format(velocidadeAcima,valorTotalMulta,velocidadeMaxima))\n",
        "print('Governo do Estado de São Paulo, seu bolso nossa missão') "
      ],
      "execution_count": null,
      "outputs": []
    },
    {
      "cell_type": "markdown",
      "metadata": {
        "id": "YE8mBf0-xMhl"
      },
      "source": [
        "**27)Crie um programa que leie um numero inteiro e mostre na tela se é par ou impar**"
      ]
    },
    {
      "cell_type": "code",
      "metadata": {
        "id": "auzeHRNtxMy4"
      },
      "source": [
        "numero = int(input('Digite um número: '))\n",
        "mod = numero % 2\n",
        "\n",
        "if(mod == 0):\n",
        "    print('O número {} é par'.format(numero))\n",
        "else:\n",
        "    print('O número {} é impar'.format(numero)) "
      ],
      "execution_count": null,
      "outputs": []
    },
    {
      "cell_type": "markdown",
      "metadata": {
        "id": "lwsk0mx1zDFf"
      },
      "source": [
        "**28)desenvolva um programa que pergunte a distancia de uma viagem em km. Calcule o preço da passagem, cobrando 0,50 por km para viagens até 200km e 0,45 para viagem mais longas**\n"
      ]
    },
    {
      "cell_type": "code",
      "metadata": {
        "id": "d6CadsmJzDZV"
      },
      "source": [
        "distancia = int(input('Digite a distancia que deseja viajar: '))\n",
        "tarifa1 = float(0.5)\n",
        "tarifa2 = float(0.45)\n",
        "if(distancia<=200):\n",
        "    passagem1 = distancia * tarifa1\n",
        "    print('O preço da passagem é R${:.2f} por Km \\nValor a pagar: {} x R${:.2f} = R${:.2f}'\n",
        "          .format(tarifa1,distancia,tarifa1,passagem1))\n",
        "else:    \n",
        "    passagem2 = distancia * tarifa2\n",
        "    print('O preço da passagem é R${:.2f} por Km \\nValor a pagar: {} x R${:.2f} = R${:.2f}'\n",
        "          .format(tarifa2,distancia,tarifa2,passagem2))"
      ],
      "execution_count": null,
      "outputs": []
    },
    {
      "cell_type": "markdown",
      "metadata": {
        "id": "S-nCl3bozDp8"
      },
      "source": [
        "**29)Faça um programa que leie um ano qualquer e mostre se ele é bissexto**\n"
      ]
    },
    {
      "cell_type": "code",
      "metadata": {
        "id": "VcrA3yaczD5i"
      },
      "source": [
        "from datetime import date\n",
        "ano = int(input('Que ano você gostaria de analizar? Coloque zero para ano atual: '))\n",
        "if ano == 0:\n",
        "    ano = date.today().year #pega o ano atual\n",
        "if (ano % 4 == 0 and ano % 100 != 0 or ano % 400 ==0):\n",
        "    print('O ano {} é um ano Bissesto'.format(ano))\n",
        "else:\n",
        "    print('o ano {} não é um ano Bissesto'.format(ano))  "
      ],
      "execution_count": null,
      "outputs": []
    },
    {
      "cell_type": "markdown",
      "metadata": {
        "id": "6_m1WJfazEJZ"
      },
      "source": [
        "**30)Faça um programa que leie tres numeros e mostre qual é o maior e o menor deles.**"
      ]
    },
    {
      "cell_type": "code",
      "metadata": {
        "id": "q8PwR7U4zEZu"
      },
      "source": [
        "num1 = int(input('Digite o primeiro número: '))\n",
        "num2 = int(input('Digite o segundo número: '))\n",
        "num3 = int(input('Digite o terceiro número: '))\n",
        "#verifica qual numero é menor\n",
        "menor = num1\n",
        "if num2 < num1 and num2 < num3:\n",
        "    menor = num2\n",
        "if num3 < num1 and num3 < num2:\n",
        "    menor = num3\n",
        "#verifica qual é maior\n",
        "maior = num1\n",
        "if num2 > num1 and num2 > num3:\n",
        "    maior = num2\n",
        "if num3 > num1 and num3 > num2:\n",
        "    maior = num3\n",
        "    \n",
        "print('o maior numero é {} \\ne o menor é {}'.format(maior,menor))   "
      ],
      "execution_count": null,
      "outputs": []
    },
    {
      "cell_type": "markdown",
      "metadata": {
        "id": "8ME2EU4k0Rzc"
      },
      "source": [
        "**31)Escreva um programa que pergunte o salario de um funcionario e calcule o valor de seu aumento para salarios superiores a R$1250,00, calcule aumento de 10% para salarios inferiores o aumento deve ser de 15% ***\n"
      ]
    },
    {
      "cell_type": "code",
      "metadata": {
        "colab": {
          "base_uri": "https://localhost:8080/"
        },
        "id": "FVMFM5_X0SNk",
        "outputId": "1a2109b9-60ec-4755-986f-76ca21fb15b0"
      },
      "source": [
        "salario = float(input('Digite o salario do funcionario: R$'))\n",
        "aum1 = 10/100\n",
        "aum2 = 15/100\n",
        "perc = 0\n",
        "if salario > 1250:\n",
        "    salario2 = salario + (salario * aum1)\n",
        "    perc = 10\n",
        "else:\n",
        "    salario2 = salario + (salario * aum2)\n",
        "    perc = 15\n",
        "print('O seu salário atual é R${:.2f} e teve um ajuste de {}% passando a ser R${:.2f}'.format(salario,perc,salario2))"
      ],
      "execution_count": null,
      "outputs": [
        {
          "output_type": "stream",
          "name": "stdout",
          "text": [
            "Digite o salario do funcionario: R$1249\n",
            "O seu salário atual é R$1249.00 e teve um ajuste de 15% passando a ser R$1436.35\n"
          ]
        }
      ]
    },
    {
      "cell_type": "markdown",
      "metadata": {
        "id": "PnvuAlCL0SfI"
      },
      "source": [
        "**32)Desenvolva um programa que leia o comprimento de tres retas e diga ao usuario se elas podem ou nao formar um triangulo**"
      ]
    },
    {
      "cell_type": "code",
      "metadata": {
        "id": "B57l91ou0Szh"
      },
      "source": [
        "print('-=-' * 25)\n",
        "print('Analisando se pode formar um triangulo')\n",
        "print('-=-' * 25)\n",
        "segmento1 = float(input('Digite o comprimento do segmento 1: '))\n",
        "segmento2 = float(input('Digite o comprimento do segmento 2: '))\n",
        "segmento3 = float(input('Digite o comprimento do segmento 3: '))\n",
        "#logica inicio a variavel triangulo como falso\n",
        "triangulo = False\n",
        "\n",
        "#verifico se os segmentos formam um triangulo se formar muda o valor pra verdadeiro\n",
        "if segmento1 < (segmento2 + segmento3) and segmento2 < (segmento1 + segmento3) and segmento3 < (segmento1 + segmento2):\n",
        "    triangulo = True\n",
        "\n",
        "#se triangulo é verdadeiro \n",
        "if triangulo:\n",
        "    print('Os segmentos {}, {} e {} podem formar um triangulo'.format(segmento1,segmento2,segmento3))\n",
        "else:    \n",
        "    print('Os segmentos {}, {} e {} não podem formar um Triangulo'.format(segmento1,segmento2,segmento3))"
      ],
      "execution_count": null,
      "outputs": []
    },
    {
      "cell_type": "markdown",
      "metadata": {
        "id": "RAgTdqHg0THN"
      },
      "source": [
        "**FIM DO MODULO 1**"
      ]
    },
    {
      "cell_type": "markdown",
      "metadata": {
        "id": "eSuSjYO_SdzP"
      },
      "source": [
        "**MODULO 2 - EM CONSTRUÇÃO**"
      ]
    },
    {
      "cell_type": "markdown",
      "metadata": {
        "id": "NJeA-Q77shjc"
      },
      "source": [
        "**36)Escreva um programa para aprovar um empréstimo bancário para a compra de uma casa. O programa vai pedir perguntar o valor da casa, o salario do comprador e em quantos anos ele vai pagar. Calcule o valor da prestação mensal, sabendo que ela não pode exceder 30% do salario ou então o empréstimo será negado (não considerar juros)**\n"
      ]
    },
    {
      "cell_type": "code",
      "metadata": {
        "id": "iLKBujyYsicG"
      },
      "source": [
        "print(\"=*\"*18)\n",
        "print(\"Sistema de financiamento de casa\")\n",
        "print(\"=*\"*18)\n",
        "valorCasa = float(input(\"Digite o valor da casa: R$\"))\n",
        "salario = float(input(\"Digite o seu salário mensal:  R$\")) \n",
        "anosPagar = int(input(\"Digite em quantos anos deseja financiar: \"))\n",
        "anoMes = anosPagar*12\n",
        "poderDePagamento = salario * 30/100\n",
        "prestacao = valorCasa / anoMes\n",
        "msg = \"\"\n",
        "if(poderDePagamento > prestacao):\n",
        "    msg = \"Financiamento aprovado\\nValor parcela: {:.2f}\\nPoder de pagamento: {:.2f} \".format(prestacao,poderDePagamento)\n",
        "else:\n",
        "    msg = \"Financiamento Negado\\nValor parcela: {:.2f}\\nPoder de pagamento: {:.2f} \".format(prestacao,poderDePagamento)    \n",
        "print(msg)\n",
        "\n",
        "print(\"=*\"*18)\n",
        "print(\"Fim do Sistema\")\n",
        "print(\"=*\"*18)"
      ],
      "execution_count": null,
      "outputs": []
    },
    {
      "cell_type": "markdown",
      "metadata": {
        "id": "48vr6G_-siz0"
      },
      "source": [
        "**Escreva um programa que leia um numero inteiro qualquer e peça para o usuario escolher qual será a base de conversão:**\n",
        "\n",
        "1 para binario\n",
        "\n",
        "2 para octal\n",
        "\n",
        "3 para hexadecimal\n"
      ]
    },
    {
      "cell_type": "code",
      "metadata": {
        "id": "kx1Ncfi8sjKd"
      },
      "source": [
        "print(\"=*\"*18)\n",
        "print(\"Sistema de base de conversão\")\n",
        "print(\"=*\"*18)\n",
        "numero = int(input(\"Digite um numero inteiro: \"))\n",
        "print('''Escolha uma opção:\n",
        "      [1] Binario digite\n",
        "      [2] Octal digite\n",
        "      [3] Hexadecimal digite ''')\n",
        "base = int(input(\"Digite uma opção: \"))\n",
        "binario = bin(numero)[2:]\n",
        "octal = oct(numero)[2:]\n",
        "hexadecimal = hex(numero)[2:]\n",
        "if(base == 1):\n",
        "    msg = \"A conversão do numero {} para binario é {}\".format(numero,binario)\n",
        "elif(base == 2):\n",
        "    msg = \"A conversão do numero {} para octal é {}\".format(numero,octal) \n",
        "elif(base == 3):\n",
        "    msg = \"A conversão do numero {} para hexadecimal é {}\".format(numero,hexadecimal)    \n",
        "else:\n",
        "    msg = \"Erro inesperado\"       \n",
        "print(msg) "
      ],
      "execution_count": null,
      "outputs": []
    },
    {
      "cell_type": "markdown",
      "metadata": {
        "id": "5xWq_TI_sjcB"
      },
      "source": [
        "**Escreva um programa que leia 2 numeros inteiros e compare-os mostrando na tela uma mensagem:**\n",
        "\n",
        "O primeiro valor é maior\n",
        "\n",
        "O segundo valor é maior\n",
        "\n",
        "Não existe valor maior, sao iguais\n"
      ]
    },
    {
      "cell_type": "code",
      "metadata": {
        "id": "CssI1lP3sjrA",
        "colab": {
          "base_uri": "https://localhost:8080/"
        },
        "outputId": "04c51d81-f9c9-447f-9ab2-e36f637722b5"
      },
      "source": [
        "numero1 = int(input(\"Digite o primeiro numero: \"))\n",
        "numero2 = int(input(\"Digite o segundo numero: \"))\n",
        "maior = numero1\n",
        "msg = \"O primeiro valor '{}' é maior que o segundo valor '{}'\".format(numero1,numero2)\n",
        "if(numero2 > numero1):\n",
        "    maior = numero2\n",
        "    msg = \"O segundo valor '{}' é maior que o primeiro valor '{}'\".format(numero2,numero1)\n",
        "elif(numero1 == numero2):\n",
        "    msg =\"Não existe valor maior, os numeros '{}' e '{}' são iguais\".format(numero1,numero2)   \n",
        "print(msg) "
      ],
      "execution_count": null,
      "outputs": [
        {
          "output_type": "stream",
          "name": "stdout",
          "text": [
            "Digite o primeiro numero: 8\n",
            "Digite o segundo numero: 5\n",
            "O primeiro valor '8' é maior que o segundo valor '5'\n"
          ]
        }
      ]
    },
    {
      "cell_type": "markdown",
      "metadata": {
        "id": "HYLBQzvksj43"
      },
      "source": [
        "**Faça um programa que leia o ano de nascimento de um jovem e informe, de acordo com sua idade: se ele ainda vai se alistar ao serviço militar, Se é hora de se alistar, se ja passou o tempo de alistar. Deve mostrar tambem o tempo que falta ou passou do alistamento**\n",
        "\n"
      ]
    },
    {
      "cell_type": "code",
      "metadata": {
        "id": "SFJCj_8eskGX"
      },
      "source": [
        "from datetime import date\n",
        "nascimento = int(input(\"Digite o ano de nascimento: \"))\n",
        "ano = date.today().year\n",
        "idade = ano - nascimento\n",
        "alistamento = 18\n",
        "diferenca = idade - alistamento\n",
        "msg = \"\"\n",
        "print('''Escolha uma opção:\n",
        "      [1] Mulher\n",
        "      [2] Homem''')\n",
        "genero = int(input(\"Digite a opção: \"))\n",
        "if(genero == 2):\n",
        "    if(idade < 0):\n",
        "        msg=\"Erro, com essa informação certifico que não veio ao mundo ainda\"\n",
        "    else:    \n",
        "        if(idade == alistamento):\n",
        "            msg = \"Você tem {}, está na hora do alistamento\".format(idade)\n",
        "        elif(idade > alistamento): \n",
        "            msg = \"Você tem {} anos está atrasado em {} ano(s) do alistamento\".format(idade,diferenca)   \n",
        "        elif(idade < alistamento):\n",
        "            diferenca = diferenca * (-1)\n",
        "            msg = \"Você tem {} anos falta(m) {} ano(s) para o alistamento\".format(idade,diferenca)  \n",
        "else:\n",
        "    msg = \"Você é mulher não tem obrigatoriedade no alistamento militar\"              \n",
        "print(msg)"
      ],
      "execution_count": null,
      "outputs": []
    },
    {
      "cell_type": "markdown",
      "metadata": {
        "id": "ebPP9vfJskU3"
      },
      "source": [
        "**Crie um programa que leia duas notas de um aluno e calcule sua média, mostrando uma mensagem no final, de acordo com a media atingida. abaixo de 5 reprovado entre 5 e 6.9 recuperação 7 ou acima aprovado.**\n"
      ]
    },
    {
      "cell_type": "code",
      "metadata": {
        "id": "cNkpXGCpsklp"
      },
      "source": [
        "print(\"=*\"*20)\n",
        "print(\"            Calculo de média  \")\n",
        "print(\"=*\"*20)\n",
        "nota1 = float(input(\"Digite a primeira nota: \"))\n",
        "nota2 = float(input(\"Digite a segunda nota: \"))\n",
        "media = (nota1 + nota2)/2\n",
        "reprovado = 5\n",
        "aprovado = 7\n",
        "msg = \"\"\n",
        "if(media >= reprovado and media < aprovado):\n",
        "    msg = \"RECUPERAÇÃO\"\n",
        "elif(media < reprovado):\n",
        "    msg = \"REPROVADO\"\n",
        "else:\n",
        "    msg = \"APROVADO\"        \n",
        "print(\"Média: {}\\n{}\".format(media,msg)) "
      ],
      "execution_count": null,
      "outputs": []
    },
    {
      "cell_type": "markdown",
      "metadata": {
        "id": "QxXHPWdaslGM"
      },
      "source": [
        "**A confederação nacional de natação precisa de um programa que leia o ano de nascimento de um atleta e mostre sua categoria de acordo com sua idade:**\n",
        "\n",
        "ate 9 anos: Mirim\n",
        "\n",
        "ate 14 anos infantil\n",
        "\n",
        "ate 19 anos junior\n",
        "\n",
        "ate 25 anos senior\n",
        "\n",
        "acima de 25 anos master    \n",
        "\n"
      ]
    },
    {
      "cell_type": "code",
      "metadata": {
        "id": "H6af0ZgcslYU",
        "colab": {
          "base_uri": "https://localhost:8080/"
        },
        "outputId": "d5ed0243-b1d6-4bae-eef7-2e6df671f4c5"
      },
      "source": [
        "from datetime import date\n",
        "nascimento = int(input(\"Digite o ano de Nascimento: \"))\n",
        "anoAtual = date.today().year\n",
        "idade = anoAtual - nascimento\n",
        "mirim = 9\n",
        "infantil = 14 \n",
        "junior = 19\n",
        "senior = 25\n",
        "master = 26\n",
        "msg=\"\"\n",
        "if(idade <= mirim and idade > 0):\n",
        "    msg = \"Você tem {} ano(s) e é da categoria Mirim\".format(idade)\n",
        "elif(idade > mirim and idade <= infantil):\n",
        "    msg = \"Você tem {} anos e é da categoria infantil\".format(idade)  \n",
        "elif(idade > infantil and idade <= junior):\n",
        "    msg = \"Você tem {} anos e é da categoria junior\".format(idade)    \n",
        "elif(idade > junior and idade < master):\n",
        "    msg = \"Você tem {} anos e é da categoria Senior\".format(idade) \n",
        "elif(idade == 0):\n",
        "    msg = \"Você tem {} anos e não participa ainda\".format(idade) \n",
        "elif(idade < 0):\n",
        "    msg = \"Você errou ao digitar a idade, idade negativa não permitida\"  \n",
        "else:\n",
        "    msg = \"Você tem {} anos e é da categoria Master\".format(idade)        \n",
        "print(msg) "
      ],
      "execution_count": null,
      "outputs": [
        {
          "output_type": "stream",
          "name": "stdout",
          "text": [
            "Digite o ano de Nascimento: 2021\n",
            "Você tem 0 anos e não participa ainda\n"
          ]
        }
      ]
    },
    {
      "cell_type": "markdown",
      "metadata": {
        "id": "ZZW5qPqjXL6L"
      },
      "source": [
        "**Desenvolva um programa que leia o comprimento de tres retas e diga ao usuario se elas podem ou nao formar um triangulo diga se é equilatero, isosceles ou escaleno**\n"
      ]
    },
    {
      "cell_type": "code",
      "metadata": {
        "id": "3QUaVduoXMg6"
      },
      "source": [
        "print('-=-' * 25)\n",
        "print('Analisando se pode formar um triangulo')\n",
        "print('-=-' * 25)\n",
        "segmento1 = float(input('Digite o comprimento do segmento 1: '))\n",
        "segmento2 = float(input('Digite o comprimento do segmento 2: '))\n",
        "segmento3 = float(input('Digite o comprimento do segmento 3: '))\n",
        "#logica inicio a variavel triangulo como falso\n",
        "triangulo = False\n",
        "equilatero = False\n",
        "isosceles = False\n",
        "escaleno = False \n",
        "#verifico se os segmentos formam um triangulo se formar muda o valor pra verdadeiro\n",
        "if segmento1 < (segmento2 + segmento3) and segmento2 < (segmento1 + segmento3) and segmento3 < (segmento1 + segmento2):\n",
        "    triangulo = True\n",
        "#se triangulo é verdadeiro \n",
        "if(triangulo == True):\n",
        "    print('Os segmentos {}, {} e {} podem formar um triangulo'.format(segmento1,segmento2,segmento3))\n",
        "elif(triangulo == False):    \n",
        "    print('Os segmentos {}, {} e {} não podem formar um Triangulo'.format(segmento1,segmento2,segmento3))\n",
        "#modifico os valores dos tipos de triangulo\n",
        "if(triangulo == True and segmento1 == segmento2 and segmento3 == segmento2):\n",
        "    equilatero = True\n",
        "if(triangulo == True and segmento1 != segmento2 and segmento1 != segmento3 and segmento2 != segmento3):\n",
        "    escaleno = True   \n",
        "if(triangulo == True and equilatero == False and escaleno == False):\n",
        "    isosceles = True       \n",
        "#verificando o tipo de triangulo\n",
        "if(equilatero == True):\n",
        "    print(\"O triangulo de segmentos {}, {} e {} é EQUILATERO\".format(segmento1,segmento2,segmento3))\n",
        "elif(isosceles == True):\n",
        "    print(\"O triangulo de segmentos {}, {} e {} é ISOSCELES\".format(segmento1,segmento2,segmento3))\n",
        "elif(escaleno == True):\n",
        "    print(\"O triangulo de segmentos {}, {} e {} é ESCALENO\".format(segmento1,segmento2,segmento3)) "
      ],
      "execution_count": null,
      "outputs": []
    },
    {
      "cell_type": "markdown",
      "metadata": {
        "id": "INaIl6quXM5r"
      },
      "source": [
        "**desenvolva uma lógica que leia o peso e a altura de uma pessoa, calcule seu IMC e mostre seu status, de acordo com a tabela abaixo:**\n",
        "\n",
        "Abaixo de 18.5: abaixo do peso\n",
        "\n",
        "Entre 18.5 e 25: peso ideal\n",
        "\n",
        "25 até 30: sobrepeso\n",
        "\n",
        "30 até 40: Obesidade\n",
        "\n",
        "Acima de 40: obesidade morbida\n",
        "\n"
      ]
    },
    {
      "cell_type": "code",
      "metadata": {
        "id": "hcmbnS66XNLR"
      },
      "source": [
        "altura = str(input('Digite sua altura: '))\n",
        "peso = str(input('Digite seu peso: '))\n",
        "altura = float(altura.replace(',','.'))\n",
        "peso = float(peso.replace(',','.'))\n",
        "imc = peso / (altura**2)\n",
        "status = 'abaixo do peso'\n",
        "if imc >=18.5 and imc < 25:\n",
        "    status = 'no peso ideal'\n",
        "elif imc >= 25  and imc < 30:\n",
        "    status = 'com sobrepeso' \n",
        "elif imc >= 30 and imc <= 40:\n",
        "    status = 'em obesidade'   \n",
        "elif imc > 40:\n",
        "    status = 'em obesidade morbida'      \n",
        "msg = \"Com base na sua altura de {:.2f} e seu peso de {:.2f}kg seu IMC é {:.2f}\\ne no calculo de imc diz que você está {}\".format(altura,peso,imc,status)\n",
        "print(msg)"
      ],
      "execution_count": null,
      "outputs": []
    },
    {
      "cell_type": "markdown",
      "metadata": {
        "id": "OeFd8SvHXNah"
      },
      "source": [
        "**Elabore um programa que calcule o valor a ser pago por um produto, considerando o seu preço normal e condição de pagamento**\n",
        "\n",
        "-À vista dinheiro/cheque: 10% de desconto\n",
        "\n",
        "-Cartão a vista: 5% de desconto \n",
        "\n",
        "-Em 2x no cartão preço normal\n",
        "\n",
        "-3x ou mais 20% de juros \n"
      ]
    },
    {
      "cell_type": "code",
      "metadata": {
        "colab": {
          "base_uri": "https://localhost:8080/"
        },
        "id": "kMv6yFxGXNp8",
        "outputId": "4a199e68-436b-47d6-be66-c6301afa3c54"
      },
      "source": [
        "preco = float(input(\"Total da compras: R$\"))\n",
        "vista = preco - (preco * 10/100)\n",
        "vistaCartao = preco - (preco * 5/100)\n",
        "cartao2x = preco\n",
        "cartaoVarias = preco + (preco * 20/100)\n",
        "print(\"1- À vista Cheque/Dinheiro 10% desconto\\n2- À vista Cartão 5% desconto\\n3- Em 2x no Cartão sem juros\\n4- Em 3x ou acima 20% juros\")\n",
        "condicao =int(input(\"Digite a condição desejada: \"))\n",
        "cond = \"\"\n",
        "precoApagar = preco\n",
        "if(condicao == 1):\n",
        "    cond = \"À vista Cheque/Dinheiro\"\n",
        "    precoApagar = vista\n",
        "elif(condicao == 2):\n",
        "    cond = \"À vista Cartão\"    \n",
        "    precoApagar = vistaCartao\n",
        "elif(condicao == 3):\n",
        "    cond = \"Em 2x no Cartão\"   \n",
        "    precoApagar = cartao2x\n",
        "elif(condicao==4):\n",
        "    nParcelas = int(input(\"Digite o numero de parcelas: \"))\n",
        "    cond = \"Em {} vezes \".format(nParcelas) \n",
        "    precoApagar = cartaoVarias    \n",
        "    valorParcela = precoApagar / nParcelas\n",
        "else:\n",
        "    msg1 = \"Erro Inesperado\" \n",
        "    msg2 = \"Provavelmente digitou uma opção que nao existe\"\n",
        "      \n",
        "msg1 = \"Preço do produto R${:.2f}\".format(preco)\n",
        "msg2 = \"Na condição escolhida '{}' você pagara R${:.2f} pela compra\".format(cond,precoApagar)\n",
        "print(msg1)\n",
        "print(msg2)\n",
        "if(condicao == 4):\n",
        "    print(\"{} parcelas de R${:.2f}\".format(nParcelas,valorParcela))\n",
        "if(condicao == 3):\n",
        "    print(\"2 parcelas de R${:.2f}\".format(preco/2))    "
      ],
      "execution_count": null,
      "outputs": [
        {
          "output_type": "stream",
          "name": "stdout",
          "text": [
            "Total da compras: R$1580\n",
            "1- À vista Cheque/Dinheiro 10% desconto\n",
            "2- À vista Cartão 5% desconto\n",
            "3- Em 2x no Cartão sem juros\n",
            "4- Em 3x ou acima 20% juros\n",
            "Digite a condição desejada: 4\n",
            "Digite o numero de parcelas: 5\n",
            "Preço do produto R$1580.00\n",
            "Na condição escolhida 'Em 5 vezes ' você pagara R$1896.00 pela compra\n",
            "5 parcelas de R$379.20\n"
          ]
        }
      ]
    },
    {
      "cell_type": "markdown",
      "metadata": {
        "id": "2RuUOEbTXN5G"
      },
      "source": [
        "**Faça um jogo jonkenpoo**\n"
      ]
    },
    {
      "cell_type": "code",
      "metadata": {
        "colab": {
          "base_uri": "https://localhost:8080/"
        },
        "id": "aRSnjH89XOH5",
        "outputId": "1bf125c4-e7d3-4d97-9347-62ae47428bee"
      },
      "source": [
        "from random import choice\n",
        "print('''Digite a opção desejada e boa sorte\n",
        "      [1] Pedra\n",
        "      [2] Papel\n",
        "      [3] Tesoura''')\n",
        "jogador = int(input(\"Escola sua opção: \"))\n",
        "comp = [1,2,3]\n",
        "computador = choice(comp)\n",
        "escolhaC = \"\"\n",
        "escolhaJ = \"\"\n",
        "#mudando jogador\n",
        "if(jogador == 1):\n",
        "    escolhaJ = \"PEDRA\"\n",
        "elif(jogador == 2):\n",
        "    escolhaJ = \"PAPEL\"\n",
        "elif(jogador == 3):\n",
        "    escolhaJ = \"TESOURA\"  \n",
        "#Mudando computador\n",
        "if(computador == 1):\n",
        "    escolhaC = \"PEDRA\"\n",
        "elif(computador == 2):\n",
        "    escolhaC = \"PAPEL\"\n",
        "elif(computador == 3):\n",
        "    escolhaC = \"TESOURA\"    \n",
        "#logica de quem vence\n",
        "if(computador == jogador):\n",
        "    msg2 = \"EMPATE\"\n",
        "elif((computador == 1 and jogador == 3) or (computador == 2 and jogador == 1) or (computador == 3 and jogador == 2) ):\n",
        "    msg2 = \"COMPUTADOR VENCEU!!!\"\n",
        "else:\n",
        "    msg2 = \"JOGADOR VENCEU!!\"  \n",
        "if(jogador < 1 or jogador > 3):   \n",
        "    msg = \"Essa escolha é invalida\"\n",
        "    msg2 = \"\"\n",
        "else:\n",
        "    msg = \"Escolha do jogador {}\\nEscolha do Computador {}\".format(escolhaJ,escolhaC)  \n",
        "print(\"=*\"*20)    \n",
        "print(msg)\n",
        "print(\"=*\"*20)  \n",
        "print(msg2)"
      ],
      "execution_count": null,
      "outputs": [
        {
          "output_type": "stream",
          "name": "stdout",
          "text": [
            "Digite a opção desejada e boa sorte\n",
            "      [1] Pedra\n",
            "      [2] Papel\n",
            "      [3] Tesoura\n",
            "Escola sua opção: 2\n",
            "=*=*=*=*=*=*=*=*=*=*=*=*=*=*=*=*=*=*=*=*\n",
            "Escolha do jogador PAPEL\n",
            "Escolha do Computador TESOURA\n",
            "=*=*=*=*=*=*=*=*=*=*=*=*=*=*=*=*=*=*=*=*\n",
            "COMPUTADOR VENCEU!!!\n"
          ]
        }
      ]
    },
    {
      "cell_type": "code",
      "metadata": {
        "id": "YrgLFv5KZ4W8"
      },
      "source": [
        "from random import randint\n",
        "from time import sleep\n",
        "itens = (\"PEDRA\",\"PAPEL\",\"TESOURA\")\n",
        "computador = randint(0,2)\n",
        "print(\"-=\"*20)\n",
        "print(\"                 JO KEN PO\")\n",
        "print(\"-=\"*20)\n",
        "print('''Escolha uma opção:\n",
        "[0] PEDRA\n",
        "[1] PAPEL\n",
        "[2] TESOURA''')\n",
        "print(\"-=\"*20)\n",
        "jogador = int(input(\"Escolha uma opção: \"))\n",
        "print(\"-=\"*20)\n",
        "print(\"JO\")\n",
        "sleep(0.5)\n",
        "print(\"KEN\")\n",
        "sleep(1)\n",
        "print(\"PO!!!!\")\n",
        "sleep(0.5)\n",
        "print(\"-=\"*20)\n",
        "print(\"Escolha do COMPUTADOR: {}\".format(itens[computador]))\n",
        "print(\"Escolha do JOGADOR: {}\".format(itens[jogador]))\n",
        "print(\"-=\"*20)\n",
        "#logica de quem vence\n",
        "if computador == 0: #computador jogou pedra  \n",
        "   if jogador == 0:\n",
        "       print(\"EMPATE\")\n",
        "   elif jogador == 1:\n",
        "       print(\"JOGADOR VENCEU\")\n",
        "   elif jogador == 2: \n",
        "       print(\"COMPUTADOR VENCEU\")  \n",
        "   else:\n",
        "       print(\"Jogada inválida\")       \n",
        "elif computador==1: #computador jogou papel\n",
        "   if jogador == 1:\n",
        "       print(\"EMPATE\")\n",
        "   elif jogador == 2:\n",
        "       print(\"JOGADOR VENCEU\")\n",
        "   elif jogador == 0: \n",
        "       print(\"COMPUTADOR VENCEU\")  \n",
        "   else:\n",
        "       print(\"Jogada inválida\")\n",
        "elif computador == 2: #computador jogou tesoura   \n",
        "   if jogador == 2:\n",
        "       print(\"EMPATE\")\n",
        "   elif jogador == 0:\n",
        "       print(\"JOGADOR VENCEU\")\n",
        "   elif jogador == 1: \n",
        "       print(\"COMPUTADOR VENCEU\")  \n",
        "   else:\n",
        "       print(\"Jogada inválida\")"
      ],
      "execution_count": null,
      "outputs": []
    },
    {
      "cell_type": "markdown",
      "metadata": {
        "id": "iG4_b_7nXOX7"
      },
      "source": [
        "**Faça um programa que mostre na tela uma contagem regressiva para estouro de fogos de artificio,indo de 10 até 0, com uma pausa de 1 segundo entre eles**\n",
        "\n"
      ]
    },
    {
      "cell_type": "code",
      "metadata": {
        "colab": {
          "base_uri": "https://localhost:8080/"
        },
        "id": "Whjpv1mxXOpU",
        "outputId": "c0b5c038-24a8-406b-bec1-5d2c73b60096"
      },
      "source": [
        "from time import sleep\n",
        "for i in range(10,-1,-1):\n",
        "    print(i)\n",
        "    sleep(1)\n",
        "print(\"pra prat pru pra pa pa pa \")"
      ],
      "execution_count": null,
      "outputs": [
        {
          "output_type": "stream",
          "name": "stdout",
          "text": [
            "10\n",
            "9\n",
            "8\n",
            "7\n",
            "6\n",
            "5\n",
            "4\n",
            "3\n",
            "2\n",
            "1\n",
            "0\n",
            "pra prat pru pra pa pa pa \n"
          ]
        }
      ]
    },
    {
      "cell_type": "markdown",
      "metadata": {
        "id": "yed7p0amXO6m"
      },
      "source": [
        "**Crie um programa que mostre na tela todos os numeros pares que estao no intervalo de 1 a 50**\n"
      ]
    },
    {
      "cell_type": "code",
      "metadata": {
        "id": "AU6BlB21XPOW"
      },
      "source": [
        "for i in range(1,50+1):\n",
        "    if(i%2==0):\n",
        "        print(i)"
      ],
      "execution_count": null,
      "outputs": []
    },
    {
      "cell_type": "code",
      "metadata": {
        "colab": {
          "base_uri": "https://localhost:8080/"
        },
        "id": "Q_Uss_BBbka2",
        "outputId": "6b154ef1-e283-45b4-cb5d-5acb327afc3f"
      },
      "source": [
        "for n in range(2,51,2):\n",
        "   print(n, end=' ► ' )\n",
        "print('fim')"
      ],
      "execution_count": null,
      "outputs": [
        {
          "output_type": "stream",
          "name": "stdout",
          "text": [
            "2 ► 4 ► 6 ► 8 ► 10 ► 12 ► 14 ► 16 ► 18 ► 20 ► 22 ► 24 ► 26 ► 28 ► 30 ► 32 ► 34 ► 36 ► 38 ► 40 ► 42 ► 44 ► 46 ► 48 ► 50 ► fim\n"
          ]
        }
      ]
    },
    {
      "cell_type": "markdown",
      "metadata": {
        "id": "OKPKkn9rXPgC"
      },
      "source": [
        "**Faça um programa que calcule a soma entre todos os numeros impares que são multiplos de tres e que se encontram no intervalo de 1 a 500**\n",
        "\n"
      ]
    },
    {
      "cell_type": "code",
      "metadata": {
        "colab": {
          "base_uri": "https://localhost:8080/"
        },
        "id": "erLM1ojeXP0D",
        "outputId": "6ab7f58a-3386-43f4-a1ec-061f8c2b7025"
      },
      "source": [
        "cont = 0\n",
        "soma = 0\n",
        "for i in range(1,500):\n",
        "    if(i%2==1 and i%3==0):\n",
        "        soma = soma+i\n",
        "        cont = cont + 1\n",
        "        print(i, end=' ► ')\n",
        "print('Multiplos de 3')\n",
        "print(soma, \"Total da soma dos valores que atendem a solicitação\")\n",
        "print(cont,\" valores somados\")"
      ],
      "execution_count": null,
      "outputs": [
        {
          "output_type": "stream",
          "name": "stdout",
          "text": [
            "3 ► 9 ► 15 ► 21 ► 27 ► 33 ► 39 ► 45 ► 51 ► 57 ► 63 ► 69 ► 75 ► 81 ► 87 ► 93 ► 99 ► 105 ► 111 ► 117 ► 123 ► 129 ► 135 ► 141 ► 147 ► 153 ► 159 ► 165 ► 171 ► 177 ► 183 ► 189 ► 195 ► 201 ► 207 ► 213 ► 219 ► 225 ► 231 ► 237 ► 243 ► 249 ► 255 ► 261 ► 267 ► 273 ► 279 ► 285 ► 291 ► 297 ► 303 ► 309 ► 315 ► 321 ► 327 ► 333 ► 339 ► 345 ► 351 ► 357 ► 363 ► 369 ► 375 ► 381 ► 387 ► 393 ► 399 ► 405 ► 411 ► 417 ► 423 ► 429 ► 435 ► 441 ► 447 ► 453 ► 459 ► 465 ► 471 ► 477 ► 483 ► 489 ► 495 ► Multiplos de 3\n",
            "20667 Total da soma dos valores que atendem a solicitação\n",
            "83  valores somados\n"
          ]
        }
      ]
    },
    {
      "cell_type": "markdown",
      "metadata": {
        "id": "-JoDA1kGXQG3"
      },
      "source": [
        "**Faça um programa que receba um numero digitado pelo usuario e mostre a tabuada**\n",
        "\n"
      ]
    },
    {
      "cell_type": "code",
      "metadata": {
        "id": "aUXHlAwBXQbv"
      },
      "source": [
        "numero = int(input(\"Digite um numero: \"))\n",
        "print(\"-=\"*20)\n",
        "print(\"              Tabuada do {}\".format(numero))\n",
        "print(\"-=\"*20)\n",
        "for i in range(1,10+1):\n",
        "    print(\"{} X {:2} = {:5}\".format(numero,i,numero*i))"
      ],
      "execution_count": null,
      "outputs": []
    },
    {
      "cell_type": "markdown",
      "metadata": {
        "id": "v7JdeYB6XQxH"
      },
      "source": [
        "\n",
        "**DESENVOLVA UM PROGRAMA QUE LEIA 6 NUMEROS INTEIROS E MOSTRE A SOMA APENAS DOS QUE FOREM PARES SE O VALOR DIGITADO FOR IMPAR DESCONSIDERE**\n"
      ]
    },
    {
      "cell_type": "code",
      "metadata": {
        "id": "CZEW4MOEXRHw"
      },
      "source": [
        "soma = 0\n",
        "for i in range(1,6+1):\n",
        "    n = int(input(\"Digite um numero inteiro: \"))\n",
        "    if(n%2==0):\n",
        "        soma=soma+n\n",
        "    else:\n",
        "        print(\"Valor impar não será computado\")    \n",
        "print(soma) "
      ],
      "execution_count": null,
      "outputs": []
    },
    {
      "cell_type": "markdown",
      "metadata": {
        "id": "Pp0xWu57XRov"
      },
      "source": [
        "**DESENVOLVA UM PROGRAMA QUE LEIA O PRIMEIRO TERMO E A RAZAO DE UMA PA. NO FINAL MOSTRE OS 10 PRIMEIROS TERMOS DESSA PROGRESSAO**  \n"
      ]
    },
    {
      "cell_type": "code",
      "metadata": {
        "colab": {
          "base_uri": "https://localhost:8080/"
        },
        "id": "4meMLRh5XR5y",
        "outputId": "f2fb6125-1587-426f-f5c6-cc5160f1bdc1"
      },
      "source": [
        "print(\"-=\"*12)\n",
        "print(\" 10 termos de uma PA\")\n",
        "print(\"-=\"*12)\n",
        "numero = int(input(\"Digite o primeiro termo: \"))\n",
        "razao = int(input(\"Digite a razão: \"))\n",
        "decimo = numero + (10 - 1) * razao\n",
        "for i in range(numero, decimo + razao , razao):\n",
        "   print('{} '.format(i),end=\" → \")\n",
        "print(\"Fim\")"
      ],
      "execution_count": null,
      "outputs": [
        {
          "output_type": "stream",
          "name": "stdout",
          "text": [
            "-=-=-=-=-=-=-=-=-=-=-=-=\n",
            " 10 termos de uma PA\n",
            "-=-=-=-=-=-=-=-=-=-=-=-=\n",
            "Digite o primeiro termo: 58\n",
            "Digite a razão: 10\n",
            "58  → 68  → 78  → 88  → 98  → 108  → 118  → 128  → 138  → 148  → Fim\n"
          ]
        }
      ]
    },
    {
      "cell_type": "markdown",
      "metadata": {
        "id": "so7zi_JtXSK5"
      },
      "source": [
        "**Faça um programa que leia um numero inteiro e diga se ele é ou não um numero primo**\n"
      ]
    },
    {
      "cell_type": "code",
      "metadata": {
        "colab": {
          "base_uri": "https://localhost:8080/"
        },
        "id": "fjxtQ_ViXScq",
        "outputId": "079745e3-902e-44c5-f314-f8e697277d89"
      },
      "source": [
        "num = int(input(\"Digite um número: \"))\n",
        "verificador = 0\n",
        "for i in range(1,num + 1):\n",
        "    if num % i == 0:\n",
        "        print('\\33[33m',end=\"\")\n",
        "        verificador += 1\n",
        "    else:\n",
        "        print('\\33[31m',end=\"\")    \n",
        "    print('{} '.format(i), end=\"\")\n",
        "print(\"\\n\\033[mO numero {} foi divisivel {} vezes\".format(num,verificador))\n",
        "if(verificador == 2):\n",
        "    print(\"É um numero primo!!\")\n",
        "else:\n",
        "    print(\"Não é primo\")"
      ],
      "execution_count": null,
      "outputs": [
        {
          "output_type": "stream",
          "name": "stdout",
          "text": [
            "Digite um número: 13\n",
            "\u001b[33m1 \u001b[31m2 \u001b[31m3 \u001b[31m4 \u001b[31m5 \u001b[31m6 \u001b[31m7 \u001b[31m8 \u001b[31m9 \u001b[31m10 \u001b[31m11 \u001b[31m12 \u001b[33m13 \n",
            "\u001b[mO numero 13 foi divisivel 2 vezes\n",
            "É um numero primo!!\n"
          ]
        }
      ]
    },
    {
      "cell_type": "markdown",
      "metadata": {
        "id": "-hY05pljXSwK"
      },
      "source": [
        "**Crie um programa que leia uma frase qualquer e diga se ela é um palindromo, desconsiderando os espaços**\n"
      ]
    },
    {
      "cell_type": "code",
      "metadata": {
        "id": "BafpsXuaXTBD"
      },
      "source": [
        "while True:\n",
        "    frase = input(\"Digite uma frase: \").strip().upper()\n",
        "    frase2 = frase.replace(\" \", \"\")\n",
        "    fraseInvertida = frase2[::-1]\n",
        "    if(frase2 == fraseInvertida):\n",
        "        print(\"A frase digitada é um palindromo\")\n",
        "    else:\n",
        "        print(\"A frase digitada não é um palindromo\") "
      ],
      "execution_count": null,
      "outputs": []
    },
    {
      "cell_type": "markdown",
      "metadata": {
        "id": "UFY5LLhtaPRS"
      },
      "source": [
        "**65)Crie um programa que leia vários numeros inteiros pelo teclado. No final da execução mostre a media entre todos os valores e qual foi o maior e o menor valor. O programa deve perguntar ao usuario se ele quer ou nao continuar a digitar os valores**"
      ]
    },
    {
      "cell_type": "code",
      "metadata": {
        "id": "H5VO0MWjaP73"
      },
      "source": [
        "escolha = 0\n",
        "qdeDigitado = 0\n",
        "somatoria = 0 \n",
        "media = 0\n",
        "escolha = 1\n",
        "menor = 0\n",
        "maior = 0\n",
        "while escolha != \"N\":\n",
        "    numero = int(input(\"Digite um numero: \"))\n",
        "    qdeDigitado = qdeDigitado + 1\n",
        "    somatoria = somatoria + numero \n",
        "    media = somatoria / qdeDigitado\n",
        "    if escolha == 1:\n",
        "        maior = numero\n",
        "        menor = numero\n",
        "    else:    \n",
        "        if numero > maior:\n",
        "            maior = numero\n",
        "        if numero < menor:\n",
        "            menor = numero\n",
        "    print('''Quer continuar?\n",
        "        [S] Sim \n",
        "        [N] Não''')\n",
        "    escolha = str(input(\"Digite sua opção: \")).upper()\n",
        "print('''\n",
        "quantidade digitado: {}\n",
        "somatoria {}\n",
        "media {}\n",
        "maior {}\n",
        "menor {}\n",
        "'''.format(qdeDigitado,somatoria,media,maior,menor))"
      ],
      "execution_count": null,
      "outputs": []
    }
  ]
}