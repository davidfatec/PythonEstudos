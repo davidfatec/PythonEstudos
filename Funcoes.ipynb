{
  "nbformat": 4,
  "nbformat_minor": 0,
  "metadata": {
    "colab": {
      "name": "Funcoes.ipynb",
      "provenance": [],
      "collapsed_sections": [],
      "authorship_tag": "ABX9TyPqMaCeH1kFXRS8oZjWdQ7e",
      "include_colab_link": true
    },
    "kernelspec": {
      "name": "python3",
      "display_name": "Python 3"
    },
    "language_info": {
      "name": "python"
    }
  },
  "cells": [
    {
      "cell_type": "markdown",
      "metadata": {
        "id": "view-in-github",
        "colab_type": "text"
      },
      "source": [
        "<a href=\"https://colab.research.google.com/github/davidfatec/PythonEstudos/blob/main/Funcoes.ipynb\" target=\"_parent\"><img src=\"https://colab.research.google.com/assets/colab-badge.svg\" alt=\"Open In Colab\"/></a>"
      ]
    },
    {
      "cell_type": "markdown",
      "source": [
        "**Podemos usar funções para programar rotinas que podem ser chamadas em determinadas partes da codificação**"
      ],
      "metadata": {
        "id": "aq9royv615a9"
      }
    },
    {
      "cell_type": "code",
      "execution_count": null,
      "metadata": {
        "colab": {
          "base_uri": "https://localhost:8080/"
        },
        "id": "M_55crkhxYJT",
        "outputId": "86e6974a-6ecc-4cb3-98c6-b8370558cf90"
      },
      "outputs": [
        {
          "output_type": "stream",
          "name": "stdout",
          "text": [
            "===========\n",
            "= Bom dia =\n",
            "===========\n",
            "=============\n",
            "= Boa tarde =\n",
            "=============\n",
            "=============\n",
            "= Boa noite =\n",
            "=============\n"
          ]
        }
      ],
      "source": [
        "def mensagem(msg):\n",
        "  print('='*(len(msg)+4))\n",
        "  print(f'= {msg} =')\n",
        "  print('='*(len(msg)+4))\n",
        "\n",
        "mensagem('Bom dia')\n",
        "mensagem('Boa tarde')\n",
        "mensagem('Boa noite')  "
      ]
    },
    {
      "cell_type": "code",
      "source": [
        "#desempacotamento  *num → permite receber um numero de parametros\n",
        "def contador(*num):\n",
        "  print(num)\n",
        "contador(1,2,3)\n",
        "contador(2,4,5,8)  \n",
        "\n",
        "def soma(* valores):\n",
        "  s = 0\n",
        "  for num in valores:\n",
        "    s += num\n",
        "  print(f'somando os valores {valores} temos {s}')  \n",
        "\n",
        "\n",
        "soma(1,2,3,5)\n",
        "soma(5,6,10,25,45)"
      ],
      "metadata": {
        "colab": {
          "base_uri": "https://localhost:8080/"
        },
        "id": "lbaMb29GNneo",
        "outputId": "e9aad5a7-7b6e-4ced-e90e-a1c448f22b60"
      },
      "execution_count": null,
      "outputs": [
        {
          "output_type": "stream",
          "name": "stdout",
          "text": [
            "(1, 2, 3)\n",
            "(2, 4, 5, 8)\n",
            "somando os valores (1, 2, 3, 5) temos 11\n",
            "somando os valores (5, 6, 10, 25, 45) temos 91\n"
          ]
        }
      ]
    },
    {
      "cell_type": "code",
      "source": [
        "def dobra(lista):\n",
        "  pos = 0\n",
        "  while pos < len(lista):\n",
        "    lista[pos]*=2\n",
        "    pos+=1\n",
        "\n",
        "valores = [13,2]\n",
        "dobra(valores)\n",
        "print(valores)    "
      ],
      "metadata": {
        "colab": {
          "base_uri": "https://localhost:8080/"
        },
        "id": "XnnOuO-5PtAE",
        "outputId": "847e2dc9-c276-48e4-8687-2f5d8dfad694"
      },
      "execution_count": null,
      "outputs": [
        {
          "output_type": "stream",
          "name": "stdout",
          "text": [
            "[26, 4]\n"
          ]
        }
      ]
    },
    {
      "cell_type": "markdown",
      "source": [
        "**Faça um programa que tenha um função chamada area(), que receba as dimensões de um terreno retangular (largura e comprimento) e mostre a area do terreno**"
      ],
      "metadata": {
        "id": "TRLIakizSlt-"
      }
    },
    {
      "cell_type": "code",
      "source": [
        "def area(largura,comprimento):\n",
        "  areaTerreno = largura * comprimento\n",
        "  msg = print(f'Area do terreno de {largura} de largura e {comprimento} de comprimento é {areaTerreno}m²')\n",
        "  return msg\n",
        "print('Area do terreno')\n",
        "print('=' * 15)\n",
        "largura = float(input('Largura (m): ')) \n",
        "comprimento = float(input('Comprimento (m): ')) \n",
        "area(largura,comprimento)\n",
        "print('=' * 65)"
      ],
      "metadata": {
        "colab": {
          "base_uri": "https://localhost:8080/"
        },
        "id": "MCB6QnTLTELu",
        "outputId": "81a6a30f-c6d3-4503-a686-d9b7d127097d"
      },
      "execution_count": 11,
      "outputs": [
        {
          "output_type": "stream",
          "name": "stdout",
          "text": [
            "Area do terreno\n",
            "===============\n",
            "Largura (m): 2\n",
            "Comprimento (m): 6\n",
            "Area do terreno de 2.0 de largura e 6.0 de comprimento é 12.0m²\n",
            "=================================================================\n"
          ]
        }
      ]
    },
    {
      "cell_type": "markdown",
      "source": [
        "**Faça um programa que tenha uma função chamada escreva, que receba um texto qualquer como parametro e mostre uma mensagem com linhas acima e abaixo com tamanhos adaptaveis**"
      ],
      "metadata": {
        "id": "K8UeuSGpUb6H"
      }
    },
    {
      "cell_type": "code",
      "source": [
        "def escreva(texto):\n",
        "  tam = (len(texto)+4)\n",
        "  print('~' * tam)\n",
        "  print(f'  {texto}  ')\n",
        "  print('~' * tam)\n",
        "\n",
        "\n",
        "texto = str(input('Digite um texto: ')).strip()\n",
        "escreva(texto)  "
      ],
      "metadata": {
        "colab": {
          "base_uri": "https://localhost:8080/"
        },
        "id": "ehggQDyfUbXP",
        "outputId": "00888006-88a8-405d-e06e-81a8c6aac6aa"
      },
      "execution_count": 12,
      "outputs": [
        {
          "output_type": "stream",
          "name": "stdout",
          "text": [
            "Digite um texto: David\n",
            "~~~~~~~~~\n",
            "  David  \n",
            "~~~~~~~~~\n"
          ]
        }
      ]
    },
    {
      "cell_type": "markdown",
      "source": [
        "**Faça um programa que tenha uma função chamada contador, que receba três parametros: inicio, fim e passo e realize a contagem**\n",
        "\n",
        "**a) de 1 até 10, de 1 em 1**\n",
        "\n",
        "**b)de 10 até 0, de 2 em 2**\n",
        "\n",
        "**c)uma contagem personalizada**"
      ],
      "metadata": {
        "id": "bhzMV9hjLwX2"
      }
    },
    {
      "cell_type": "code",
      "source": [
        "from time import sleep\n",
        "def contador(inicio,fim,passo):\n",
        "  if passo < 0:\n",
        "    passo = passo * (-1)\n",
        "  if passo == 0:\n",
        "    passo = 1\n",
        "  print(f'Contagem de {inicio} até {fim} de {passo} em {passo}')\n",
        "  if inicio < fim:\n",
        "      cont = inicio\n",
        "      while cont <= fim:\n",
        "        print(f'{cont} ',end='')\n",
        "        sleep(0.4)\n",
        "        cont += passo\n",
        "      print('FIM')  \n",
        "  else:\n",
        "      cont = inicio\n",
        "      while cont >= fim:\n",
        "          print(f'{cont} ',end='')\n",
        "          sleep(0.4)    \n",
        "          cont -= passo\n",
        "      print('FIM')\n",
        "\n",
        "\n",
        "def sep():\n",
        "  print('~' * 30)\n",
        "\n",
        "sep()        \n",
        "contador(1,10,1)\n",
        "sep()\n",
        "contador(10,0,2)\n",
        "sep()\n",
        "print('Contagem personalizada')\n",
        "i = int(input('Inicio:  '))\n",
        "f = int(input('Final:   '))\n",
        "p = int(input('Passo:   '))\n",
        "if p == 0:\n",
        "  print('Zero não é valido, será substituido por 1')\n",
        "if p < 0:\n",
        "  print('Número negativo não é valido, será substituido por um numero positivo')  \n",
        "contador(i,f,p)\n",
        "sep()"
      ],
      "metadata": {
        "colab": {
          "base_uri": "https://localhost:8080/"
        },
        "id": "2Tn7leV0ZOGt",
        "outputId": "7c109cde-046f-4f9d-f52b-cfd47420d2ab"
      },
      "execution_count": 24,
      "outputs": [
        {
          "output_type": "stream",
          "name": "stdout",
          "text": [
            "~~~~~~~~~~~~~~~~~~~~~~~~~~~~~~\n",
            "Contagem de 1 até 10 de 1 em 1\n",
            "1 2 3 4 5 6 7 8 9 10 FIM\n",
            "~~~~~~~~~~~~~~~~~~~~~~~~~~~~~~\n",
            "Contagem de 10 até 0 de 2 em 2\n",
            "10 8 6 4 2 0 FIM\n",
            "~~~~~~~~~~~~~~~~~~~~~~~~~~~~~~\n",
            "Contagem personalizada\n",
            "Inicio:  120\n",
            "Final:   100\n",
            "Passo:   0\n",
            "Zero não é valido, será substituido por 1\n",
            "Contagem de 120 até 100 de 1 em 1\n",
            "120 119 118 117 116 115 114 113 112 111 110 109 108 107 106 105 104 103 102 101 100 FIM\n",
            "~~~~~~~~~~~~~~~~~~~~~~~~~~~~~~\n"
          ]
        }
      ]
    },
    {
      "cell_type": "markdown",
      "source": [
        "**Faça um programa que tenha uma função chamada maior, que receba vários parâmetros com valores inteiros.**\n",
        "\n",
        "**Seu programa tem que analisar todos os valores e dizer qual deles é o maior**"
      ],
      "metadata": {
        "id": "nWxDSQpaMvO3"
      }
    },
    {
      "cell_type": "code",
      "source": [
        "from time import sleep\n",
        "def maior(* num):\n",
        "    cont = maior = 0\n",
        "    print('=' * 30)\n",
        "    print('Analise de valores passados')\n",
        "    for valor in num:\n",
        "        print(f'{valor} ',end='')\n",
        "        sleep(0.6)\n",
        "        if cont == 0:\n",
        "           maior = valor\n",
        "        else:\n",
        "            if valor > maior:\n",
        "               maior = valor\n",
        "        cont+=1 \n",
        "    print()        \n",
        "    print(f'Foram informados {cont} valores.')\n",
        "    print(f'O maior valor informado foi {maior}')\n",
        "\n",
        "\n",
        "#principal\n",
        "maior(2,9,4,5,7,1)\n",
        "maior(1,4,5,7)\n",
        "maior(5,7,1)\n",
        "maior(1)\n",
        "\n",
        "  "
      ],
      "metadata": {
        "colab": {
          "base_uri": "https://localhost:8080/"
        },
        "id": "7fvxWtEGNjJP",
        "outputId": "805c9ea1-9896-4dc9-f028-aa4ba55abd0b"
      },
      "execution_count": 9,
      "outputs": [
        {
          "output_type": "stream",
          "name": "stdout",
          "text": [
            "==============================\n",
            "Analise de valores passados\n",
            "2 9 4 5 7 1 \n",
            "Foram informados 6 valores.\n",
            "O maior valor informado foi 9\n",
            "==============================\n",
            "Analise de valores passados\n",
            "1 4 5 7 \n",
            "Foram informados 4 valores.\n",
            "O maior valor informado foi 7\n",
            "==============================\n",
            "Analise de valores passados\n",
            "5 7 1 \n",
            "Foram informados 3 valores.\n",
            "O maior valor informado foi 7\n",
            "==============================\n",
            "Analise de valores passados\n",
            "1 \n",
            "Foram informados 1 valores.\n",
            "O maior valor informado foi 1\n"
          ]
        }
      ]
    },
    {
      "cell_type": "markdown",
      "source": [
        "**Faça um programa que tenha uma lista chamada numeros e duas funções chamadas sorteio e somaPar. A primeira função vai sortear 5 números e vai colocá-los dentro da lista e a segunda função vai mostrar a soma entre todos os valores pares sorteados pela função anterior**"
      ],
      "metadata": {
        "id": "oegs2UpKOMOs"
      }
    },
    {
      "cell_type": "code",
      "source": [
        "from random import randint\n",
        "from time import sleep\n",
        "numeros = list()\n",
        "def sorteio(lista):\n",
        "  cont = 0\n",
        "  print('Os valores sorteador foram → ',end='')\n",
        "  while cont < 5:\n",
        "    n = randint(1,10)\n",
        "    numeros.append(n) \n",
        "    print(f'{n} ',end='')\n",
        "    sleep(0.6)\n",
        "    cont+=1\n",
        "  print('PRONTO!')\n",
        "\n",
        "\n",
        "def somaPar(lista):\n",
        "  print(f'A soma dos valores pares de {numeros} é ',end='')\n",
        "  soma = 0\n",
        "  for par in numeros:\n",
        "      if par % 2 == 0:\n",
        "          soma += par\n",
        "  print(soma)\n",
        "\n",
        "\n",
        "def somaImpar(lista):\n",
        "  print(f'A soma dos valores impares de {numeros} é ',end='')\n",
        "  soma = 0\n",
        "  for impar in numeros:\n",
        "      if impar % 2 == 1:\n",
        "          soma += impar\n",
        "  print(soma)\n",
        "\n",
        "\n",
        "sorteio(numeros)\n",
        "print()\n",
        "somaPar(numeros) \n",
        "print()\n",
        "somaImpar(numeros)   "
      ],
      "metadata": {
        "colab": {
          "base_uri": "https://localhost:8080/"
        },
        "id": "mmIGOPqAO0yh",
        "outputId": "1aaadd4d-d087-4ed0-8016-1d427584bed8"
      },
      "execution_count": 22,
      "outputs": [
        {
          "output_type": "stream",
          "name": "stdout",
          "text": [
            "Os valores sorteador foram → 9 9 5 5 10 PRONTO!\n",
            "\n",
            "A soma dos valores pares de [9, 9, 5, 5, 10] é 10\n",
            "\n",
            "A soma dos valores impares de [9, 9, 5, 5, 10] é 28\n"
          ]
        }
      ]
    },
    {
      "cell_type": "markdown",
      "source": [
        "Interactive help\n",
        "\n",
        "help() → função do help\n",
        "\n",
        "print(input.__doc__)"
      ],
      "metadata": {
        "id": "KWps-j7VG7I3"
      }
    },
    {
      "cell_type": "code",
      "source": [
        "print(len.__doc__)"
      ],
      "metadata": {
        "colab": {
          "base_uri": "https://localhost:8080/"
        },
        "id": "AP9fYGDwJMvW",
        "outputId": "02e35c1d-b4ae-4724-92b2-d195604f4b10"
      },
      "execution_count": 30,
      "outputs": [
        {
          "output_type": "stream",
          "name": "stdout",
          "text": [
            "Return the number of items in a container.\n"
          ]
        }
      ]
    },
    {
      "cell_type": "markdown",
      "source": [
        "docStrings → é um comentario que pode ser feito na função para explicar para outro progamador o que a função executa;\n",
        "\n",
        "É declarado logo abaixo da linha da função entre 3 aspas duplas;"
      ],
      "metadata": {
        "id": "mN4pvRfvLHB2"
      }
    },
    {
      "cell_type": "code",
      "source": [
        "from time import sleep\n",
        "def contador(inicio,fim,passo):\n",
        "  \"\"\"\n",
        "  função que faz a contagem de numeros recebendo 3 parametros\n",
        "  inicio → numero que começa a contagem\n",
        "  fim → numero que encerra a contagem\n",
        "  passo → de quantos em quantos numeros será feito a contagem\n",
        "  obs: caso o passo seja um numero negativo ele é modificado para o mesmo numero \n",
        "  porem positivo, caso seja zero passa a valer um\n",
        "  \"\"\"\n",
        "  if passo < 0:\n",
        "    passo = passo * (-1)\n",
        "  if passo == 0:\n",
        "    passo = 1\n",
        "  print(f'Contagem de {inicio} até {fim} de {passo} em {passo}')\n",
        "  if inicio < fim:\n",
        "      cont = inicio\n",
        "      while cont <= fim:\n",
        "        print(f'{cont} ',end='')\n",
        "        sleep(0.4)\n",
        "        cont += passo\n",
        "      print('FIM')  \n",
        "  else:\n",
        "      cont = inicio\n",
        "      while cont >= fim:\n",
        "          print(f'{cont} ',end='')\n",
        "          sleep(0.4)    \n",
        "          cont -= passo\n",
        "      print('FIM')\n",
        "\n",
        "contador(10,20,3)      "
      ],
      "metadata": {
        "colab": {
          "base_uri": "https://localhost:8080/"
        },
        "id": "IcIaLm3jKGPH",
        "outputId": "01d205ae-c38d-4e59-b8e7-9feb598e7fd5"
      },
      "execution_count": 34,
      "outputs": [
        {
          "output_type": "stream",
          "name": "stdout",
          "text": [
            "Contagem de 10 até 20 de 3 em 3\n",
            "10 13 16 19 FIM\n"
          ]
        }
      ]
    },
    {
      "cell_type": "code",
      "source": [
        "help(contador)"
      ],
      "metadata": {
        "colab": {
          "base_uri": "https://localhost:8080/"
        },
        "id": "bNL2zEqRHKvn",
        "outputId": "588195bf-6fc5-41b1-8302-57531eed6021"
      },
      "execution_count": 36,
      "outputs": [
        {
          "output_type": "stream",
          "name": "stdout",
          "text": [
            "Help on function contador in module __main__:\n",
            "\n",
            "contador(inicio, fim, passo)\n",
            "    função que faz a contagem de numeros recebendo 3 parametros\n",
            "    inicio → numero que começa a contagem\n",
            "    fim → numero que encerra a contagem\n",
            "    passo → de quantos em quantos numeros será feito a contagem\n",
            "    obs: caso o passo seja um numero negativo ele é modificado para o mesmo numero \n",
            "    porem positivo, caso seja zero passa a valer um\n",
            "\n"
          ]
        }
      ]
    },
    {
      "cell_type": "markdown",
      "source": [
        "Parametros opcionais → caso uma função não receba todos os parametros ela continua a funcionar."
      ],
      "metadata": {
        "id": "DnY02cBzNouX"
      }
    },
    {
      "cell_type": "code",
      "source": [
        "def totalConta(valortotal, taxaServico = 0):\n",
        "  if taxaServico == 0:\n",
        "     conta = valortotal\n",
        "  else:\n",
        "     conta = (valortotal * taxaServico / 100) + valortotal \n",
        "  print(f'Seu consumo foi de R${valortotal:.2f}') \n",
        "  print(f'A taxa de serviço é de {taxaServico:.0f}%')\n",
        "  print(f'O total da conta é de R${conta:.2f}')\n",
        "\n",
        "\n",
        "valor = float(input('Valor conta: R$'))\n",
        "resposta = str(input('Cobrar taxa serviço [S/N]: ')).upper()[0]\n",
        "if resposta == 'S':\n",
        "  resposta = 10\n",
        "else:\n",
        "  resposta = 0  \n",
        "totalConta(valor,resposta)"
      ],
      "metadata": {
        "colab": {
          "base_uri": "https://localhost:8080/"
        },
        "id": "k9pIw_hsObF4",
        "outputId": "e8a91a88-989d-4d8e-f3a5-83dc31a9a605"
      },
      "execution_count": 41,
      "outputs": [
        {
          "output_type": "stream",
          "name": "stdout",
          "text": [
            "Valor conta: R$520\n",
            "Cobrar taxa serviço [S/N]: s\n",
            "Seu consumo foi de R$520.00\n",
            "A taxa de serviço é de 10%\n",
            "O total da conta é de R$572.00\n"
          ]
        }
      ]
    },
    {
      "cell_type": "markdown",
      "source": [
        "Escopo de variaveis \n",
        "\n",
        "escobo global → a variavel tem o mesmo valor tanto dentro quanto fora das funções\n",
        "\n",
        "escopo local → a variável só tem valor no escopo onde foi declarada\n",
        "\n",
        "utilizando a palavra reservada global antes da variavel global dentro de uma função e retribuindo outro valor a essa variavel, ela passa a ter o novo valor globalmente"
      ],
      "metadata": {
        "id": "2Glzipo-T8n3"
      }
    },
    {
      "cell_type": "code",
      "source": [
        "nome = 'David'\n",
        "def localvar():\n",
        "  nome = 'Fernanda'\n",
        "  print(f'Nome local:  {nome}')\n",
        "print(f'Nome global: {nome}') \n",
        "localvar() "
      ],
      "metadata": {
        "colab": {
          "base_uri": "https://localhost:8080/"
        },
        "id": "hk4P__w4T_mn",
        "outputId": "b974cefe-968d-4785-dc53-d5a9684832a2"
      },
      "execution_count": 45,
      "outputs": [
        {
          "output_type": "stream",
          "name": "stdout",
          "text": [
            "Nome global: David\n",
            "Nome local:  Fernanda\n"
          ]
        }
      ]
    },
    {
      "cell_type": "code",
      "source": [
        "nome = 'David'\n",
        "def localvar():\n",
        "  global nome\n",
        "  nome = 'Fernanda'\n",
        "  print(f'Nome local:  {nome}')\n",
        "\n",
        "\n",
        "print(f'Nome global antes da execução da função: {nome}') \n",
        "localvar() \n",
        "print(f'Nome da variavel global após executar a função: {nome}') "
      ],
      "metadata": {
        "colab": {
          "base_uri": "https://localhost:8080/"
        },
        "outputId": "8460e2c6-7dfa-46be-ffb1-ddfcbdbe71a9",
        "id": "AzbqPn5AXq3c"
      },
      "execution_count": 48,
      "outputs": [
        {
          "output_type": "stream",
          "name": "stdout",
          "text": [
            "Nome global antes da execução da função: David\n",
            "Nome local:  Fernanda\n",
            "Nome da variavel global após executar a função: Fernanda\n"
          ]
        }
      ]
    },
    {
      "cell_type": "markdown",
      "source": [
        "retorno de valores de uma função → as funções em Python podem ou não retornar valores"
      ],
      "metadata": {
        "id": "kCwP2QCWYPHp"
      }
    },
    {
      "cell_type": "code",
      "source": [
        "def multiplicar(a,b,c=1):\n",
        "    m = a * b * c\n",
        "    return m\n",
        "\n",
        "\n",
        "resp = multiplicar(3,5,8)\n",
        "print(resp)\n",
        "  "
      ],
      "metadata": {
        "colab": {
          "base_uri": "https://localhost:8080/"
        },
        "id": "pzouCKbZYd1e",
        "outputId": "96e89d53-36c6-4751-e401-b78250492945"
      },
      "execution_count": 50,
      "outputs": [
        {
          "output_type": "stream",
          "name": "stdout",
          "text": [
            "120\n"
          ]
        }
      ]
    },
    {
      "cell_type": "code",
      "source": [
        "def fatorial(num = 1):\n",
        "  f = 1\n",
        "  for c in range(num,0,-1):\n",
        "    f *= c\n",
        "  return f\n",
        "\n",
        "\n",
        "n = int(input('Número para mostrar o fatorial: '))\n",
        "print(f'O fatorial de {n} é {fatorial(n)}')"
      ],
      "metadata": {
        "colab": {
          "base_uri": "https://localhost:8080/"
        },
        "id": "5EqGyTm_gCby",
        "outputId": "d2c4fc09-fab7-4f2c-bc81-d5c465b7fa65"
      },
      "execution_count": 54,
      "outputs": [
        {
          "output_type": "stream",
          "name": "stdout",
          "text": [
            "Número para mostrar o fatorial: 7\n",
            "O fatorial de 7 é 5040\n"
          ]
        }
      ]
    },
    {
      "cell_type": "markdown",
      "source": [
        "**Crie um programa que tenha uma função chamada 'voto' que vai receber como parametro o ano de nascimento de uma pessoa, retornando um valor literal indicando se a pessoa tem voto negado, opcional ou obrigatorio nas eleiçõe**"
      ],
      "metadata": {
        "id": "vNmk__c-hkn_"
      }
    },
    {
      "cell_type": "code",
      "source": [
        "from datetime import datetime\n",
        "anoAtual = datetime.today().year\n",
        "def voto(anoNascimento):\n",
        "    idade = anoAtual - anoNascimento\n",
        "    if idade > 65:\n",
        "        msg = f'Com {idade} anos: voto opcional'\n",
        "    elif idade < 16:\n",
        "        msg = f'Com {idade} anos: Não vota ainda'     \n",
        "    else:\n",
        "        msg = f'Com {idade} anos: voto obrigatório'\n",
        "    return print(msg)   \n",
        "anoNascimento = int(input('Digite seu ano de nascimento: '))\n",
        "\n",
        "voto(anoNascimento)"
      ],
      "metadata": {
        "colab": {
          "base_uri": "https://localhost:8080/"
        },
        "id": "n5jXFA89iBzQ",
        "outputId": "6ebe705f-13e5-48a0-d946-33606a74504f"
      },
      "execution_count": 68,
      "outputs": [
        {
          "output_type": "stream",
          "name": "stdout",
          "text": [
            "Digite seu ano de nascimento: 1979\n",
            "com 42 anos: voto obrigatório\n"
          ]
        }
      ]
    }
  ]
}