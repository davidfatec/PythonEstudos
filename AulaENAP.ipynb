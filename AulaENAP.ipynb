{
  "nbformat": 4,
  "nbformat_minor": 0,
  "metadata": {
    "colab": {
      "name": "AulaENAP.ipynb",
      "provenance": [],
      "collapsed_sections": [],
      "authorship_tag": "ABX9TyP721+zGplWY1f2uoOBFY1/",
      "include_colab_link": true
    },
    "kernelspec": {
      "name": "python3",
      "display_name": "Python 3"
    },
    "language_info": {
      "name": "python"
    }
  },
  "cells": [
    {
      "cell_type": "markdown",
      "metadata": {
        "id": "view-in-github",
        "colab_type": "text"
      },
      "source": [
        "<a href=\"https://colab.research.google.com/github/davidfatec/PythonEstudos/blob/main/AulaENAP.ipynb\" target=\"_parent\"><img src=\"https://colab.research.google.com/assets/colab-badge.svg\" alt=\"Open In Colab\"/></a>"
      ]
    },
    {
      "cell_type": "markdown",
      "metadata": {
        "id": "9Rfz0HjSXyt-"
      },
      "source": [
        "![python.PNG](data:image/png;base64,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)\n",
        "\n",
        "**CURSO ENAP Setembro 2021 - PYTHON**\n",
        "\n",
        "\n",
        "\n"
      ]
    },
    {
      "cell_type": "markdown",
      "metadata": {
        "id": "xl2F12wnqdQD"
      },
      "source": [
        "**MODULO 1**"
      ]
    },
    {
      "cell_type": "code",
      "metadata": {
        "id": "OwFcP8g8qlhk"
      },
      "source": [
        ""
      ],
      "execution_count": null,
      "outputs": []
    },
    {
      "cell_type": "markdown",
      "metadata": {
        "id": "KlzBunm2ppMw"
      },
      "source": [
        "**MODULO 2**"
      ]
    },
    {
      "cell_type": "code",
      "metadata": {
        "id": "gqS54QcMX8yq"
      },
      "source": [
        "#tabuada com while\n",
        "numero = int(input(\"Digite um número: \"))\n",
        "i = 1\n",
        "while i <= 10:\n",
        "  print(\"{} X {:2d} = {:3d}\".format(numero, i,numero * i))\n",
        "  i = i+1"
      ],
      "execution_count": null,
      "outputs": []
    },
    {
      "cell_type": "code",
      "metadata": {
        "id": "munHTDWWqacr"
      },
      "source": [
        ""
      ],
      "execution_count": null,
      "outputs": []
    },
    {
      "cell_type": "code",
      "metadata": {
        "id": "JRT9u0gNX8vP"
      },
      "source": [
        "while True:\n",
        "  usuario = input(\"Escreva o nome das pessoas (end sai do sistema): \")\n",
        "\n",
        "  ## Quando o \"break\" é acionado, o print() abaixo NÃO será executado.\n",
        "  ## O programa romperá o loop quando esta palavra-chave for lida.\n",
        "  if usuario==\"end\":\n",
        "    print(\"fim do programa!!!\")\n",
        "    break\n",
        "  print(usuario)"
      ],
      "execution_count": null,
      "outputs": []
    },
    {
      "cell_type": "markdown",
      "metadata": {
        "id": "iT0BVDpEZxWY"
      },
      "source": [
        "**Tabuada até o end ser acionado**"
      ]
    },
    {
      "cell_type": "code",
      "metadata": {
        "id": "RkjKF4vvbjw1"
      },
      "source": [
        "import os\n",
        "os.system('cls' if os.name == 'nt' else 'clear')\n",
        "end = False\n",
        "print(\"Inicio do Sistema\")\n",
        "while end == False:\n",
        "  print(\"[0] sai do sistema\")\n",
        "  numero = int(input(\"Digite um número: \"))\n",
        "  if numero== 0 :\n",
        "    print(\"Fim do sistema!!!\")\n",
        "    end = True\n",
        "  else: \n",
        "    i = 1\n",
        "    print(\"Tabuado do {}\".format(numero))\n",
        "    while i <= 10:\n",
        "      print(\"{} X {:2d} = {:3d}\".format(numero,i,numero*i))\n",
        "      i+=1"
      ],
      "execution_count": null,
      "outputs": []
    },
    {
      "cell_type": "markdown",
      "metadata": {
        "id": "-EI06X0idy16"
      },
      "source": [
        "**Loop pulando multiplos de variavel escolhida**"
      ]
    },
    {
      "cell_type": "code",
      "metadata": {
        "id": "f2YGS6jOd5O2"
      },
      "source": [
        "\"\"\"\n",
        "Vamos considerar um loop que conta de 1-20, mas ignora todos os números que são múltiplos de 5. \n",
        "Neste caso, NÃO poderíamos usar a palavra-chave \"break\", porque isso encerrará o loop. \n",
        "Queremos \"continuar\" o loop, exceto por alguns números. \n",
        "\"\"\"\n",
        "contador = 1\n",
        "multiplo = 8\n",
        "\n",
        "# Implementação do loop WHILE\n",
        "while contador + 1 <= 20:\n",
        "  if contador % multiplo == 0:\n",
        "    print(\"SKIP\")\n",
        "    contador += 1\n",
        "    continue\n",
        "  print(contador)\n",
        "  contador += 1"
      ],
      "execution_count": null,
      "outputs": []
    },
    {
      "cell_type": "markdown",
      "metadata": {
        "id": "i6Gw54t7fXgT"
      },
      "source": [
        "**Mesmo loop acima, mas usando o for**"
      ]
    },
    {
      "cell_type": "code",
      "metadata": {
        "id": "ABMADS7afg5Y"
      },
      "source": [
        "multiplo = 4\n",
        "for i in range (1, 20+1):\n",
        "  if i % multiplo == 0:\n",
        "    print(\"SKIP\")\n",
        "    continue\n",
        "  print(i)"
      ],
      "execution_count": null,
      "outputs": []
    },
    {
      "cell_type": "markdown",
      "metadata": {
        "id": "4Lo07tP1f8EP"
      },
      "source": [
        "**Funções**\n",
        "\n",
        "Funções são úteis quando lhe é dado um problema que pode ser dividido em várias etapas e algumas etapas são usadas de forma repetitiva. Então, ter uma função para essas etapas é conveniente porque reduz a repetição de código e torna o código mais organizado.\n",
        "\n",
        "Notas sobre a definição de uma nova função:\n",
        "\n",
        "1-Definir/inicializar uma nova função com a palavra-chave def antes do nome da função.\n",
        "\n",
        "2-NÃO definir o tipo de retorno na declaração da função.\n",
        "\n",
        "3-NÃO esquecer do parâmetro da função se sua função precisar de informações do main() ou de outras funções.\n",
        "\n",
        "4-A declaração RETURN não é necessária, dependendo das funções."
      ]
    },
    {
      "cell_type": "code",
      "metadata": {
        "colab": {
          "base_uri": "https://localhost:8080/"
        },
        "id": "EDA8lhCSgMiA",
        "outputId": "8ebe7ff4-d61d-4867-f071-1053fc69ec04"
      },
      "source": [
        "\"\"\"\n",
        "Escreveremos nossa própria função que testa se um triângulo de 3 lados é um triângulo retângulo. \n",
        "Como não podemos controlar a ordem dos lados que o usuário nos dá (de tal forma que C é o comprimento mais longo), \n",
        "precisamos verificar manualmente se C é o comprimento mais longo (os comprimentos A e B podem estar em qualquer ordem). \n",
        "Caso contrário, nosso teorema de Pitágoras falhará. \n",
        "\"\"\"\n",
        "\n",
        "def triangulo(a, b, c):\n",
        "\n",
        "  # Reatribuir valores variáveis para garantir que C seja o comprimento mais longo\n",
        "  if (max(a,b,c) != c):\n",
        "\n",
        "    # temporario armazena os valores anteriores de C, que não é o comprimento mais longo\n",
        "    temporario = c\n",
        "    c = max(a,b,c)\n",
        "\n",
        "    if a == c:\n",
        "      a = temporario\n",
        "    elif b == c:\n",
        "      b = temporario\n",
        "    \n",
        "\n",
        "  # Aplicar a fórmula\n",
        "  if a**2 + b**2 >= c**2:\n",
        "    print(\"É um triangulo\")\n",
        "\n",
        "    # Se o programa vê uma declaração Return, este é o FIM do programa/função\n",
        "    return True\n",
        "  \n",
        "  # Estas duas linhas funcionarão SOMENTE quando a condição IF for falsa\n",
        "  print(\"NÃO é um triangulo\")\n",
        "  return False\n",
        "\n",
        "\n",
        "# Solicite ao usuário que insira 3 comprimentos\n",
        "def main():\n",
        "  a = input(\"Entre com o tamanho da primeira borda do triangulo:\")\n",
        "  b = input(\"Entre com o tamanho da segunda borda do triangulo:\")\n",
        "  c = input(\"Entre com o tamanho da terceira borda do triangulo:\")\n",
        "\n",
        "  # As entradas do usuário são armazenadas como uma string, então nós as computamos para ser int\n",
        "  return triangulo(int(a), int(b), int(c))\n",
        "\n",
        "if __name__ == \"__main__\":\n",
        "    main()"
      ],
      "execution_count": 31,
      "outputs": [
        {
          "output_type": "stream",
          "name": "stdout",
          "text": [
            "Entre com o tamanho da primeira borda do triangulo:5\n",
            "Entre com o tamanho da segunda borda do triangulo:4\n",
            "Entre com o tamanho da terceira borda do triangulo:3\n",
            "é um triangulo\n"
          ]
        }
      ]
    },
    {
      "cell_type": "markdown",
      "metadata": {
        "id": "cNjgBQY2koYG"
      },
      "source": [
        "**Palavra palindromo**"
      ]
    },
    {
      "cell_type": "code",
      "metadata": {
        "colab": {
          "base_uri": "https://localhost:8080/"
        },
        "id": "7hoywSaTlbNF",
        "outputId": "8bb1d93e-91c5-4bd7-8c9c-68296736965d"
      },
      "source": [
        "import string\n",
        "\n",
        "def palindromo(str):\n",
        "  exclude = set(string.punctuation)\n",
        "  str = ''.join(ch for ch in str if ch not in exclude)\n",
        "  str = str.replace(\" \", \"\").lower()\n",
        "  if str == str[::-1]:\n",
        "    return str + \" É um palindromo!\"\n",
        "  else:\n",
        "    return str + \" NÃO é palindromo!\"\n",
        "\n",
        "def main():\n",
        "  frase = input(\"Digite um frase para saber se é um palindromo: \")\n",
        "  print(palindromo(frase))\n",
        "\n",
        "if __name__ == \"__main__\":\n",
        "    main()"
      ],
      "execution_count": 43,
      "outputs": [
        {
          "output_type": "stream",
          "name": "stdout",
          "text": [
            "Digite um frase para saber se é um palindromo: onino\n",
            "onino É um palindromo!\n"
          ]
        }
      ]
    }
  ]
}