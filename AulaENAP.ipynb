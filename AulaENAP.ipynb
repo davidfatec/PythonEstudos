{
  "nbformat": 4,
  "nbformat_minor": 0,
  "metadata": {
    "colab": {
      "name": "AulaENAP.ipynb",
      "provenance": [],
      "collapsed_sections": [],
      "authorship_tag": "ABX9TyPEzddGfn8N+C1sYvLPYfEx",
      "include_colab_link": true
    },
    "kernelspec": {
      "name": "python3",
      "display_name": "Python 3"
    },
    "language_info": {
      "name": "python"
    }
  },
  "cells": [
    {
      "cell_type": "markdown",
      "metadata": {
        "id": "view-in-github",
        "colab_type": "text"
      },
      "source": [
        "<a href=\"https://colab.research.google.com/github/davidfatec/PythonEstudos/blob/main/AulaENAP.ipynb\" target=\"_parent\"><img src=\"https://colab.research.google.com/assets/colab-badge.svg\" alt=\"Open In Colab\"/></a>"
      ]
    },
    {
      "cell_type": "markdown",
      "metadata": {
        "id": "9Rfz0HjSXyt-"
      },
      "source": [
        "![python.PNG](data:image/png;base64,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)\n",
        "\n",
        "**CURSO ENAP Setembro 2021 - PYTHON**\n",
        "\n",
        "\n",
        "\n"
      ]
    },
    {
      "cell_type": "markdown",
      "metadata": {
        "id": "xl2F12wnqdQD"
      },
      "source": [
        "**Módulo 1: Variáveis, Operações, Condições**"
      ]
    },
    {
      "cell_type": "markdown",
      "metadata": {
        "id": "O-eX6OzStrT9"
      },
      "source": [
        "**Variáveis**\n",
        "Atribuição de Variáveis\n",
        "As variáveis são as mesmas que as variáveis em matemática, exceto que variáveis matemáticas são muitas vezes letras, mas variáveis de programação podem ser palavras.\n",
        "\n",
        "Variáveis: um conjunto que contém algumas informações.\n",
        "\n",
        "Nota sobre a declaração de variáveis:\n",
        "\n",
        "Case-sensitive (ou seja, caracteres em caixa alta ou baixa são tratados como diferentes)\n",
        "DEVE começar com uma letra ou um sublinhado; NÃO PODE começar com números.\n",
        "NÃO PODE ser o mesmo nome que as palavras-chave Python (por exemplo, class, finally, etc.)\n",
        "NÃO especificar o tipo de informação armazenada na variável. (Consulte os seguintes códigos para um exemplo.)"
      ]
    },
    {
      "cell_type": "code",
      "metadata": {
        "id": "jIxhsN5Cu_Tk"
      },
      "source": [
        "#manipulando texto => a frase abaixo é armazenada caracter por caracter inicia no 0 e vai até 19, pois possui 20 caracteres\n",
        "frase = 'Eu moro em Bebedouro'\n",
        "#Eu moro em  B e b e d o u r o\n",
        "#012345678910111213141516171819\n",
        "print(frase)\n",
        "#fatiando a string                                \n",
        "print(frase[5])\n",
        "#fatiando pedaço da frase range nesse caso o ultimo valor(8) nao entra na contagem\n",
        "print(frase[3:8])\n",
        "#fatiando pulando de 2 em 2\n",
        "print(frase[3:8:2])\n",
        "#fatiando começando do caracter zero e indo até o 8 ou seja até o caracter 7 pois o 8 não é incluido\n",
        "print(frase[:8])\n",
        "#fatiando indo do caracter indicado(incluindo ele mesmo) até o final \n",
        "print(frase[11:])\n",
        "#fatiando do nono caracter até o ultimo\n",
        "print(frase[9:])\n",
        "#fatiando do nono ate o ultimo de 3 em 3\n",
        "print(frase[9::3])\n",
        "\n",
        "#analisando uma string\n",
        "#o len (comprimento) mostra o total de caracteres \n",
        "print(len(frase)) \n",
        "#comando count(a) conta quantos caracteres (a) tem na string \n",
        "print(frase.count('o'))\n",
        "#conta com fatiamento de 0 a 10, anulando o 10ºcaracter\n",
        "print(frase.count('o',0,13))\n",
        "#encontrar a parte desejada .find('caracter desejado') se retornar o valor -1 indica que não foi encontrado\n",
        "print(frase.find('dou'))\n",
        "#indicador indica true or false\n",
        "print('moro' in frase)\n",
        "\n",
        "#transformação muda por metodos\n",
        "print(frase.replace('Bebedouro','Gramado'))\n",
        "#upper modifica o caracter minusculo pelo maiusculo\n",
        "print(frase.upper())\n",
        "#lower modifica todos os caracteres para minusculo\n",
        "print(frase.lower())\n",
        "#capitalize modifica a primeira letras da string para maiuscula\n",
        "print(frase.capitalize())\n",
        "#title modifica todas as primeiras letras das palavras para maiusculo (ele percebe isso pela posição do espaço)\n",
        "print(frase.title())\n",
        "#strip - remove espaço no inicio e final da string rstrip (remove direita) lstrip(remove esquerda)\n",
        "fraseEspaco = '   deixei espaço no inicio e no fim   '\n",
        "print(fraseEspaco)\n",
        "print(fraseEspaco.strip())\n",
        "print(fraseEspaco.rstrip())\n",
        "print(fraseEspaco.lstrip())\n",
        "\n",
        "#divisão de strings\n",
        "#split - dividi a string considerando os espaços\n",
        "print(frase.split())\n",
        "#join - junta os caracteres\n",
        "frase2 = frase.split()\n",
        "print(' '.join(frase2))"
      ],
      "execution_count": null,
      "outputs": []
    },
    {
      "cell_type": "markdown",
      "metadata": {
        "id": "bQXVFXJ_vf_s"
      },
      "source": [
        "**OPERADORES ARITIMETICOS**"
      ]
    },
    {
      "cell_type": "code",
      "metadata": {
        "id": "SFKG2NhYvQVU"
      },
      "source": [
        "#Operações aritmeticos soma +, subtração -, divisão /, multiplicação *, potencia **, divisão inteira //, resto da divisão %\n",
        "numero1 = int(input('Digite um numero: '))\n",
        "numero2 = int(input('Digite outro numero: '))\n",
        "soma = numero1 + numero2\n",
        "subtracao = numero1 - numero2\n",
        "multiplicacao = numero1 * numero2\n",
        "divisao = numero1 / numero2\n",
        "potencia = numero1 ** numero2\n",
        "divisaoInteira = numero1 // numero2\n",
        "restoDaDivisao = numero1 % numero2\n",
        "\n",
        "print('As operações aritmeticas entre {} e {} são:'\n",
        "       '\\n Soma {},\\n Subtração {}, \\n Multiplicação {},'\n",
        "       '\\n Divisão {}, \\n Potenciação {},\\n Divisão inteira {}, \\n resto da divisão {}'\n",
        "       .format(numero1,numero2,soma,subtracao,multiplicacao,\n",
        "              divisao,potencia,divisaoInteira,restoDaDivisao)\n",
        "     )\n",
        "\n",
        "#ordem de precedencia () , ** potenciação, {* / // %} e por ultimo + e -   "
      ],
      "execution_count": null,
      "outputs": []
    },
    {
      "cell_type": "markdown",
      "metadata": {
        "id": "7wzT6YLvwBLe"
      },
      "source": [
        "**LISTA DE EXERCICIOS [1]**"
      ]
    },
    {
      "cell_type": "code",
      "metadata": {
        "id": "Jlk-rOdswBzG"
      },
      "source": [
        "#1)Faça um programa que peça dois numeros e imprima a soma desses 2 numeros.\n",
        "n1 = int(input('Digite um número: '))\n",
        "n2 = int(input('Digite outro número: '))\n",
        "soma = n1 + n2\n",
        "msg = 'A soma de {} e {} é {}'.format(n1,n2,soma)\n",
        "print(msg)"
      ],
      "execution_count": null,
      "outputs": []
    },
    {
      "cell_type": "code",
      "metadata": {
        "id": "DRIJ5RP1wCmb"
      },
      "source": [
        "#2)escreva um programa que leia um valor em metros e exiba convertido em milimetros\n",
        "valor = float(input('Digite um valor em metro: '))\n",
        "milimetros = valor * 1000\n",
        "msg = 'O valor de {} metros Corresponde a {:.0f} milimetros'.format(valor,milimetros)\n",
        "print(msg)"
      ],
      "execution_count": null,
      "outputs": []
    },
    {
      "cell_type": "code",
      "metadata": {
        "id": "ujG1rodpwDPK"
      },
      "source": [
        "#3)Escreva um programa que leia a quantidade de dias, horas, minutos e segundos do usuario.Calcule o total em segundos\n",
        "dias = int(input('Digite quantos dias: '))\n",
        "horas = int(input('Digite quantas horas: '))\n",
        "minutos = int(input('Digite quantos minutos: '))\n",
        "segundos = int(input('Digite quantos segundos: '))\n",
        "totalSegundos = (dias*24*60*60)+(horas*60*60)+(minutos * 60)+segundos\n",
        "msg = '{} dia(s)\\n{} hora(s)\\n{} minuto(s)\\n{} segundo(s)\\nCorresponde a {} segundo(s)'.format(dias,horas,minutos,segundos,totalSegundos)\n",
        "print(msg)"
      ],
      "execution_count": null,
      "outputs": []
    },
    {
      "cell_type": "code",
      "metadata": {
        "id": "3xboy3usxHnk"
      },
      "source": [
        "'''\n",
        "4)Faça um programa que calcule o aumento de um salario. Ele deve solicitar o valor do salario \n",
        "atual e a porcentagem do aumento e exibir o valor do aumento e do novo salario\n",
        "'''\n",
        "salarioAtual = float(input('Digite o valor do salario atual: R$'))\n",
        "percentualAumento = float(input('Digite o persentual de aumento: '))\n",
        "valorDoAjuste = percentualAumento/100 * salarioAtual\n",
        "novoSalario = salarioAtual + valorDoAjuste\n",
        "msg = 'O seu novo salário teve um aumento de R${:.2f} e passa a ser R${:.2f} a partir de hoje'.format(valorDoAjuste,novoSalario)\n",
        "print(msg)"
      ],
      "execution_count": null,
      "outputs": []
    },
    {
      "cell_type": "code",
      "metadata": {
        "id": "rAGhMEsjxH6A"
      },
      "source": [
        "#5)Solicite o preço de uma mercadoria e o percentual de desconto. Exiba o valor do desconto e preço a a pagar. \n",
        "preco = float(input('Digite o preço: R$'))\n",
        "perDesconto = float(input('Digite o percentual de desconto: '))\n",
        "valorDesconto = perDesconto/100 * preco\n",
        "precoDesconto = preco - valorDesconto\n",
        "msg = 'O desconto foi de R${:.2f} e o preço com desconto é R${:.2f}'.format(valorDesconto,precoDesconto)\n",
        "print(msg)"
      ],
      "execution_count": null,
      "outputs": []
    },
    {
      "cell_type": "code",
      "metadata": {
        "id": "E78YVq_1xIHF"
      },
      "source": [
        "#6)Calcule o tempo de uma viagem de carro. Pergunte a distancia a percorrer e a velocidade media da viagem.\n",
        "distancia = float(input('Digite a distancia a percorrer em km: '))\n",
        "velocidadeMedia = float(input('Digite a velocidade media km/h: '))\n",
        "tempo = distancia / velocidadeMedia\n",
        "\n",
        "tempo_segundo = int(tempo * 3600) # converte o tempo em horas para segundos ex 1.5 horas = 5400 segundos\n",
        "horas = int(tempo_segundo // 3600) # parte inteira apenas a hora 5400 / 3600 = 1.5 nesse codigo a variavel recebe apena o 1\n",
        "tempo_segundo = int(tempo_segundo % 3600) # o resto de 5400 % 3600 = que equivale a 0.5 de 3600 (1800)\n",
        "minutos = int(tempo_segundo // 60) #recebe os 1800 / 60 = 30 \n",
        "segundos = int(tempo_segundo % 60) #recebe o resto de 1800 / 60 = 0\n",
        "\n",
        "print('''\n",
        "Para percorrer {:.2f} kilometros\n",
        "a velocidade de: {:.2f} km/h\n",
        "levaremos {:03d}:{:02d}:{:02d}'''.format(distancia,velocidadeMedia,horas,minutos,segundos))"
      ],
      "execution_count": null,
      "outputs": []
    },
    {
      "cell_type": "code",
      "metadata": {
        "id": "djqSrnI5xITd"
      },
      "source": [
        "#7)Converta uma temperatura digitada em Celsius para Fahrenheit. F = 9*C/5 + 32\n",
        "c = float(input('Digite quantos graus Celsius: '))\n",
        "f = (9*c/5) + 32\n",
        "print('{:.2f} grau(s) Celsius equivale a {:.2f} grau(s) Fahrenheit'.format(c,f))"
      ],
      "execution_count": null,
      "outputs": []
    },
    {
      "cell_type": "code",
      "metadata": {
        "id": "quMbLAN5xIqf"
      },
      "source": [
        "#8)Faça um sistema que converta de grau Fahrenheit para Celsius (F − 32) × 5/9 \n",
        "f = float(input('Digite quantos graus Fahrenheit: '))\n",
        "c = (f - 32) * 5/9\n",
        "print('O valor de {:.2f}ºF equivale a {:.2f}ºC'.format(f,c))"
      ],
      "execution_count": null,
      "outputs": []
    },
    {
      "cell_type": "code",
      "metadata": {
        "id": "U3zsW1O2xI2C"
      },
      "source": [
        "'''\n",
        "9)Escreva um programa que pergunte a quantidade de Km percorridos por um carro alugado pelo usuario, assim como a quantidade de dias pelos quais\n",
        "o carro foi alugado.Calcule o preço a pagar, sabendo que o custo por dia é R$60,00 e R$0,15 por KM rodado.\n",
        "'''\n",
        "diasLocados = int(input('Digite o numero de dias que o carro foi locado: ')) \n",
        "valorDia = float(input('Digite o valor da diaria: R$'))\n",
        "kmInicial = float(input('Digite o km inicial: ')) \n",
        "kmFinal = float(input('Digite o km Final: '))\n",
        "valorKm = float(input('Digite o valor por km: R$'))\n",
        "kmRodado = kmFinal - kmInicial\n",
        "totalPagar = (diasLocados * valorDia) + (kmRodado * valorKm)\n",
        "msg = '''\n",
        "Descrição da locação: \n",
        "Dias locados: {} dias R${:.2f}\n",
        "Km Rodado: {:.0f} km R${:.2f}\n",
        "Total a pagar R${:.2f}'''.format(diasLocados,diasLocados * valorDia,kmRodado,kmRodado * valorKm,totalPagar)\n",
        "print(msg)"
      ],
      "execution_count": null,
      "outputs": []
    },
    {
      "cell_type": "code",
      "metadata": {
        "id": "trX_WInkycbV"
      },
      "source": [
        "'''\n",
        "10)Escreva um programa para calcular a redução do tempo de vida de um fumante. Pergunte a quantidade de \n",
        "cigarros fumados por dia e quantos anos ele ja fumou. Considere que um fumante perde 10 minutos de \n",
        "vida a cada cigarro, calcule quantos dias de vida um fumante perdera. Exiba o total em dias. \n",
        "'''\n",
        "#logica 1\n",
        "cigarrosDia = int(input('Quantos cigarro fuma por dia? '))\n",
        "anosQueFuma = float(input('quantos anos fuma? '))\n",
        "cigarroFumados = (anosQueFuma * 365) * cigarrosDia\n",
        "tempoDeVidaPerdido = (cigarroFumados * 10) / 1440 #1440 é a quantidade de minutos que tem um dia\n",
        "print('Por ter fumado {:.0f} cigarros durante {:.0f} ano(s), sinto lhe informar que perdeu {:.0f}'\n",
        "      ' dias de sua vida'.format(cigarroFumados,anosQueFuma,tempoDeVidaPerdido))\n",
        "\n",
        "#logica 2\n",
        "print(\"Outra forma\")\n",
        "cigarrosDia2 = int(input(\"Quantidade de cigarros por dia:\"))\n",
        "anosQueFuma2 = float(input(\"Quantidade de anos fumando:\"))\n",
        "reducaoMinutos = anosQueFuma2 * 365 * cigarrosDia2 * 10\n",
        "# Um dia tem 24 x 60 minutos\n",
        "reducaoDias = reducaoMinutos / (24 * 60)\n",
        "print(\"Redução do tempo de vida %8.0f dias.\" % reducaoDias)"
      ],
      "execution_count": null,
      "outputs": []
    },
    {
      "cell_type": "code",
      "metadata": {
        "id": "osunq5gEycqI"
      },
      "source": [
        "#11)Sabendo que str() converte valores numericos para string. Calcule quantos digitos há em 2 elevado a um milhao\n",
        "int = 2 ** 1000000\n",
        "#str = str(int)\n",
        "print(int)\n",
        "print('2 elevado a um milhão possui {} digitos'.format(len(str)))"
      ],
      "execution_count": null,
      "outputs": []
    },
    {
      "cell_type": "markdown",
      "metadata": {
        "id": "oewaJ48Y4-lD"
      },
      "source": [
        "**Lista de exercicios [2]**"
      ]
    },
    {
      "cell_type": "code",
      "metadata": {
        "id": "E8atk99R5GuC"
      },
      "source": [
        "'''\n",
        "1)Faça um algoritimo que peça os tres lados.O programa deverá informar se os valores podem ser um triangulo.indique,\n",
        "caso os lados formem um triangulo, se o mesmo é: equilatero, isosceles ou escaleno\n",
        "'''\n",
        "lado1 = float(input('Digite o lado 1: '))\n",
        "lado2 = float(input('Digite o lado 2: '))\n",
        "lado3 = float(input('Digite o lado 3: '))\n",
        "\n",
        "triangulo = False\n",
        "\n",
        "if lado1 < lado2 + lado3 and lado2 < lado1 + lado3 and lado3 < lado1 + lado2:\n",
        "    triangulo = True\n",
        "    print('O lado 1 {:.1f}, lado2 {:.1f} e lado 3 {:.1f} formam um tringulo.'.format(lado1,lado2,lado3))\n",
        "    if (lado1 != lado2 and lado2 != lado3 and lado3 != lado1):   \n",
        "       print('Esse tringulo é de tipo escaleno.')\n",
        "    if (lado1 == lado2 != lado3) or (lado1 == lado3 != lado2) or (lado2 == lado3 != lado1):\n",
        "       print('Esse tringulo é de tipo isosceles')\n",
        "    if(lado1 == lado2 and lado2 == lado3 and lado1 == lado3):   \n",
        "       print('Esse tringulo é de tipo equilatero')\n",
        "if(triangulo == False):    \n",
        "    print('Não formam um triangulo')\n",
        "print('Fim do sistema') "
      ],
      "execution_count": null,
      "outputs": []
    },
    {
      "cell_type": "code",
      "metadata": {
        "id": "dyC3N-d75HAR"
      },
      "source": [
        "#2)Determine um ano, verifique se é bissexto não. \n",
        "print('Verificador de ano bissexto.')\n",
        "ano = int(input('Digite um ano para obter a informação: '))\n",
        "\n",
        "if(ano % 4 == 0 and ano % 100 != 0 or ano % 400 == 0):\n",
        "    print('O ano {} é bissexto'.format(ano))\n",
        "else:\n",
        "    print('O ano {} não é um ano bissexto'.format(ano))    "
      ],
      "execution_count": null,
      "outputs": []
    },
    {
      "cell_type": "code",
      "metadata": {
        "id": "XV9UfLsQ5HL5"
      },
      "source": [
        "'''\n",
        "3)João papo de pescador, homem de bem, comprou um microcomputador para controlar o rendimento diario de seu trabalho. toda vez que ele\n",
        "traz um peso de peixes maior que o estabelecido pelo regulamento de pesca do estado de São Paulo(50 kilos) deve pagar uma multa de\n",
        "R$4,00 por por quilo excedente. Joao precisa que voce faça um programa que leia a variavel peso e verifique se ha excesso. Se houver\n",
        "gravar na variavel excesso e na variavel multa o valor da multa que joão deverá pagar.Caso contrario mostras tais variaveis com o conteudo \n",
        "zero\n",
        "'''\n",
        "peixePescado = float(input('Digite a quantidade pescada hoje: '))\n",
        "valorDaMulta = float(4)\n",
        "multa = float(0)\n",
        "excesso = peixePescado - 50\n",
        "\n",
        "if(excesso > 0):\n",
        "    multa = valorDaMulta * excesso\n",
        "    print('Assim não deixará peixes para seus descendentes\\nExcesso: {:.2f}kg\\nMulta: R${:.2f} de multa'.format(excesso,multa))\n",
        "else:\n",
        "    print('Parabéns voce ficou dentro do limite\\nExcesso: {:.2f}kg\\nMulta: R${:.2f}'.format(excesso,multa))    \n",
        "print('Fim do Sistema')    "
      ],
      "execution_count": null,
      "outputs": []
    },
    {
      "cell_type": "code",
      "metadata": {
        "id": "b57ZMdjb5HPS"
      },
      "source": [
        "#4)faça um programa que leia tres numeros e mostre o maior deles\n",
        "n1 = int(input('Digite o primeiro numero: '))\n",
        "n2 = int(input('Digite o segundo numero: '))\n",
        "n3 = int(input('Digite o terceiro numero: '))\n",
        "maior = n1\n",
        "if n2>n1 and n2>n3:\n",
        "    maior = n2\n",
        "if n3>n1 and n3>n2:\n",
        "    maior = n3\n",
        "print('Dentre os tres numeros digitados {}, {} e {}\\n{} é o maior'.format(n1,n2,n3,maior))   "
      ],
      "execution_count": null,
      "outputs": []
    },
    {
      "cell_type": "code",
      "metadata": {
        "id": "ER0mDeN85HYG"
      },
      "source": [
        "#5)Faça um Programa que leia tres numeros e mostre o maior e o menor deles \n",
        "n1 = int(input('Digite o primeiro numero: '))\n",
        "n2 = int(input('Digite o segundo numero: '))\n",
        "n3 = int(input('Digite o terceiro numero: '))\n",
        "menor = n1\n",
        "if n2 < n1 and n2 < n3:\n",
        "    menor = n2\n",
        "if n3 < n1 and n3 < n2:\n",
        "    menor = n3\n",
        "maior = n1\n",
        "if n2 > n1 and n2 > n3:\n",
        "    maior = n2\n",
        "if n3 > n1 and n3 > n2:\n",
        "    maior = n3     \n",
        "    \n",
        "print('Dentre os tres numeros digitados {}, {} e {}\\nO maior é: {}\\nO menor é: {}'.format(n1,n2,n3,maior,menor)) "
      ],
      "execution_count": null,
      "outputs": []
    },
    {
      "cell_type": "code",
      "metadata": {
        "id": "lX0UaxVN5Hjl"
      },
      "source": [
        "'''\n",
        "6)Faça um programa que pergunte quanto voce ganha por hora e o numero de horas trabalhadas no mês. Calcule e mostre o total do seu salario\n",
        "no mês referido, sabendo que são descontados 11% para o imposto de renda, 8% para o INSS e 5% para o sindicato, faça um programa que nos dê\n",
        "o salario bruto, quanto pagou ao INSS, quanto pagou ao sindicato e o salario liquido. Observe que salario Bruto - descontos = salario \n",
        "liquido. Calcule os descontos e o salario liquido, conforme o enunciado;\n",
        "'''\n",
        "print('-=-'*30)\n",
        "print('                         F O L H A  D E  P A G A M E N T O')\n",
        "print('-=-'*30)\n",
        "#recebe os valores\n",
        "mes = input('Digite o mes de referência: ')\n",
        "mes = mes.upper()\n",
        "ano = input('Digite o ano de referencia: ')\n",
        "horasTrabalhada = float(input('Digite quantas horas trabalhadas no mês: '))\n",
        "valorHora = float(input('Digite o valor pago por hora: R$ '))\n",
        "#logica para valores\n",
        "salarioBruto = horasTrabalhada * valorHora\n",
        "inss = (8/100 * salarioBruto)\n",
        "IR = (11/100 * salarioBruto)\n",
        "sindicato = (5/100 * salarioBruto)\n",
        "totalDesconto = inss + IR + sindicato\n",
        "salarioLiquido = salarioBruto - totalDesconto\n",
        "#Mostra a informação detalhada\n",
        "print('-=-'*30)\n",
        "print('                                   Referencia                 {} de {}'.format(mes,ano))\n",
        "print('-=-'*30)\n",
        "print('Horas trabalhadas: {:.0f} h/mês\\nValor por hora: R${:.2f}\\n\\033[1;32m************************************************************ Valor sem desconto: R${:.2f}\\033[m'\n",
        "      '\\n\\033[1;31m******************** Desconto IR: R${:.2f}\\n******************** Desconto INSS: R${:.2f}\\n******************** Contribuição Sindical: R${:.2f}'\n",
        "      '\\n**************************************** Total de Descontos: R${:.2f}\\n\\033[m\\033[1;32m************************************************************ Salario liquido: R${:.2f}\\033[m'.format(horasTrabalhada,valorHora,salarioBruto,IR,inss,sindicato,totalDesconto,salarioLiquido))\n",
        "\n",
        "print('-=-'*30)\n",
        "print('                                               S y s P a g')\n",
        "print('-=-'*30)"
      ],
      "execution_count": null,
      "outputs": []
    },
    {
      "cell_type": "code",
      "metadata": {
        "id": "3Fw4fzCH5Htz"
      },
      "source": [
        "'''\n",
        "7)Faça um programa para uma loja de tintas. O programa deverá pedir o tamanho em metros quadrados da area a ser pintada. \n",
        "Considere que a cobertura da tinta é de 1 litro para cada 3 metros quadrados e que a tinta é vendida em latas de 18 litros,\n",
        "que custam R$ 80,00. Informe ao usuario a quantidade de latas de tinta a serem compradas e o preço total. Obs as lata só são mentidas inteiras\n",
        "'''\n",
        "print('-=-'*30)\n",
        "print('                                    Orçamento NOVA TINTAS')\n",
        "print('-=-'*30)\n",
        "areaPintura = float(input('Informe a area a ser pintada em metros quadrados: '))\n",
        "preco = float(80)\n",
        "qdeLata = int(18)\n",
        "qdeNecessaria = areaPintura / 3\n",
        "sugestao = qdeNecessaria / qdeLata\n",
        "if sugestao % 1 != 0:\n",
        "    sugestao = int(sugestao + 1)\n",
        "    \n",
        "total = sugestao * preco\n",
        "print('-=-'*30)\n",
        "print('                                    Orçamento NOVA TINTAS')\n",
        "print('-=-'*30)    \n",
        "\n",
        "print('Para a area de {:.2f}m² você vai utilizar {:.2f} litros de tinta'\n",
        "      '\\nÉ preciso comprar {:.0f} lata(s)'.format(areaPintura,qdeNecessaria,sugestao))\n",
        "print('Total a pagar: R${:.2f}'.format(total))"
      ],
      "execution_count": null,
      "outputs": []
    },
    {
      "cell_type": "code",
      "metadata": {
        "id": "J7ACC2jf5H7D",
        "colab": {
          "base_uri": "https://localhost:8080/",
          "height": 522
        },
        "outputId": "71c09d1a-4c1e-4880-d0a6-ddba46295c77"
      },
      "source": [
        "'''\n",
        "8)Desenvolva uma lógica que leia o peso e a altura de uma pessoa, calcule seu IMC e mostre seu status, de acordo com a tabela abaixo:\n",
        "abaixo de 18.5: abaixo do peso\n",
        "entre 18.5 e 25: peso ideal\n",
        "25 até 30: sobrepeso\n",
        "30 até 40: Obesidade\n",
        "Acima de 40: obesidade morbida\n",
        "'''\n",
        "altura = str(input('Digite sua altura: '))\n",
        "peso = str(input('Digite seu peso: '))\n",
        "altura = float(altura.replace(',','.'))\n",
        "peso = float(peso.replace(',','.'))\n",
        "imc = peso / (altura**2)\n",
        "status = 'abaixo do peso'\n",
        "if imc >=18.5 and imc < 25:\n",
        "    status = 'no peso ideal'\n",
        "elif imc >= 25  and imc < 30:\n",
        "    status = 'com sobrepeso' \n",
        "elif imc >= 30 and imc <= 40:\n",
        "    status = 'em obesidade'   \n",
        "elif imc > 40:\n",
        "    status = 'em obesidade morbida'      \n",
        "msg ='''\n",
        "Com base na sua altura de {:.2f} \n",
        "Seu peso de {:.2f}kg\n",
        "Seu IMC é {:.2f}\n",
        "No calculo de imc diz que você está {}\n",
        "'''.format(altura,peso,imc,status)\n",
        "print(msg)"
      ],
      "execution_count": 63,
      "outputs": [
        {
          "output_type": "error",
          "ename": "KeyboardInterrupt",
          "evalue": "ignored",
          "traceback": [
            "\u001b[0;31m---------------------------------------------------------------------------\u001b[0m",
            "\u001b[0;31mKeyboardInterrupt\u001b[0m                         Traceback (most recent call last)",
            "\u001b[0;32m/usr/local/lib/python3.7/dist-packages/ipykernel/kernelbase.py\u001b[0m in \u001b[0;36m_input_request\u001b[0;34m(self, prompt, ident, parent, password)\u001b[0m\n\u001b[1;32m    728\u001b[0m             \u001b[0;32mtry\u001b[0m\u001b[0;34m:\u001b[0m\u001b[0;34m\u001b[0m\u001b[0;34m\u001b[0m\u001b[0m\n\u001b[0;32m--> 729\u001b[0;31m                 \u001b[0mident\u001b[0m\u001b[0;34m,\u001b[0m \u001b[0mreply\u001b[0m \u001b[0;34m=\u001b[0m \u001b[0mself\u001b[0m\u001b[0;34m.\u001b[0m\u001b[0msession\u001b[0m\u001b[0;34m.\u001b[0m\u001b[0mrecv\u001b[0m\u001b[0;34m(\u001b[0m\u001b[0mself\u001b[0m\u001b[0;34m.\u001b[0m\u001b[0mstdin_socket\u001b[0m\u001b[0;34m,\u001b[0m \u001b[0;36m0\u001b[0m\u001b[0;34m)\u001b[0m\u001b[0;34m\u001b[0m\u001b[0;34m\u001b[0m\u001b[0m\n\u001b[0m\u001b[1;32m    730\u001b[0m             \u001b[0;32mexcept\u001b[0m \u001b[0mException\u001b[0m\u001b[0;34m:\u001b[0m\u001b[0;34m\u001b[0m\u001b[0;34m\u001b[0m\u001b[0m\n",
            "\u001b[0;32m/usr/local/lib/python3.7/dist-packages/jupyter_client/session.py\u001b[0m in \u001b[0;36mrecv\u001b[0;34m(self, socket, mode, content, copy)\u001b[0m\n\u001b[1;32m    802\u001b[0m         \u001b[0;32mtry\u001b[0m\u001b[0;34m:\u001b[0m\u001b[0;34m\u001b[0m\u001b[0;34m\u001b[0m\u001b[0m\n\u001b[0;32m--> 803\u001b[0;31m             \u001b[0mmsg_list\u001b[0m \u001b[0;34m=\u001b[0m \u001b[0msocket\u001b[0m\u001b[0;34m.\u001b[0m\u001b[0mrecv_multipart\u001b[0m\u001b[0;34m(\u001b[0m\u001b[0mmode\u001b[0m\u001b[0;34m,\u001b[0m \u001b[0mcopy\u001b[0m\u001b[0;34m=\u001b[0m\u001b[0mcopy\u001b[0m\u001b[0;34m)\u001b[0m\u001b[0;34m\u001b[0m\u001b[0;34m\u001b[0m\u001b[0m\n\u001b[0m\u001b[1;32m    804\u001b[0m         \u001b[0;32mexcept\u001b[0m \u001b[0mzmq\u001b[0m\u001b[0;34m.\u001b[0m\u001b[0mZMQError\u001b[0m \u001b[0;32mas\u001b[0m \u001b[0me\u001b[0m\u001b[0;34m:\u001b[0m\u001b[0;34m\u001b[0m\u001b[0;34m\u001b[0m\u001b[0m\n",
            "\u001b[0;32m/usr/local/lib/python3.7/dist-packages/zmq/sugar/socket.py\u001b[0m in \u001b[0;36mrecv_multipart\u001b[0;34m(self, flags, copy, track)\u001b[0m\n\u001b[1;32m    618\u001b[0m         \"\"\"\n\u001b[0;32m--> 619\u001b[0;31m         \u001b[0mparts\u001b[0m \u001b[0;34m=\u001b[0m \u001b[0;34m[\u001b[0m\u001b[0mself\u001b[0m\u001b[0;34m.\u001b[0m\u001b[0mrecv\u001b[0m\u001b[0;34m(\u001b[0m\u001b[0mflags\u001b[0m\u001b[0;34m,\u001b[0m \u001b[0mcopy\u001b[0m\u001b[0;34m=\u001b[0m\u001b[0mcopy\u001b[0m\u001b[0;34m,\u001b[0m \u001b[0mtrack\u001b[0m\u001b[0;34m=\u001b[0m\u001b[0mtrack\u001b[0m\u001b[0;34m)\u001b[0m\u001b[0;34m]\u001b[0m\u001b[0;34m\u001b[0m\u001b[0;34m\u001b[0m\u001b[0m\n\u001b[0m\u001b[1;32m    620\u001b[0m         \u001b[0;31m# have first part already, only loop while more to receive\u001b[0m\u001b[0;34m\u001b[0m\u001b[0;34m\u001b[0m\u001b[0;34m\u001b[0m\u001b[0m\n",
            "\u001b[0;32mzmq/backend/cython/socket.pyx\u001b[0m in \u001b[0;36mzmq.backend.cython.socket.Socket.recv\u001b[0;34m()\u001b[0m\n",
            "\u001b[0;32mzmq/backend/cython/socket.pyx\u001b[0m in \u001b[0;36mzmq.backend.cython.socket.Socket.recv\u001b[0;34m()\u001b[0m\n",
            "\u001b[0;32mzmq/backend/cython/socket.pyx\u001b[0m in \u001b[0;36mzmq.backend.cython.socket._recv_copy\u001b[0;34m()\u001b[0m\n",
            "\u001b[0;32m/usr/local/lib/python3.7/dist-packages/zmq/backend/cython/checkrc.pxd\u001b[0m in \u001b[0;36mzmq.backend.cython.checkrc._check_rc\u001b[0;34m()\u001b[0m\n",
            "\u001b[0;31mKeyboardInterrupt\u001b[0m: ",
            "\nDuring handling of the above exception, another exception occurred:\n",
            "\u001b[0;31mKeyboardInterrupt\u001b[0m                         Traceback (most recent call last)",
            "\u001b[0;32m<ipython-input-63-9c95d271ea7f>\u001b[0m in \u001b[0;36m<module>\u001b[0;34m()\u001b[0m\n\u001b[1;32m      7\u001b[0m \u001b[0mAcima\u001b[0m \u001b[0mde\u001b[0m \u001b[0;36m40\u001b[0m\u001b[0;34m:\u001b[0m \u001b[0mobesidade\u001b[0m \u001b[0mmorbida\u001b[0m\u001b[0;34m\u001b[0m\u001b[0;34m\u001b[0m\u001b[0m\n\u001b[1;32m      8\u001b[0m '''\n\u001b[0;32m----> 9\u001b[0;31m \u001b[0maltura\u001b[0m \u001b[0;34m=\u001b[0m \u001b[0mstr\u001b[0m\u001b[0;34m(\u001b[0m\u001b[0minput\u001b[0m\u001b[0;34m(\u001b[0m\u001b[0;34m'Digite sua altura: '\u001b[0m\u001b[0;34m)\u001b[0m\u001b[0;34m)\u001b[0m\u001b[0;34m\u001b[0m\u001b[0;34m\u001b[0m\u001b[0m\n\u001b[0m\u001b[1;32m     10\u001b[0m \u001b[0mpeso\u001b[0m \u001b[0;34m=\u001b[0m \u001b[0mstr\u001b[0m\u001b[0;34m(\u001b[0m\u001b[0minput\u001b[0m\u001b[0;34m(\u001b[0m\u001b[0;34m'Digite seu peso: '\u001b[0m\u001b[0;34m)\u001b[0m\u001b[0;34m)\u001b[0m\u001b[0;34m\u001b[0m\u001b[0;34m\u001b[0m\u001b[0m\n\u001b[1;32m     11\u001b[0m \u001b[0maltura\u001b[0m \u001b[0;34m=\u001b[0m \u001b[0mfloat\u001b[0m\u001b[0;34m(\u001b[0m\u001b[0maltura\u001b[0m\u001b[0;34m.\u001b[0m\u001b[0mreplace\u001b[0m\u001b[0;34m(\u001b[0m\u001b[0;34m','\u001b[0m\u001b[0;34m,\u001b[0m\u001b[0;34m'.'\u001b[0m\u001b[0;34m)\u001b[0m\u001b[0;34m)\u001b[0m\u001b[0;34m\u001b[0m\u001b[0;34m\u001b[0m\u001b[0m\n",
            "\u001b[0;32m/usr/local/lib/python3.7/dist-packages/ipykernel/kernelbase.py\u001b[0m in \u001b[0;36mraw_input\u001b[0;34m(self, prompt)\u001b[0m\n\u001b[1;32m    702\u001b[0m             \u001b[0mself\u001b[0m\u001b[0;34m.\u001b[0m\u001b[0m_parent_ident\u001b[0m\u001b[0;34m,\u001b[0m\u001b[0;34m\u001b[0m\u001b[0;34m\u001b[0m\u001b[0m\n\u001b[1;32m    703\u001b[0m             \u001b[0mself\u001b[0m\u001b[0;34m.\u001b[0m\u001b[0m_parent_header\u001b[0m\u001b[0;34m,\u001b[0m\u001b[0;34m\u001b[0m\u001b[0;34m\u001b[0m\u001b[0m\n\u001b[0;32m--> 704\u001b[0;31m             \u001b[0mpassword\u001b[0m\u001b[0;34m=\u001b[0m\u001b[0;32mFalse\u001b[0m\u001b[0;34m,\u001b[0m\u001b[0;34m\u001b[0m\u001b[0;34m\u001b[0m\u001b[0m\n\u001b[0m\u001b[1;32m    705\u001b[0m         )\n\u001b[1;32m    706\u001b[0m \u001b[0;34m\u001b[0m\u001b[0m\n",
            "\u001b[0;32m/usr/local/lib/python3.7/dist-packages/ipykernel/kernelbase.py\u001b[0m in \u001b[0;36m_input_request\u001b[0;34m(self, prompt, ident, parent, password)\u001b[0m\n\u001b[1;32m    732\u001b[0m             \u001b[0;32mexcept\u001b[0m \u001b[0mKeyboardInterrupt\u001b[0m\u001b[0;34m:\u001b[0m\u001b[0;34m\u001b[0m\u001b[0;34m\u001b[0m\u001b[0m\n\u001b[1;32m    733\u001b[0m                 \u001b[0;31m# re-raise KeyboardInterrupt, to truncate traceback\u001b[0m\u001b[0;34m\u001b[0m\u001b[0;34m\u001b[0m\u001b[0;34m\u001b[0m\u001b[0m\n\u001b[0;32m--> 734\u001b[0;31m                 \u001b[0;32mraise\u001b[0m \u001b[0mKeyboardInterrupt\u001b[0m\u001b[0;34m\u001b[0m\u001b[0;34m\u001b[0m\u001b[0m\n\u001b[0m\u001b[1;32m    735\u001b[0m             \u001b[0;32melse\u001b[0m\u001b[0;34m:\u001b[0m\u001b[0;34m\u001b[0m\u001b[0;34m\u001b[0m\u001b[0m\n\u001b[1;32m    736\u001b[0m                 \u001b[0;32mbreak\u001b[0m\u001b[0;34m\u001b[0m\u001b[0;34m\u001b[0m\u001b[0m\n",
            "\u001b[0;31mKeyboardInterrupt\u001b[0m: "
          ]
        }
      ]
    },
    {
      "cell_type": "markdown",
      "metadata": {
        "id": "KlzBunm2ppMw"
      },
      "source": [
        "**MODULO 2**"
      ]
    },
    {
      "cell_type": "code",
      "metadata": {
        "id": "gqS54QcMX8yq"
      },
      "source": [
        "#tabuada com while\n",
        "numero = int(input(\"Digite um número: \"))\n",
        "i = 1\n",
        "while i <= 10:\n",
        "  print(\"{} X {:2d} = {:3d}\".format(numero, i,numero * i))\n",
        "  i = i+1"
      ],
      "execution_count": null,
      "outputs": []
    },
    {
      "cell_type": "code",
      "metadata": {
        "id": "JRT9u0gNX8vP"
      },
      "source": [
        "while True:\n",
        "  usuario = input(\"Escreva o nome das pessoas (end sai do sistema): \")\n",
        "\n",
        "  ## Quando o \"break\" é acionado, o print() abaixo NÃO será executado.\n",
        "  ## O programa romperá o loop quando esta palavra-chave for lida.\n",
        "  if usuario==\"end\":\n",
        "    print(\"fim do programa!!!\")\n",
        "    break\n",
        "  print(usuario)"
      ],
      "execution_count": null,
      "outputs": []
    },
    {
      "cell_type": "markdown",
      "metadata": {
        "id": "iT0BVDpEZxWY"
      },
      "source": [
        "**Tabuada até o end ser acionado**"
      ]
    },
    {
      "cell_type": "code",
      "metadata": {
        "id": "RkjKF4vvbjw1"
      },
      "source": [
        "import os\n",
        "os.system('cls' if os.name == 'nt' else 'clear')\n",
        "end = False\n",
        "print(\"Inicio do Sistema\")\n",
        "while end == False:\n",
        "  print(\"[0] sai do sistema\")\n",
        "  numero = int(input(\"Digite um número: \"))\n",
        "  if numero== 0 :\n",
        "    print(\"Fim do sistema!!!\")\n",
        "    end = True\n",
        "  else: \n",
        "    i = 1\n",
        "    print(\"Tabuado do {}\".format(numero))\n",
        "    while i <= 10:\n",
        "      print(\"{} X {:2d} = {:3d}\".format(numero,i,numero*i))\n",
        "      i+=1"
      ],
      "execution_count": null,
      "outputs": []
    },
    {
      "cell_type": "markdown",
      "metadata": {
        "id": "-EI06X0idy16"
      },
      "source": [
        "**Loop pulando multiplos de variavel escolhida**"
      ]
    },
    {
      "cell_type": "code",
      "metadata": {
        "id": "f2YGS6jOd5O2"
      },
      "source": [
        "\"\"\"\n",
        "Vamos considerar um loop que conta de 1-20, mas ignora todos os números que são múltiplos de 5. \n",
        "Neste caso, NÃO poderíamos usar a palavra-chave \"break\", porque isso encerrará o loop. \n",
        "Queremos \"continuar\" o loop, exceto por alguns números. \n",
        "\"\"\"\n",
        "contador = 1\n",
        "multiplo = 8\n",
        "\n",
        "# Implementação do loop WHILE\n",
        "while contador + 1 <= 20:\n",
        "  if contador % multiplo == 0:\n",
        "    print(\"SKIP\")\n",
        "    contador += 1\n",
        "    continue\n",
        "  print(contador)\n",
        "  contador += 1"
      ],
      "execution_count": null,
      "outputs": []
    },
    {
      "cell_type": "markdown",
      "metadata": {
        "id": "i6Gw54t7fXgT"
      },
      "source": [
        "**Mesmo loop acima, mas usando o for**"
      ]
    },
    {
      "cell_type": "code",
      "metadata": {
        "id": "ABMADS7afg5Y"
      },
      "source": [
        "multiplo = 4\n",
        "for i in range (1, 20+1):\n",
        "  if i % multiplo == 0:\n",
        "    print(\"SKIP\")\n",
        "    continue\n",
        "  print(i)"
      ],
      "execution_count": null,
      "outputs": []
    },
    {
      "cell_type": "markdown",
      "metadata": {
        "id": "4Lo07tP1f8EP"
      },
      "source": [
        "**Funções**\n",
        "\n",
        "Funções são úteis quando lhe é dado um problema que pode ser dividido em várias etapas e algumas etapas são usadas de forma repetitiva. Então, ter uma função para essas etapas é conveniente porque reduz a repetição de código e torna o código mais organizado.\n",
        "\n",
        "Notas sobre a definição de uma nova função:\n",
        "\n",
        "1-Definir/inicializar uma nova função com a palavra-chave def antes do nome da função.\n",
        "\n",
        "2-NÃO definir o tipo de retorno na declaração da função.\n",
        "\n",
        "3-NÃO esquecer do parâmetro da função se sua função precisar de informações do main() ou de outras funções.\n",
        "\n",
        "4-A declaração RETURN não é necessária, dependendo das funções."
      ]
    },
    {
      "cell_type": "code",
      "metadata": {
        "colab": {
          "base_uri": "https://localhost:8080/"
        },
        "id": "EDA8lhCSgMiA",
        "outputId": "8ebe7ff4-d61d-4867-f071-1053fc69ec04"
      },
      "source": [
        "\"\"\"\n",
        "Escreveremos nossa própria função que testa se um triângulo de 3 lados é um triângulo retângulo. \n",
        "Como não podemos controlar a ordem dos lados que o usuário nos dá (de tal forma que C é o comprimento mais longo), \n",
        "precisamos verificar manualmente se C é o comprimento mais longo (os comprimentos A e B podem estar em qualquer ordem). \n",
        "Caso contrário, nosso teorema de Pitágoras falhará. \n",
        "\"\"\"\n",
        "\n",
        "def triangulo(a, b, c):\n",
        "\n",
        "  # Reatribuir valores variáveis para garantir que C seja o comprimento mais longo\n",
        "  if (max(a,b,c) != c):\n",
        "\n",
        "    # temporario armazena os valores anteriores de C, que não é o comprimento mais longo\n",
        "    temporario = c\n",
        "    c = max(a,b,c)\n",
        "\n",
        "    if a == c:\n",
        "      a = temporario\n",
        "    elif b == c:\n",
        "      b = temporario\n",
        "    \n",
        "\n",
        "  # Aplicar a fórmula\n",
        "  if a**2 + b**2 >= c**2:\n",
        "    print(\"É um triangulo\")\n",
        "\n",
        "    # Se o programa vê uma declaração Return, este é o FIM do programa/função\n",
        "    return True\n",
        "  \n",
        "  # Estas duas linhas funcionarão SOMENTE quando a condição IF for falsa\n",
        "  print(\"NÃO é um triangulo\")\n",
        "  return False\n",
        "\n",
        "\n",
        "# Solicite ao usuário que insira 3 comprimentos\n",
        "def main():\n",
        "  a = input(\"Entre com o tamanho da primeira borda do triangulo:\")\n",
        "  b = input(\"Entre com o tamanho da segunda borda do triangulo:\")\n",
        "  c = input(\"Entre com o tamanho da terceira borda do triangulo:\")\n",
        "\n",
        "  # As entradas do usuário são armazenadas como uma string, então nós as computamos para ser int\n",
        "  return triangulo(int(a), int(b), int(c))\n",
        "\n",
        "if __name__ == \"__main__\":\n",
        "    main()"
      ],
      "execution_count": null,
      "outputs": [
        {
          "output_type": "stream",
          "name": "stdout",
          "text": [
            "Entre com o tamanho da primeira borda do triangulo:5\n",
            "Entre com o tamanho da segunda borda do triangulo:4\n",
            "Entre com o tamanho da terceira borda do triangulo:3\n",
            "é um triangulo\n"
          ]
        }
      ]
    },
    {
      "cell_type": "markdown",
      "metadata": {
        "id": "cNjgBQY2koYG"
      },
      "source": [
        "**Palavra palindromo**"
      ]
    },
    {
      "cell_type": "code",
      "metadata": {
        "id": "7hoywSaTlbNF"
      },
      "source": [
        "import string\n",
        "\n",
        "def palindromo(str):\n",
        "  exclude = set(string.punctuation)\n",
        "  str = ''.join(ch for ch in str if ch not in exclude)\n",
        "  str = str.replace(\" \", \"\").lower()\n",
        "  if str == str[::-1]:\n",
        "    return str + \" É um palindromo!\"\n",
        "  else:\n",
        "    return str + \" NÃO é palindromo!\"\n",
        "\n",
        "def main():\n",
        "  frase = input(\"Digite um frase para saber se é um palindromo: \")\n",
        "  print(palindromo(frase))\n",
        "\n",
        "if __name__ == \"__main__\":\n",
        "    main()"
      ],
      "execution_count": null,
      "outputs": []
    }
  ]
}