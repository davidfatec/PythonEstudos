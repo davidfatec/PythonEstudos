{
  "nbformat": 4,
  "nbformat_minor": 0,
  "metadata": {
    "colab": {
      "name": "ExerciciosFatec.ipynb",
      "provenance": [],
      "authorship_tag": "ABX9TyN5BjDcu4L58O3g6FnTXgyc",
      "include_colab_link": true
    },
    "kernelspec": {
      "name": "python3",
      "display_name": "Python 3"
    },
    "language_info": {
      "name": "python"
    }
  },
  "cells": [
    {
      "cell_type": "markdown",
      "metadata": {
        "id": "view-in-github",
        "colab_type": "text"
      },
      "source": [
        "<a href=\"https://colab.research.google.com/github/davidfatec/PythonEstudos/blob/main/ExerciciosFatec.ipynb\" target=\"_parent\"><img src=\"https://colab.research.google.com/assets/colab-badge.svg\" alt=\"Open In Colab\"/></a>"
      ]
    },
    {
      "cell_type": "markdown",
      "metadata": {
        "id": "8VyQ9koqZqZc"
      },
      "source": [
        "**1)Faça um programa que peça dois numeros inteiros. Imprima a soma desses dois numeros na tela.**"
      ]
    },
    {
      "cell_type": "code",
      "metadata": {
        "id": "eSzhHeVug9Lg"
      },
      "source": [
        "n1 = int(input('Digite um número: '))\n",
        "n2 = int(input('Digite outro número: '))\n",
        "soma = n1 + n2\n",
        "print(f'A soma de {n1} e {n2} é {soma}')\n"
      ],
      "execution_count": null,
      "outputs": []
    },
    {
      "cell_type": "markdown",
      "metadata": {
        "id": "hR9MUrGdaCoF"
      },
      "source": [
        "**2)Escreva um programa que leia um valor em metros e o exiba convertido em milimetros**"
      ]
    },
    {
      "cell_type": "code",
      "metadata": {
        "colab": {
          "base_uri": "https://localhost:8080/"
        },
        "id": "TifDCogOhVsa",
        "outputId": "9ccef56e-f1e8-4bcd-a1b6-bb9e2085f575"
      },
      "source": [
        "valor = float(input('Digite um valor em metro: '))\n",
        "milimetros = valor * 1000\n",
        "print(f'O valor de {valor} metros Corresponde a {milimetros:.0f} milimetros')"
      ],
      "execution_count": 8,
      "outputs": [
        {
          "output_type": "stream",
          "name": "stdout",
          "text": [
            "Digite um valor em metro: 1.53\n",
            "O valor de 1.53 metros Corresponde a 1530 milimetros\n"
          ]
        }
      ]
    },
    {
      "cell_type": "markdown",
      "metadata": {
        "id": "UzxyAzKjaURO"
      },
      "source": [
        "**3)Escreva um programa que leia a quantidade de dias, horas, minutos e segundos do usuario. Calcule o total em segundos**"
      ]
    },
    {
      "cell_type": "code",
      "metadata": {
        "id": "3Ab6J1IMh58_"
      },
      "source": [
        "dias = int(input('Digite quantos dias: '))\n",
        "horas = int(input('Digite quantas horas: '))\n",
        "minutos = int(input('Digite quantos minutos: '))\n",
        "segundos = int(input('Digite quantos segundos: '))\n",
        "totalSegundos = (dias*24*60*60)+(horas*60*60)+(minutos * 60)+segundos\n",
        "print(f'{dias} dia(s)\\n{horas} hora(s)\\n{minutos} minuto(s)\\n{segundos} segundo(s)\\nCorresponde a {totalSegundos} segundo(s)')"
      ],
      "execution_count": null,
      "outputs": []
    },
    {
      "cell_type": "markdown",
      "metadata": {
        "id": "hebm2dJlamvR"
      },
      "source": [
        "**4)Faça um programa que calcule o aumento de um salário. Ele deve solicitar o valor do salário e a porcentagem do aumento. exiba o valor do aumento e do novo salário**"
      ]
    },
    {
      "cell_type": "code",
      "metadata": {
        "colab": {
          "base_uri": "https://localhost:8080/"
        },
        "id": "JvbfEaVZiYvl",
        "outputId": "d047bb1c-d574-402d-9faf-898f5d7f6123"
      },
      "source": [
        "salarioAtual = float(input('Digite o valor do salario atual: R$'))\n",
        "percentualAumento = float(input('Digite o persentual de aumento: '))\n",
        "valorDoAjuste = percentualAumento/100 * salarioAtual\n",
        "novoSalario = salarioAtual + valorDoAjuste\n",
        "print(f'O seu novo salário teve um aumento de R${valorDoAjuste:.2f} e passa a ser R${novoSalario:.2f} a partir de hoje')"
      ],
      "execution_count": 11,
      "outputs": [
        {
          "output_type": "stream",
          "name": "stdout",
          "text": [
            "Digite o valor do salario atual: R$2900\n",
            "Digite o persentual de aumento: 10\n",
            "O seu novo salário teve um aumento de R$290.00 e passa a ser R$3190.00 a partir de hoje\n"
          ]
        }
      ]
    },
    {
      "cell_type": "markdown",
      "metadata": {
        "id": "pOOl-CgJa9gU"
      },
      "source": [
        "**5)Faça um programa que solicite o preço de uma mercadoria e o percentual de desconto. Exiba o valor do desconto e o preço a pagar.**"
      ]
    },
    {
      "cell_type": "code",
      "metadata": {
        "colab": {
          "base_uri": "https://localhost:8080/"
        },
        "id": "RJhqSkmki2zC",
        "outputId": "6a0a681b-c898-4b58-8973-6146e4f9c5fe"
      },
      "source": [
        "preco = float(input('Digite o preço: R$'))\n",
        "perDesconto = float(input('Digite o percentual de desconto: '))\n",
        "valorDesconto = perDesconto/100 * preco\n",
        "precoDesconto = preco - valorDesconto\n",
        "print(f'O desconto foi de R${valorDesconto:.2f} e o preço com desconto é R${precoDesconto:.2f}')\n"
      ],
      "execution_count": 12,
      "outputs": [
        {
          "output_type": "stream",
          "name": "stdout",
          "text": [
            "Digite o preço: R$1100\n",
            "Digite o percentual de desconto: 10\n",
            "O desconto foi de R$110.00 e o preço com desconto é R$990.00\n"
          ]
        }
      ]
    },
    {
      "cell_type": "markdown",
      "metadata": {
        "id": "IcRXnrR4bSmo"
      },
      "source": [
        "**6)Escreva um programa que calcule o tempo de uma viagem de carro. Pergunte a distancia a percorrer e a velocidade média esperada para a viagem**"
      ]
    },
    {
      "cell_type": "code",
      "metadata": {
        "colab": {
          "base_uri": "https://localhost:8080/"
        },
        "id": "xVvBZzrRjTqI",
        "outputId": "ae6af8df-c219-40ab-ac1b-749a24a0793c"
      },
      "source": [
        "distancia = float(input('Digite a distancia a percorrer em km: '))\n",
        "velocidadeMedia = float(input('Digite a velocidade media km/h: '))\n",
        "tempo = distancia / velocidadeMedia\n",
        "\n",
        "tempo_segundo = int(tempo * 3600) # converte o tempo em horas para segundos ex 1.5 horas = 5400 segundos\n",
        "horas = int(tempo_segundo // 3600) # parte inteira apenas a hora 5400 / 3600 = 1.5 nesse codigo a variavel recebe apena o 1\n",
        "tempo_segundo = int(tempo_segundo % 3600) # o resto de 5400 % 3600 = que equivale a 0.5 de 3600 (1800)\n",
        "minutos = int(tempo_segundo // 60) #recebe os 1800 / 60 = 30 \n",
        "segundos = int(tempo_segundo % 60) #recebe o resto de 1800 / 60 = 0\n",
        "\n",
        "print(f'''\n",
        "Para percorrer {distancia:.2f} kilometros,\n",
        "a uma velocidade de: {velocidadeMedia:.2f} km/h\n",
        "levaremos {horas:02d}:{minutos:02d}:{segundos:02d}''')"
      ],
      "execution_count": 37,
      "outputs": [
        {
          "output_type": "stream",
          "name": "stdout",
          "text": [
            "Digite a distancia a percorrer em km: 150\n",
            "Digite a velocidade media km/h: 100\n",
            "\n",
            "Para percorrer 150.00 kilometros,\n",
            "a uma velocidade de: 100.00 km/h\n",
            "levaremos 01:30:00\n"
          ]
        }
      ]
    },
    {
      "cell_type": "markdown",
      "metadata": {
        "id": "4Xil84_sbq27"
      },
      "source": [
        "**7)Escreva um programa que pergunte a quantidade de km percorridos por um carro alugado pelo usuário, assim como a quantidade de dias pelos quais o carro foi alugado. Calcule o preço a pagar, sabendo que o carro custa 60 por dia e 0,15 por km rodado**"
      ]
    },
    {
      "cell_type": "code",
      "metadata": {
        "colab": {
          "base_uri": "https://localhost:8080/"
        },
        "id": "CNey9QWIkaDV",
        "outputId": "b5607970-56c1-411e-fedb-fc40014ed901"
      },
      "source": [
        "kmPercorrido = int(input('Digite a kilometragem percorrida: '))\n",
        "diasLocados  = int(input('Digite o numero de dias que o carro foi locado: '))\n",
        "valorDia = 60\n",
        "valorkm = 0.15\n",
        "totalPagar = (diasLocados * valorDia) + (kmPercorrido * valorkm)\n",
        "print(f'''Descrição da locação \n",
        "Dias locados: {diasLocados} dias → R${diasLocados * valorDia:.2f}\n",
        "Km Rodado:    {kmPercorrido}km   → R${kmPercorrido * valorkm:.2f}\n",
        "=================================\n",
        "          Total a pagar R${totalPagar:.2f}''')"
      ],
      "execution_count": 25,
      "outputs": [
        {
          "output_type": "stream",
          "name": "stdout",
          "text": [
            "Digite a kilometragem percorrida: 100\n",
            "Digite o numero de dias que o carro foi locado: 2\n",
            "Descrição da locação ↓\n",
            "Dias locados: 2 dias → R$120.00\n",
            "Km Rodado:    100km   → R$15.00\n",
            "=================================\n",
            "          Total a pagar R$135.00\n"
          ]
        }
      ]
    },
    {
      "cell_type": "markdown",
      "metadata": {
        "id": "cQ0Img9xcY3g"
      },
      "source": [
        "**8)Escreva um programa que converta uma temperatura digitada em °C para °F. F = (9 x C / 5) + 32**"
      ]
    },
    {
      "cell_type": "code",
      "metadata": {
        "colab": {
          "base_uri": "https://localhost:8080/"
        },
        "id": "R0cd7LdkgZ61",
        "outputId": "1aefc71e-b456-48d1-db09-542646a2bc68"
      },
      "source": [
        "c = float(input('Digite quantos graus Celsius deseja converter: '))\n",
        "f = (9*c/5) + 32\n",
        "print(f'{c:.2f} grau(s) Celsius equivale a {f:.2f} grau(s) Fahrenheit')"
      ],
      "execution_count": 26,
      "outputs": [
        {
          "output_type": "stream",
          "name": "stdout",
          "text": [
            "Digite quantos graus Celsius deseja converter: 45\n",
            "45.00 grau(s) Celsius equivale a 113.00 grau(s) Fahrenheit\n"
          ]
        }
      ]
    },
    {
      "cell_type": "markdown",
      "metadata": {
        "id": "STGFZSVAfEyr"
      },
      "source": [
        "**9)Escreva um programa para calcular a redução do tempo de vida de um fumante. Pergunte a quantidade de cigarros fumados por dia e quantos anos ele ja fumou. Considere que um fumante perde 10 minutos de vida a cada cigarro, calcule quantos dias de vida um fumante perdera. Exiba o total em dias.**\n",
        "\n"
      ]
    },
    {
      "cell_type": "code",
      "metadata": {
        "colab": {
          "base_uri": "https://localhost:8080/"
        },
        "id": "sthYf6MgLZnt",
        "outputId": "2bf57c12-e23d-45d5-d5ca-c3561e78772f"
      },
      "source": [
        "cigarrosDia = int(input('Quantos cigarro fuma por dia? '))\n",
        "anosQueFuma = float(input('quantos anos fuma? '))\n",
        "cigarroFumados = (anosQueFuma * 365) * cigarrosDia\n",
        "tempoDeVidaPerdido = (cigarroFumados * 10) / 1440 #1440 é a quantidade de minutos que tem um dia\n",
        "print('Por ter fumado {:.0f} cigarros durante {:.0f} ano(s), sinto lhe informar que perdeu {:.0f}'\n",
        "      ' dias de sua vida'.format(cigarroFumados,anosQueFuma,tempoDeVidaPerdido))\n"
      ],
      "execution_count": 2,
      "outputs": [
        {
          "output_type": "stream",
          "name": "stdout",
          "text": [
            "Quantos cigarro fuma por dia? 12\n",
            "quantos anos fuma? 20\n",
            "Por ter fumado 87600 cigarros durante 20 ano(s), sinto lhe informar que perdeu 608 dias de sua vida\n"
          ]
        }
      ]
    },
    {
      "cell_type": "markdown",
      "metadata": {
        "id": "pQSeT7Gup-Yu"
      },
      "source": [
        "**10)O custo de um carro novo ao consumidor é a soma do custo de fábrica com a porcentagem do distribuidor e dos impostos(aplicados ao custo de fábrica). Supondo que o percentual do distribuidor seja de 28% e os impostos de 45%, escrever um algoritmo para ler o custo de fabrica de um carro, calcular e escrever o custo final para o consumidor**"
      ]
    },
    {
      "cell_type": "code",
      "metadata": {
        "colab": {
          "base_uri": "https://localhost:8080/"
        },
        "id": "ILjFRzvdshve",
        "outputId": "5330f370-ab5a-4a3d-ca4b-caee43195954"
      },
      "source": [
        "custoDeFabrica = float(input('Digite o custo de fábrica do carro: R$'))\n",
        "impostoCFabrica = custoDeFabrica * 45 / 100\n",
        "percDistribuidor = custoDeFabrica * 28 / 100\n",
        "custoFinal = custoDeFabrica+impostoCFabrica+percDistribuidor\n",
        "\n",
        "print(f'''\n",
        "===================================================\n",
        "            Detalhamento do Custo\n",
        "===================================================\n",
        "Custo de fabrica sem impostos    R${custoDeFabrica:5.2f}\n",
        "Imposto                          R${impostoCFabrica:5.2f}\n",
        "Lucro distribuidor               R${percDistribuidor:5.2f}\n",
        "===================================================\n",
        "                  Preço final →  R${custoFinal:5.2f}\n",
        "''')\n"
      ],
      "execution_count": 31,
      "outputs": [
        {
          "output_type": "stream",
          "name": "stdout",
          "text": [
            "Digite o custo de fábrica do carro: R$58000\n",
            "\n",
            "===================================================\n",
            "            Detalhamento do Custo\n",
            "===================================================\n",
            "Custo de fabrica sem impostos    R$58000.00\n",
            "Imposto                          R$26100.00\n",
            "Lucro distribuidor               R$16240.00\n",
            "===================================================\n",
            "                  Preço final →  R$100340.00\n",
            "\n"
          ]
        }
      ]
    },
    {
      "cell_type": "markdown",
      "metadata": {
        "id": "o-bRVHbyp-o6"
      },
      "source": [
        "**11)Faça um programa que receba o tempo em segundos de 3 voltas que um piloto de formula 1 percorreu. Mostre qual foi a volta mais rápida**"
      ]
    },
    {
      "cell_type": "code",
      "metadata": {
        "id": "zeVcwaaZv0lR"
      },
      "source": [
        "volta1 = int(input(\"Digite quantos segundos foi a primeira volta: \"))\n",
        "volta2 = int(input(\"Digite quantos segundos foi a segunda volta: \"))\n",
        "volta3 = int(input(\"Digite quantos segundos foi a terceira volta: \"))\n",
        "maisRapida = volta1\n",
        "msg = 'primeira volta'\n",
        "if volta2 < volta1 and volta2 < volta3:\n",
        "  maisRapida = volta2\n",
        "  msg = 'segunda volta'\n",
        "if volta3 < volta1 and volta3 < volta2:\n",
        "  maisRapida = volta3\n",
        "  msg = 'terceira volta'\n",
        "print(f'''\n",
        "==================================\n",
        "    GP do Brasil de fórmula 1\n",
        "==================================\n",
        "Volta 1 {volta1} segundos\n",
        "Volta 2 {volta2} segundos\n",
        "Volta 3 {volta3} segundos\n",
        "==================================\n",
        "A {msg} foi a mais rápida\n",
        "''')  "
      ],
      "execution_count": null,
      "outputs": []
    },
    {
      "cell_type": "markdown",
      "metadata": {
        "id": "doX-XWPp01xu"
      },
      "source": [
        "**11b)Escreva um programa que leia três números e que imprima o maior e o menor**"
      ]
    },
    {
      "cell_type": "code",
      "metadata": {
        "colab": {
          "base_uri": "https://localhost:8080/"
        },
        "id": "IjDRliI-02BP",
        "outputId": "c08fd4be-8735-4d6e-8bff-8c1d96720077"
      },
      "source": [
        "n1 = int(input('Digite o primeiro número: '))\n",
        "n2 = int(input('Digite o segundo número: '))\n",
        "n3 = int(input('Digite o terceiro número: '))\n",
        "menor = n1\n",
        "if n2 < n1 and n2 < n3:\n",
        "    menor = n2\n",
        "if n3 < n1 and n3 < n2:\n",
        "    menor = n3\n",
        "maior = n1\n",
        "if n2 > n1 and n2 > n3:\n",
        "    maior = n2\n",
        "if n3 > n1 and n3 > n2:\n",
        "    maior = n3     \n",
        "    \n",
        "print(f'Dentre os três números digitados {n1}, {n2} e {n3}\\nO maior é: {maior}\\nO menor é: {menor}')       "
      ],
      "execution_count": 38,
      "outputs": [
        {
          "output_type": "stream",
          "name": "stdout",
          "text": [
            "Digite o primeiro número: 5\n",
            "Digite o segundo número: 4\n",
            "Digite o terceiro número: 3\n",
            "Dentre os três números digitados 5, 4 e 3\n",
            "O maior é: 5\n",
            "O menor é: 3\n"
          ]
        }
      ]
    },
    {
      "cell_type": "markdown",
      "metadata": {
        "id": "C1_kjfWLp-9q"
      },
      "source": [
        "**12)Escreva um programa que pergunte o salário do funcionário e calcule o valor do aumento. Para salários superiores a 'R$1250.00', calcule um aumento de '10%'. Para os inferiores e iguais, de '15%'**"
      ]
    },
    {
      "cell_type": "code",
      "metadata": {
        "colab": {
          "base_uri": "https://localhost:8080/"
        },
        "id": "18nCHkrk2q4V",
        "outputId": "fd805478-7b7f-43fa-c533-7894dbf6f75a"
      },
      "source": [
        "salario = float(input('Digite seu salário: R$'))\n",
        "aumento1 = 10 * salario / 100\n",
        "aumento2 = 15 * salario / 100\n",
        "print(f'Salário novo R${salario + aumento1:.2f}' if salario > 1250 else f'Salário novo R${salario + aumento2:.2f}')"
      ],
      "execution_count": 42,
      "outputs": [
        {
          "output_type": "stream",
          "name": "stdout",
          "text": [
            "Digite seu salário: R$2000\n",
            "Salário novo R$2200.00\n"
          ]
        }
      ]
    },
    {
      "cell_type": "markdown",
      "metadata": {
        "id": "sXXf0XWz4wRU"
      },
      "source": [
        "**13)Escreva um programa que pergunte a velocidade de um usuário. Caso ultrapasse 80km/h, exiba uma mensagem dizendo que ele foi multado. Nesse caso exiba o valor da multa cobrando R$5,00 por km acima do permitido**"
      ]
    },
    {
      "cell_type": "code",
      "metadata": {
        "colab": {
          "base_uri": "https://localhost:8080/"
        },
        "id": "UJTVpEgq4wip",
        "outputId": "fe129fe9-b9f6-4995-8b82-de0c928ea8a9"
      },
      "source": [
        "velocidade = float(input('Digite a velocidade do carro: '))\n",
        "velocidadeMaxima = 80\n",
        "velocidadeAcima = velocidade - velocidadeMaxima\n",
        "ValormultaPorKm = float(5)\n",
        "if(velocidade <= 80):\n",
        "    print(f'Você esta a {velocidade} km/h, Obrigado por respeitar as leis de transito')\n",
        "else:\n",
        "    valorTotalMulta = velocidadeAcima * ValormultaPorKm\n",
        "    print('Você excedeu a velocidade maxima permitida em {:.0f} km/h, sua multa foi gerada.\\nValor da Multa: R${:.2f}'\n",
        "          '\\nVelocidade permitida {}'.format(velocidadeAcima,valorTotalMulta,velocidadeMaxima))\n",
        "print('Governo do Estado de São Paulo')"
      ],
      "execution_count": 43,
      "outputs": [
        {
          "output_type": "stream",
          "name": "stdout",
          "text": [
            "Digite a velocidade do carro: 120\n",
            "Você excedeu a velocidade maxima permitida em 40 km/h, sua multa foi gerada.\n",
            "Valor da Multa: R$200.00\n",
            "Velocidade permitida 80\n",
            "Governo do Estado de São Paulo\n"
          ]
        }
      ]
    }
  ]
}