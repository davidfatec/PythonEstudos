{
  "nbformat": 4,
  "nbformat_minor": 0,
  "metadata": {
    "colab": {
      "name": "USP_Python.ipynb",
      "provenance": [],
      "collapsed_sections": [],
      "authorship_tag": "ABX9TyMf25TAGLdU15YjJCjUO372",
      "include_colab_link": true
    },
    "kernelspec": {
      "name": "python3",
      "display_name": "Python 3"
    },
    "language_info": {
      "name": "python"
    }
  },
  "cells": [
    {
      "cell_type": "markdown",
      "metadata": {
        "id": "view-in-github",
        "colab_type": "text"
      },
      "source": [
        "<a href=\"https://colab.research.google.com/github/davidfatec/PythonEstudos/blob/main/USP_Python.ipynb\" target=\"_parent\"><img src=\"https://colab.research.google.com/assets/colab-badge.svg\" alt=\"Open In Colab\"/></a>"
      ]
    },
    {
      "cell_type": "markdown",
      "metadata": {
        "id": "qpSceUSfZGzs"
      },
      "source": [
        "**PYTHON USP**"
      ]
    },
    {
      "cell_type": "markdown",
      "metadata": {
        "id": "dVAN8zffkfkm"
      },
      "source": [
        "O terminal do python pode ser usado como calculadora, em matematica usamos parenteses, chaves e conchetes, em python utilizamos apenas parenteses e as ordens de precedencias ocorre nos parenteses mais internos."
      ]
    },
    {
      "cell_type": "markdown",
      "metadata": {
        "id": "yjijSi8rsscl"
      },
      "source": [
        "**Variaveis** → é um pedacinho da memória do computador onde pode ser armazenado valores. Esses valores podem ser mudados conforme a programação do desenvolvedor\n",
        "ex:\n",
        "\n",
        "nome = 'David'\n",
        "\n",
        "idade = 42\n",
        "\n",
        "peso = 81"
      ]
    },
    {
      "cell_type": "code",
      "metadata": {
        "id": "arhMW6whZFxG",
        "colab": {
          "base_uri": "https://localhost:8080/"
        },
        "outputId": "8643ab69-40b8-44a9-97cb-714716a5c6ee"
      },
      "source": [
        "nome = 'David'\n",
        "idade = 42\n",
        "peso = 82.3\n",
        "masculino = True\n",
        "\n",
        "print(f'Nome: {nome}\\nIdade: {idade}\\nPeso: {peso}\\nÉ homem: {masculino}')"
      ],
      "execution_count": null,
      "outputs": [
        {
          "output_type": "stream",
          "name": "stdout",
          "text": [
            "Nome: David\n",
            "Idade: 42\n",
            "Peso: 82.3\n",
            "É homem: True\n"
          ]
        }
      ]
    },
    {
      "cell_type": "markdown",
      "metadata": {
        "id": "qzVJYfpAyEzO"
      },
      "source": [
        "**SOFTWARE LIVRE →** Programas podem ser melhorados, modificados por varias pessoas e o conhecimento que está lá pode ser acessado por qualquer pessoa. Já nos softwares não livres não tem acesso ao conhecimento que está embutido, não pode ser compartilhado, nem copiado, pois está protegido por copyright.\n",
        "\n",
        "**Definição → atende 4 pré requisitos**\n",
        "\n",
        "Qualquer pessoa pode executar o programa\n",
        "Qualquer pessoa pode estudar e modifica\n",
        "Qualquer pessoa pode distribuir o programa\n",
        "Qualquer pessoa pode distribuir o que foi criado pela pessoa\n",
        "\n",
        "Melhor qualidade pois varias pessoas e empresas criam e modificam\n",
        "\n",
        "ex: Java, Ruby, Python, R → exemplos de software livre\n",
        "\n",
        "Outros → mySql, android, firefox"
      ]
    },
    {
      "cell_type": "markdown",
      "metadata": {
        "id": "htbnWxjMN3-H"
      },
      "source": [
        "**TIPOS DE VARIAVEIS**\n",
        "\n",
        "str 'Variavel'\n",
        "\n",
        "float 2.0\n",
        "\n",
        "int   2\n",
        "\n",
        "boolean True or False"
      ]
    },
    {
      "cell_type": "code",
      "metadata": {
        "colab": {
          "base_uri": "https://localhost:8080/"
        },
        "id": "PC9H56TlOQvb",
        "outputId": "d8ac28b6-2666-4d84-89ed-f56b3bb0f4c6"
      },
      "source": [
        "#tipos de variáveis\n",
        "nome = \"David\"\n",
        "idade = 42\n",
        "altura = 1.73\n",
        "vivo = True\n",
        "print(type(nome))\n",
        "print(type(idade))\n",
        "print(type(altura))\n",
        "print(type(vivo))\n"
      ],
      "execution_count": 1,
      "outputs": [
        {
          "output_type": "stream",
          "name": "stdout",
          "text": [
            "<class 'str'>\n",
            "<class 'int'>\n",
            "<class 'float'>\n",
            "<class 'bool'>\n"
          ]
        }
      ]
    },
    {
      "cell_type": "markdown",
      "metadata": {
        "id": "RMoy2EerO8o2"
      },
      "source": [
        "**Convertendo tipo de variável**\n"
      ]
    },
    {
      "cell_type": "code",
      "metadata": {
        "colab": {
          "base_uri": "https://localhost:8080/"
        },
        "id": "-mwLxBfQQFA_",
        "outputId": "a03119fa-2153-4711-b1ca-fd8eddcb2043"
      },
      "source": [
        "temp = str(altura) #como foi convertida pra str podemos ler o tamanho da variavel\n",
        "print(len(temp)) "
      ],
      "execution_count": 3,
      "outputs": [
        {
          "output_type": "stream",
          "name": "stdout",
          "text": [
            "4\n"
          ]
        }
      ]
    },
    {
      "cell_type": "code",
      "metadata": {
        "colab": {
          "base_uri": "https://localhost:8080/"
        },
        "id": "OCvt9qtXQmFH",
        "outputId": "7add0fbd-a51e-4ba3-912d-c93152b7d33e"
      },
      "source": [
        "#nesse exemplo vamos tratar a virgula do padrão brasileiro pra ponto \n",
        "dinheiro = str(input('Digite o valor R$ ')).replace(',','.').strip()\n",
        "dinheiro = float(dinheiro)\n",
        "print(dinheiro)\n"
      ],
      "execution_count": 5,
      "outputs": [
        {
          "output_type": "stream",
          "name": "stdout",
          "text": [
            "Digite o valor R$ 55,33\n",
            "55.33\n"
          ]
        }
      ]
    }
  ]
}