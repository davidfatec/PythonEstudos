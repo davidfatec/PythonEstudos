{
  "nbformat": 4,
  "nbformat_minor": 0,
  "metadata": {
    "colab": {
      "name": "Aula22-09-2021.ipynb",
      "provenance": [],
      "authorship_tag": "ABX9TyPQ2hSgt/8gBz+As3M7RxKs",
      "include_colab_link": true
    },
    "kernelspec": {
      "name": "python3",
      "display_name": "Python 3"
    },
    "language_info": {
      "name": "python"
    }
  },
  "cells": [
    {
      "cell_type": "markdown",
      "metadata": {
        "id": "view-in-github",
        "colab_type": "text"
      },
      "source": [
        "<a href=\"https://colab.research.google.com/github/davidfatec/PythonEstudos/blob/main/Aula22_09_2021.ipynb\" target=\"_parent\"><img src=\"https://colab.research.google.com/assets/colab-badge.svg\" alt=\"Open In Colab\"/></a>"
      ]
    },
    {
      "cell_type": "markdown",
      "metadata": {
        "id": "D4kACGAYiYD8"
      },
      "source": [
        "**AULA 22/09/2021**"
      ]
    },
    {
      "cell_type": "markdown",
      "metadata": {
        "id": "sVQ6dbn8tNAh"
      },
      "source": [
        "**RESOLUÇÃO DE EXERCICIOS**\n"
      ]
    },
    {
      "cell_type": "markdown",
      "metadata": {
        "id": "vyJHyAB1uBch"
      },
      "source": [
        "**1)Faça um programa que peça dois numeros e imprima a soma desses 2 numeros.**\n"
      ]
    },
    {
      "cell_type": "code",
      "metadata": {
        "id": "JiRA9oyXuBsV"
      },
      "source": [
        "n1 = int(input('Digite um número: '))\n",
        "n2 = int(input('Digite outro número: '))\n",
        "soma = n1 + n2\n",
        "msg = 'A soma de {} e {} é {}'.format(n1,n2,soma)\n",
        "print(msg)"
      ],
      "execution_count": null,
      "outputs": []
    },
    {
      "cell_type": "markdown",
      "metadata": {
        "id": "D49CyVOEuB9s"
      },
      "source": [
        "**2)Escreva um programa que leia um valor em metros e exiba convertido em milimetros**\n"
      ]
    },
    {
      "cell_type": "code",
      "metadata": {
        "id": "n1cr9K8RuCNN"
      },
      "source": [
        "valor = float(input('Digite um valor em metro: '))\n",
        "milimetros = valor * 1000\n",
        "msg = 'O valor de {} metros Corresponde a {:.0f} milimetros'.format(valor,milimetros)\n",
        "print(msg)"
      ],
      "execution_count": null,
      "outputs": []
    },
    {
      "cell_type": "markdown",
      "metadata": {
        "id": "hBmWzELTt7fr"
      },
      "source": [
        "**3)Escreva um programa que leia a quantidade de dias, horas, minutos e segundos do usuario.Calcule o total em segundos**"
      ]
    },
    {
      "cell_type": "code",
      "metadata": {
        "id": "PKWU_aAUqIiq"
      },
      "source": [
        "print(\"Entre com com os valores de dias, horas, minutos e segundos: \")\n",
        "dias = int(input(\"Digite a quantidade de dias: \"))\n",
        "horas = int(input(\"Digite a quantidade de horas: \"))\n",
        "minutos = int(input(\"Digite a quantidade de minutos: \"))\n",
        "segundos = int(input(\"Digite a quantidade de segundos: \"))\n",
        "dias_segundos = dias * 24 * 60 * 60\n",
        "minutos_segundos = minutos * 60\n",
        "horas_segundos = horas * 60 * 60\n",
        "totalSegundos = dias_segundos+minutos_segundos+horas_segundos+segundos\n",
        "print('''\n",
        "{} dias\n",
        "{} horas\n",
        "{} minutos\n",
        "{} seguundos\n",
        "É equivalente a {} segundos\n",
        "'''.format(dias,horas,minutos,segundos,totalSegundos))"
      ],
      "execution_count": null,
      "outputs": []
    },
    {
      "cell_type": "markdown",
      "metadata": {
        "id": "bQmV1bqEtYuX"
      },
      "source": [
        "\n",
        "**4)Faça um programa que calcule o aumento de um salario. Ele deve solicitar o valor do salario atual e a porcentagem do aumento e exibir o valor do aumento e do novo salario**\n",
        "\n"
      ]
    },
    {
      "cell_type": "code",
      "metadata": {
        "id": "Mg2rwGSYtZJs"
      },
      "source": [
        "salarioAtual = float(input('Digite o valor do salario atual: R$'))\n",
        "percentualAumento = float(input('Digite o persentual de aumento: '))\n",
        "valorDoAjuste = percentualAumento/100 * salarioAtual\n",
        "novoSalario = salarioAtual + valorDoAjuste\n",
        "msg = 'O seu novo salário teve um aumento de R${:.2f} e passa a ser R${:.2f} a partir de hoje'.format(valorDoAjuste,novoSalario)\n",
        "print(msg)"
      ],
      "execution_count": null,
      "outputs": []
    },
    {
      "cell_type": "markdown",
      "metadata": {
        "id": "0ePm8Hfauf7I"
      },
      "source": [
        "**5)Solicite o preço de uma mercadoria e o percentual de desconto. Exiba o valor do desconto e preço a a pagar.**\n"
      ]
    },
    {
      "cell_type": "code",
      "metadata": {
        "id": "di4IqviQugLC"
      },
      "source": [
        "preco = float(input('Digite o preço: R$'))\n",
        "perDesconto = float(input('Digite o percentual de desconto: '))\n",
        "valorDesconto = perDesconto/100 * preco\n",
        "precoDesconto = preco - valorDesconto\n",
        "msg = 'O desconto foi de R${:.2f} e o preço com desconto é R${:.2f}'.format(valorDesconto,precoDesconto)\n",
        "print(msg)"
      ],
      "execution_count": null,
      "outputs": []
    },
    {
      "cell_type": "markdown",
      "metadata": {
        "id": "a51g25lai0ad"
      },
      "source": [
        "**FIM DA RESOLUÇÃO DOS EXERCICIOS - OBS O EXERCICIO 5 NÃO FOI DADO COMO TAREFA**"
      ]
    },
    {
      "cell_type": "markdown",
      "metadata": {
        "id": "L130RXDkiR7w"
      },
      "source": [
        "**Ler dois valores e imprimir o maior deles**"
      ]
    },
    {
      "cell_type": "code",
      "metadata": {
        "id": "wi-kzg3-zZHn"
      },
      "source": [
        "a = int(input(\"Digite um valor de A: \"))\n",
        "b = int(input(\"Digite um valor de B: \"))\n",
        "msg = \"O valor de A é maior\"\n",
        "if b > a:\n",
        "  msg = \"O valor de B é maior\"\n",
        "if a == b: \n",
        "  msg = \"Os valores são iguais\" \n",
        "print(msg)  "
      ],
      "execution_count": null,
      "outputs": []
    },
    {
      "cell_type": "markdown",
      "metadata": {
        "id": "DioNipbihhZf"
      },
      "source": [
        "**Programa que lê a idade do seu carro se tiver menos de tres anos diga que o carro é novo, caso contrario diga que o carro é velho.**"
      ]
    },
    {
      "cell_type": "code",
      "metadata": {
        "id": "AmDYpuKGNEoC"
      },
      "source": [
        "idade = int(input(\"Digite a idade do seu carro: \"))\n",
        "if idade <= 3:\n",
        "  print(\"Seu carro é novo\")\n",
        "if idade > 3:\n",
        "  print(\"Seu carro é velho\")"
      ],
      "execution_count": null,
      "outputs": []
    },
    {
      "cell_type": "code",
      "metadata": {
        "id": "C5MMEHEG4oS7"
      },
      "source": [
        "print('INICIO DO PROGRAMA')\n",
        "carro = int(input('Digite quantos anos tem seu carro: '))\n",
        "if(carro <= 3):\n",
        "    msg = 'O carro é novo'\n",
        "else:\n",
        "    msg = 'O carro é velho'\n",
        "print(msg)   \n",
        "print('FIM DO PROGRAMA')"
      ],
      "execution_count": null,
      "outputs": []
    },
    {
      "cell_type": "markdown",
      "metadata": {
        "id": "f7fX1uxlfgSm"
      },
      "source": [
        "**Faça um programa para calculo de IR. Para salários inferiores a 1000.00 aliquota 0%. Entre 1000.00 a 3000.00 aliquota de 20%. Acima desses valores aliquota seria de 35%.**"
      ]
    },
    {
      "cell_type": "code",
      "metadata": {
        "id": "YdgEWJh38x1r"
      },
      "source": [
        "salario=float(input(\"Digite o salário para cálculo do imposto: R$\"))\n",
        "base = salario\n",
        "imposto = 0\n",
        "if base > 3000:\n",
        "  imposto = imposto + ((base - 3000) * 35/100)\n",
        "  base = 3000\n",
        "if base > 1000:\n",
        "  imposto = imposto + ((base - 1000) * 20/100)\n",
        "print(\"Salário: R${:.2f} \\nImposto a pagar: R${:.2f}\".format(salario, imposto))"
      ],
      "execution_count": null,
      "outputs": []
    },
    {
      "cell_type": "markdown",
      "metadata": {
        "id": "NMlNqMv2cixN"
      },
      "source": [
        "**Os planos da empresa tchau são bem interessantes e oferecem preços diferenciados de acordo com a quantidade de minutos usado por mês. Abaixo de 200 minutos, a empresa cobra 0,20 por minuto. Entre 200 e 400 minutos, o preço é de 0,18. Acima de 400 minutos, o preço por minuto é de 0,15.**"
      ]
    },
    {
      "cell_type": "code",
      "metadata": {
        "id": "DaEWJ-XfNR1-"
      },
      "source": [
        "minutos=int(input(\"Minutos utilizados este mês:\"))\n",
        "if minutos < 200:\n",
        "  preco = 0.20\n",
        "else:\n",
        "  if minutos < 400:\n",
        "    preco = 0.18\n",
        "  else:\n",
        "    preco = 0.15\n",
        "print('''\n",
        "  Descrição da conta\n",
        "=========================\n",
        "Minutos utilizados: {}\n",
        "Valor por minuto: R${:.2f}\n",
        "=========================\n",
        "Total a pagar R${:.2f}\n",
        "'''.format(minutos,preco, minutos*preco))    \n"
      ],
      "execution_count": null,
      "outputs": []
    },
    {
      "cell_type": "markdown",
      "metadata": {
        "id": "RP9kdTpna1ri"
      },
      "source": [
        "**Faça um programa que leia a categoria de tetermine o preço conforme abaixo:**\n",
        "\n",
        "**Categoria     Preço**\n",
        "\n",
        "   1          10,00\n",
        "\n",
        "   2          18,00 \n",
        "\n",
        "   3          23,00 \n",
        "\n",
        "   4          26,00\n",
        "\n",
        "   5          31,00 "
      ]
    },
    {
      "cell_type": "code",
      "metadata": {
        "id": "6rhoFTgPNf3D"
      },
      "source": [
        "categoria = int(input(\"Digite a categoria do produto:\"))\n",
        "\n",
        "if categoria == 1:\n",
        "  preço = 10\n",
        "if categoria == 2:\n",
        "    preço = 18\n",
        "if categoria == 3:\n",
        "    preço = 23\n",
        "if categoria == 4:\n",
        "    preço = 26\n",
        "if categoria == 5:\n",
        "    preço = 31\n",
        "if categoria <= 0 or categoria > 5:\n",
        "   print(\"Categoria inválida, digite um valor entre 1 e 5!\")\n",
        "else:   \n",
        "   print(\"O preço do produto é: R$%6.2f\" % preço)"
      ],
      "execution_count": null,
      "outputs": []
    },
    {
      "cell_type": "markdown",
      "metadata": {
        "id": "iMY4kk1mDWoZ"
      },
      "source": [
        "**Escreva um programa que leia a velocidade de um carro.\n",
        "Se ele ultrapassar 80km/h, mostre a mensagem dizendo que ele foi multado.\n",
        "A musta vai custar R$5,00 por km acima do permitido**"
      ]
    },
    {
      "cell_type": "code",
      "metadata": {
        "colab": {
          "base_uri": "https://localhost:8080/"
        },
        "id": "JtNDeW3MFa7a",
        "outputId": "f3bd8258-c579-41d0-8e24-0439dc6b0af6"
      },
      "source": [
        "velocidade = float(input('Digite a velocidade do carro: '))\n",
        "velocidadeMaxima = 80\n",
        "velocidadeAcima = velocidade - velocidadeMaxima\n",
        "ValormultaPorKm = float(5)\n",
        "if(velocidade <= 80):\n",
        "    print('Você esta a {} km/h, Obrigado por respeitar as leis de transito'.format(velocidade))\n",
        "else:\n",
        "    valorTotalMulta = velocidadeAcima * ValormultaPorKm\n",
        "    print('Você excedeu a velocidade maxima permitida em {:.0f} km/h, sua multa foi gerada.\\nValor da Multa: R${:.2f}'\n",
        "          '\\nVelocidade permitida {}'.format(velocidadeAcima,valorTotalMulta,velocidadeMaxima))\n",
        "print('Governo do Estado de São Paulo')  "
      ],
      "execution_count": 64,
      "outputs": [
        {
          "output_type": "stream",
          "name": "stdout",
          "text": [
            "Digite a velocidade do carro: 152\n",
            "Você excedeu a velocidade maxima permitida em 72 km/h, sua multa foi gerada.\n",
            "Valor da Multa: R$360.00\n",
            "Velocidade permitida 80\n",
            "Governo do Estado de São Paulo\n"
          ]
        }
      ]
    }
  ]
}