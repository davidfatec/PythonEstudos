{
  "nbformat": 4,
  "nbformat_minor": 0,
  "metadata": {
    "colab": {
      "name": "Dicionario.ipynb",
      "provenance": [],
      "authorship_tag": "ABX9TyOp9/cXi8NzfXvbtTE/GLpo",
      "include_colab_link": true
    },
    "kernelspec": {
      "name": "python3",
      "display_name": "Python 3"
    },
    "language_info": {
      "name": "python"
    }
  },
  "cells": [
    {
      "cell_type": "markdown",
      "metadata": {
        "id": "view-in-github",
        "colab_type": "text"
      },
      "source": [
        "<a href=\"https://colab.research.google.com/github/davidfatec/PythonEstudos/blob/main/Dicionario.ipynb\" target=\"_parent\"><img src=\"https://colab.research.google.com/assets/colab-badge.svg\" alt=\"Open In Colab\"/></a>"
      ]
    },
    {
      "cell_type": "markdown",
      "source": [
        "Dicionários\n",
        "\n",
        "Tuplas ()\n",
        "\n",
        "Lista [] \n",
        "\n",
        "Dicionarios {}\n",
        "\n",
        "**Duas formas de declarar um dicionario**\n",
        "\n",
        "dados = {} \n",
        "\n",
        "dados = dict()"
      ],
      "metadata": {
        "id": "pffBVDWsP4fY"
      }
    },
    {
      "cell_type": "code",
      "execution_count": 4,
      "metadata": {
        "id": "LINiqeQRPx3G",
        "colab": {
          "base_uri": "https://localhost:8080/"
        },
        "outputId": "0caeeef1-604f-4af5-e47b-45446883f50f"
      },
      "outputs": [
        {
          "output_type": "stream",
          "name": "stdout",
          "text": [
            "{'nome': 'David', 'idade': 42, 'sexo': 'M'}\n",
            "{'nome': 'David', 'idade': 42}\n"
          ]
        }
      ],
      "source": [
        "dados = dict()\n",
        "dados['nome'] = 'David'\n",
        "dados['idade'] = 42\n",
        "dados['sexo'] = 'M'\n",
        "print(dados)\n",
        "del dados['sexo']\n",
        "print(dados)"
      ]
    },
    {
      "cell_type": "code",
      "source": [
        "\n",
        "pessoa={\n",
        "    'nome':'David',\n",
        "    'idade':42,\n",
        "    'genero':'M'\n",
        "}\n",
        "print(pessoa.items())\n",
        "print(pessoa.values())\n",
        "print(pessoa.keys())\n",
        "\n",
        "for k,v in pessoa.items():\n",
        "  print(f'{k} é {v}')"
      ],
      "metadata": {
        "colab": {
          "base_uri": "https://localhost:8080/"
        },
        "id": "15SGm9CUYcz7",
        "outputId": "50e5444c-e12d-43cf-a0f0-5764cf105fee"
      },
      "execution_count": 9,
      "outputs": [
        {
          "output_type": "stream",
          "name": "stdout",
          "text": [
            "dict_items([('nome', 'David'), ('idade', 42), ('genero', 'M')])\n",
            "dict_values(['David', 42, 'M'])\n",
            "dict_keys(['nome', 'idade', 'genero'])\n",
            "nome é David\n",
            "idade é 42\n",
            "genero é M\n"
          ]
        }
      ]
    },
    {
      "cell_type": "code",
      "source": [
        "estado = dict()\n",
        "brasil = list()\n",
        "pergunta = ''\n",
        "while pergunta != '0':\n",
        "  estado['uf'] = str(input('Digite a unidade federativa: '))\n",
        "  estado['sigla'] = str(input('Digite uma sigla correspondente: '))\n",
        "  brasil.append(estado.copy())\n",
        "  pergunta = str(input('Digite 0 para sair e qualquer tecla para continuar: '))\n",
        "for e in brasil:\n",
        "  for v in e.values():\n",
        "    print(v, end=' ')  \n",
        "  print()  \n"
      ],
      "metadata": {
        "colab": {
          "base_uri": "https://localhost:8080/"
        },
        "id": "U19R6l1Sga4M",
        "outputId": "7c5d8746-11d7-4063-ad79-dbae3da39342"
      },
      "execution_count": 11,
      "outputs": [
        {
          "output_type": "stream",
          "name": "stdout",
          "text": [
            "Digite a unidade federativa: Bahia\n",
            "Digite uma sigla correspondente: BH\n",
            "Digite 0 para sair e qualquer tecla para continuar: 0\n",
            "Bahia BH \n"
          ]
        }
      ]
    },
    {
      "cell_type": "markdown",
      "source": [
        "**Exercicios dicionários**\n",
        "\n",
        "1)Faça um Programa que leia nome e média de um aluno, guardando também a situação em um dicionário. No final, mostre o conteudo na tela."
      ],
      "metadata": {
        "id": "SHn8Y22Sj11t"
      }
    },
    {
      "cell_type": "code",
      "source": [
        "nome = str(input('Digite o nome do aluno: '))\n",
        "media = float(input(f'Média do[a] aluno[a] {nome}: '))\n",
        "situacao = 'Reprovado'\n",
        "if media >= 7:\n",
        "  situacao = 'Aprovado'\n",
        "\n",
        "aluno = {\n",
        "    'nome':nome,\n",
        "    'media':media,\n",
        "    'situacao':situacao\n",
        "}\n",
        "for k,v in aluno.items():\n",
        "  print(f'{k} : {v}')"
      ],
      "metadata": {
        "colab": {
          "base_uri": "https://localhost:8080/"
        },
        "id": "-5zjshgrj8Nk",
        "outputId": "c8b48c46-71c7-47b7-8d0d-b5fc639bf9f5"
      },
      "execution_count": 14,
      "outputs": [
        {
          "output_type": "stream",
          "name": "stdout",
          "text": [
            "Digite o nome do aluno: Leticia da Silva Francisco\n",
            "Média do[a] aluno[a] Leticia da Silva Francisco: 9.8\n",
            "nome : Leticia da Silva Francisco\n",
            "media : 9.8\n",
            "situacao : Aprovado\n"
          ]
        }
      ]
    },
    {
      "cell_type": "markdown",
      "source": [
        "**Crie um programa onde 4 jogadores joguem 1 dado e tenham resultados aleatorios. Guarde esses resultados em um dicionário. No final, coloque esse dicionário em ordem, sabendo que o vencedor tirou o maior número no dado**"
      ],
      "metadata": {
        "id": "Y2mDvcqoofKO"
      }
    },
    {
      "cell_type": "code",
      "source": [
        "from random import randint\n",
        "for i in range(0,4):\n",
        "  n = randint(1,6)\n",
        "  print(n)\n",
        "  "
      ],
      "metadata": {
        "colab": {
          "base_uri": "https://localhost:8080/"
        },
        "id": "KNpWZABEpOn5",
        "outputId": "9c8baf0c-1d47-4baf-c312-7fa8b3c873dd"
      },
      "execution_count": 19,
      "outputs": [
        {
          "output_type": "stream",
          "name": "stdout",
          "text": [
            "1\n",
            "3\n",
            "2\n",
            "3\n"
          ]
        }
      ]
    },
    {
      "cell_type": "markdown",
      "source": [
        "**Crie um programa que leia nome, ano de nascimento e carteira de trabalho e cadastre-os com idade em um dicionário se a CTPS for diferente de 0, o dicionario receberá tambem o ano de contratação e o salario. Calcule e acrescente alem de idade, com quantos anos a pessoa vai aposentar**"
      ],
      "metadata": {
        "id": "lOWqatAjqVY4"
      }
    },
    {
      "cell_type": "code",
      "source": [
        "from datetime import date\n",
        "nome = str(input('Digite o nome: '))\n",
        "nasc = int(input('Digite o ano de nascimento: '))\n",
        "ctps = int(input('Digite o numero da CTPS, ou zero se não tiver: '))\n",
        "anoAtual = date.today()\n",
        "idade = anoAtual.year - nasc\n",
        "\n",
        "if ctps != 0:\n",
        "  anoContratacao = int(input('Digite o ano de contratação: '))\n",
        "  salario = float(input('Digite o salario: R$ '))\n",
        "  aposentadoria = ((anoAtual.year - anoContratacao) + idade)-35\n",
        "  pessoa = {\n",
        "    'nome':nome,\n",
        "    'idade':idade,\n",
        "    'ctps':ctps,\n",
        "    'contratacao':anoContratacao,\n",
        "    'salario':salario,\n",
        "    'aposentadoria':aposentadoria\n",
        "  }\n",
        "else:\n",
        "  pessoa = {\n",
        "    'nome':nome,\n",
        "    'idade':idade,\n",
        "    'ctps':ctps\n",
        "  }  \n",
        "for k,v in pessoa.items():\n",
        "  print(f'{k} : {v}')"
      ],
      "metadata": {
        "colab": {
          "base_uri": "https://localhost:8080/"
        },
        "id": "gPhzKtFwryYZ",
        "outputId": "5c583bf8-9040-422f-f186-9c384a019080"
      },
      "execution_count": 31,
      "outputs": [
        {
          "output_type": "stream",
          "name": "stdout",
          "text": [
            "Digite o nome: david\n",
            "Digite o ano de nascimento: 1979\n",
            "Digite o numero da CTPS, ou zero se não tiver: 4547\n",
            "Digite o ano de contratação: 1995\n",
            "Digite o salario: R$ 1540\n",
            "nome : david\n",
            "idade : 42\n",
            "ctps : 4547\n",
            "contratacao : 1995\n",
            "salario : 1540.0\n",
            "aposentadoria : 33\n"
          ]
        }
      ]
    },
    {
      "cell_type": "markdown",
      "source": [
        "**Crie um programa que gerencie o aproveitamento de um jogador de futebol. O programa vai ler o nome do jogador e quantas partidas ele jogou.Depois vai ler a quantidade de gols feitos em cada partida.No final, tudo isso será armazenado em um dicionario, incluindo o total de gols feito durante o campeonato**"
      ],
      "metadata": {
        "id": "745uYWBK0vSM"
      }
    },
    {
      "cell_type": "code",
      "source": [
        "def separador():\n",
        "  print('-='*30)\n",
        "nome = str(input('Digite o nome do jogador: '))\n",
        "partidas = int(input('Numero de partidas: '))\n",
        "gols = list()\n",
        "totalGol = 0\n",
        "for i in range(0,partidas):\n",
        "  gol = int(input(f'Digite o numero de gols na partida {i+1}: '))\n",
        "  totalGol+=gol\n",
        "  gols.append(gol)\n",
        "campeonato = {\n",
        "    'nome':nome,\n",
        "    'gols':gols,\n",
        "    'total':totalGol\n",
        "}\n",
        "separador()\n",
        "print(campeonato)  \n",
        "separador()\n",
        "for k,v in campeonato.items():\n",
        "  print(f'{k} - {v}')\n",
        "separador()\n",
        "print(f'O jogador {nome} jogou {partidas} partidas')\n"
      ],
      "metadata": {
        "colab": {
          "base_uri": "https://localhost:8080/",
          "height": 460
        },
        "id": "SVMd2qLd2JLg",
        "outputId": "0cc48cb2-c5d7-43c9-ed4f-75235706e5f4"
      },
      "execution_count": 39,
      "outputs": [
        {
          "output_type": "stream",
          "name": "stdout",
          "text": [
            "Digite o nome do jogador: das\n",
            "Numero de partidas: 3\n",
            "Digite o numero de gols na partida 1: 1\n",
            "Digite o numero de gols na partida 2: 3\n",
            "Digite o numero de gols na partida 3: 5\n",
            "-=-=-=-=-=-=-=-=-=-=-=-=-=-=-=-=-=-=-=-=-=-=-=-=-=-=-=-=-=-=\n",
            "{'nome': 'das', 'gols': [1, 3, 5], 'total': 9}\n",
            "-=-=-=-=-=-=-=-=-=-=-=-=-=-=-=-=-=-=-=-=-=-=-=-=-=-=-=-=-=-=\n",
            "nome - das\n",
            "gols - [1, 3, 5]\n",
            "total - 9\n",
            "-=-=-=-=-=-=-=-=-=-=-=-=-=-=-=-=-=-=-=-=-=-=-=-=-=-=-=-=-=-=\n",
            "O jogador das jogou 3 partidas\n",
            "m d\n",
            "l 1\n"
          ]
        },
        {
          "output_type": "error",
          "ename": "TypeError",
          "evalue": "ignored",
          "traceback": [
            "\u001b[0;31m---------------------------------------------------------------------------\u001b[0m",
            "\u001b[0;31mTypeError\u001b[0m                                 Traceback (most recent call last)",
            "\u001b[0;32m<ipython-input-39-a5b8991bad2a>\u001b[0m in \u001b[0;36m<module>\u001b[0;34m()\u001b[0m\n\u001b[1;32m     22\u001b[0m \u001b[0mprint\u001b[0m\u001b[0;34m(\u001b[0m\u001b[0;34mf'O jogador {nome} jogou {partidas} partidas'\u001b[0m\u001b[0;34m)\u001b[0m\u001b[0;34m\u001b[0m\u001b[0;34m\u001b[0m\u001b[0m\n\u001b[1;32m     23\u001b[0m \u001b[0;32mfor\u001b[0m \u001b[0mk\u001b[0m\u001b[0;34m,\u001b[0m\u001b[0mv\u001b[0m \u001b[0;32min\u001b[0m \u001b[0mcampeonato\u001b[0m\u001b[0;34m.\u001b[0m\u001b[0mitems\u001b[0m\u001b[0;34m(\u001b[0m\u001b[0;34m)\u001b[0m\u001b[0;34m:\u001b[0m\u001b[0;34m\u001b[0m\u001b[0;34m\u001b[0m\u001b[0m\n\u001b[0;32m---> 24\u001b[0;31m   \u001b[0mprint\u001b[0m\u001b[0;34m(\u001b[0m\u001b[0;34mf'{k[2]} {v[0]}'\u001b[0m\u001b[0;34m)\u001b[0m\u001b[0;34m\u001b[0m\u001b[0;34m\u001b[0m\u001b[0m\n\u001b[0m",
            "\u001b[0;31mTypeError\u001b[0m: 'int' object is not subscriptable"
          ]
        }
      ]
    }
  ]
}