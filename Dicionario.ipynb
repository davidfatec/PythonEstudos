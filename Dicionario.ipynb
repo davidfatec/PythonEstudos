{
  "nbformat": 4,
  "nbformat_minor": 0,
  "metadata": {
    "colab": {
      "name": "Dicionario.ipynb",
      "provenance": [],
      "authorship_tag": "ABX9TyOZCg2Rp9dtNe14jWPeiBJy",
      "include_colab_link": true
    },
    "kernelspec": {
      "name": "python3",
      "display_name": "Python 3"
    },
    "language_info": {
      "name": "python"
    }
  },
  "cells": [
    {
      "cell_type": "markdown",
      "metadata": {
        "id": "view-in-github",
        "colab_type": "text"
      },
      "source": [
        "<a href=\"https://colab.research.google.com/github/davidfatec/PythonEstudos/blob/main/Dicionario.ipynb\" target=\"_parent\"><img src=\"https://colab.research.google.com/assets/colab-badge.svg\" alt=\"Open In Colab\"/></a>"
      ]
    },
    {
      "cell_type": "markdown",
      "source": [
        "Dicionários\n",
        "\n",
        "Tuplas ()\n",
        "\n",
        "Lista [] \n",
        "\n",
        "Dicionarios {}\n",
        "\n",
        "**Duas formas de declarar um dicionario**\n",
        "\n",
        "dados = {} \n",
        "\n",
        "dados = dict()"
      ],
      "metadata": {
        "id": "pffBVDWsP4fY"
      }
    },
    {
      "cell_type": "code",
      "execution_count": 4,
      "metadata": {
        "id": "LINiqeQRPx3G",
        "colab": {
          "base_uri": "https://localhost:8080/"
        },
        "outputId": "0caeeef1-604f-4af5-e47b-45446883f50f"
      },
      "outputs": [
        {
          "output_type": "stream",
          "name": "stdout",
          "text": [
            "{'nome': 'David', 'idade': 42, 'sexo': 'M'}\n",
            "{'nome': 'David', 'idade': 42}\n"
          ]
        }
      ],
      "source": [
        "dados = dict()\n",
        "dados['nome'] = 'David'\n",
        "dados['idade'] = 42\n",
        "dados['sexo'] = 'M'\n",
        "print(dados)\n",
        "del dados['sexo']\n",
        "print(dados)"
      ]
    },
    {
      "cell_type": "code",
      "source": [
        "\n",
        "pessoa={\n",
        "    'nome':'David',\n",
        "    'idade':42,\n",
        "    'genero':'M'\n",
        "}\n",
        "print(pessoa.items())\n",
        "print(pessoa.values())\n",
        "print(pessoa.keys())\n",
        "\n",
        "for k,v in pessoa.items():\n",
        "  print(f'{k} é {v}')"
      ],
      "metadata": {
        "colab": {
          "base_uri": "https://localhost:8080/"
        },
        "id": "15SGm9CUYcz7",
        "outputId": "50e5444c-e12d-43cf-a0f0-5764cf105fee"
      },
      "execution_count": 9,
      "outputs": [
        {
          "output_type": "stream",
          "name": "stdout",
          "text": [
            "dict_items([('nome', 'David'), ('idade', 42), ('genero', 'M')])\n",
            "dict_values(['David', 42, 'M'])\n",
            "dict_keys(['nome', 'idade', 'genero'])\n",
            "nome é David\n",
            "idade é 42\n",
            "genero é M\n"
          ]
        }
      ]
    },
    {
      "cell_type": "code",
      "source": [
        "estado = dict()\n",
        "brasil = list()\n",
        "pergunta = ''\n",
        "while pergunta != '0':\n",
        "  estado['uf'] = str(input('Digite a unidade federativa: '))\n",
        "  estado['sigla'] = str(input('Digite uma sigla correspondente: '))\n",
        "  brasil.append(estado.copy())\n",
        "  pergunta = str(input('Digite 0 para sair e qualquer tecla para continuar: '))\n",
        "for e in brasil:\n",
        "  for v in e.values():\n",
        "    print(v, end=' ')  \n",
        "  print()  \n"
      ],
      "metadata": {
        "colab": {
          "base_uri": "https://localhost:8080/"
        },
        "id": "U19R6l1Sga4M",
        "outputId": "7c5d8746-11d7-4063-ad79-dbae3da39342"
      },
      "execution_count": 11,
      "outputs": [
        {
          "output_type": "stream",
          "name": "stdout",
          "text": [
            "Digite a unidade federativa: Bahia\n",
            "Digite uma sigla correspondente: BH\n",
            "Digite 0 para sair e qualquer tecla para continuar: 0\n",
            "Bahia BH \n"
          ]
        }
      ]
    }
  ]
}