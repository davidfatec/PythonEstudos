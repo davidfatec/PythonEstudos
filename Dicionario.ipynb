{
  "nbformat": 4,
  "nbformat_minor": 0,
  "metadata": {
    "colab": {
      "name": "Dicionario.ipynb",
      "provenance": [],
      "collapsed_sections": [],
      "authorship_tag": "ABX9TyOMX4ZM6AedOWFmJy+Y1ezN",
      "include_colab_link": true
    },
    "kernelspec": {
      "name": "python3",
      "display_name": "Python 3"
    },
    "language_info": {
      "name": "python"
    }
  },
  "cells": [
    {
      "cell_type": "markdown",
      "metadata": {
        "id": "view-in-github",
        "colab_type": "text"
      },
      "source": [
        "<a href=\"https://colab.research.google.com/github/davidfatec/PythonEstudos/blob/main/Dicionario.ipynb\" target=\"_parent\"><img src=\"https://colab.research.google.com/assets/colab-badge.svg\" alt=\"Open In Colab\"/></a>"
      ]
    },
    {
      "cell_type": "markdown",
      "source": [
        "Dicionários\n",
        "\n",
        "Tuplas ()\n",
        "\n",
        "Lista [] \n",
        "\n",
        "Dicionarios {}\n",
        "\n",
        "**Duas formas de declarar um dicionario**\n",
        "\n",
        "dados = {} \n",
        "\n",
        "dados = dict()"
      ],
      "metadata": {
        "id": "pffBVDWsP4fY"
      }
    },
    {
      "cell_type": "code",
      "execution_count": null,
      "metadata": {
        "id": "LINiqeQRPx3G",
        "colab": {
          "base_uri": "https://localhost:8080/"
        },
        "outputId": "0caeeef1-604f-4af5-e47b-45446883f50f"
      },
      "outputs": [
        {
          "output_type": "stream",
          "name": "stdout",
          "text": [
            "{'nome': 'David', 'idade': 42, 'sexo': 'M'}\n",
            "{'nome': 'David', 'idade': 42}\n"
          ]
        }
      ],
      "source": [
        "dados = dict()\n",
        "dados['nome'] = 'David'\n",
        "dados['idade'] = 42\n",
        "dados['sexo'] = 'M'\n",
        "print(dados)\n",
        "del dados['sexo']\n",
        "print(dados)"
      ]
    },
    {
      "cell_type": "code",
      "source": [
        "\n",
        "pessoa={\n",
        "    'nome':'David',\n",
        "    'idade':42,\n",
        "    'genero':'M'\n",
        "}\n",
        "print(pessoa.items())\n",
        "print(pessoa.values())\n",
        "print(pessoa.keys())\n",
        "\n",
        "for k,v in pessoa.items():\n",
        "  print(f'{k} é {v}')"
      ],
      "metadata": {
        "colab": {
          "base_uri": "https://localhost:8080/"
        },
        "id": "15SGm9CUYcz7",
        "outputId": "50e5444c-e12d-43cf-a0f0-5764cf105fee"
      },
      "execution_count": null,
      "outputs": [
        {
          "output_type": "stream",
          "name": "stdout",
          "text": [
            "dict_items([('nome', 'David'), ('idade', 42), ('genero', 'M')])\n",
            "dict_values(['David', 42, 'M'])\n",
            "dict_keys(['nome', 'idade', 'genero'])\n",
            "nome é David\n",
            "idade é 42\n",
            "genero é M\n"
          ]
        }
      ]
    },
    {
      "cell_type": "code",
      "source": [
        "estado = dict()\n",
        "brasil = list()\n",
        "pergunta = ''\n",
        "while pergunta != '0':\n",
        "  estado['uf'] = str(input('Digite a unidade federativa: '))\n",
        "  estado['sigla'] = str(input('Digite uma sigla correspondente: '))\n",
        "  brasil.append(estado.copy())\n",
        "  pergunta = str(input('Digite 0 para sair e qualquer tecla para continuar: '))\n",
        "for e in brasil:\n",
        "  for v in e.values():\n",
        "    print(v, end=' ')  \n",
        "  print()  \n"
      ],
      "metadata": {
        "colab": {
          "base_uri": "https://localhost:8080/"
        },
        "id": "U19R6l1Sga4M",
        "outputId": "7c5d8746-11d7-4063-ad79-dbae3da39342"
      },
      "execution_count": null,
      "outputs": [
        {
          "output_type": "stream",
          "name": "stdout",
          "text": [
            "Digite a unidade federativa: Bahia\n",
            "Digite uma sigla correspondente: BH\n",
            "Digite 0 para sair e qualquer tecla para continuar: 0\n",
            "Bahia BH \n"
          ]
        }
      ]
    },
    {
      "cell_type": "markdown",
      "source": [
        "**Exercicios dicionários**\n",
        "\n",
        "1)Faça um Programa que leia nome e média de um aluno, guardando também a situação em um dicionário. No final, mostre o conteudo na tela."
      ],
      "metadata": {
        "id": "SHn8Y22Sj11t"
      }
    },
    {
      "cell_type": "code",
      "source": [
        "nome = str(input('Digite o nome do aluno: '))\n",
        "media = float(input(f'Média do[a] aluno[a] {nome}: '))\n",
        "situacao = 'Reprovado'\n",
        "if media >= 7:\n",
        "  situacao = 'Aprovado'\n",
        "elif media >= 6 and media < 7:\n",
        "  situacao = 'Em recuperação'\n",
        "aluno = {\n",
        "    'nome':nome,\n",
        "    'media':media,\n",
        "    'situacao':situacao\n",
        "}\n",
        "for k,v in aluno.items():\n",
        "  print(f'{k} : {v}')"
      ],
      "metadata": {
        "colab": {
          "base_uri": "https://localhost:8080/"
        },
        "id": "-5zjshgrj8Nk",
        "outputId": "71d7db2c-80f7-41b3-d969-7522bb51947d"
      },
      "execution_count": 1,
      "outputs": [
        {
          "output_type": "stream",
          "name": "stdout",
          "text": [
            "Digite o nome do aluno: David\n",
            "Média do[a] aluno[a] David: 8\n",
            "nome : David\n",
            "media : 8.0\n",
            "situacao : Aprovado\n"
          ]
        }
      ]
    },
    {
      "cell_type": "markdown",
      "source": [
        "**Crie um programa onde 4 jogadores joguem 1 dado e tenham resultados aleatorios. Guarde esses resultados em um dicionário. No final, coloque esse dicionário em ordem, sabendo que o vencedor tirou o maior número no dado**"
      ],
      "metadata": {
        "id": "Y2mDvcqoofKO"
      }
    },
    {
      "cell_type": "code",
      "source": [
        "from random import randint\n",
        "from time import sleep\n",
        "from operator import itemgetter\n",
        "ranking = list()\n",
        "jogo = {'jogador1': randint(1,6),\n",
        "        'jogador2': randint(1,6),\n",
        "        'jogador3': randint(1,6),\n",
        "        'jogador4': randint(1,6)}\n",
        "print('-= Valores sorteados =-')\n",
        "for k,v in jogo.items():\n",
        "  print(f'{k} tirou {v} no dado.')\n",
        "  sleep(0.7)\n",
        "ranking = sorted(jogo.items(), key=itemgetter(1), reverse=True) \n",
        "print('-= Ranking dos jogadores =-') \n",
        "for i,v in enumerate(ranking):\n",
        "  print(f'{i+1}º lugar: {v[0]} com {v[1]} ')\n",
        "  sleep(1.2)"
      ],
      "metadata": {
        "colab": {
          "base_uri": "https://localhost:8080/"
        },
        "id": "KNpWZABEpOn5",
        "outputId": "f1a4be11-cdd8-482b-e975-5296f9f48daa"
      },
      "execution_count": 5,
      "outputs": [
        {
          "output_type": "stream",
          "name": "stdout",
          "text": [
            "-= Valores sorteados =-\n",
            "jogador1 tirou 1 no dado.\n",
            "jogador2 tirou 6 no dado.\n",
            "jogador3 tirou 3 no dado.\n",
            "jogador4 tirou 3 no dado.\n",
            "-= Ranking dos jogadores =-\n",
            "1º lugar: jogador2 com 6 \n",
            "2º lugar: jogador3 com 3 \n",
            "3º lugar: jogador4 com 3 \n",
            "4º lugar: jogador1 com 1 \n"
          ]
        }
      ]
    },
    {
      "cell_type": "markdown",
      "source": [
        "**Crie um programa que leia nome, ano de nascimento e carteira de trabalho e cadastre-os com idade em um dicionário se a CTPS for diferente de 0, o dicionario receberá tambem o ano de contratação e o salario. Calcule e acrescente alem de idade, com quantos anos a pessoa vai aposentar**"
      ],
      "metadata": {
        "id": "lOWqatAjqVY4"
      }
    },
    {
      "cell_type": "code",
      "source": [
        "from datetime import datetime\n",
        "nome = str(input('Digite o nome: '))\n",
        "nasc = int(input('Digite o ano de nascimento: '))\n",
        "ctps = int(input('Digite o numero da CTPS, ou zero se não tiver: '))\n",
        "idade = datetime.now().year - nasc\n",
        "\n",
        "if ctps != 0:\n",
        "  anoContratacao = int(input('Digite o ano de contratação: '))\n",
        "  salario = float(input('Digite o salario: R$ '))\n",
        "  aposentadoria = ((anoContratacao + 35 - datetime.now().year)+idade)\n",
        "  pessoa = {\n",
        "    'nome':nome,\n",
        "    'idade':idade,\n",
        "    'ctps':ctps,\n",
        "    'contratacao':anoContratacao,\n",
        "    'salario':salario,\n",
        "    'aposentadoria':aposentadoria\n",
        "  }\n",
        "else:\n",
        "  pessoa = {\n",
        "    'nome':nome,\n",
        "    'idade':idade,\n",
        "    'ctps':ctps\n",
        "  }  \n",
        "print('DADOS DO TRABALHADOR')\n",
        "for k,v in pessoa.items():\n",
        "  print(f'{k} : {v}')\n",
        "if ctps == 0:\n",
        "  print(f'O senhor[a] {nome} ainda não possui Carteira de trabalha')  "
      ],
      "metadata": {
        "colab": {
          "base_uri": "https://localhost:8080/"
        },
        "id": "gPhzKtFwryYZ",
        "outputId": "680588fe-90a5-4932-bfb2-b9f5e8cac51c"
      },
      "execution_count": 12,
      "outputs": [
        {
          "output_type": "stream",
          "name": "stdout",
          "text": [
            "Digite o nome: david\n",
            "Digite o ano de nascimento: 1979\n",
            "Digite o numero da CTPS, ou zero se não tiver: 45\n",
            "Digite o ano de contratação: 1997\n",
            "Digite o salario: R$ 1000\n",
            "DADOS DO TRABALHADOR\n",
            "nome : david\n",
            "idade : 42\n",
            "ctps : 45\n",
            "contratacao : 1997\n",
            "salario : 1000.0\n",
            "aposentadoria : 53\n"
          ]
        }
      ]
    },
    {
      "cell_type": "markdown",
      "source": [
        "**Crie um programa que gerencie o aproveitamento de um jogador de futebol. O programa vai ler o nome do jogador e quantas partidas ele jogou.Depois vai ler a quantidade de gols feitos em cada partida.No final, tudo isso será armazenado em um dicionario, incluindo o total de gols feito durante o campeonato**"
      ],
      "metadata": {
        "id": "745uYWBK0vSM"
      }
    },
    {
      "cell_type": "code",
      "source": [
        "def separador():\n",
        "  print('-='*30)\n",
        "nome = str(input('Digite o nome do jogador: '))\n",
        "partidas = int(input('Numero de partidas: '))\n",
        "gols = list()\n",
        "totalGol = 0\n",
        "for i in range(0,partidas):\n",
        "  gol = int(input(f'Digite o numero de gols na partida {i+1}: '))\n",
        "  totalGol+=gol\n",
        "  gols.append(gol)\n",
        "campeonato = {\n",
        "    'nome':nome,\n",
        "    'gols':gols,\n",
        "    'total':totalGol\n",
        "}\n",
        "separador()\n",
        "print(campeonato)  \n",
        "separador()\n",
        "for k,v in campeonato.items():\n",
        "  print(f'{k} - {v}')\n",
        "separador()\n",
        "print(f'O jogador {nome} jogou {partidas} partidas')\n",
        "separador()\n",
        "for i,v in enumerate(gols):\n",
        "  print(f'Na partida {i+1} o jogador {nome} fez {v} gols')\n",
        "separador()\n",
        "print(f'O jogador {nome} fez {totalGol} gols em {partidas} partidas')  \n"
      ],
      "metadata": {
        "colab": {
          "base_uri": "https://localhost:8080/"
        },
        "id": "SVMd2qLd2JLg",
        "outputId": "d6c3d81f-993f-4643-8066-a038341c218e"
      },
      "execution_count": 20,
      "outputs": [
        {
          "output_type": "stream",
          "name": "stdout",
          "text": [
            "Digite o nome do jogador: Davidinho\n",
            "Numero de partidas: 6\n",
            "Digite o numero de gols na partida 1: 1\n",
            "Digite o numero de gols na partida 2: 0\n",
            "Digite o numero de gols na partida 3: 3\n",
            "Digite o numero de gols na partida 4: 2\n",
            "Digite o numero de gols na partida 5: 0\n",
            "Digite o numero de gols na partida 6: 1\n",
            "-=-=-=-=-=-=-=-=-=-=-=-=-=-=-=-=-=-=-=-=-=-=-=-=-=-=-=-=-=-=\n",
            "{'nome': 'Davidinho', 'gols': [1, 0, 3, 2, 0, 1], 'total': 7}\n",
            "-=-=-=-=-=-=-=-=-=-=-=-=-=-=-=-=-=-=-=-=-=-=-=-=-=-=-=-=-=-=\n",
            "nome - Davidinho\n",
            "gols - [1, 0, 3, 2, 0, 1]\n",
            "total - 7\n",
            "-=-=-=-=-=-=-=-=-=-=-=-=-=-=-=-=-=-=-=-=-=-=-=-=-=-=-=-=-=-=\n",
            "O jogador Davidinho jogou 6 partidas\n",
            "-=-=-=-=-=-=-=-=-=-=-=-=-=-=-=-=-=-=-=-=-=-=-=-=-=-=-=-=-=-=\n",
            "Na partida 1 o jogador Davidinho fez 1\n",
            "Na partida 2 o jogador Davidinho fez 0\n",
            "Na partida 3 o jogador Davidinho fez 3\n",
            "Na partida 4 o jogador Davidinho fez 2\n",
            "Na partida 5 o jogador Davidinho fez 0\n",
            "Na partida 6 o jogador Davidinho fez 1\n",
            "-=-=-=-=-=-=-=-=-=-=-=-=-=-=-=-=-=-=-=-=-=-=-=-=-=-=-=-=-=-=\n",
            "O jogador Davidinho fez 7 gols em 6 partidas\n"
          ]
        }
      ]
    },
    {
      "cell_type": "markdown",
      "source": [
        "**Crie um programa que leia nome, sexo e idade de varias pessoas, guardando os dados de cada pessoa em um dicionario e todos os dicionarios em uma lista. No final mostre:**\n",
        "\n",
        "**a)Quantas pessoas foram cadastradas**\n",
        "\n",
        "**b)A média de idade do grupo**\n",
        "\n",
        "**c)Uma lista com Todas as mulheres**\n",
        "\n",
        "**d)Uma lista com todas as pessoas com idade acima da média**"
      ],
      "metadata": {
        "id": "ymFcXmKJx6mJ"
      }
    },
    {
      "cell_type": "code",
      "source": [
        "geral = list()\n",
        "pessoa = dict()\n",
        "soma = media = 0\n",
        "while True:\n",
        "  pessoa.clear()\n",
        "  pessoa['nome'] = str(input('Nome: '))\n",
        "  while True:\n",
        "    pessoa['sexo'] = str(input('Sexo: [M/F]: ')).upper()[0]\n",
        "    if pessoa['sexo'] in 'MF':\n",
        "      break\n",
        "    print('Erro! Digite apenas M ou F!') \n",
        "  pessoa['idade'] = int(input('Idade: ')) \n",
        "  soma+=pessoa['idade']\n",
        "  geral.append(pessoa.copy())\n",
        "  while True:\n",
        "    resposta = str(input('Deseja cadastrar mais alguem? [S/N]: ')).upper()[0]\n",
        "    if resposta in 'SN':\n",
        "      break\n",
        "    print('Erro! Digite apenas S ou N!')  \n",
        "  if resposta == 'N':\n",
        "    break  \n",
        "\n",
        "print(f'Temos {len(geral)} pessoas cadastradas.')\n",
        "media = soma / len(geral)\n",
        "print(f'A média das idades é {media:.2f}')\n",
        "print('As mulheres cadastradas foram ', end='')\n",
        "for p in geral:\n",
        "  if p['sexo'] == 'F':\n",
        "    print(f'{p[\"nome\"]}, ', end='')\n",
        "print() \n",
        "print('Pessoas com idade acima da média: ',end='') \n",
        "for p in geral:\n",
        "  if p['idade'] >= media:\n",
        "    print('     ')\n",
        "    for k,v in p.items():\n",
        "      print(f'{k} = {v}; ',end='')  \n",
        "    print()  \n",
        "print(' Volte sempre')      "
      ],
      "metadata": {
        "colab": {
          "base_uri": "https://localhost:8080/"
        },
        "id": "o6eK-MfjzMlD",
        "outputId": "f494bcd2-26e6-4b21-f440-85146564a8d7"
      },
      "execution_count": 35,
      "outputs": [
        {
          "output_type": "stream",
          "name": "stdout",
          "text": [
            "Nome: david\n",
            "Sexo: [M/F]: m\n",
            "Idade: 42\n",
            "Deseja cadastrar mais alguem? [S/N]: s\n",
            "Nome: nanda\n",
            "Sexo: [M/F]: f\n",
            "Idade: 36\n",
            "Deseja cadastrar mais alguem? [S/N]: s\n",
            "Nome: lele\n",
            "Sexo: [M/F]: f\n",
            "Idade: 15\n",
            "Deseja cadastrar mais alguem? [S/N]: n\n",
            "Temos 3 pessoas cadastradas.\n",
            "A média das idades é 31.00\n",
            "As mulheres cadastradas foram nanda, lele, \n",
            "Pessoas com idade acima da média:      \n",
            "nome = david; sexo = M; idade = 42; \n",
            "     \n",
            "nome = nanda; sexo = F; idade = 36; \n",
            " Volte sempre\n"
          ]
        }
      ]
    }
  ]
}