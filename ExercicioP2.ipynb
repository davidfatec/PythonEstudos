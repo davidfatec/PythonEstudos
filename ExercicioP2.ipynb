{
  "nbformat": 4,
  "nbformat_minor": 0,
  "metadata": {
    "colab": {
      "name": "ExercicioP2.ipynb",
      "provenance": [],
      "collapsed_sections": [],
      "authorship_tag": "ABX9TyPMj0y3G86YJxdDzbN27Uwe",
      "include_colab_link": true
    },
    "kernelspec": {
      "name": "python3",
      "display_name": "Python 3"
    },
    "language_info": {
      "name": "python"
    }
  },
  "cells": [
    {
      "cell_type": "markdown",
      "metadata": {
        "id": "view-in-github",
        "colab_type": "text"
      },
      "source": [
        "<a href=\"https://colab.research.google.com/github/davidfatec/PythonEstudos/blob/main/ExercicioP2.ipynb\" target=\"_parent\"><img src=\"https://colab.research.google.com/assets/colab-badge.svg\" alt=\"Open In Colab\"/></a>"
      ]
    },
    {
      "cell_type": "markdown",
      "metadata": {
        "id": "rAO8XK3Zb8vH"
      },
      "source": [
        "**Lista de Exercicio a ser entregue 12/12/2021 - Lógica de programação**"
      ]
    },
    {
      "cell_type": "code",
      "metadata": {
        "colab": {
          "base_uri": "https://localhost:8080/"
        },
        "id": "-ZW4axNrb7ta",
        "outputId": "f2a674a2-b460-42a0-ebce-42cbf5b92544"
      },
      "source": [
        "'''\n",
        "Faça um programa que ofereça um menu de opções contendo as seguintes a seguir. \n",
        "Cada valor do resultado da opção deverá ser calculado por uma função\n",
        "'''\n",
        "from math import sqrt #Função importada para usar em bhaskara\n",
        "print('-='*45)\n",
        "print('Exercicios David Francisco - Big Data no Agronegocio - Fatec Bebedouro')\n",
        "#primeira função\n",
        "def fatorial(numero):\n",
        "    if numero < 0:\n",
        "      print('Não existe fatorial de número negativo, digite um número válido!')  \n",
        "      numero = int(input('Digite um número: '))\n",
        "    else:  \n",
        "      if numero == 0 or numero == 1:\n",
        "        return 1\n",
        "      else:\n",
        "        fat = numero * fatorial(numero-1)\n",
        "        return fat\n",
        "#segunda função\n",
        "def bhaskara(a,b,c):\n",
        "    delta = (b**2) - (4*a*c)\n",
        "    pergunta = str(input('Para calcular x1 digite 1 ou deixe vazio, para calcular x2 digite 2, 3 calcula x1 e x2: ')).strip()\n",
        "    while pergunta not in '123':\n",
        "        pergunta = str(input('Para calcular x1 digite 1 ou deixe vazio, para calcular x2 digite 2, 3 calcula x1 e x2: ')).strip()\n",
        "    if pergunta == '2' and delta > 0:\n",
        "        x2 = (-b - sqrt(delta)) / (2*a)\n",
        "        return x2\n",
        "    elif delta < 0:\n",
        "        print(\"essa equação não possui raízes reais\")\n",
        "    elif pergunta == '3' and delta > 0:\n",
        "        x1 = (-b + sqrt(delta)) / (2*a)\n",
        "        x2 = (-b - sqrt(delta)) / (2*a)\n",
        "        return x2,x2     \n",
        "    else:\n",
        "        x1 = (-b + sqrt(delta)) / (2*a)\n",
        "        return x1 \n",
        "    return ''    \n",
        "#função tracinho\n",
        "def tracinho(caractere, x):\n",
        "   print(caractere * x) \n",
        "#função texto\n",
        "def imprimir_texto(texto):\n",
        "    print()\n",
        "    lista = list(texto)\n",
        "    impressao = lista[0:10]\n",
        "    texto = \" \".join(impressao)\n",
        "    tracinho('*',len(texto)+4)\n",
        "    print('*',texto,'*')\n",
        "    tracinho('*',len(texto)+4)\n",
        "    return ''\n",
        "#função soma\n",
        "def soma(x,y,z):\n",
        "    s = y + x + z\n",
        "    return s\n",
        "#menu para escolher uma função    \n",
        "print('-='*45)\n",
        "print('Escolha uma opção válida para executar uma função do menu')\n",
        "print('''\n",
        "[1] Fatorial  \n",
        "[2] Bhaskara\n",
        "[3] Imprimir Texto\n",
        "[4] Soma\n",
        "[5] Encerra o sistema       \n",
        "      ''')\n",
        "print('-='*45)\n",
        "menu = \" \"\n",
        "#Verificação do menu escolhido com tratamentos de menus inválidos\n",
        "while menu != 5 or menu < 1 or menu > 5:\n",
        "    menu = int(input('Escolha uma opção do menu: '))\n",
        "    if menu < 1 or menu > 5:\n",
        "        print(f'{menu} não é uma escolha válida')\n",
        "    else:    \n",
        "        if menu == 1:\n",
        "            print(f'Opção {menu} escolhido - Fatorial')\n",
        "            numero = int(input('Digite um numero para saber o seu fatorial: '))\n",
        "            print(f'O fatorial de {numero} é {fatorial(numero)}')\n",
        "        elif menu == 2:\n",
        "            print(f'Opção {menu} escolhido - Bhaskara')\n",
        "            a = int(input('Digite o valor de a: '))\n",
        "            b = int(input('Digite o valor de b: '))\n",
        "            c = int(input('Digite o valor de c: '))\n",
        "            print(f'{bhaskara(a,b,c)}')  \n",
        "        elif menu == 3:\n",
        "            print(f'Opção {menu} escolhido - Texto de 10 palavras')\n",
        "            texto = str(input('Digite um texto de no maximo 10 palavras: ')).split()\n",
        "            print(imprimir_texto(texto)) \n",
        "        elif menu == 5:\n",
        "            break                 \n",
        "        else:\n",
        "            print(f'Opção {menu} escolhido - Soma')\n",
        "            x = int(input('Valor de x: ')) \n",
        "            y = int(input('Valor de y: '))\n",
        "            z = int(input('Valor de z: '))\n",
        "            print(f'A soma de {x} + {y} + {z} = {soma(x,y,z)}')   \n",
        "print('5 precionado, encerrando o sistema!') "
      ],
      "execution_count": null,
      "outputs": [
        {
          "output_type": "stream",
          "name": "stdout",
          "text": [
            "-=-=-=-=-=-=-=-=-=-=-=-=-=-=-=-=-=-=-=-=-=-=-=-=-=-=-=-=-=-=-=-=-=-=-=-=-=-=-=-=-=-=-=-=-=\n",
            "Exercicios David Francisco - Big Data no Agronegocio - Fatec Bebedouro\n",
            "-=-=-=-=-=-=-=-=-=-=-=-=-=-=-=-=-=-=-=-=-=-=-=-=-=-=-=-=-=-=-=-=-=-=-=-=-=-=-=-=-=-=-=-=-=\n",
            "Escolha uma opção válida para executar uma função do menu\n",
            "\n",
            "[1] Fatorial  \n",
            "[2] Bhaskara\n",
            "[3] Imprimir Texto\n",
            "[4] Soma\n",
            "[5] Encerra o sistema       \n",
            "      \n",
            "-=-=-=-=-=-=-=-=-=-=-=-=-=-=-=-=-=-=-=-=-=-=-=-=-=-=-=-=-=-=-=-=-=-=-=-=-=-=-=-=-=-=-=-=-=\n",
            "Escolha uma opção do menu: 1\n",
            "Opção 1 escolhido - Fatorial\n",
            "Digite um numero para saber o seu fatorial: 5\n",
            "O fatorial de 5 é 120\n"
          ]
        }
      ]
    }
  ]
}