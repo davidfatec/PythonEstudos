{
  "nbformat": 4,
  "nbformat_minor": 0,
  "metadata": {
    "colab": {
      "name": "TesteGit.ipynb",
      "provenance": [],
      "authorship_tag": "ABX9TyM36TZCD5Qm5UUqSXGENioP",
      "include_colab_link": true
    },
    "kernelspec": {
      "name": "python3",
      "display_name": "Python 3"
    },
    "language_info": {
      "name": "python"
    }
  },
  "cells": [
    {
      "cell_type": "markdown",
      "metadata": {
        "id": "view-in-github",
        "colab_type": "text"
      },
      "source": [
        "<a href=\"https://colab.research.google.com/github/davidfatec/PythonEstudos/blob/main/TesteGit.ipynb\" target=\"_parent\"><img src=\"https://colab.research.google.com/assets/colab-badge.svg\" alt=\"Open In Colab\"/></a>"
      ]
    },
    {
      "cell_type": "markdown",
      "metadata": {
        "id": "2Z5GwJMLokxY"
      },
      "source": [
        "Testando o repositorio"
      ]
    },
    {
      "cell_type": "code",
      "metadata": {
        "colab": {
          "base_uri": "https://localhost:8080/"
        },
        "id": "k36wRIaVogOm",
        "outputId": "0583ec58-f7ff-4289-9a2a-e8889205182f"
      },
      "source": [
        "nome = 'Leticia'\n",
        "idade = 14\n",
        "tamanho_cabeca = 'Caixa d''água'\n",
        "print(f'Meu nome é {nome} eu tenho {idade} anos e minha cabeça é do tamanho de uma {tamanho_cabeca}')"
      ],
      "execution_count": 4,
      "outputs": [
        {
          "output_type": "stream",
          "name": "stdout",
          "text": [
            "Meu nome é Leticia eu tenho 14 anos e minha cabeça é do tamanho de uma Caixa dágua\n"
          ]
        }
      ]
    }
  ]
}