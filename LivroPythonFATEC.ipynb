{
  "nbformat": 4,
  "nbformat_minor": 0,
  "metadata": {
    "colab": {
      "name": "LivroPythonFATEC.ipynb",
      "provenance": [],
      "collapsed_sections": [],
      "authorship_tag": "ABX9TyPccJCDFuyERNRC90jy5XYy",
      "include_colab_link": true
    },
    "kernelspec": {
      "name": "python3",
      "display_name": "Python 3"
    },
    "language_info": {
      "name": "python"
    }
  },
  "cells": [
    {
      "cell_type": "markdown",
      "metadata": {
        "id": "view-in-github",
        "colab_type": "text"
      },
      "source": [
        "<a href=\"https://colab.research.google.com/github/davidfatec/PythonEstudos/blob/main/LivroPythonFATEC.ipynb\" target=\"_parent\"><img src=\"https://colab.research.google.com/assets/colab-badge.svg\" alt=\"Open In Colab\"/></a>"
      ]
    },
    {
      "cell_type": "markdown",
      "metadata": {
        "id": "B_7y9uDuOlV-"
      },
      "source": [
        "**LIVRO DE PYTHON - FATEC**"
      ]
    },
    {
      "cell_type": "code",
      "metadata": {
        "colab": {
          "base_uri": "https://localhost:8080/"
        },
        "id": "3TxaozF0OZ9Q",
        "outputId": "da344b66-b3da-44f6-e037-39269288bf87"
      },
      "source": [
        "print('Olá Mundo!')"
      ],
      "execution_count": 1,
      "outputs": [
        {
          "output_type": "stream",
          "name": "stdout",
          "text": [
            "Olá Mundo!\n"
          ]
        }
      ]
    },
    {
      "cell_type": "markdown",
      "metadata": {
        "id": "ad-r3cn0VMTt"
      },
      "source": [
        "**Operadores aritméticos**\n"
      ]
    },
    {
      "cell_type": "code",
      "metadata": {
        "id": "6SPVZrUGVXPZ"
      },
      "source": [
        "numero1 = 3\n",
        "numero2 = 5\n",
        "soma = numero1 + numero2\n",
        "subtracao = numero1 - numero2\n",
        "multiplicacao = numero1 * numero2\n",
        "potencia = numero1 ** numero2\n",
        "divisao = numero1 / numero2\n",
        "divisaoInteira = numero1 // numero2\n",
        "restoDivisao = numero1 % numero2\n",
        "raiz = potencia ** (1/numero2)\n",
        "print(f'''\n",
        "Numero 1 = {numero1}\n",
        "Numero 2 = {numero2}\n",
        "Soma = {soma}\n",
        "Subtração = {subtracao}\n",
        "Multiplicação = {multiplicacao}\n",
        "Potência = {potencia}\n",
        "Divisão = {divisao}\n",
        "Divisão inteira = {divisaoInteira}\n",
        "Resto da divisão = {restoDivisao}\n",
        "Raiz da potencia = {raiz}\n",
        "''')\n"
      ],
      "execution_count": null,
      "outputs": []
    },
    {
      "cell_type": "markdown",
      "metadata": {
        "id": "XR6XreQmc12k"
      },
      "source": [
        "**Aumento de salário 5%**"
      ]
    },
    {
      "cell_type": "code",
      "metadata": {
        "colab": {
          "base_uri": "https://localhost:8080/"
        },
        "id": "OYpejcQJc0Pw",
        "outputId": "efb81213-5a06-4866-ee41-fd3cddb284b9"
      },
      "source": [
        "salario = 1500\n",
        "aumento = 5\n",
        "print(salario + (salario * aumento /100))"
      ],
      "execution_count": 15,
      "outputs": [
        {
          "output_type": "stream",
          "name": "stdout",
          "text": [
            "1575.0\n"
          ]
        }
      ]
    }
  ]
}