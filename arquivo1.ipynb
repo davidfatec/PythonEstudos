{
  "nbformat": 4,
  "nbformat_minor": 0,
  "metadata": {
    "colab": {
      "name": "arquivo1.ipynb",
      "provenance": [],
      "authorship_tag": "ABX9TyPQd509SOK5RlMs3JcwnAIo",
      "include_colab_link": true
    },
    "kernelspec": {
      "name": "python3",
      "display_name": "Python 3"
    },
    "language_info": {
      "name": "python"
    }
  },
  "cells": [
    {
      "cell_type": "markdown",
      "metadata": {
        "id": "view-in-github",
        "colab_type": "text"
      },
      "source": [
        "<a href=\"https://colab.research.google.com/github/davidfatec/PythonEstudos/blob/main/arquivo1.ipynb\" target=\"_parent\"><img src=\"https://colab.research.google.com/assets/colab-badge.svg\" alt=\"Open In Colab\"/></a>"
      ]
    },
    {
      "cell_type": "markdown",
      "metadata": {
        "id": "ZbcskiM5-VXo"
      },
      "source": [
        "**PYTHON**"
      ]
    },
    {
      "cell_type": "markdown",
      "metadata": {
        "id": "DQ6NY2PuIrsQ"
      },
      "source": [
        "**MODULO 1**"
      ]
    },
    {
      "cell_type": "code",
      "metadata": {
        "id": "IkuLQH3p-UY3"
      },
      "source": [
        "print('Ola, mundo!')\n",
        "#digite um nome e de boas vindas\n",
        "nome = input('Digite seu nome: ')\n",
        "print('Boa noite {} é muito bom ter você por aqui.'.format(nome))"
      ],
      "execution_count": null,
      "outputs": []
    },
    {
      "cell_type": "markdown",
      "metadata": {
        "id": "RqHlR-tdKqgz"
      },
      "source": [
        "**FATIANDO E MANIPULANDO STRING**"
      ]
    },
    {
      "cell_type": "code",
      "metadata": {
        "id": "v_pnnlUtJBKh"
      },
      "source": [
        "#manipulando texto => a frase abaixo é armazenada caracter por caracter inicia no 0 e vai até 19, pois possui 20 caracteres\n",
        "frase = 'Eu moro em Bebedouro'\n",
        "#Eu moro em  B e b e d o u r o\n",
        "#012345678910111213141516171819\n",
        "print(frase)\n",
        "#fatiando a string                                \n",
        "print(frase[5])\n",
        "#fatiando pedaço da frase range nesse caso o ultimo valor(8) nao entra na contagem\n",
        "print(frase[3:8])\n",
        "#fatiando pulando de 2 em 2\n",
        "print(frase[3:8:2])\n",
        "#fatiando começando do caracter zero e indo até o 8 ou seja até o caracter 7 pois o 8 não é incluido\n",
        "print(frase[:8])\n",
        "#fatiando indo do caracter indicado(incluindo ele mesmo) até o final \n",
        "print(frase[11:])\n",
        "#fatiando do nono caracter até o ultimo\n",
        "print(frase[9:])\n",
        "#fatiando do nono ate o ultimo de 3 em 3\n",
        "print(frase[9::3])\n",
        "\n",
        "#analisando uma string\n",
        "#o len (comprimento) mostra o total de caracteres \n",
        "print(len(frase)) \n",
        "#comando count(a) conta quantos caracteres (a) tem na string \n",
        "print(frase.count('o'))\n",
        "#conta com fatiamento de 0 a 10, anulando o 10ºcaracter\n",
        "print(frase.count('o',0,13))\n",
        "#encontrar a parte desejada .find('caracter desejado') se retornar o valor -1 indica que não foi encontrado\n",
        "print(frase.find('dou'))\n",
        "#indicador indica true or false\n",
        "print('moro' in frase)\n",
        "\n",
        "#transformação muda por metodos\n",
        "print(frase.replace('Bebedouro','Gramado'))\n",
        "#upper modifica o caracter minusculo pelo maiusculo\n",
        "print(frase.upper())\n",
        "#lower modifica todos os caracteres para minusculo\n",
        "print(frase.lower())\n",
        "#capitalize modifica a primeira letras da string para maiuscula\n",
        "print(frase.capitalize())\n",
        "#title modifica todas as primeiras letras das palavras para maiusculo (ele percebe isso pela posição do espaço)\n",
        "print(frase.title())\n",
        "#strip - remove espaço no inicio e final da string rstrip (remove direita) lstrip(remove esquerda)\n",
        "fraseEspaco = '   deixei espaço no inicio e no fim   '\n",
        "print(fraseEspaco)\n",
        "print(fraseEspaco.strip())\n",
        "print(fraseEspaco.rstrip())\n",
        "print(fraseEspaco.lstrip())\n",
        "\n",
        "#divisão de strings\n",
        "#split - dividi a string considerando os espaços\n",
        "print(frase.split())\n",
        "#join - junta os caracteres\n",
        "frase2 = frase.split()\n",
        "print(' '.join(frase2))"
      ],
      "execution_count": null,
      "outputs": []
    },
    {
      "cell_type": "markdown",
      "metadata": {
        "id": "NHEQzA5gK0wu"
      },
      "source": [
        " **Extrutura sequencial => executa uma sequencia de instrução sem usar extrutura condicional**\n",
        "\n",
        "**Extrutura condicional => executa uma sequencia de instrução usando determinada condição**"
      ]
    },
    {
      "cell_type": "code",
      "metadata": {
        "id": "gv_i1Ai5JCsB"
      },
      "source": [
        "print('start programing')\n",
        "carro = int(input('Digite quantos anos tem seu carro: '))\n",
        "if(carro <= 5):\n",
        "    print('carro semi novo')\n",
        "else:\n",
        "    print('O carro NÃO é semi novo ')    \n",
        "print('stop programing')"
      ],
      "execution_count": null,
      "outputs": []
    },
    {
      "cell_type": "markdown",
      "metadata": {
        "id": "rPgbxFWVLRC-"
      },
      "source": [
        "Operações aritmeticas soma +, subtração -, divisão /, multiplicação \"*\" , potencia \"**\" , divisão inteira //, resto da divisão %"
      ]
    },
    {
      "cell_type": "code",
      "metadata": {
        "id": "ZzJzGoqiJC40"
      },
      "source": [
        "numero1 = int(input('Digite um numero: '))\n",
        "numero2 = int(input('Digite outro numero: '))\n",
        "soma = numero1 + numero2\n",
        "subtracao = numero1 - numero2\n",
        "multiplicacao = numero1 * numero2\n",
        "divisao = numero1 / numero2\n",
        "potencia = numero1 ** numero2\n",
        "divisaoInteira = numero1 // numero2\n",
        "restoDaDivisao = numero1 % numero2\n",
        "\n",
        "print('As operações aritmeticas entre {} e {} são:'\n",
        "       '\\n Soma {},\\n Subtração {}, \\n Multiplicação {},'\n",
        "       '\\n Divisão {}, \\n Potenciação {},\\n Divisão inteira {}, \\n resto da divisão {}'\n",
        "       .format(numero1,numero2,soma,subtracao,multiplicacao,\n",
        "              divisao,potencia,divisaoInteira,restoDaDivisao)\n",
        "     )\n",
        "\n",
        "#ordem de precedencia () , ** potenciação, {* / // %} e por ultimo + e -  "
      ],
      "execution_count": null,
      "outputs": []
    },
    {
      "cell_type": "markdown",
      "metadata": {
        "id": "oZil9fA4MDc0"
      },
      "source": [
        "**TIPOS DE VARIÁVEIS (int, float, bool, str)**"
      ]
    },
    {
      "cell_type": "code",
      "metadata": {
        "id": "UaX-FFIZJDBT"
      },
      "source": [
        "# no formato abaixo vai ser concatenado \n",
        "    #n1 = input('Digite um número: ')\n",
        "    #n2 = input('Digite outro número: ')\n",
        "    #s = n1 + n2\n",
        "    #print(s)\n",
        "# o correto é trabalhar tipando os inputs os tipos podem ser (int, float, bool, str)\n",
        "n1 = int(input('Digite um número: '))\n",
        "n2 = int(input('Digite outro número: '))\n",
        "s = n1 + n2\n",
        "print('A soma de {} e {} é {}'.format(n1,n2,s))\n",
        "\n",
        "# int 1 2 3 -1 0 9587\n",
        "# float 4.5 0.078 -45.587 7.0\n",
        "# bool True False\n",
        "# str 'Olá Mundo' '123' '' String vazia"
      ],
      "execution_count": null,
      "outputs": []
    },
    {
      "cell_type": "markdown",
      "metadata": {
        "id": "l_3meesYKjID"
      },
      "source": [
        "**Cores**"
      ]
    },
    {
      "cell_type": "code",
      "metadata": {
        "id": "UIUDWS1nJDDz"
      },
      "source": [
        "#Cores no terminal\n",
        "print('-=-' * 15)\n",
        "print('Cores no terminal')\n",
        "print('-=-' * 15)\n",
        "#ANSI escape sequence\n",
        "#\\033[   m] tres codigos sequencais entre o [ e o m  1-style 2-text 3-back \n",
        "#\\033[0;33;44m\n",
        "#STYLE\n",
        "#0 = sem estilo\n",
        "#1 = negrito\n",
        "#4 = underline\n",
        "#7 = negative inverte a coloraçao letra e fundo \n",
        "#TEXT (30 a 37 - branco/vermelho/verde/amarelo/azul/magenta/ciano/cinza)\n",
        "#BACK (40 a 47 - branco/vermelho/verde/amarelo/azul/magenta/ciano/cinza)\n",
        "print('\\033[0;31mOlá, mundo\\033[m')\n",
        "print('\\033[1;36mNegrito\\033[m')\n",
        "nome = input('digite seu nome: ')\n",
        "#criando cores na variavel\n",
        "cores = {'limpa':'\\033[m',\n",
        "         'azul':'\\033[34m',\n",
        "         'amarelo':'\\033[33m',\n",
        "         'pretoEbranco':'\\033[7;30m'}\n",
        "print('seu nome é {}{}{}'.format(cores['pretoEbranco'],nome, cores['limpa']))"
      ],
      "execution_count": null,
      "outputs": []
    },
    {
      "cell_type": "markdown",
      "metadata": {
        "id": "A2oADtIhKLcv"
      },
      "source": [
        "Trabalhando com modulos (bibliotecas podem ser importadas) para isso usamos o comando import. Quando voce importa uma biblioteca voce importa todas as funcionalidades nessa biblioteca, mas pode tambem optar por determinadas funcionalidades, usando from nome da biblioteca import funcionalidade desejada\n",
        "outros programadores disponibilizam funcionalidades na comunidade python.org ex: validação de CPF\n",
        "biblioteca math (ceil arredonda pra cima) (floor arredonda pra baixo) (trunc elimina da virgula pra frente) (pow potencia(**))\n",
        "(sqrt raiz quadrada) (factorial calcula fatorial) "
      ]
    },
    {
      "cell_type": "code",
      "metadata": {
        "id": "BZoLMIovJDGC"
      },
      "source": [
        "import math                       #importa todas as funcionalidades\n",
        "n = int(input('Digite um numero: '))\n",
        "raiz = math.sqrt(n)\n",
        "msg = 'A raiz quadrada de {} é {} .'.format(n,raiz)\n",
        "print(msg)"
      ],
      "execution_count": null,
      "outputs": []
    },
    {
      "cell_type": "markdown",
      "metadata": {
        "id": "7mXbJ00pMk9V"
      },
      "source": [
        "**EXERCICIOS MODULO 1**"
      ]
    },
    {
      "cell_type": "markdown",
      "metadata": {
        "id": "teBCuZ-6OBl_"
      },
      "source": [
        "**1)Escreva um programa que pergunte a quantidade de Km percorridos por um carro alugado e a quantidade de dias pelos quais ele foi alugado.Calcule o preço a pagar, sabendo que o custo por dia é 60,00 e o KM rodado custa 0,15.**"
      ]
    },
    {
      "cell_type": "code",
      "metadata": {
        "id": "lAlw35-PJDJb"
      },
      "source": [
        "diasLocados = int(input('Digite o numero de dias que o carro foi locado: '))\n",
        "valorDia = float(input('Digite o valor da diario: R$'))\n",
        "kmInicial = float(input('Digite o km inicial: ')) \n",
        "kmFinal = float(input('Digite o km Final: '))\n",
        "valorKm = float(input('Digite o valor por km: R$'))\n",
        "kmRodado = kmFinal - kmInicial\n",
        "totalPagar = (diasLocados * valorDia) + (kmRodado * valorKm)\n",
        "msg ='''Descrição da locação \n",
        "Dias locados: {} dias (R${:.2f}) \n",
        "Km Rodado:   {:.0f}km (R${:.2f})\n",
        "==================================\n",
        "          Total a pagar R${:.2f}\n",
        "'''.format(diasLocados,diasLocados * valorDia,kmRodado,kmRodado * valorKm,totalPagar)\n",
        "print(msg)"
      ],
      "execution_count": null,
      "outputs": []
    },
    {
      "cell_type": "markdown",
      "metadata": {
        "id": "3HqtnrlXP3lF"
      },
      "source": [
        "**2)Escreva um algoritmo que leia uma temperatura em ºC e converta para ºF**\n",
        "**Formula ( °C × 9/5) + 32 = °F**"
      ]
    },
    {
      "cell_type": "code",
      "metadata": {
        "id": "hMSIV1J8JDX_"
      },
      "source": [
        "c = float(input('Digite a temperatura em ºC: '))\n",
        "f = (c * 9/5) + 32\n",
        "msg = '{} ºC equivale a {} ºF'.format(c,f)\n",
        "print(msg)"
      ],
      "execution_count": null,
      "outputs": []
    },
    {
      "cell_type": "markdown",
      "metadata": {
        "id": "jsAGAoMrQFxY"
      },
      "source": [
        "**3)Faça um programa que leia algo pelo teclado e mostre na tela seu tipo primitivo e todas as informações possiveis sobre ela**"
      ]
    },
    {
      "cell_type": "code",
      "metadata": {
        "id": "nUGsqrEzQGIq"
      },
      "source": [
        "palavra = input('digite algo: ')\n",
        "print('tipo primitivo é ',type(palavra))\n",
        "print('é numerico?',palavra.isnumeric())\n",
        "print('é alpha numerico?',palavra.isalnum())\n",
        "print('é apenas alpha?',palavra.isalpha())\n",
        "print('possue espaço?',palavra.isspace())\n",
        "print('é só minusculo?',palavra.islower())\n",
        "print('é só maiusculo?',palavra.isupper())\n",
        "print('é capitalizada?',palavra.istitle())"
      ],
      "execution_count": null,
      "outputs": []
    },
    {
      "cell_type": "markdown",
      "metadata": {
        "id": "Ia7bOLxLQGdn"
      },
      "source": [
        "**4)Faça um programa que leia o nome de uma pessoa e mostre uma msg de boas vindas**"
      ]
    },
    {
      "cell_type": "code",
      "metadata": {
        "id": "nLpWMO9IQGwo"
      },
      "source": [
        "nome = input('Digite seu Nome: ')\n",
        "msg = 'Bom dia Sr(a) {} Seja bem vindo(a)!'.format(nome)\n",
        "print(msg)"
      ],
      "execution_count": null,
      "outputs": []
    },
    {
      "cell_type": "markdown",
      "metadata": {
        "id": "LUecdMKTQHDU"
      },
      "source": [
        "**5)faça um algoritmo que leia um numero inteiro e mostre na tela o seu antecessor e seu sucessor**"
      ]
    },
    {
      "cell_type": "code",
      "metadata": {
        "id": "1N-TDrbIQHUo"
      },
      "source": [
        "numero = int(input('Digite um numero: '))\n",
        "sucessor = numero + 1 \n",
        "antecessor = numero -1\n",
        "msg = 'O antecessor de {} é {} e seu sucessor é {}'.format(numero,antecessor,sucessor) \n",
        "print(msg)"
      ],
      "execution_count": null,
      "outputs": []
    },
    {
      "cell_type": "markdown",
      "metadata": {
        "id": "7_LezMfgQHlT"
      },
      "source": [
        "**6)Crie um algoritmo que leia um numero e mostre seu dobro, triplo e raiz quadrada**"
      ]
    },
    {
      "cell_type": "code",
      "metadata": {
        "id": "_HLj4x3JQH3R"
      },
      "source": [
        "numero = int(input('Digite um numero: '))\n",
        "dobro = numero * 2\n",
        "triplo = numero * 3 \n",
        "raiz = numero ** 0.5\n",
        "msg = 'Referente ao número {} temos: \\nDobro {}, \\ntriplo {}, \\nRaiz quadrada {}'.format(numero,dobro,triplo,raiz)\n",
        "print(msg)"
      ],
      "execution_count": null,
      "outputs": []
    },
    {
      "cell_type": "markdown",
      "metadata": {
        "id": "8KwwfWntQIUL"
      },
      "source": [
        "**7)Escreva um programa que leia duas notas de um aluno e calcule e mostre a sua média**"
      ]
    },
    {
      "cell_type": "code",
      "metadata": {
        "id": "nuH8yFt_QIl7"
      },
      "source": [
        "nota1 = float(input(\"Digite a nota da primeira prova: \"))\n",
        "nota2 = float(input('Digite a nota da segunda prova: '))\n",
        "media = (nota1 + nota2)/2\n",
        "msg = 'A notas de suas duas provas foram respectivamente {} e {} e sua média é {} '.format(nota1,nota2,media)\n",
        "print(msg)"
      ],
      "execution_count": null,
      "outputs": []
    },
    {
      "cell_type": "markdown",
      "metadata": {
        "id": "9A_eci-CQI2d"
      },
      "source": [
        "**8)Escreva um programa que receba um valor em metros e o converta para centimetros e milimetros**"
      ]
    },
    {
      "cell_type": "code",
      "metadata": {
        "id": "k1rD2HRmQJGQ"
      },
      "source": [
        "metro = int(input('Digite um valor em metros: '))\n",
        "centimetros = metro * 100\n",
        "milimetros = metro * 1000\n",
        "msg = 'O valor de {} metro(s), corresponde a {} centimetros e {} milimetros'.format(metro, centimetros,milimetros)\n",
        "print(msg)"
      ],
      "execution_count": null,
      "outputs": []
    }
  ]
}