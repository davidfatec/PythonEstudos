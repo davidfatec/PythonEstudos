{
  "nbformat": 4,
  "nbformat_minor": 0,
  "metadata": {
    "colab": {
      "name": "AulaENAP.ipynb",
      "provenance": [],
      "collapsed_sections": [],
      "authorship_tag": "ABX9TyP/PUhc/Q78StHAlpyBe6WL",
      "include_colab_link": true
    },
    "kernelspec": {
      "name": "python3",
      "display_name": "Python 3"
    },
    "language_info": {
      "name": "python"
    }
  },
  "cells": [
    {
      "cell_type": "markdown",
      "metadata": {
        "id": "view-in-github",
        "colab_type": "text"
      },
      "source": [
        "<a href=\"https://colab.research.google.com/github/davidfatec/PythonEstudos/blob/main/AulaENAP.ipynb\" target=\"_parent\"><img src=\"https://colab.research.google.com/assets/colab-badge.svg\" alt=\"Open In Colab\"/></a>"
      ]
    },
    {
      "cell_type": "markdown",
      "metadata": {
        "id": "9Rfz0HjSXyt-"
      },
      "source": [
        "![python.PNG](data:image/png;base64,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)\n",
        "\n",
        "**CURSO ENAP Setembro 2021 - PYTHON**\n",
        "\n",
        "\n",
        "\n"
      ]
    },
    {
      "cell_type": "markdown",
      "metadata": {
        "id": "xl2F12wnqdQD"
      },
      "source": [
        "**Módulo 1: Variáveis, Operações, Condições**"
      ]
    },
    {
      "cell_type": "markdown",
      "metadata": {
        "id": "O-eX6OzStrT9"
      },
      "source": [
        "**Variáveis**\n",
        "Atribuição de Variáveis\n",
        "As variáveis são as mesmas que as variáveis em matemática, exceto que variáveis matemáticas são muitas vezes letras, mas variáveis de programação podem ser palavras.\n",
        "\n",
        "Variáveis: um conjunto que contém algumas informações.\n",
        "\n",
        "Nota sobre a declaração de variáveis:\n",
        "\n",
        "Case-sensitive (ou seja, caracteres em caixa alta ou baixa são tratados como diferentes)\n",
        "DEVE começar com uma letra ou um sublinhado; NÃO PODE começar com números.\n",
        "NÃO PODE ser o mesmo nome que as palavras-chave Python (por exemplo, class, finally, etc.)\n",
        "NÃO especificar o tipo de informação armazenada na variável. (Consulte os seguintes códigos para um exemplo.)"
      ]
    },
    {
      "cell_type": "code",
      "metadata": {
        "id": "jIxhsN5Cu_Tk"
      },
      "source": [
        "#manipulando texto => a frase abaixo é armazenada caracter por caracter inicia no 0 e vai até 19, pois possui 20 caracteres\n",
        "frase = 'Eu moro em Bebedouro'\n",
        "#Eu moro em  B e b e d o u r o\n",
        "#012345678910111213141516171819\n",
        "print(frase)\n",
        "#fatiando a string                                \n",
        "print(frase[5])\n",
        "#fatiando pedaço da frase range nesse caso o ultimo valor(8) nao entra na contagem\n",
        "print(frase[3:8])\n",
        "#fatiando pulando de 2 em 2\n",
        "print(frase[3:8:2])\n",
        "#fatiando começando do caracter zero e indo até o 8 ou seja até o caracter 7 pois o 8 não é incluido\n",
        "print(frase[:8])\n",
        "#fatiando indo do caracter indicado(incluindo ele mesmo) até o final \n",
        "print(frase[11:])\n",
        "#fatiando do nono caracter até o ultimo\n",
        "print(frase[9:])\n",
        "#fatiando do nono ate o ultimo de 3 em 3\n",
        "print(frase[9::3])\n",
        "\n",
        "#analisando uma string\n",
        "#o len (comprimento) mostra o total de caracteres \n",
        "print(len(frase)) \n",
        "#comando count(a) conta quantos caracteres (a) tem na string \n",
        "print(frase.count('o'))\n",
        "#conta com fatiamento de 0 a 10, anulando o 10ºcaracter\n",
        "print(frase.count('o',0,13))\n",
        "#encontrar a parte desejada .find('caracter desejado') se retornar o valor -1 indica que não foi encontrado\n",
        "print(frase.find('dou'))\n",
        "#indicador indica true or false\n",
        "print('moro' in frase)\n",
        "\n",
        "#transformação muda por metodos\n",
        "print(frase.replace('Bebedouro','Gramado'))\n",
        "#upper modifica o caracter minusculo pelo maiusculo\n",
        "print(frase.upper())\n",
        "#lower modifica todos os caracteres para minusculo\n",
        "print(frase.lower())\n",
        "#capitalize modifica a primeira letras da string para maiuscula\n",
        "print(frase.capitalize())\n",
        "#title modifica todas as primeiras letras das palavras para maiusculo (ele percebe isso pela posição do espaço)\n",
        "print(frase.title())\n",
        "#strip - remove espaço no inicio e final da string rstrip (remove direita) lstrip(remove esquerda)\n",
        "fraseEspaco = '   deixei espaço no inicio e no fim   '\n",
        "print(fraseEspaco)\n",
        "print(fraseEspaco.strip())\n",
        "print(fraseEspaco.rstrip())\n",
        "print(fraseEspaco.lstrip())\n",
        "\n",
        "#divisão de strings\n",
        "#split - dividi a string considerando os espaços\n",
        "print(frase.split())\n",
        "#join - junta os caracteres\n",
        "frase2 = frase.split()\n",
        "print(' '.join(frase2))"
      ],
      "execution_count": null,
      "outputs": []
    },
    {
      "cell_type": "markdown",
      "metadata": {
        "id": "bQXVFXJ_vf_s"
      },
      "source": [
        "**OPERADORES ARITIMETICOS**"
      ]
    },
    {
      "cell_type": "code",
      "metadata": {
        "id": "SFKG2NhYvQVU"
      },
      "source": [
        "#Operações aritmeticos soma +, subtração -, divisão /, multiplicação *, potencia **, divisão inteira //, resto da divisão %\n",
        "numero1 = int(input('Digite um numero: '))\n",
        "numero2 = int(input('Digite outro numero: '))\n",
        "soma = numero1 + numero2\n",
        "subtracao = numero1 - numero2\n",
        "multiplicacao = numero1 * numero2\n",
        "divisao = numero1 / numero2\n",
        "potencia = numero1 ** numero2\n",
        "divisaoInteira = numero1 // numero2\n",
        "restoDaDivisao = numero1 % numero2\n",
        "\n",
        "print('As operações aritmeticas entre {} e {} são:'\n",
        "       '\\n Soma {},\\n Subtração {}, \\n Multiplicação {},'\n",
        "       '\\n Divisão {}, \\n Potenciação {},\\n Divisão inteira {}, \\n resto da divisão {}'\n",
        "       .format(numero1,numero2,soma,subtracao,multiplicacao,\n",
        "              divisao,potencia,divisaoInteira,restoDaDivisao)\n",
        "     )\n",
        "\n",
        "#ordem de precedencia () , ** potenciação, {* / // %} e por ultimo + e -   "
      ],
      "execution_count": null,
      "outputs": []
    },
    {
      "cell_type": "markdown",
      "metadata": {
        "id": "7wzT6YLvwBLe"
      },
      "source": [
        "**LISTA DE EXERCICIOS [1]**"
      ]
    },
    {
      "cell_type": "code",
      "metadata": {
        "id": "Jlk-rOdswBzG"
      },
      "source": [
        "#1)Faça um programa que peça dois numeros e imprima a soma desses 2 numeros.\n",
        "n1 = int(input('Digite um número: '))\n",
        "n2 = int(input('Digite outro número: '))\n",
        "soma = n1 + n2\n",
        "msg = 'A soma de {} e {} é {}'.format(n1,n2,soma)\n",
        "print(msg)"
      ],
      "execution_count": null,
      "outputs": []
    },
    {
      "cell_type": "code",
      "metadata": {
        "id": "DRIJ5RP1wCmb"
      },
      "source": [
        "#2)escreva um programa que leia um valor em metros e exiba convertido em milimetros\n",
        "valor = float(input('Digite um valor em metro: '))\n",
        "milimetros = valor * 1000\n",
        "msg = 'O valor de {} metros Corresponde a {:.0f} milimetros'.format(valor,milimetros)\n",
        "print(msg)"
      ],
      "execution_count": null,
      "outputs": []
    },
    {
      "cell_type": "code",
      "metadata": {
        "id": "ujG1rodpwDPK"
      },
      "source": [
        "#3)Escreva um programa que leia a quantidade de dias, horas, minutos e segundos do usuario.Calcule o total em segundos\n",
        "dias = int(input('Digite quantos dias: '))\n",
        "horas = int(input('Digite quantas horas: '))\n",
        "minutos = int(input('Digite quantos minutos: '))\n",
        "segundos = int(input('Digite quantos segundos: '))\n",
        "totalSegundos = (dias*24*60*60)+(horas*60*60)+(minutos * 60)+segundos\n",
        "msg = '{} dia(s)\\n{} hora(s)\\n{} minuto(s)\\n{} segundo(s)\\nCorresponde a {} segundo(s)'.format(dias,horas,minutos,segundos,totalSegundos)\n",
        "print(msg)"
      ],
      "execution_count": null,
      "outputs": []
    },
    {
      "cell_type": "code",
      "metadata": {
        "id": "3xboy3usxHnk"
      },
      "source": [
        "'''\n",
        "4)Faça um programa que calcule o aumento de um salario. Ele deve solicitar o valor do salario \n",
        "atual e a porcentagem do aumento e exibir o valor do aumento e do novo salario\n",
        "'''\n",
        "salarioAtual = float(input('Digite o valor do salario atual: R$'))\n",
        "percentualAumento = float(input('Digite o persentual de aumento: '))\n",
        "valorDoAjuste = percentualAumento/100 * salarioAtual\n",
        "novoSalario = salarioAtual + valorDoAjuste\n",
        "msg = 'O seu novo salário teve um aumento de R${:.2f} e passa a ser R${:.2f} a partir de hoje'.format(valorDoAjuste,novoSalario)\n",
        "print(msg)"
      ],
      "execution_count": null,
      "outputs": []
    },
    {
      "cell_type": "code",
      "metadata": {
        "id": "rAGhMEsjxH6A"
      },
      "source": [
        "#5)Solicite o preço de uma mercadoria e o percentual de desconto. Exiba o valor do desconto e preço a a pagar. \n",
        "preco = float(input('Digite o preço: R$'))\n",
        "perDesconto = float(input('Digite o percentual de desconto: '))\n",
        "valorDesconto = perDesconto/100 * preco\n",
        "precoDesconto = preco - valorDesconto\n",
        "msg = 'O desconto foi de R${:.2f} e o preço com desconto é R${:.2f}'.format(valorDesconto,precoDesconto)\n",
        "print(msg)"
      ],
      "execution_count": null,
      "outputs": []
    },
    {
      "cell_type": "code",
      "metadata": {
        "id": "E78YVq_1xIHF"
      },
      "source": [
        "#6)Calcule o tempo de uma viagem de carro. Pergunte a distancia a percorrer e a velocidade media da viagem.\n",
        "distancia = float(input('Digite a distancia a percorrer em km: '))\n",
        "velocidadeMedia = float(input('Digite a velocidade media km/h: '))\n",
        "tempo = distancia / velocidadeMedia\n",
        "\n",
        "tempo_segundo = int(tempo * 3600) # converte o tempo em horas para segundos ex 1.5 horas = 5400 segundos\n",
        "horas = int(tempo_segundo // 3600) # parte inteira apenas a hora 5400 / 3600 = 1.5 nesse codigo a variavel recebe apena o 1\n",
        "tempo_segundo = int(tempo_segundo % 3600) # o resto de 5400 % 3600 = que equivale a 0.5 de 3600 (1800)\n",
        "minutos = int(tempo_segundo // 60) #recebe os 1800 / 60 = 30 \n",
        "segundos = int(tempo_segundo % 60) #recebe o resto de 1800 / 60 = 0\n",
        "\n",
        "print('''\n",
        "Para percorrer {:.2f} kilometros\n",
        "a velocidade de: {:.2f} km/h\n",
        "levaremos {:03d}:{:02d}:{:02d}'''.format(distancia,velocidadeMedia,horas,minutos,segundos))"
      ],
      "execution_count": null,
      "outputs": []
    },
    {
      "cell_type": "code",
      "metadata": {
        "id": "djqSrnI5xITd"
      },
      "source": [
        "#7)Converta uma temperatura digitada em Celsius para Fahrenheit. F = 9*C/5 + 32\n",
        "c = float(input('Digite quantos graus Celsius: '))\n",
        "f = (9*c/5) + 32\n",
        "print('{:.2f} grau(s) Celsius equivale a {:.2f} grau(s) Fahrenheit'.format(c,f))"
      ],
      "execution_count": null,
      "outputs": []
    },
    {
      "cell_type": "code",
      "metadata": {
        "id": "quMbLAN5xIqf"
      },
      "source": [
        "#8)Faça um sistema que converta de grau Fahrenheit para Celsius (F − 32) × 5/9 \n",
        "f = float(input('Digite quantos graus Fahrenheit: '))\n",
        "c = (f - 32) * 5/9\n",
        "print('O valor de {:.2f}ºF equivale a {:.2f}ºC'.format(f,c))"
      ],
      "execution_count": null,
      "outputs": []
    },
    {
      "cell_type": "code",
      "metadata": {
        "id": "U3zsW1O2xI2C"
      },
      "source": [
        "'''\n",
        "9)Escreva um programa que pergunte a quantidade de Km percorridos por um carro alugado pelo usuario, assim como a quantidade de dias pelos quais\n",
        "o carro foi alugado.Calcule o preço a pagar, sabendo que o custo por dia é R$60,00 e R$0,15 por KM rodado.\n",
        "'''\n",
        "diasLocados = int(input('Digite o numero de dias que o carro foi locado: ')) \n",
        "valorDia = float(input('Digite o valor da diaria: R$'))\n",
        "kmInicial = float(input('Digite o km inicial: ')) \n",
        "kmFinal = float(input('Digite o km Final: '))\n",
        "valorKm = float(input('Digite o valor por km: R$'))\n",
        "kmRodado = kmFinal - kmInicial\n",
        "totalPagar = (diasLocados * valorDia) + (kmRodado * valorKm)\n",
        "msg = '''\n",
        "Descrição da locação: \n",
        "Dias locados: {} dias R${:.2f}\n",
        "Km Rodado: {:.0f} km R${:.2f}\n",
        "Total a pagar R${:.2f}'''.format(diasLocados,diasLocados * valorDia,kmRodado,kmRodado * valorKm,totalPagar)\n",
        "print(msg)"
      ],
      "execution_count": null,
      "outputs": []
    },
    {
      "cell_type": "code",
      "metadata": {
        "id": "trX_WInkycbV"
      },
      "source": [
        "'''\n",
        "10)Escreva um programa para calcular a redução do tempo de vida de um fumante. Pergunte a quantidade de \n",
        "cigarros fumados por dia e quantos anos ele ja fumou. Considere que um fumante perde 10 minutos de \n",
        "vida a cada cigarro, calcule quantos dias de vida um fumante perdera. Exiba o total em dias. \n",
        "'''\n",
        "#logica 1\n",
        "cigarrosDia = int(input('Quantos cigarro fuma por dia? '))\n",
        "anosQueFuma = float(input('quantos anos fuma? '))\n",
        "cigarroFumados = (anosQueFuma * 365) * cigarrosDia\n",
        "tempoDeVidaPerdido = (cigarroFumados * 10) / 1440 #1440 é a quantidade de minutos que tem um dia\n",
        "print('Por ter fumado {:.0f} cigarros durante {:.0f} ano(s), sinto lhe informar que perdeu {:.0f}'\n",
        "      ' dias de sua vida'.format(cigarroFumados,anosQueFuma,tempoDeVidaPerdido))\n",
        "\n",
        "#logica 2\n",
        "print(\"Outra forma\")\n",
        "cigarrosDia2 = int(input(\"Quantidade de cigarros por dia:\"))\n",
        "anosQueFuma2 = float(input(\"Quantidade de anos fumando:\"))\n",
        "reducaoMinutos = anosQueFuma2 * 365 * cigarrosDia2 * 10\n",
        "# Um dia tem 24 x 60 minutos\n",
        "reducaoDias = reducaoMinutos / (24 * 60)\n",
        "print(\"Redução do tempo de vida %8.0f dias.\" % reducaoDias)"
      ],
      "execution_count": null,
      "outputs": []
    },
    {
      "cell_type": "code",
      "metadata": {
        "id": "osunq5gEycqI"
      },
      "source": [
        "#11)Sabendo que str() converte valores numericos para string. Calcule quantos digitos há em 2 elevado a um milhao\n",
        "int = 2 ** 1000000\n",
        "#str = str(int)\n",
        "print(int)\n",
        "print('2 elevado a um milhão possui {} digitos'.format(len(str)))"
      ],
      "execution_count": null,
      "outputs": []
    },
    {
      "cell_type": "markdown",
      "metadata": {
        "id": "oewaJ48Y4-lD"
      },
      "source": [
        "**Lista de exercicios [2]**"
      ]
    },
    {
      "cell_type": "code",
      "metadata": {
        "id": "E8atk99R5GuC"
      },
      "source": [
        "'''\n",
        "1)Faça um algoritimo que peça os tres lados.O programa deverá informar se os valores podem ser um triangulo.indique,\n",
        "caso os lados formem um triangulo, se o mesmo é: equilatero, isosceles ou escaleno\n",
        "'''\n",
        "lado1 = float(input('Digite o lado 1: '))\n",
        "lado2 = float(input('Digite o lado 2: '))\n",
        "lado3 = float(input('Digite o lado 3: '))\n",
        "\n",
        "triangulo = False\n",
        "\n",
        "if lado1 < lado2 + lado3 and lado2 < lado1 + lado3 and lado3 < lado1 + lado2:\n",
        "    triangulo = True\n",
        "    print('O lado 1 {:.1f}, lado2 {:.1f} e lado 3 {:.1f} formam um tringulo.'.format(lado1,lado2,lado3))\n",
        "    if (lado1 != lado2 and lado2 != lado3 and lado3 != lado1):   \n",
        "       print('Esse tringulo é de tipo escaleno.')\n",
        "    if (lado1 == lado2 != lado3) or (lado1 == lado3 != lado2) or (lado2 == lado3 != lado1):\n",
        "       print('Esse tringulo é de tipo isosceles')\n",
        "    if(lado1 == lado2 and lado2 == lado3 and lado1 == lado3):   \n",
        "       print('Esse tringulo é de tipo equilatero')\n",
        "if(triangulo == False):    \n",
        "    print('Não formam um triangulo')\n",
        "print('Fim do sistema') "
      ],
      "execution_count": null,
      "outputs": []
    },
    {
      "cell_type": "code",
      "metadata": {
        "id": "dyC3N-d75HAR"
      },
      "source": [
        "#2)Determine um ano, verifique se é bissexto não. \n",
        "print('Verificador de ano bissexto.')\n",
        "ano = int(input('Digite um ano para obter a informação: '))\n",
        "\n",
        "if(ano % 4 == 0 and ano % 100 != 0 or ano % 400 == 0):\n",
        "    print('O ano {} é bissexto'.format(ano))\n",
        "else:\n",
        "    print('O ano {} não é um ano bissexto'.format(ano))    "
      ],
      "execution_count": null,
      "outputs": []
    },
    {
      "cell_type": "code",
      "metadata": {
        "id": "XV9UfLsQ5HL5"
      },
      "source": [
        "'''\n",
        "3)João papo de pescador, homem de bem, comprou um microcomputador para controlar o rendimento diario de seu trabalho. toda vez que ele\n",
        "traz um peso de peixes maior que o estabelecido pelo regulamento de pesca do estado de São Paulo(50 kilos) deve pagar uma multa de\n",
        "R$4,00 por por quilo excedente. Joao precisa que voce faça um programa que leia a variavel peso e verifique se ha excesso. Se houver\n",
        "gravar na variavel excesso e na variavel multa o valor da multa que joão deverá pagar.Caso contrario mostras tais variaveis com o conteudo \n",
        "zero\n",
        "'''\n",
        "peixePescado = float(input('Digite a quantidade pescada hoje: '))\n",
        "valorDaMulta = float(4)\n",
        "multa = float(0)\n",
        "excesso = peixePescado - 50\n",
        "\n",
        "if(excesso > 0):\n",
        "    multa = valorDaMulta * excesso\n",
        "    print('Assim não deixará peixes para seus descendentes\\nExcesso: {:.2f}kg\\nMulta: R${:.2f} de multa'.format(excesso,multa))\n",
        "else:\n",
        "    print('Parabéns voce ficou dentro do limite\\nExcesso: {:.2f}kg\\nMulta: R${:.2f}'.format(excesso,multa))    \n",
        "print('Fim do Sistema')    "
      ],
      "execution_count": null,
      "outputs": []
    },
    {
      "cell_type": "code",
      "metadata": {
        "id": "b57ZMdjb5HPS"
      },
      "source": [
        "#4)faça um programa que leia tres numeros e mostre o maior deles\n",
        "n1 = int(input('Digite o primeiro numero: '))\n",
        "n2 = int(input('Digite o segundo numero: '))\n",
        "n3 = int(input('Digite o terceiro numero: '))\n",
        "maior = n1\n",
        "if n2>n1 and n2>n3:\n",
        "    maior = n2\n",
        "if n3>n1 and n3>n2:\n",
        "    maior = n3\n",
        "print('Dentre os tres numeros digitados {}, {} e {}\\n{} é o maior'.format(n1,n2,n3,maior))   "
      ],
      "execution_count": null,
      "outputs": []
    },
    {
      "cell_type": "code",
      "metadata": {
        "id": "ER0mDeN85HYG"
      },
      "source": [
        "#5)Faça um Programa que leia tres numeros e mostre o maior e o menor deles \n",
        "n1 = int(input('Digite o primeiro numero: '))\n",
        "n2 = int(input('Digite o segundo numero: '))\n",
        "n3 = int(input('Digite o terceiro numero: '))\n",
        "menor = n1\n",
        "if n2 < n1 and n2 < n3:\n",
        "    menor = n2\n",
        "if n3 < n1 and n3 < n2:\n",
        "    menor = n3\n",
        "maior = n1\n",
        "if n2 > n1 and n2 > n3:\n",
        "    maior = n2\n",
        "if n3 > n1 and n3 > n2:\n",
        "    maior = n3     \n",
        "    \n",
        "print('Dentre os tres numeros digitados {}, {} e {}\\nO maior é: {}\\nO menor é: {}'.format(n1,n2,n3,maior,menor)) "
      ],
      "execution_count": null,
      "outputs": []
    },
    {
      "cell_type": "code",
      "metadata": {
        "id": "lX0UaxVN5Hjl"
      },
      "source": [
        "'''\n",
        "6)Faça um programa que pergunte quanto voce ganha por hora e o numero de horas trabalhadas no mês. Calcule e mostre o total do seu salario\n",
        "no mês referido, sabendo que são descontados 11% para o imposto de renda, 8% para o INSS e 5% para o sindicato, faça um programa que nos dê\n",
        "o salario bruto, quanto pagou ao INSS, quanto pagou ao sindicato e o salario liquido. Observe que salario Bruto - descontos = salario \n",
        "liquido. Calcule os descontos e o salario liquido, conforme o enunciado;\n",
        "'''\n",
        "print('-=-'*30)\n",
        "print('                         F O L H A  D E  P A G A M E N T O')\n",
        "print('-=-'*30)\n",
        "#recebe os valores\n",
        "mes = input('Digite o mes de referência: ')\n",
        "mes = mes.upper()\n",
        "ano = input('Digite o ano de referencia: ')\n",
        "horasTrabalhada = float(input('Digite quantas horas trabalhadas no mês: '))\n",
        "valorHora = float(input('Digite o valor pago por hora: R$ '))\n",
        "#logica para valores\n",
        "salarioBruto = horasTrabalhada * valorHora\n",
        "inss = (8/100 * salarioBruto)\n",
        "IR = (11/100 * salarioBruto)\n",
        "sindicato = (5/100 * salarioBruto)\n",
        "totalDesconto = inss + IR + sindicato\n",
        "salarioLiquido = salarioBruto - totalDesconto\n",
        "#Mostra a informação detalhada\n",
        "print('-=-'*30)\n",
        "print('                                   Referencia                 {} de {}'.format(mes,ano))\n",
        "print('-=-'*30)\n",
        "print('Horas trabalhadas: {:.0f} h/mês\\nValor por hora: R${:.2f}\\n\\033[1;32m************************************************************ Valor sem desconto: R${:.2f}\\033[m'\n",
        "      '\\n\\033[1;31m******************** Desconto IR: R${:.2f}\\n******************** Desconto INSS: R${:.2f}\\n******************** Contribuição Sindical: R${:.2f}'\n",
        "      '\\n**************************************** Total de Descontos: R${:.2f}\\n\\033[m\\033[1;32m************************************************************ Salario liquido: R${:.2f}\\033[m'.format(horasTrabalhada,valorHora,salarioBruto,IR,inss,sindicato,totalDesconto,salarioLiquido))\n",
        "\n",
        "print('-=-'*30)\n",
        "print('                                               S y s P a g')\n",
        "print('-=-'*30)"
      ],
      "execution_count": null,
      "outputs": []
    },
    {
      "cell_type": "code",
      "metadata": {
        "id": "3Fw4fzCH5Htz"
      },
      "source": [
        "'''\n",
        "7)Faça um programa para uma loja de tintas. O programa deverá pedir o tamanho em metros quadrados da area a ser pintada. \n",
        "Considere que a cobertura da tinta é de 1 litro para cada 3 metros quadrados e que a tinta é vendida em latas de 18 litros,\n",
        "que custam R$ 80,00. Informe ao usuario a quantidade de latas de tinta a serem compradas e o preço total. Obs as lata só são mentidas inteiras\n",
        "'''\n",
        "print('-=-'*30)\n",
        "print('                                    Orçamento NOVA TINTAS')\n",
        "print('-=-'*30)\n",
        "areaPintura = float(input('Informe a area a ser pintada em metros quadrados: '))\n",
        "preco = float(80)\n",
        "qdeLata = int(18)\n",
        "qdeNecessaria = areaPintura / 3\n",
        "sugestao = qdeNecessaria / qdeLata\n",
        "if sugestao % 1 != 0:\n",
        "    sugestao = int(sugestao + 1)\n",
        "    \n",
        "total = sugestao * preco\n",
        "print('-=-'*30)\n",
        "print('                                    Orçamento NOVA TINTAS')\n",
        "print('-=-'*30)    \n",
        "\n",
        "print('Para a area de {:.2f}m² você vai utilizar {:.2f} litros de tinta'\n",
        "      '\\nÉ preciso comprar {:.0f} lata(s)'.format(areaPintura,qdeNecessaria,sugestao))\n",
        "print('Total a pagar: R${:.2f}'.format(total))"
      ],
      "execution_count": null,
      "outputs": []
    },
    {
      "cell_type": "code",
      "metadata": {
        "id": "J7ACC2jf5H7D"
      },
      "source": [
        "'''\n",
        "8)Desenvolva uma lógica que leia o peso e a altura de uma pessoa, calcule seu IMC e mostre seu status, de acordo com a tabela abaixo:\n",
        "abaixo de 18.5: abaixo do peso\n",
        "entre 18.5 e 25: peso ideal\n",
        "25 até 30: sobrepeso\n",
        "30 até 40: Obesidade\n",
        "Acima de 40: obesidade morbida\n",
        "'''\n",
        "altura = str(input('Digite sua altura: '))\n",
        "peso = str(input('Digite seu peso: '))\n",
        "altura = float(altura.replace(',','.'))\n",
        "peso = float(peso.replace(',','.'))\n",
        "imc = peso / (altura**2)\n",
        "status = 'abaixo do peso'\n",
        "if imc >=18.5 and imc < 25:\n",
        "    status = 'no peso ideal'\n",
        "elif imc >= 25  and imc < 30:\n",
        "    status = 'com sobrepeso' \n",
        "elif imc >= 30 and imc <= 40:\n",
        "    status = 'em obesidade'   \n",
        "elif imc > 40:\n",
        "    status = 'em obesidade morbida'      \n",
        "msg ='''\n",
        "Com base na sua altura de {:.2f} \n",
        "Seu peso de {:.2f}kg\n",
        "Seu IMC é {:.2f}\n",
        "No calculo de imc diz que você está {}\n",
        "'''.format(altura,peso,imc,status)\n",
        "print(msg)"
      ],
      "execution_count": null,
      "outputs": []
    },
    {
      "cell_type": "markdown",
      "metadata": {
        "id": "KlzBunm2ppMw"
      },
      "source": [
        "**MODULO 2**"
      ]
    },
    {
      "cell_type": "code",
      "metadata": {
        "id": "gqS54QcMX8yq"
      },
      "source": [
        "#tabuada com while\n",
        "numero = int(input(\"Digite um número: \"))\n",
        "i = 1\n",
        "while i <= 10:\n",
        "  print(\"{} X {:2d} = {:3d}\".format(numero, i,numero * i))\n",
        "  i = i+1"
      ],
      "execution_count": null,
      "outputs": []
    },
    {
      "cell_type": "code",
      "metadata": {
        "id": "JRT9u0gNX8vP"
      },
      "source": [
        "while True:\n",
        "  usuario = input(\"Escreva o nome das pessoas (end sai do sistema): \")\n",
        "\n",
        "  ## Quando o \"break\" é acionado, o print() abaixo NÃO será executado.\n",
        "  ## O programa romperá o loop quando esta palavra-chave for lida.\n",
        "  if usuario==\"end\":\n",
        "    print(\"fim do programa!!!\")\n",
        "    break\n",
        "  print(usuario)"
      ],
      "execution_count": null,
      "outputs": []
    },
    {
      "cell_type": "markdown",
      "metadata": {
        "id": "iT0BVDpEZxWY"
      },
      "source": [
        "**Tabuada até o end ser acionado**"
      ]
    },
    {
      "cell_type": "code",
      "metadata": {
        "id": "RkjKF4vvbjw1"
      },
      "source": [
        "import os\n",
        "os.system('cls' if os.name == 'nt' else 'clear')\n",
        "end = False\n",
        "print(\"Inicio do Sistema\")\n",
        "while end == False:\n",
        "  print(\"[0] sai do sistema\")\n",
        "  numero = int(input(\"Digite um número: \"))\n",
        "  if numero== 0 :\n",
        "    print(\"Fim do sistema!!!\")\n",
        "    end = True\n",
        "  else: \n",
        "    i = 1\n",
        "    print(\"Tabuado do {}\".format(numero))\n",
        "    while i <= 10:\n",
        "      print(\"{} X {:2d} = {:3d}\".format(numero,i,numero*i))\n",
        "      i+=1"
      ],
      "execution_count": null,
      "outputs": []
    },
    {
      "cell_type": "markdown",
      "metadata": {
        "id": "-EI06X0idy16"
      },
      "source": [
        "**Loop pulando multiplos de variavel escolhida**"
      ]
    },
    {
      "cell_type": "code",
      "metadata": {
        "id": "f2YGS6jOd5O2"
      },
      "source": [
        "\"\"\"\n",
        "Vamos considerar um loop que conta de 1-20, mas ignora todos os números que são múltiplos de 5. \n",
        "Neste caso, NÃO poderíamos usar a palavra-chave \"break\", porque isso encerrará o loop. \n",
        "Queremos \"continuar\" o loop, exceto por alguns números. \n",
        "\"\"\"\n",
        "contador = 1\n",
        "multiplo = 8\n",
        "\n",
        "# Implementação do loop WHILE\n",
        "while contador + 1 <= 20:\n",
        "  if contador % multiplo == 0:\n",
        "    print(\"SKIP\")\n",
        "    contador += 1\n",
        "    continue\n",
        "  print(contador)\n",
        "  contador += 1"
      ],
      "execution_count": null,
      "outputs": []
    },
    {
      "cell_type": "markdown",
      "metadata": {
        "id": "i6Gw54t7fXgT"
      },
      "source": [
        "**Mesmo loop acima, mas usando o for**"
      ]
    },
    {
      "cell_type": "code",
      "metadata": {
        "id": "ABMADS7afg5Y"
      },
      "source": [
        "multiplo = 4\n",
        "for i in range (1, 20+1):\n",
        "  if i % multiplo == 0:\n",
        "    print(\"SKIP\")\n",
        "    continue\n",
        "  print(i)"
      ],
      "execution_count": null,
      "outputs": []
    },
    {
      "cell_type": "markdown",
      "metadata": {
        "id": "4Lo07tP1f8EP"
      },
      "source": [
        "**Funções**\n",
        "\n",
        "Funções são úteis quando lhe é dado um problema que pode ser dividido em várias etapas e algumas etapas são usadas de forma repetitiva. Então, ter uma função para essas etapas é conveniente porque reduz a repetição de código e torna o código mais organizado.\n",
        "\n",
        "Notas sobre a definição de uma nova função:\n",
        "\n",
        "1-Definir/inicializar uma nova função com a palavra-chave def antes do nome da função.\n",
        "\n",
        "2-NÃO definir o tipo de retorno na declaração da função.\n",
        "\n",
        "3-NÃO esquecer do parâmetro da função se sua função precisar de informações do main() ou de outras funções.\n",
        "\n",
        "4-A declaração RETURN não é necessária, dependendo das funções."
      ]
    },
    {
      "cell_type": "code",
      "metadata": {
        "colab": {
          "base_uri": "https://localhost:8080/"
        },
        "id": "EDA8lhCSgMiA",
        "outputId": "8ebe7ff4-d61d-4867-f071-1053fc69ec04"
      },
      "source": [
        "\"\"\"\n",
        "Escreveremos nossa própria função que testa se um triângulo de 3 lados é um triângulo retângulo. \n",
        "Como não podemos controlar a ordem dos lados que o usuário nos dá (de tal forma que C é o comprimento mais longo), \n",
        "precisamos verificar manualmente se C é o comprimento mais longo (os comprimentos A e B podem estar em qualquer ordem). \n",
        "Caso contrário, nosso teorema de Pitágoras falhará. \n",
        "\"\"\"\n",
        "\n",
        "def triangulo(a, b, c):\n",
        "\n",
        "  # Reatribuir valores variáveis para garantir que C seja o comprimento mais longo\n",
        "  if (max(a,b,c) != c):\n",
        "\n",
        "    # temporario armazena os valores anteriores de C, que não é o comprimento mais longo\n",
        "    temporario = c\n",
        "    c = max(a,b,c)\n",
        "\n",
        "    if a == c:\n",
        "      a = temporario\n",
        "    elif b == c:\n",
        "      b = temporario\n",
        "    \n",
        "\n",
        "  # Aplicar a fórmula\n",
        "  if a**2 + b**2 >= c**2:\n",
        "    print(\"É um triangulo\")\n",
        "\n",
        "    # Se o programa vê uma declaração Return, este é o FIM do programa/função\n",
        "    return True\n",
        "  \n",
        "  # Estas duas linhas funcionarão SOMENTE quando a condição IF for falsa\n",
        "  print(\"NÃO é um triangulo\")\n",
        "  return False\n",
        "\n",
        "\n",
        "# Solicite ao usuário que insira 3 comprimentos\n",
        "def main():\n",
        "  a = input(\"Entre com o tamanho da primeira borda do triangulo:\")\n",
        "  b = input(\"Entre com o tamanho da segunda borda do triangulo:\")\n",
        "  c = input(\"Entre com o tamanho da terceira borda do triangulo:\")\n",
        "\n",
        "  # As entradas do usuário são armazenadas como uma string, então nós as computamos para ser int\n",
        "  return triangulo(int(a), int(b), int(c))\n",
        "\n",
        "if __name__ == \"__main__\":\n",
        "    main()"
      ],
      "execution_count": null,
      "outputs": [
        {
          "output_type": "stream",
          "name": "stdout",
          "text": [
            "Entre com o tamanho da primeira borda do triangulo:5\n",
            "Entre com o tamanho da segunda borda do triangulo:4\n",
            "Entre com o tamanho da terceira borda do triangulo:3\n",
            "é um triangulo\n"
          ]
        }
      ]
    },
    {
      "cell_type": "markdown",
      "metadata": {
        "id": "cNjgBQY2koYG"
      },
      "source": [
        "**Palavra palindromo**"
      ]
    },
    {
      "cell_type": "code",
      "metadata": {
        "id": "7hoywSaTlbNF"
      },
      "source": [
        "import string\n",
        "\n",
        "def palindromo(str):\n",
        "  exclude = set(string.punctuation)\n",
        "  str = ''.join(ch for ch in str if ch not in exclude)\n",
        "  str = str.replace(\" \", \"\").lower()\n",
        "  if str == str[::-1]:\n",
        "    return str + \" É um palindromo!\"\n",
        "  else:\n",
        "    return str + \" NÃO é palindromo!\"\n",
        "\n",
        "def main():\n",
        "  frase = input(\"Digite um frase para saber se é um palindromo: \")\n",
        "  print(palindromo(frase))\n",
        "\n",
        "if __name__ == \"__main__\":\n",
        "    main()"
      ],
      "execution_count": null,
      "outputs": []
    },
    {
      "cell_type": "markdown",
      "metadata": {
        "id": "xALlvwo3BMzI"
      },
      "source": [
        "**MODULO 3 -**\n",
        "**Estruturas Básicas de Dados**\n",
        "\n",
        "**Lista**\n",
        "é uma estrutura de dados mutável que armazena elementos em um formato desordenado, como uma matriz."
      ]
    },
    {
      "cell_type": "code",
      "metadata": {
        "colab": {
          "base_uri": "https://localhost:8080/"
        },
        "id": "IWbFbmnNBNXK",
        "outputId": "e1423e25-9f6b-4646-a35c-392986caa120"
      },
      "source": [
        "# Iniciar uma lista vazia\n",
        "list1 = []\n",
        "# OU\n",
        "list1 = list()\n",
        "\n",
        "# Iniciar uma lista com elementos\n",
        "list2 = ['hello', 'hola', 'olá']\n",
        "print(list2[2])\n",
        "\n",
        "\"\"\"\n",
        "Os elementos da lista NÃO precisam ser do mesmo tipo, mas isto é incomum.\n",
        "Neste caso, cada lista poderia representar a série de informações sobre uma pessoa, \n",
        "mas é preciso lembrar quais informações são armazenadas em cada index. ---> Existe uma opção melhor para este propósito - dicionário.\n",
        "\"\"\"\n",
        "list3 = [\"John\", \"male\", 20, False]\n",
        "print(list3[0])\n",
        "print(list3[1])\n",
        "print(list3[2])\n",
        "print(list3[3])"
      ],
      "execution_count": null,
      "outputs": [
        {
          "output_type": "stream",
          "name": "stdout",
          "text": [
            "olá\n",
            "John\n",
            "male\n",
            "20\n",
            "False\n"
          ]
        }
      ]
    },
    {
      "cell_type": "code",
      "metadata": {
        "id": "XudEGOXhC4t0",
        "colab": {
          "base_uri": "https://localhost:8080/"
        },
        "outputId": "9631dfe1-0eeb-4a2b-8d76-5d20e925d4da"
      },
      "source": [
        "# Acess às informações armazenadas na lista por posição (\"index\")\n",
        "# Nota: em CS, a primeira posição é SEMPRE 0\n",
        "print(\"First element in list2 : \"+ list2[0])\n",
        "print(\"Second element in list2 : \"+ list2[1])"
      ],
      "execution_count": null,
      "outputs": [
        {
          "output_type": "stream",
          "name": "stdout",
          "text": [
            "First element in list2 : hello\n",
            "Second element in list2 : hola\n"
          ]
        }
      ]
    },
    {
      "cell_type": "code",
      "metadata": {
        "colab": {
          "base_uri": "https://localhost:8080/",
          "height": 35
        },
        "id": "TcMhBfeoC5Tm",
        "outputId": "9f699fb7-9777-42d3-8100-ad8b4cad66b7"
      },
      "source": [
        "# Inserir um novo elemento como um local específico, no index 1\n",
        "list2.insert(1,'hallo')\n",
        "list2[1]"
      ],
      "execution_count": null,
      "outputs": [
        {
          "output_type": "execute_result",
          "data": {
            "application/vnd.google.colaboratory.intrinsic+json": {
              "type": "string"
            },
            "text/plain": [
              "'hallo'"
            ]
          },
          "metadata": {},
          "execution_count": 7
        }
      ]
    },
    {
      "cell_type": "code",
      "metadata": {
        "id": "a2TUoqq1ESEO",
        "colab": {
          "base_uri": "https://localhost:8080/"
        },
        "outputId": "7c961774-06ff-44ac-b4b7-32d607608f67"
      },
      "source": [
        "# Anexar um novo elemento no FIM da lista\n",
        "list2.append('bye')\n",
        "list2"
      ],
      "execution_count": null,
      "outputs": [
        {
          "output_type": "execute_result",
          "data": {
            "text/plain": [
              "['hello', 'hallo', 'hola', 'olá', 'bye']"
            ]
          },
          "metadata": {},
          "execution_count": 8
        }
      ]
    },
    {
      "cell_type": "code",
      "metadata": {
        "id": "ZE7Vj7nvESVm"
      },
      "source": [
        "# Remover um elemento da lista especificando o elemento que você deseja remover\n",
        "list2.remove('hello')"
      ],
      "execution_count": null,
      "outputs": []
    },
    {
      "cell_type": "code",
      "metadata": {
        "colab": {
          "base_uri": "https://localhost:8080/"
        },
        "id": "pxKO0KmNEdn7",
        "outputId": "8e1818fa-dd4f-44c4-d979-d1f626a051c0"
      },
      "source": [
        "\"\"\"\n",
        "Outra maneira de remover um elemento: pop()\n",
        "pop() permite que você identifique uma posição \n",
        "\"\"\"\n",
        "list2.append(\"hallo\")\n",
        "list2.pop()\n",
        "list2"
      ],
      "execution_count": null,
      "outputs": [
        {
          "output_type": "execute_result",
          "data": {
            "text/plain": [
              "['hallo', 'hola', 'olá', 'bye']"
            ]
          },
          "metadata": {},
          "execution_count": 11
        }
      ]
    },
    {
      "cell_type": "code",
      "metadata": {
        "id": "5bQC2ngREd3b"
      },
      "source": [
        "\"\"\"\n",
        "As listas também podem ser ordenadas. \n",
        "O método de ordenação depende de como a interface comparável é implementada para os objetos da lista.\n",
        "\n",
        "Neste caso da list2, sort() funciona ordenando caracteres individuais na string de acordo com o código ASCII.\n",
        "\"\"\"\n",
        "list2.sort()\n",
        "list2"
      ],
      "execution_count": null,
      "outputs": []
    },
    {
      "cell_type": "code",
      "metadata": {
        "id": "reVpcme5EecV",
        "colab": {
          "base_uri": "https://localhost:8080/"
        },
        "outputId": "af9f9d5d-b76b-4be5-98f5-97b66c279397"
      },
      "source": [
        "\"\"\"\n",
        "Como a lista é dinâmica, significa que o tamanho da lista aumenta ou diminui à medida que inserimos ou removemos elementos,\n",
        "poderíamos executar len() para encontrar o tamanho da lista em um determinado momento. \n",
        "\"\"\"\n",
        "\n",
        "# Como len() retorna int, para concatená-la a uma string, precisamos computá-la.\n",
        "print(\"size of list1 = \" + str(len(list1)))\n",
        "print(\"size of list2 = \" + str(len(list2)))"
      ],
      "execution_count": null,
      "outputs": [
        {
          "output_type": "stream",
          "name": "stdout",
          "text": [
            "size of list1 = 0\n",
            "size of list2 = 4\n"
          ]
        }
      ]
    },
    {
      "cell_type": "code",
      "metadata": {
        "colab": {
          "base_uri": "https://localhost:8080/",
          "height": 35
        },
        "id": "YT-tP7f0S7l4",
        "outputId": "5fa47ca9-8734-4f5d-8886-8ed34816296b"
      },
      "source": [
        "# Imprimir itens na lista como string, separados por uma vírgula\n",
        "\",\".join(list2)"
      ],
      "execution_count": null,
      "outputs": [
        {
          "output_type": "execute_result",
          "data": {
            "application/vnd.google.colaboratory.intrinsic+json": {
              "type": "string"
            },
            "text/plain": [
              "'hallo,hola,olá,bye'"
            ]
          },
          "metadata": {},
          "execution_count": 13
        }
      ]
    },
    {
      "cell_type": "code",
      "metadata": {
        "colab": {
          "base_uri": "https://localhost:8080/"
        },
        "id": "vo-XyzFTS7zy",
        "outputId": "d397e632-46e4-4045-c35e-9dc72cbeec22"
      },
      "source": [
        "lists = []\n",
        "lists.append([1,2,3])\n",
        "lists.append(['a','b','c'])\n",
        "\n",
        "lists"
      ],
      "execution_count": null,
      "outputs": [
        {
          "output_type": "execute_result",
          "data": {
            "text/plain": [
              "[[1, 2, 3], ['a', 'b', 'c']]"
            ]
          },
          "metadata": {},
          "execution_count": 15
        }
      ]
    },
    {
      "cell_type": "code",
      "metadata": {
        "colab": {
          "base_uri": "https://localhost:8080/",
          "height": 35
        },
        "id": "0o1w2EARS8Aa",
        "outputId": "2f579b93-1b3a-4f56-e2e4-6301eaa97653"
      },
      "source": [
        "# Da mesma forma, você pode indexar as listas multidimensionais.\n",
        "\n",
        "lists[1]\n",
        "lists[1][0]"
      ],
      "execution_count": null,
      "outputs": [
        {
          "output_type": "execute_result",
          "data": {
            "application/vnd.google.colaboratory.intrinsic+json": {
              "type": "string"
            },
            "text/plain": [
              "'a'"
            ]
          },
          "metadata": {},
          "execution_count": 16
        }
      ]
    },
    {
      "cell_type": "markdown",
      "metadata": {
        "id": "7lc4786JbaK0"
      },
      "source": [
        "**Tupla**\n",
        "→ \"lista\" imutável que não pode ser manipulada depois de criada. Elas suportam todas as listas de operações, exceto aquelas que modificam a lista."
      ]
    },
    {
      "cell_type": "code",
      "metadata": {
        "id": "05gNfPFDYHnq"
      },
      "source": [
        "# Inicializar uma tupla vazia\n",
        "y = tuple()\n",
        "y\n",
        "\n",
        "# Criar uma nova tupla de elementos\n",
        "x = (1,2,3)"
      ],
      "execution_count": null,
      "outputs": []
    },
    {
      "cell_type": "code",
      "metadata": {
        "id": "J_e0s-ZLYH7v"
      },
      "source": [
        "# ERROR: não pode ser adicionado a uma tupla\n",
        "x.append(4)"
      ],
      "execution_count": null,
      "outputs": []
    },
    {
      "cell_type": "code",
      "metadata": {
        "id": "QdQPqdh5cFEX"
      },
      "source": [
        "# Isto é OK porque está criando uma nova tupla com x e (4,5,6) adicionado no final\n",
        "x + (4,5,6)"
      ],
      "execution_count": null,
      "outputs": []
    },
    {
      "cell_type": "code",
      "metadata": {
        "id": "E5VSLpKdcFP7"
      },
      "source": [
        "# x NÃO é modificado pela linha anterior\n",
        "x"
      ],
      "execution_count": null,
      "outputs": []
    },
    {
      "cell_type": "code",
      "metadata": {
        "id": "x6lY30DBcFSr"
      },
      "source": [
        "# Criar uma nova tupla com x aparecendo duas vezes\n",
        "x * 2"
      ],
      "execution_count": null,
      "outputs": []
    },
    {
      "cell_type": "code",
      "metadata": {
        "id": "RcaCrrn8cFWH"
      },
      "source": [
        "# Index dos elementos na tupla\n",
        "x.index(3)"
      ],
      "execution_count": null,
      "outputs": []
    },
    {
      "cell_type": "code",
      "metadata": {
        "colab": {
          "base_uri": "https://localhost:8080/"
        },
        "id": "J6mwt4I-c-Pb",
        "outputId": "7bda4a6f-a53d-46aa-a96e-ddb81fbf0003"
      },
      "source": [
        "# abreviação para \n",
        "#  (a,b,c) = (1,2,3)\n",
        "\n",
        "# Isto também atribui a = 1, b = 2, c = 3\n",
        "\n",
        "a,b,c = 1,2,3"
      ],
      "execution_count": null,
      "outputs": [
        {
          "output_type": "execute_result",
          "data": {
            "text/plain": [
              "1"
            ]
          },
          "metadata": {},
          "execution_count": 19
        }
      ]
    },
    {
      "cell_type": "code",
      "metadata": {
        "id": "ogEEF-mgc-cm"
      },
      "source": [
        "# Converter uma tupla em uma lista\n",
        "x = (1,2,3,4)\n",
        "list(x)"
      ],
      "execution_count": null,
      "outputs": []
    },
    {
      "cell_type": "code",
      "metadata": {
        "id": "zj_reZmLd-Fo"
      },
      "source": [
        "# Converter uma lista em uma tupla\n",
        "x = [1,2,3,4]\n",
        "tuple(x)"
      ],
      "execution_count": null,
      "outputs": []
    },
    {
      "cell_type": "code",
      "metadata": {
        "id": "mheeBdqrd-ST"
      },
      "source": [
        "# Declarar uma nova tupla, nome \"person\"\n",
        "person  = ('Jane','Doe', 21)\n",
        "\n",
        "# \"Pacote\"/associar cada elemento da tupla com uma etiqueta. Observe a ordem das etiquetas.\n",
        "first, last, age = person"
      ],
      "execution_count": null,
      "outputs": []
    },
    {
      "cell_type": "code",
      "metadata": {
        "id": "G76Q-u5ud-b8"
      },
      "source": [
        "# ERROR: x é uma tupla de 4 valores, mas está tentando descompactar SOMENTE 3 elementos.\n",
        "# Incompatibilidade no tamanho da tupla\n",
        "x = (1,2,3,4)\n",
        "\n",
        "a,b,c = x"
      ],
      "execution_count": null,
      "outputs": []
    },
    {
      "cell_type": "code",
      "metadata": {
        "id": "aTCDgrR3er2X"
      },
      "source": [
        "# Isto é OK!\n",
        "x = [1,2,3,4]\n",
        "a,b,c,d = x"
      ],
      "execution_count": null,
      "outputs": []
    },
    {
      "cell_type": "markdown",
      "metadata": {
        "id": "B41aDwIDet-Y"
      },
      "source": [
        "**Conjunto** → uma estrutura de dados mutável que armazena objetos não duplicados e imutáveis e ordena os elementos em ordem ascendente. Cada elemento do conjunto é único."
      ]
    },
    {
      "cell_type": "code",
      "metadata": {
        "colab": {
          "base_uri": "https://localhost:8080/"
        },
        "id": "jsEnRQ3DeuPc",
        "outputId": "05bec6de-225c-4e28-b59f-298bc86d76aa"
      },
      "source": [
        "# Inicializar um conjunto vazio\n",
        "newSet = set()\n",
        "newSet"
      ],
      "execution_count": null,
      "outputs": [
        {
          "output_type": "execute_result",
          "data": {
            "text/plain": [
              "set()"
            ]
          },
          "metadata": {},
          "execution_count": 24
        }
      ]
    },
    {
      "cell_type": "code",
      "metadata": {
        "id": "KmLFGVJpkcNG"
      },
      "source": [
        "# Um conjunto com elementos\n",
        "ex1 = {1, 2, 2, 1, 1}\n",
        "\n",
        "ex1"
      ],
      "execution_count": null,
      "outputs": []
    },
    {
      "cell_type": "code",
      "metadata": {
        "id": "Kr4SqJOCkcd0"
      },
      "source": [
        "ex2 = {j for j in range(10)}\n",
        "ex2"
      ],
      "execution_count": null,
      "outputs": []
    },
    {
      "cell_type": "code",
      "metadata": {
        "id": "ksF1iOI2kclu"
      },
      "source": [
        "# 2 já existe no ex2. O que acontece se quisermos acrescentar o 2 novamente?\n",
        "  # Nota: A implementação do conjunto NÃO definiu append(), então usaremos add().\n",
        "    # add() irá inserir o novo elemento na posição correta com a ordenação do conjunto\n",
        "ex2.add(2)\n",
        "ex2.add(100)\n",
        "ex2.add(50)\n",
        "ex2"
      ],
      "execution_count": null,
      "outputs": []
    },
    {
      "cell_type": "code",
      "metadata": {
        "id": "3cvLH6eFkctu"
      },
      "source": [
        "# objetos mutáveis não podem ser colocados em um conjunto\n",
        "d_set = {[1,2,3]}\n",
        "\n",
        "d_set"
      ],
      "execution_count": null,
      "outputs": []
    },
    {
      "cell_type": "code",
      "metadata": {
        "colab": {
          "base_uri": "https://localhost:8080/"
        },
        "id": "f_Vgoh6ZnA6Y",
        "outputId": "42354834-6a9c-4a39-9f15-e994f8145c03"
      },
      "source": [
        "# Converter uma lista em um conjunto\n",
        "ages = [10, 5, 4, 5, 2, 1, 5]\n",
        "\n",
        "set_of_ages = set(ages)\n",
        "\n",
        "set_of_ages"
      ],
      "execution_count": null,
      "outputs": [
        {
          "output_type": "execute_result",
          "data": {
            "text/plain": [
              "{1, 2, 4, 5, 10}"
            ]
          },
          "metadata": {},
          "execution_count": 25
        }
      ]
    },
    {
      "cell_type": "code",
      "metadata": {
        "colab": {
          "base_uri": "https://localhost:8080/"
        },
        "id": "Ujb0thRWnBHU",
        "outputId": "8e75b269-2e43-46bc-972f-871a080383fa"
      },
      "source": [
        "# Converter um conjunto em uma lista\n",
        "list_of_ages = list(set_of_ages)\n",
        "\n",
        "list_of_ages"
      ],
      "execution_count": null,
      "outputs": [
        {
          "output_type": "execute_result",
          "data": {
            "text/plain": [
              "[1, 2, 4, 5, 10]"
            ]
          },
          "metadata": {},
          "execution_count": 26
        }
      ]
    },
    {
      "cell_type": "code",
      "metadata": {
        "id": "zJDM9sDVnBOU"
      },
      "source": [
        "# Converter um conjunto em uma tupla\n",
        "tuple_of_ages = tuple(list_of_ages)\n",
        "\n",
        "tuple_of_ages"
      ],
      "execution_count": null,
      "outputs": []
    },
    {
      "cell_type": "code",
      "metadata": {
        "id": "-7eVwI-inbSg"
      },
      "source": [
        "# A ordem é irrelevante na comparação de conjuntos, uma vez que os elementos são ordenados\n",
        "\n",
        "{1,2,3} == {2,1,3}"
      ],
      "execution_count": null,
      "outputs": []
    },
    {
      "cell_type": "markdown",
      "metadata": {
        "id": "7hP7EPnennVi"
      },
      "source": [
        "**Dicionário** → uma estrutura de dados que armazena pares de valores chave nos quais as chaves DEVEM ser objetos imutáveis."
      ]
    },
    {
      "cell_type": "code",
      "metadata": {
        "id": "myhhYWoEnbkn"
      },
      "source": [
        "# Inicializar um dicionário vazio\n",
        "# O mesmo do conjunto, mas com:\n",
        "dict = {}\n",
        "\n",
        "# Declare um dicionário com pares de chaves/valores\n",
        "dict2 = {'a': 5, 'b': 10, 'c': 100, 'd': 9.5}"
      ],
      "execution_count": null,
      "outputs": []
    },
    {
      "cell_type": "code",
      "metadata": {
        "id": "rLfYqsQ2n61u"
      },
      "source": [
        "# Acessar dados em um dicionário com uma chave\n",
        "dict2['b']"
      ],
      "execution_count": null,
      "outputs": []
    },
    {
      "cell_type": "code",
      "metadata": {
        "id": "2dWHKMOFn64u"
      },
      "source": [
        "# Atualização do valor de uma chave existente\n",
        "dict2['b'] = 50\n",
        "\n",
        "dict2['b']"
      ],
      "execution_count": null,
      "outputs": []
    },
    {
      "cell_type": "code",
      "metadata": {
        "id": "D8dvJwfCn684"
      },
      "source": [
        "# O que acontece se quisermos ter acesso ao valor de uma chave inexistente? (por exemplo, 'z')\n",
        "\n",
        "\n",
        "# Podemos esperar um ERROR porque esta chave não existe, portanto, não tem valor. \n",
        "# Esta é uma suposição correta.\n",
        "dict2['z']"
      ],
      "execution_count": null,
      "outputs": []
    },
    {
      "cell_type": "code",
      "metadata": {
        "colab": {
          "base_uri": "https://localhost:8080/"
        },
        "id": "BLLD0TkWn6_y",
        "outputId": "cff96dfc-d6de-4453-8ad6-5c062b3ddfca"
      },
      "source": [
        "# Os valores no dicionário podem ser misturados\n",
        "# Vejamos um exemplo com dict{}, um dicionário vazio iniciado acima.\n",
        "# Primeiro, vamos inserir alguns pares de chaves/valores no programa. \n",
        "\n",
        "dict[\"greeting\"] = \"hello message\"\n",
        "dict[\"alphabet\"] = ['a', 'b', 'c', 'd', 'e']\n",
        "dict[\"check-in\"] = False\n",
        "dict[\"phoneNumber\"] = 8007782346\n",
        "\n",
        "dict"
      ],
      "execution_count": null,
      "outputs": [
        {
          "output_type": "execute_result",
          "data": {
            "text/plain": [
              "{'alphabet': ['a', 'b', 'c', 'd', 'e'],\n",
              " 'check-in': False,\n",
              " 'greeting': 'hello message',\n",
              " 'phoneNumber': 8007782346}"
            ]
          },
          "metadata": {},
          "execution_count": 30
        }
      ]
    },
    {
      "cell_type": "code",
      "metadata": {
        "id": "qEqbCe5-n7DK"
      },
      "source": [
        "# Nota IMPORTANTE: a chave deve ser um objeto imutável (algo que não pode ser modificado)\n",
        "# A string é imutável, porque você não poderia simplesmente apagar um caractere em uma string. Uma string é uma string, do jeito que ela é.\n",
        "\n",
        "# Vemos acima que uma lista pode ser um valor no dicionário. \n",
        "# O que acontece quando tentamos fazer dela uma chave?\n",
        "\n",
        "# ERROR: tipo inalcançável de lista \n",
        "\n",
        "# Porque poderíamos modificar a lista inserindo novos elementos, ordenando elementos, apagando elementos ou outras formas de modificá-la, mas ela NÃO PODE ser uma chave\n",
        "\n",
        "\n",
        "dict[['a','b', 'c']] = [False, True, False]"
      ],
      "execution_count": null,
      "outputs": []
    },
    {
      "cell_type": "code",
      "metadata": {
        "colab": {
          "base_uri": "https://localhost:8080/"
        },
        "id": "wtSITI6gpCED",
        "outputId": "b06dd78a-7a0f-4228-e366-c811027e3a59"
      },
      "source": [
        "# Mas como a tupla é imutável, podemos substituir a lista por uma tupla\n",
        "dict[('a','b', 'c')] = [False, True, False]\n",
        "\n",
        "dict"
      ],
      "execution_count": null,
      "outputs": [
        {
          "output_type": "execute_result",
          "data": {
            "text/plain": [
              "{('a', 'b', 'c'): [False, True, False],\n",
              " 'alphabet': ['a', 'b', 'c', 'd', 'e'],\n",
              " 'check-in': False,\n",
              " 'greeting': 'hello message',\n",
              " 'phoneNumber': 8007782346}"
            ]
          },
          "metadata": {},
          "execution_count": 32
        }
      ]
    },
    {
      "cell_type": "code",
      "metadata": {
        "colab": {
          "base_uri": "https://localhost:8080/"
        },
        "id": "InXrQTP-pCPm",
        "outputId": "fde8e282-7960-463a-fd0e-2f8dc733dd71"
      },
      "source": [
        "# Podemos também buscar todas as chaves\n",
        "dict.keys()"
      ],
      "execution_count": null,
      "outputs": [
        {
          "output_type": "execute_result",
          "data": {
            "text/plain": [
              "dict_keys(['greeting', 'alphabet', 'check-in', 'phoneNumber', ('a', 'b', 'c')])"
            ]
          },
          "metadata": {},
          "execution_count": 33
        }
      ]
    },
    {
      "cell_type": "code",
      "metadata": {
        "colab": {
          "base_uri": "https://localhost:8080/"
        },
        "id": "ynTKQXOdpPJD",
        "outputId": "fcd2f040-bf8e-4479-f4c2-eac13b3b1bd1"
      },
      "source": [
        "# Ou todos os valores\n",
        "dict.values()"
      ],
      "execution_count": null,
      "outputs": [
        {
          "output_type": "execute_result",
          "data": {
            "text/plain": [
              "dict_values(['hello message', ['a', 'b', 'c', 'd', 'e'], False, 8007782346, [False, True, False]])"
            ]
          },
          "metadata": {},
          "execution_count": 34
        }
      ]
    },
    {
      "cell_type": "code",
      "metadata": {
        "colab": {
          "base_uri": "https://localhost:8080/"
        },
        "id": "tTwUrItfpPNI",
        "outputId": "9317a516-44d3-4d86-a512-93ca14cf0739"
      },
      "source": [
        "# Os elementos de um dicionário também podem retornar como um par.\n",
        "dict.items()"
      ],
      "execution_count": null,
      "outputs": [
        {
          "output_type": "execute_result",
          "data": {
            "text/plain": [
              "dict_items([('greeting', 'hello message'), ('alphabet', ['a', 'b', 'c', 'd', 'e']), ('check-in', False), ('phoneNumber', 8007782346), (('a', 'b', 'c'), [False, True, False])])"
            ]
          },
          "metadata": {},
          "execution_count": 35
        }
      ]
    },
    {
      "cell_type": "markdown",
      "metadata": {
        "id": "_3h-nvs9p6jG"
      },
      "source": [
        "**Módulo 4: Programação Orientada à Objetos**\n",
        "\n",
        "Objetivos de aprendizagem:\n",
        "\n",
        "Compreender o uso do método init () e o parâmetro self. Declarar corretamente uma classe/objeto.\n",
        "\n",
        "Reconhecer a diferença entre funções e métodos e o escopo dos métodos, e fazer chamadas de métodos.\n",
        "\n",
        "Entender como o nível de herança afeta as chamadas e variáveis do método.\n",
        "\n",
        "Vamos considerar o sistema de biblioteca como um exemplo de Programação Orientada à Objetos\n",
        "\n",
        "Uma biblioteca tem uma série de livros.\n",
        "\n",
        "Quais devem ser os dados associados a cada livro?\n",
        "\n",
        "Há alguma operação que um livro deve realizar?\n",
        "\n",
        "Então, construiremos a classe LibraryBook para armazenar dados sobre cada livro e os métodos/operações de suporte no sistema da biblioteca.\n",
        "\n",
        "Classes são plantas, desenhos ou modelos para instâncias. A relação entre uma classe e uma instância é semelhante àquela entre um cortador de biscoitos e um biscoito.\n",
        "\n",
        "Um único cortador de biscoitos pode fazer quantos biscoitos forem necessários. O cortador define a forma do biscoito.\n",
        "Os biscoitos são comestíveis, mas o cortador de biscoitos não é.\n",
        "\n",
        "Referências das palestras do professor Daniel Bauer ENGI1006 da Universidade de Columbia."
      ]
    },
    {
      "cell_type": "code",
      "metadata": {
        "id": "LfvagmTrrPYH"
      },
      "source": [
        "# LibraryBook é o nome da classe\n",
        "class LibraryBook:\n",
        "  \"\"\"\n",
        "  A library book\n",
        "  \"\"\"\n",
        "\n",
        "  # pass indica que o corpo/fato da definição da classe está vazio.\n",
        "  pass"
      ],
      "execution_count": 5,
      "outputs": []
    },
    {
      "cell_type": "code",
      "metadata": {
        "colab": {
          "base_uri": "https://localhost:8080/"
        },
        "id": "7wjZ3hbXrPk8",
        "outputId": "b761d18e-0657-4026-9a17-45a4a4f47f79"
      },
      "source": [
        "# Isto irá criar uma instância da classe.\n",
        "my_book = LibraryBook()\n",
        "my_book"
      ],
      "execution_count": 6,
      "outputs": [
        {
          "output_type": "execute_result",
          "data": {
            "text/plain": [
              "<__main__.LibraryBook at 0x7f30a01d0310>"
            ]
          },
          "metadata": {},
          "execution_count": 6
        }
      ]
    },
    {
      "cell_type": "code",
      "metadata": {
        "colab": {
          "base_uri": "https://localhost:8080/"
        },
        "id": "UZPJ6H48rPrq",
        "outputId": "3f955d10-170c-4635-e258-66f402358f60"
      },
      "source": [
        "type(my_book)"
      ],
      "execution_count": 7,
      "outputs": [
        {
          "output_type": "execute_result",
          "data": {
            "text/plain": [
              "__main__.LibraryBook"
            ]
          },
          "metadata": {},
          "execution_count": 7
        }
      ]
    },
    {
      "cell_type": "code",
      "metadata": {
        "id": "jgXHjD0PrP5w",
        "colab": {
          "base_uri": "https://localhost:8080/"
        },
        "outputId": "c31d9985-74f0-4ff0-8927-f9b13ee22dbf"
      },
      "source": [
        "# Outra maneira de verificar o tipo de algum objeto\n",
        "isinstance(my_book, LibraryBook)"
      ],
      "execution_count": 8,
      "outputs": [
        {
          "output_type": "execute_result",
          "data": {
            "text/plain": [
              "True"
            ]
          },
          "metadata": {},
          "execution_count": 8
        }
      ]
    },
    {
      "cell_type": "markdown",
      "metadata": {
        "id": "P84Fm7CgrlzY"
      },
      "source": [
        "**Por que usar classes e quando usá-las?**\n",
        "\n",
        "Os objetos simplificam os problemas, fornecendo uma abstração sobre certos tipos de dados e sua funcionalidade.\n",
        "\n",
        "Em vez de pensar no problema em termos de cadeias de caracteres individuais, inteiros, etc., podemos agora pensar em termos de LibraryBooks (ou outros objetos).\n",
        "\n",
        "**Encapsulação**\n",
        "\n",
        "Os dados e a funcionalidade são agrupados em objetos.\n",
        "\n",
        "Os métodos fornecem uma interface para o objeto. O ideal é que os dados individuais sejam apenas escritos e lidos através de métodos.\n",
        "\n",
        "Isto significa que os detalhes sobre como a funcionalidade é implementada são escondidos do programador. Por exemplo, não sabemos como o método de anexar em listas é implementado.\n",
        "\n",
        "Esta ideia permite que as classes sejam compartilhadas (em bibliotecas) e usadas por outros (ou reutilizadas por você) sem a necessidade de ler o código fonte da classe.\n",
        "\n",
        "**init, parâmetro Self**\n",
        "Campos de dados - Cada instância possui seus próprios dados (a classe pode definir quais nomes os campos de dados têm).\n",
        "\n",
        "O método init(self, ...) é automaticamente executado por Python quando uma nova instância é criada. Este método é chamado de construtor de classe; ele inicializa os valores dos dados na classe."
      ]
    },
    {
      "cell_type": "code",
      "metadata": {
        "id": "5LkZv7jksMbN"
      },
      "source": [
        "\"\"\"\n",
        "    Um livro da biblioteca.\n",
        "    \"\"\"\n",
        "class LibraryBook (object):   \n",
        "\n",
        "      \"\"\"\n",
        "      O parâmetro self é OBRIGATÓRIO dentro da classe, \n",
        "      porque ele diz ao programa para buscar/atuar sobre o objeto de instância\n",
        "      que a executou.\n",
        "      \"\"\"  \n",
        "      def __init__(self, title, author, pub_year, call_no):\n",
        "          self.title = title\n",
        "          self.author = author\n",
        "          self.year = pub_year\n",
        "          self.call_number = call_no\n",
        "          self.checked_out = False"
      ],
      "execution_count": 3,
      "outputs": []
    },
    {
      "cell_type": "code",
      "metadata": {
        "id": "6uDC1MSxtPEt"
      },
      "source": [
        "\"\"\"\n",
        "Como já criamos meu_livro como um objeto do LibraryBook,\n",
        "agora podemos adicionar manualmente o título, autor,... informações associadas ao livro.\n",
        "\"\"\"\n",
        "\n",
        "my_book.title = \"Harry Potter and the Philosopher's Stone\"\n",
        "my_book.author = ('Rowling', 'J.K.')\n",
        "my_book.year = 1998\n",
        "my_book.call_number = \"PZ7.R79835\""
      ],
      "execution_count": 9,
      "outputs": []
    },
    {
      "cell_type": "code",
      "metadata": {
        "colab": {
          "base_uri": "https://localhost:8080/"
        },
        "id": "KloOaYYLtPiQ",
        "outputId": "6dd870fd-4a07-4d94-9049-b3f4b29cdc6f"
      },
      "source": [
        "# mostre um campo de dados específico de uma instância executando o nome da instância e o nome do campo\n",
        "print(my_book.title)\n",
        "print(my_book.author)\n",
        "print(my_book.year)\n",
        "print(my_book.call_number)"
      ],
      "execution_count": 10,
      "outputs": [
        {
          "output_type": "stream",
          "name": "stdout",
          "text": [
            "Harry Potter and the Philosopher's Stone\n",
            "('Rowling', 'J.K.')\n",
            "1998\n",
            "PZ7.R79835\n"
          ]
        }
      ]
    },
    {
      "cell_type": "code",
      "metadata": {
        "colab": {
          "base_uri": "https://localhost:8080/",
          "height": 231
        },
        "id": "0BVhiKezuNRD",
        "outputId": "d644e715-7c5d-4acf-9ce5-08ef1c86340d"
      },
      "source": [
        "\"\"\"\n",
        "Ou podemos passar todas as informações para o __init__ para configurar os campos \n",
        "ao criar a nova instância.\n",
        "\"\"\"\n",
        "\n",
        "new_book = LibraryBook(\"Harry Potter and the Sorcerer's Stone\", (\"Rowling\",\"J.K.\"), 1998, \"PZ7.R79835\")\n",
        "\n",
        "new_book.author"
      ],
      "execution_count": 12,
      "outputs": [
        {
          "output_type": "error",
          "ename": "TypeError",
          "evalue": "ignored",
          "traceback": [
            "\u001b[0;31m---------------------------------------------------------------------------\u001b[0m",
            "\u001b[0;31mTypeError\u001b[0m                                 Traceback (most recent call last)",
            "\u001b[0;32m<ipython-input-12-82cc618b9627>\u001b[0m in \u001b[0;36m<module>\u001b[0;34m()\u001b[0m\n\u001b[1;32m      4\u001b[0m \"\"\"\n\u001b[1;32m      5\u001b[0m \u001b[0;34m\u001b[0m\u001b[0m\n\u001b[0;32m----> 6\u001b[0;31m \u001b[0mnew_book\u001b[0m \u001b[0;34m=\u001b[0m \u001b[0mLibraryBook\u001b[0m\u001b[0;34m(\u001b[0m\u001b[0;34m\"Harry Potter and the Sorcerer's Stone\"\u001b[0m\u001b[0;34m,\u001b[0m \u001b[0;34m(\u001b[0m\u001b[0;34m\"Rowling\"\u001b[0m\u001b[0;34m,\u001b[0m\u001b[0;34m\"J.K.\"\u001b[0m\u001b[0;34m)\u001b[0m\u001b[0;34m,\u001b[0m \u001b[0;36m1998\u001b[0m\u001b[0;34m,\u001b[0m \u001b[0;34m\"PZ7.R79835\"\u001b[0m\u001b[0;34m)\u001b[0m\u001b[0;34m\u001b[0m\u001b[0;34m\u001b[0m\u001b[0m\n\u001b[0m\u001b[1;32m      7\u001b[0m \u001b[0;34m\u001b[0m\u001b[0m\n\u001b[1;32m      8\u001b[0m \u001b[0mnew_book\u001b[0m\u001b[0;34m.\u001b[0m\u001b[0mauthor\u001b[0m\u001b[0;34m\u001b[0m\u001b[0;34m\u001b[0m\u001b[0m\n",
            "\u001b[0;31mTypeError\u001b[0m: LibraryBook() takes no arguments"
          ]
        }
      ]
    },
    {
      "cell_type": "markdown",
      "metadata": {
        "id": "lCFA1vjUEME7"
      },
      "source": [
        "**Métodos**\n",
        "\n",
        "Os métodos contêm a funcionalidade do objeto.\n",
        "\n",
        "Estes são definidos na classe.\n",
        "\n",
        "**Escrevendo um Método**"
      ]
    },
    {
      "cell_type": "code",
      "metadata": {
        "id": "4bGIhpYjuVO8"
      },
      "source": [
        "class LibraryBook(object):\n",
        "    \"\"\"\n",
        "    Um livro da biblioteca.\n",
        "    \"\"\"\n",
        "         \n",
        "    def __init__(self, title, author, pub_year, call_no):\n",
        "        self.title = title\n",
        "        self.author = author\n",
        "        self.year = pub_year\n",
        "        self.call_number = call_no\n",
        "    \n",
        "    \"\"\"\n",
        "    Métodos para o LibraryBook\n",
        "    \"\"\"  \n",
        "\n",
        "    # Retorna o título e as informações do autor do livro como uma string\n",
        "    def title_and_author(self):\n",
        "        return \"{} {}: {}\".format(self.author[1], self.author[0], self.title) \n",
        "    \n",
        "    # Imprime todas as informações associadas a um livro neste formato\n",
        "    def __str__(self): # certifique-se de que __str__ retorna uma string!\n",
        "        return \"{} {} ({}): {}\".format(self.author[1], self.author[0], self.year, self.title) \n",
        "\n",
        "    # Retorna uma representação de string do livro com o título e call_number     \n",
        "    def __repr__(self): \n",
        "        return \"<Book: {} ({})>\".format(self.title, self.call_number)"
      ],
      "execution_count": 13,
      "outputs": []
    },
    {
      "cell_type": "code",
      "metadata": {
        "id": "kYej_e-huVdG",
        "colab": {
          "base_uri": "https://localhost:8080/"
        },
        "outputId": "fd8c4b61-17ea-4806-dce7-08d33baa0e94"
      },
      "source": [
        "# A simples chamada da própria instância está desencadeando __repr__()\n",
        "new_book"
      ],
      "execution_count": 19,
      "outputs": [
        {
          "output_type": "execute_result",
          "data": {
            "text/plain": [
              "<Book: Harry Potter and the Sorcerer's Stone (PZ7.R79835)>"
            ]
          },
          "metadata": {},
          "execution_count": 19
        }
      ]
    },
    {
      "cell_type": "code",
      "metadata": {
        "colab": {
          "base_uri": "https://localhost:8080/"
        },
        "id": "rRf9GcX_Fza6",
        "outputId": "468442d1-f788-47da-b784-ddfeaf6c6293"
      },
      "source": [
        "# print está desencadeando a __string__()\n",
        "print(new_book)"
      ],
      "execution_count": 18,
      "outputs": [
        {
          "output_type": "stream",
          "name": "stdout",
          "text": [
            "J.K. Rowling (1998): Harry Potter and the Sorcerer's Stone\n"
          ]
        }
      ]
    },
    {
      "cell_type": "code",
      "metadata": {
        "colab": {
          "base_uri": "https://localhost:8080/",
          "height": 35
        },
        "id": "rDLUBgvRF6Ud",
        "outputId": "ea4d0f93-3172-42a6-b0a2-e03b9b339839"
      },
      "source": [
        "new_book = LibraryBook(\"Harry Potter and the Sorcerer's Stone\", \n",
        "                       (\"Rowling\",\"J.K.\"), 1998, \"PZ7.R79835\")\n",
        "\n",
        "new_book.title_and_author()"
      ],
      "execution_count": 17,
      "outputs": [
        {
          "output_type": "execute_result",
          "data": {
            "application/vnd.google.colaboratory.intrinsic+json": {
              "type": "string"
            },
            "text/plain": [
              "\"J.K. Rowling: Harry Potter and the Sorcerer's Stone\""
            ]
          },
          "metadata": {},
          "execution_count": 17
        }
      ]
    },
    {
      "cell_type": "markdown",
      "metadata": {
        "id": "eIYuWS8vGJ9E"
      },
      "source": [
        "**Chamadas de Método Interno/Externo**\n",
        "\n",
        "A única diferença é:\n",
        "\n",
        "Externamente/fora da classe, você simplesmente executaria instanceName.method(), como new_book.title_and_author()\n",
        "\n",
        "Internamente/na classe, você utilizaria self para indicar para aquela instância específica da classe, como self.title_and_author()\n",
        "\n",
        "**Herança**\n",
        "\n",
        "Exemplo de instância de relação.\n",
        "\n",
        "nemo é uma instância de ClownFish (Peixe Palhaço)."
      ]
    },
    {
      "cell_type": "code",
      "metadata": {
        "id": "3jlQrSAmGTvR"
      },
      "source": [
        "class ClownFish(object):\n",
        "    pass\n",
        "\n",
        "nemo = ClownFish()"
      ],
      "execution_count": 20,
      "outputs": []
    },
    {
      "cell_type": "code",
      "metadata": {
        "colab": {
          "base_uri": "https://localhost:8080/"
        },
        "id": "M7zxmo9gHQxU",
        "outputId": "d9c7d065-5530-45a4-f63f-c3642058049e"
      },
      "source": [
        "type(nemo)"
      ],
      "execution_count": 21,
      "outputs": [
        {
          "output_type": "execute_result",
          "data": {
            "text/plain": [
              "__main__.ClownFish"
            ]
          },
          "metadata": {},
          "execution_count": 21
        }
      ]
    },
    {
      "cell_type": "code",
      "metadata": {
        "colab": {
          "base_uri": "https://localhost:8080/"
        },
        "id": "5raPMlcCHWgl",
        "outputId": "8596da4c-d63f-46b1-caed-be70b6edfce5"
      },
      "source": [
        "isinstance(nemo, ClownFish)"
      ],
      "execution_count": 22,
      "outputs": [
        {
          "output_type": "execute_result",
          "data": {
            "text/plain": [
              "True"
            ]
          },
          "metadata": {},
          "execution_count": 22
        }
      ]
    },
    {
      "cell_type": "markdown",
      "metadata": {
        "id": "hrhPxCjSH9PA"
      },
      "source": [
        "Mas ClownFish (Peixe Palhaço) é também um peixe, um vertebrado e um animal, e cada um poderia ser uma classe separada.\n",
        "\n",
        "\n",
        "Neste caso, precisamos ter relações entre as classes.\n",
        "\n",
        "A classe ClownFish poderia ter a classe pai Fish,\n",
        "\n",
        "que poderia ter a classe pai Vertebrate,\n",
        "\n",
        "que poderia ter a classe pai Animal...\n",
        "\n",
        "Esta relação é chamada de relação is-a (é-um). Esta relação se estabelece entre uma classe de filhos e sua classe de pais. Cada classe em Python tem pelo menos uma classe de pais.\n",
        "\n",
        "(Note que a relação é uma relação transitória, portanto, todo ClownFish também é um Animal).\n",
        "\n",
        "Há uma super classe em Python chamada objeto. Até agora, quando definimos classes, sempre fizemos do objeto o pai direto da classe."
      ]
    },
    {
      "cell_type": "code",
      "metadata": {
        "id": "pTptusabH4uo"
      },
      "source": [
        "class Animal(object):\n",
        "    pass\n",
        "\n",
        "class Vertebrate(Animal):\n",
        "    pass\n",
        "\n",
        "class Fish(Vertebrate):\n",
        "    pass\n",
        "\n",
        "class ClownFish(Fish):\n",
        "    pass\n",
        "\n",
        "class TangFish(Fish):\n",
        "    pass"
      ],
      "execution_count": 23,
      "outputs": []
    },
    {
      "cell_type": "code",
      "metadata": {
        "colab": {
          "base_uri": "https://localhost:8080/"
        },
        "id": "_NYZgICSH41K",
        "outputId": "bc9d73c7-2c34-46b7-859f-4eb873cd67c9"
      },
      "source": [
        "nemo = ClownFish()\n",
        "isinstance(nemo, ClownFish)"
      ],
      "execution_count": 30,
      "outputs": [
        {
          "output_type": "execute_result",
          "data": {
            "text/plain": [
              "True"
            ]
          },
          "metadata": {},
          "execution_count": 30
        }
      ]
    },
    {
      "cell_type": "code",
      "metadata": {
        "colab": {
          "base_uri": "https://localhost:8080/"
        },
        "id": "RTEEU0zkI1RE",
        "outputId": "b13d060e-593a-48f8-ec18-26d289a20b2e"
      },
      "source": [
        "isinstance(nemo, TangFish)"
      ],
      "execution_count": 31,
      "outputs": [
        {
          "output_type": "execute_result",
          "data": {
            "text/plain": [
              "False"
            ]
          },
          "metadata": {},
          "execution_count": 31
        }
      ]
    },
    {
      "cell_type": "code",
      "metadata": {
        "colab": {
          "base_uri": "https://localhost:8080/"
        },
        "id": "XHFHCO6BIh3K",
        "outputId": "ec2d1d9c-dfb3-4ae0-86b7-b8e76dd415ae"
      },
      "source": [
        "# A relação is-a (é-um) é transitiva\n",
        "isinstance(nemo, Animal)"
      ],
      "execution_count": 28,
      "outputs": [
        {
          "output_type": "execute_result",
          "data": {
            "text/plain": [
              "True"
            ]
          },
          "metadata": {},
          "execution_count": 28
        }
      ]
    },
    {
      "cell_type": "code",
      "metadata": {
        "colab": {
          "base_uri": "https://localhost:8080/"
        },
        "id": "fXwCPIpfIlbx",
        "outputId": "90607094-9e7d-473e-c33f-7beb490f0ab6"
      },
      "source": [
        "# Todas as classes têm uma classe pai de Objeto\n",
        "isinstance(nemo, object)"
      ],
      "execution_count": 29,
      "outputs": [
        {
          "output_type": "execute_result",
          "data": {
            "text/plain": [
              "True"
            ]
          },
          "metadata": {},
          "execution_count": 29
        }
      ]
    },
    {
      "cell_type": "markdown",
      "metadata": {
        "id": "AV_xtlMvJAaS"
      },
      "source": [
        "**Métodos Herdados**\n",
        "\n",
        "Por que usar a herança?\n",
        "\n",
        "Toda classe também tem acesso aos atributos de classe da classe pai. Em particular, os métodos definidos na classe pai podem ser chamados em instâncias de seus \"decendentes\"."
      ]
    },
    {
      "cell_type": "code",
      "metadata": {
        "id": "opkZFBN6JFX5"
      },
      "source": [
        "class Fish(Animal):\n",
        "    def speak(self): \n",
        "        return \"Blub\"\n",
        "\n",
        "class ClownFish(Fish):\n",
        "    pass\n",
        "\n",
        "class TangFish(Fish):\n",
        "    pass"
      ],
      "execution_count": 32,
      "outputs": []
    },
    {
      "cell_type": "code",
      "metadata": {
        "colab": {
          "base_uri": "https://localhost:8080/",
          "height": 35
        },
        "id": "bxbrl3qrJFlq",
        "outputId": "f8bbca61-a4b7-4b14-efba-d16345c4cd71"
      },
      "source": [
        "dory = TangFish()\n",
        "\n",
        "\"\"\"\n",
        "A classe TangFish é uma classe filha de Fish, por isso pode acessar speak() da classe Fish.\n",
        "Esta classe procura primeiro o método de chamada dentro de sua classe e, se não for encontrado, então repete \n",
        "a busca por cada nível hierárquico superior.\n",
        "\"\"\"\n",
        "dory.speak()"
      ],
      "execution_count": 35,
      "outputs": [
        {
          "output_type": "execute_result",
          "data": {
            "application/vnd.google.colaboratory.intrinsic+json": {
              "type": "string"
            },
            "text/plain": [
              "\"Hello, I'm a TangFish instance.\""
            ]
          },
          "metadata": {},
          "execution_count": 35
        }
      ]
    },
    {
      "cell_type": "code",
      "metadata": {
        "id": "mQFIqZ5nJFyN"
      },
      "source": [
        "class TangFish(Fish):\n",
        "    def speak(self):\n",
        "        return \"Hello, I'm a TangFish instance.\""
      ],
      "execution_count": 34,
      "outputs": []
    },
    {
      "cell_type": "code",
      "metadata": {
        "id": "X2fo6y3YJqZl"
      },
      "source": [
        "dory = TangFish()\n",
        "\n",
        "# este speak() é da classe TangFish\n",
        "dory.speak()"
      ],
      "execution_count": null,
      "outputs": []
    },
    {
      "cell_type": "code",
      "metadata": {
        "colab": {
          "base_uri": "https://localhost:8080/",
          "height": 35
        },
        "id": "lcqGjsPbJqlN",
        "outputId": "246c89fb-d41b-488a-9940-617da37be064"
      },
      "source": [
        "\"\"\"\n",
        "Por outro lado, como a classe ClownFish ainda NÃO \n",
        "define o speak(), as instâncias de ClownFish ainda estão usando o\n",
        "speak() da classe pai de Fish.\n",
        "\"\"\"\n",
        "\n",
        "nemo = ClownFish()\n",
        "nemo.speak()"
      ],
      "execution_count": 37,
      "outputs": [
        {
          "output_type": "execute_result",
          "data": {
            "application/vnd.google.colaboratory.intrinsic+json": {
              "type": "string"
            },
            "text/plain": [
              "\"Hello, I'm a TangFish instance.\""
            ]
          },
          "metadata": {},
          "execution_count": 37
        }
      ]
    },
    {
      "cell_type": "markdown",
      "metadata": {
        "id": "y3cm7O3LKKBI"
      },
      "source": [
        "**Quando você escreve seu próprio método especial (como str). Você está substituindo o método com o mesmo nome definido no objeto.**"
      ]
    },
    {
      "cell_type": "code",
      "metadata": {
        "colab": {
          "base_uri": "https://localhost:8080/"
        },
        "id": "6AZW-J0vKF6O",
        "outputId": "43c3d120-2759-4908-bbb8-c16003d63aa7"
      },
      "source": [
        "# O que acontece quando queremos imprimir a instância nemo?\n",
        "print(nemo)"
      ],
      "execution_count": 38,
      "outputs": [
        {
          "output_type": "stream",
          "name": "stdout",
          "text": [
            "<__main__.ClownFish object at 0x7f30a01cf250>\n"
          ]
        }
      ]
    },
    {
      "cell_type": "code",
      "metadata": {
        "id": "--QqAILaKgsR"
      },
      "source": [
        "#  A declaração print não é fácil de entender, por isso vamos ignorá-la.\n",
        "\n",
        "class ClownFish(Fish):\n",
        "    def __init__(self, name):\n",
        "        self.name = name\n",
        "    def __str__(self):\n",
        "        return \"A ClownFish named \"+self.name"
      ],
      "execution_count": 39,
      "outputs": []
    },
    {
      "cell_type": "code",
      "metadata": {
        "colab": {
          "base_uri": "https://localhost:8080/"
        },
        "id": "gc3IdSzpKlLP",
        "outputId": "29be4954-94c6-4675-b3e9-79c4d355d21b"
      },
      "source": [
        "nemo = ClownFish('Nemo')\n",
        "\n",
        "print(nemo)"
      ],
      "execution_count": 40,
      "outputs": [
        {
          "output_type": "stream",
          "name": "stdout",
          "text": [
            "A ClownFish named Nemo\n"
          ]
        }
      ]
    },
    {
      "cell_type": "markdown",
      "metadata": {
        "id": "kqPgx1v9NbS9"
      },
      "source": [
        "**Acessando Variáveis em uma Relação**\n",
        "\n",
        "Em uma relação is-a (é-um), a classe filha pode acessar os atributos da classe pai se não estiver definida na classe filha, ou substituir o valor do atributo do mesmo atributo existente na classe filha.\n",
        "\n",
        "Entretanto, se uma instância for definida em um dos níveis da classe pai, então ela NÃO poderá acessar os atributos que estão definidos em qualquer um dos níveis inferiores da classe filha."
      ]
    },
    {
      "cell_type": "code",
      "metadata": {
        "id": "qCncDWzqKqon"
      },
      "source": [
        "class Fish(Vertebrate):\n",
        "\n",
        "    # self.name não é definido na classe Fish, mas é definido na classe ClownFish.\n",
        "    def __str__(self):\n",
        "        return \"Hello, my name is {}\".format(self.name)\n",
        "    \n",
        "class ClownFish(Fish):\n",
        "    def __init__(self, name):\n",
        "        self.name = name"
      ],
      "execution_count": 41,
      "outputs": []
    },
    {
      "cell_type": "code",
      "metadata": {
        "colab": {
          "base_uri": "https://localhost:8080/"
        },
        "id": "Gg80YSH0NnbL",
        "outputId": "1dfb5b0c-1b38-496e-bac0-c558400b1f77"
      },
      "source": [
        "nemo = ClownFish(\"nemo\")\n",
        "\n",
        "# O atributo self.name para __str__() é da classe ClownFish\n",
        "# mas __str__() é da classe Fish\n",
        "print(nemo)"
      ],
      "execution_count": 42,
      "outputs": [
        {
          "output_type": "stream",
          "name": "stdout",
          "text": [
            "Hello, my name is nemo\n"
          ]
        }
      ]
    },
    {
      "cell_type": "code",
      "metadata": {
        "id": "JDkpySOROA_q"
      },
      "source": [
        "\"\"\"\n",
        "ERROR, porque se nemo é um exemplo de classe Fish, \n",
        "então NÃO tem o atributo do nome.\n",
        "\"\"\"\n",
        "nemo = Fish()\n",
        "print(nemo)"
      ],
      "execution_count": null,
      "outputs": []
    },
    {
      "cell_type": "code",
      "metadata": {
        "id": "8tRlWxDKOYh4"
      },
      "source": [
        "class Fish(Vertebrate):\n",
        "    def __init__(self, name):\n",
        "        self.name = name\n",
        "\n",
        "    # self.name não é definido na classe Fish, mas é definido na classe ClownFish.\n",
        "    def __str__(self):\n",
        "        return \"Hello, my name is {}\".format(self.name)\n",
        "    \n",
        "class ClownFish(Fish):\n",
        "    def __init__(self, name):\n",
        "        self.name = name"
      ],
      "execution_count": 46,
      "outputs": []
    },
    {
      "cell_type": "code",
      "metadata": {
        "colab": {
          "base_uri": "https://localhost:8080/"
        },
        "id": "0eRULg2POm-d",
        "outputId": "08437ec3-7da8-4fc4-b666-2b3c45cbb7a1"
      },
      "source": [
        "nemo = ClownFish(\"Nemo\")\n",
        "\n",
        "# __str__() está acessando o self.name a partir do nível filha\n",
        "print(nemo)"
      ],
      "execution_count": 48,
      "outputs": [
        {
          "output_type": "stream",
          "name": "stdout",
          "text": [
            "Hello, my name is Nemo\n"
          ]
        }
      ]
    },
    {
      "cell_type": "code",
      "metadata": {
        "colab": {
          "base_uri": "https://localhost:8080/"
        },
        "id": "pLMdqlV4Ou4H",
        "outputId": "9a9c44d4-0722-45b1-f1e9-b18a7727e18d"
      },
      "source": [
        "nemo = Fish(\"clown_fish\")\n",
        "\n",
        "#  __str__ está acessando o atributo self.name da classe Fish\n",
        "print(nemo)"
      ],
      "execution_count": 49,
      "outputs": [
        {
          "output_type": "stream",
          "name": "stdout",
          "text": [
            "Hello, my name is clown_fish\n"
          ]
        }
      ]
    }
  ]
}