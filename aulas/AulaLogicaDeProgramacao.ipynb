{
  "nbformat": 4,
  "nbformat_minor": 0,
  "metadata": {
    "colab": {
      "name": "AulaLogicaDeProgramacao.ipynb",
      "provenance": [],
      "collapsed_sections": [],
      "authorship_tag": "ABX9TyPBLJmqkvXQTkW/8tb9s3Zz",
      "include_colab_link": true
    },
    "kernelspec": {
      "name": "python3",
      "display_name": "Python 3"
    },
    "language_info": {
      "name": "python"
    }
  },
  "cells": [
    {
      "cell_type": "markdown",
      "metadata": {
        "id": "view-in-github",
        "colab_type": "text"
      },
      "source": [
        "<a href=\"https://colab.research.google.com/github/davidfatec/PythonEstudos/blob/main/AulaLogicaDeProgramacao.ipynb\" target=\"_parent\"><img src=\"https://colab.research.google.com/assets/colab-badge.svg\" alt=\"Open In Colab\"/></a>"
      ]
    },
    {
      "cell_type": "markdown",
      "metadata": {
        "id": "D4kACGAYiYD8"
      },
      "source": [
        "**AULA 22/09/2021**"
      ]
    },
    {
      "cell_type": "markdown",
      "metadata": {
        "id": "sVQ6dbn8tNAh"
      },
      "source": [
        "**RESOLUÇÃO DE EXERCICIOS**\n"
      ]
    },
    {
      "cell_type": "markdown",
      "metadata": {
        "id": "vyJHyAB1uBch"
      },
      "source": [
        "**1)Faça um programa que peça dois numeros e imprima a soma desses 2 numeros.**\n"
      ]
    },
    {
      "cell_type": "code",
      "metadata": {
        "id": "JiRA9oyXuBsV"
      },
      "source": [
        "n1 = int(input('Digite um número: '))\n",
        "n2 = int(input('Digite outro número: '))\n",
        "soma = n1 + n2\n",
        "msg = 'A soma de {} e {} é {}'.format(n1,n2,soma)\n",
        "print(msg)"
      ],
      "execution_count": null,
      "outputs": []
    },
    {
      "cell_type": "markdown",
      "metadata": {
        "id": "D49CyVOEuB9s"
      },
      "source": [
        "**2)Escreva um programa que leia um valor em metros e exiba convertido em milimetros**\n"
      ]
    },
    {
      "cell_type": "code",
      "metadata": {
        "id": "n1cr9K8RuCNN"
      },
      "source": [
        "valor = float(input('Digite um valor em metro: '))\n",
        "milimetros = valor * 1000\n",
        "msg = 'O valor de {} metros Corresponde a {:.0f} milimetros'.format(valor,milimetros)\n",
        "print(msg)"
      ],
      "execution_count": null,
      "outputs": []
    },
    {
      "cell_type": "markdown",
      "metadata": {
        "id": "hBmWzELTt7fr"
      },
      "source": [
        "**3)Escreva um programa que leia a quantidade de dias, horas, minutos e segundos do usuario.Calcule o total em segundos**"
      ]
    },
    {
      "cell_type": "code",
      "metadata": {
        "id": "PKWU_aAUqIiq"
      },
      "source": [
        "print(\"Entre com com os valores de dias, horas, minutos e segundos: \")\n",
        "dias = int(input(\"Digite a quantidade de dias: \"))\n",
        "horas = int(input(\"Digite a quantidade de horas: \"))\n",
        "minutos = int(input(\"Digite a quantidade de minutos: \"))\n",
        "segundos = int(input(\"Digite a quantidade de segundos: \"))\n",
        "dias_segundos = dias * 24 * 60 * 60\n",
        "minutos_segundos = minutos * 60\n",
        "horas_segundos = horas * 60 * 60\n",
        "totalSegundos = dias_segundos+minutos_segundos+horas_segundos+segundos\n",
        "print('''\n",
        "{} dias\n",
        "{} horas\n",
        "{} minutos\n",
        "{} seguundos\n",
        "É equivalente a {} segundos\n",
        "'''.format(dias,horas,minutos,segundos,totalSegundos))"
      ],
      "execution_count": null,
      "outputs": []
    },
    {
      "cell_type": "markdown",
      "metadata": {
        "id": "bQmV1bqEtYuX"
      },
      "source": [
        "\n",
        "**4)Faça um programa que calcule o aumento de um salario. Ele deve solicitar o valor do salario atual e a porcentagem do aumento e exibir o valor do aumento e do novo salario**\n",
        "\n"
      ]
    },
    {
      "cell_type": "code",
      "metadata": {
        "id": "Mg2rwGSYtZJs"
      },
      "source": [
        "salarioAtual = float(input('Digite o valor do salario atual: R$'))\n",
        "percentualAumento = float(input('Digite o persentual de aumento: '))\n",
        "valorDoAjuste = percentualAumento/100 * salarioAtual\n",
        "novoSalario = salarioAtual + valorDoAjuste\n",
        "msg = 'O seu novo salário teve um aumento de R${:.2f} e passa a ser R${:.2f} a partir de hoje'.format(valorDoAjuste,novoSalario)\n",
        "print(msg)"
      ],
      "execution_count": null,
      "outputs": []
    },
    {
      "cell_type": "markdown",
      "metadata": {
        "id": "0ePm8Hfauf7I"
      },
      "source": [
        "**5)Solicite o preço de uma mercadoria e o percentual de desconto. Exiba o valor do desconto e preço a a pagar.**\n"
      ]
    },
    {
      "cell_type": "code",
      "metadata": {
        "id": "di4IqviQugLC"
      },
      "source": [
        "preco = float(input('Digite o preço: R$'))\n",
        "perDesconto = float(input('Digite o percentual de desconto: '))\n",
        "valorDesconto = perDesconto/100 * preco\n",
        "precoDesconto = preco - valorDesconto\n",
        "msg = 'O desconto foi de R${:.2f} e o preço com desconto é R${:.2f}'.format(valorDesconto,precoDesconto)\n",
        "print(msg)"
      ],
      "execution_count": null,
      "outputs": []
    },
    {
      "cell_type": "markdown",
      "metadata": {
        "id": "a51g25lai0ad"
      },
      "source": [
        "**FIM DA RESOLUÇÃO DOS EXERCICIOS - OBS O EXERCICIO 5 NÃO FOI DADO COMO TAREFA**"
      ]
    },
    {
      "cell_type": "markdown",
      "metadata": {
        "id": "L130RXDkiR7w"
      },
      "source": [
        "**Ler dois valores e imprimir o maior deles**"
      ]
    },
    {
      "cell_type": "code",
      "metadata": {
        "id": "wi-kzg3-zZHn"
      },
      "source": [
        "a = int(input(\"Digite um valor de A: \"))\n",
        "b = int(input(\"Digite um valor de B: \"))\n",
        "msg = \"O valor de A é maior\"\n",
        "if b > a:\n",
        "  msg = \"O valor de B é maior\"\n",
        "if a == b: \n",
        "  msg = \"Os valores são iguais\" \n",
        "print(msg)  "
      ],
      "execution_count": null,
      "outputs": []
    },
    {
      "cell_type": "markdown",
      "metadata": {
        "id": "DioNipbihhZf"
      },
      "source": [
        "**Programa que lê a idade do seu carro se tiver menos de tres anos diga que o carro é novo, caso contrario diga que o carro é velho.**"
      ]
    },
    {
      "cell_type": "code",
      "metadata": {
        "id": "AmDYpuKGNEoC"
      },
      "source": [
        "idade = int(input(\"Digite a idade do seu carro: \"))\n",
        "if idade <= 3:\n",
        "  print(\"Seu carro é novo\")\n",
        "if idade > 3:\n",
        "  print(\"Seu carro é velho\")"
      ],
      "execution_count": null,
      "outputs": []
    },
    {
      "cell_type": "code",
      "metadata": {
        "id": "C5MMEHEG4oS7"
      },
      "source": [
        "print('INICIO DO PROGRAMA')\n",
        "carro = int(input('Digite quantos anos tem seu carro: '))\n",
        "if(carro <= 3):\n",
        "    msg = 'O carro é novo'\n",
        "else:\n",
        "    msg = 'O carro é velho'\n",
        "print(msg)   \n",
        "print('FIM DO PROGRAMA')"
      ],
      "execution_count": null,
      "outputs": []
    },
    {
      "cell_type": "markdown",
      "metadata": {
        "id": "f7fX1uxlfgSm"
      },
      "source": [
        "**Faça um programa para calculo de IR. Para salários inferiores a 1000.00 aliquota 0%. Entre 1000.00 a 3000.00 aliquota de 20%. Acima desses valores aliquota seria de 35%.**"
      ]
    },
    {
      "cell_type": "code",
      "metadata": {
        "id": "YdgEWJh38x1r"
      },
      "source": [
        "salario=float(input(\"Digite o salário para cálculo do imposto: R$\"))\n",
        "base = salario\n",
        "imposto = 0\n",
        "if base > 3000:\n",
        "  imposto = imposto + ((base - 3000) * 35/100)\n",
        "  base = 3000\n",
        "if base > 1000:\n",
        "  imposto = imposto + ((base - 1000) * 20/100)\n",
        "print(\"Salário: R${:.2f} \\nImposto a pagar: R${:.2f}\".format(salario, imposto))"
      ],
      "execution_count": null,
      "outputs": []
    },
    {
      "cell_type": "markdown",
      "metadata": {
        "id": "NMlNqMv2cixN"
      },
      "source": [
        "**Os planos da empresa tchau são bem interessantes e oferecem preços diferenciados de acordo com a quantidade de minutos usado por mês. Abaixo de 200 minutos, a empresa cobra 0,20 por minuto. Entre 200 e 400 minutos, o preço é de 0,18. Acima de 400 minutos, o preço por minuto é de 0,15.**"
      ]
    },
    {
      "cell_type": "code",
      "metadata": {
        "id": "DaEWJ-XfNR1-"
      },
      "source": [
        "minutos=int(input(\"Minutos utilizados este mês:\"))\n",
        "if minutos < 200:\n",
        "  tarifa = 0.20\n",
        "else:\n",
        "  if minutos < 400:\n",
        "    tarifa = 0.18\n",
        "  else:\n",
        "    tarifa = 0.15\n",
        "print('''\n",
        "  Descrição da conta\n",
        "=========================\n",
        "Minutos utilizados: {}\n",
        "Valor por minuto: R${:.2f}\n",
        "=========================\n",
        "Total a pagar R${:.2f}\n",
        "'''.format(minutos,tarifa, minutos*tarifa))    \n"
      ],
      "execution_count": null,
      "outputs": []
    },
    {
      "cell_type": "markdown",
      "metadata": {
        "id": "RP9kdTpna1ri"
      },
      "source": [
        "**Faça um programa que leia a categoria de tetermine o preço conforme abaixo:**\n",
        "\n",
        "**Categoria     Preço**\n",
        "\n",
        "   1          10,00\n",
        "\n",
        "   2          18,00 \n",
        "\n",
        "   3          23,00 \n",
        "\n",
        "   4          26,00\n",
        "\n",
        "   5          31,00 "
      ]
    },
    {
      "cell_type": "code",
      "metadata": {
        "colab": {
          "base_uri": "https://localhost:8080/"
        },
        "id": "6rhoFTgPNf3D",
        "outputId": "f382d79e-6e29-4cd5-ad7d-c4ecdbab295f"
      },
      "source": [
        "categoria = int(input(\"Digite a categoria do produto:\"))\n",
        "\n",
        "if categoria == 1:\n",
        "    preco = 10\n",
        "if categoria == 2:\n",
        "    preco = 18\n",
        "if categoria == 3:\n",
        "    preco = 23\n",
        "if categoria == 4:\n",
        "    preco = 26\n",
        "if categoria == 5:\n",
        "    preco = 31\n",
        "if categoria <= 0 or categoria > 5:\n",
        "   print(\"Categoria inválida, digite um valor entre 1 e 5!\")\n",
        "else:   \n",
        "   print(f\"O preço do produto é: R${preco:.2f}\")"
      ],
      "execution_count": 9,
      "outputs": [
        {
          "output_type": "stream",
          "name": "stdout",
          "text": [
            "Digite a categoria do produto:4\n",
            "O preço do produto é: R$26.00\n"
          ]
        }
      ]
    },
    {
      "cell_type": "markdown",
      "metadata": {
        "id": "DguA53seqrlE"
      },
      "source": [
        "**UTILIZANDO ELIF**"
      ]
    },
    {
      "cell_type": "code",
      "metadata": {
        "colab": {
          "base_uri": "https://localhost:8080/"
        },
        "id": "0nNNh9Gnp0pR",
        "outputId": "374e54b5-3cf9-4d86-9876-0727045db2e4"
      },
      "source": [
        "categoria = int(input(\"Digite a categoria do produto:\"))\n",
        "\n",
        "if categoria == 1:\n",
        "    preco = 10\n",
        "elif categoria == 2:\n",
        "    preco = 18\n",
        "elif categoria == 3:\n",
        "    preco = 23\n",
        "elif categoria == 4:\n",
        "    preco = 26\n",
        "elif categoria == 5:\n",
        "    preco = 31\n",
        "else:  \n",
        "    print(\"Categoria inválida, digite um valor entre 1 e 5!\") \n",
        "    preco = 0\n",
        "if preco == 0:\n",
        "  print('Categoria inválida')\n",
        "else:\n",
        "  print(f\"O preço do produto é R${preco:.2f}\")"
      ],
      "execution_count": 23,
      "outputs": [
        {
          "output_type": "stream",
          "name": "stdout",
          "text": [
            "Digite a categoria do produto:6\n",
            "Categoria inválida, digite um valor entre 1 e 5!\n",
            "categoria inválida\n"
          ]
        }
      ]
    },
    {
      "cell_type": "markdown",
      "metadata": {
        "id": "5QLy-1Vnvnh-"
      },
      "source": [
        "**USANDO FUNÇÃO DE VALIDAÇÃO**"
      ]
    },
    {
      "cell_type": "code",
      "metadata": {
        "colab": {
          "base_uri": "https://localhost:8080/"
        },
        "id": "zCKHNja4j03M",
        "outputId": "7504712f-51f2-47bd-fc09-fc925e2af519"
      },
      "source": [
        "print('''\n",
        "Escolha uma catecoria\n",
        "Categoria         Preço\n",
        "   [1]          R$10,00\n",
        "   [2]          R$18,00 \n",
        "   [3]          R$23,00 \n",
        "   [4]          R$26,00\n",
        "   [5]          R$31,00 \n",
        "''')\n",
        "#função que valida somente numeros e que os numeros sejam apenas de 1 a 5\n",
        "def leInteiros1a5(msg):\n",
        "  sim = False\n",
        "  validar = 0\n",
        "  while sim == False:\n",
        "    categoria = str(input(msg))\n",
        "    if categoria.isnumeric():\n",
        "      validar = int(categoria)\n",
        "      if validar >0 and validar <6:\n",
        "        sim = True \n",
        "    else:\n",
        "      print('Erro! Digite uma categoria válida.') \n",
        "    if sim:\n",
        "      break\n",
        "  return validar      \n",
        "#fim da função   \n",
        "categoria = leInteiros1a5(\"Digite a categoria escolhida: \")   \n",
        "if categoria == 1:\n",
        "  preco = 10\n",
        "if categoria == 2:\n",
        "    preco = 18\n",
        "if categoria == 3:\n",
        "    preco = 23\n",
        "if categoria == 4:\n",
        "    preco = 26\n",
        "if categoria == 5:\n",
        "    preco = 31  \n",
        "print(\"O preço do produto é: R${:.2f}\".format(preco) )  \n",
        "\n",
        "\n",
        "\n",
        "\n"
      ],
      "execution_count": null,
      "outputs": [
        {
          "output_type": "stream",
          "name": "stdout",
          "text": [
            "\n",
            "Escolha uma catecoria\n",
            "Categoria         Preço\n",
            "   [1]          R$10,00\n",
            "   [2]          R$18,00 \n",
            "   [3]          R$23,00 \n",
            "   [4]          R$26,00\n",
            "   [5]          R$31,00 \n",
            "\n",
            "Digite a categoria escolhida: h\n",
            "Erro! Digite uma categoria válida.\n",
            "Digite a categoria escolhida: 8\n",
            "Digite a categoria escolhida: 2\n",
            "O preço do produto é: R$18.00\n"
          ]
        }
      ]
    },
    {
      "cell_type": "markdown",
      "metadata": {
        "id": "iMY4kk1mDWoZ"
      },
      "source": [
        "**Escreva um programa que leia a velocidade de um carro.\n",
        "Se ele ultrapassar 80km/h, mostre a mensagem dizendo que ele foi multado.\n",
        "A multa vai custar R$5,00 por km acima do permitido**"
      ]
    },
    {
      "cell_type": "code",
      "metadata": {
        "colab": {
          "base_uri": "https://localhost:8080/"
        },
        "id": "JtNDeW3MFa7a",
        "outputId": "f3bd8258-c579-41d0-8e24-0439dc6b0af6"
      },
      "source": [
        "velocidade = float(input('Digite a velocidade do carro: '))\n",
        "velocidadeMaxima = 80\n",
        "velocidadeAcima = velocidade - velocidadeMaxima\n",
        "ValormultaPorKm = float(5)\n",
        "if(velocidade <= 80):\n",
        "    print('Você esta a {} km/h, Obrigado por respeitar as leis de transito'.format(velocidade))\n",
        "else:\n",
        "    valorTotalMulta = velocidadeAcima * ValormultaPorKm\n",
        "    print('Você excedeu a velocidade maxima permitida em {:.0f} km/h, sua multa foi gerada.\\nValor da Multa: R${:.2f}'\n",
        "          '\\nVelocidade permitida {}'.format(velocidadeAcima,valorTotalMulta,velocidadeMaxima))\n",
        "print('Governo do Estado de São Paulo')  "
      ],
      "execution_count": null,
      "outputs": [
        {
          "output_type": "stream",
          "name": "stdout",
          "text": [
            "Digite a velocidade do carro: 152\n",
            "Você excedeu a velocidade maxima permitida em 72 km/h, sua multa foi gerada.\n",
            "Valor da Multa: R$360.00\n",
            "Velocidade permitida 80\n",
            "Governo do Estado de São Paulo\n"
          ]
        }
      ]
    },
    {
      "cell_type": "markdown",
      "metadata": {
        "id": "6BEmYii1nwlu"
      },
      "source": [
        "**AULA 29-09-2021 estrutura de repetição**\n",
        "\n",
        "WHILE E FOR\n",
        "abaixo a impressão de 1 a 3"
      ]
    },
    {
      "cell_type": "code",
      "metadata": {
        "id": "pvbu050W19HM"
      },
      "source": [
        "contador = 1\n",
        "while contador <=3:\n",
        "  print(contador)\n",
        "  contador+=1"
      ],
      "execution_count": null,
      "outputs": []
    },
    {
      "cell_type": "code",
      "metadata": {
        "id": "EH9j9DgC1hCZ"
      },
      "source": [
        "for i in range(1,4):\n",
        "  print(i)"
      ],
      "execution_count": null,
      "outputs": []
    },
    {
      "cell_type": "code",
      "metadata": {
        "id": "OHoc0Aj43Pqc"
      },
      "source": [
        "print('Zero ou numero negativo sai do sistema')\n",
        "while True:\n",
        "  multiplicador = 0\n",
        "  numero = int(input('Digite um número: '))\n",
        "  if numero <= 0:\n",
        "    break  \n",
        "  print(f'Exibindo a tabuada do {numero}')\n",
        "  while multiplicador < 10:\n",
        "    multiplicador+=1\n",
        "    print(f'{numero:3d} x {multiplicador:3d} = {numero * multiplicador:3d}')\n",
        "print('Fim do sistema')    "
      ],
      "execution_count": null,
      "outputs": []
    },
    {
      "cell_type": "markdown",
      "metadata": {
        "id": "1QG334YNB5b1"
      },
      "source": [
        "contagem de questoes"
      ]
    },
    {
      "cell_type": "code",
      "metadata": {
        "colab": {
          "base_uri": "https://localhost:8080/"
        },
        "id": "z1yE_9FWB3Bl",
        "outputId": "b631c611-431c-4e7f-d8fd-dc6fa0191ce6"
      },
      "source": [
        "pontos = 0\n",
        "questao = 1\n",
        "gabarito = ['a','b','c','d']\n",
        "while questao <= 3:\n",
        "  resposta = str(input(f'Digite sua resposta da questão {questao}: ')).strip().lower()\n",
        "  if questao == 1 and resposta == gabarito[1]:\n",
        "    pontos+=1\n",
        "  if questao == 2 and resposta == gabarito[0]:\n",
        "    pontos+=1  \n",
        "  if questao == 3 and resposta == gabarito[3]:\n",
        "    pontos+=1  \n",
        "  questao += 1\n",
        "print(f'Total de pontos: {pontos}')  "
      ],
      "execution_count": 63,
      "outputs": [
        {
          "output_type": "stream",
          "name": "stdout",
          "text": [
            "Digite sua resposta da questão 1: b\n",
            "Digite sua resposta da questão 2: a\n",
            "Digite sua resposta da questão 3: d\n",
            "Total de pontos: 3\n"
          ]
        }
      ]
    },
    {
      "cell_type": "code",
      "metadata": {
        "id": "JF2PpirW4ode"
      },
      "source": [
        "from time import sleep\n",
        "contagem = 10\n",
        "while contagem > 0:\n",
        "    print(contagem)\n",
        "    contagem-=1\n",
        "    sleep(1)\n",
        "print(\"FOGO\")"
      ],
      "execution_count": null,
      "outputs": []
    },
    {
      "cell_type": "code",
      "metadata": {
        "id": "gku4JKSQ6vmd"
      },
      "source": [
        "final = int(input('Digite o ultimo numero para imprimir: '))\n",
        "x = 1\n",
        "while x<= final:\n",
        "  print(x)\n",
        "  x+=1"
      ],
      "execution_count": null,
      "outputs": []
    },
    {
      "cell_type": "code",
      "metadata": {
        "colab": {
          "base_uri": "https://localhost:8080/"
        },
        "id": "mdqrNk2Y_Owd",
        "outputId": "c00d6fbf-8f26-4694-add8-e5f9ab2a53f1"
      },
      "source": [
        "final = int(input('Digite o numero limite: '))\n",
        "print('Números pares')\n",
        "x = 0\n",
        "while x <= final:\n",
        "  if x % 2 == 0:\n",
        "    print(x)\n",
        "  x+=1  "
      ],
      "execution_count": 58,
      "outputs": [
        {
          "output_type": "stream",
          "name": "stdout",
          "text": [
            "Digite o numero limite: 13\n",
            "Números pares\n",
            "0\n",
            "2\n",
            "4\n",
            "6\n",
            "8\n",
            "10\n",
            "12\n"
          ]
        }
      ]
    },
    {
      "cell_type": "code",
      "metadata": {
        "colab": {
          "base_uri": "https://localhost:8080/"
        },
        "id": "Zo_1Z1LcGTZZ",
        "outputId": "b2a5841a-b4fa-41f1-df50-57af1cb9c331"
      },
      "source": [
        "n = 1\n",
        "soma = 0\n",
        "while n <= 10:\n",
        "  numero = int(input(f'Digite o {n}º valor: '))\n",
        "  soma+=numero\n",
        "  n+=1\n",
        "print('-='*12)  \n",
        "print(f'Soma dos {n-1} valores: {soma}')  "
      ],
      "execution_count": 68,
      "outputs": [
        {
          "output_type": "stream",
          "name": "stdout",
          "text": [
            "Digite o 1º valor: 1\n",
            "Digite o 2º valor: 5\n",
            "Digite o 3º valor: 5\n",
            "Digite o 4º valor: 4\n",
            "Digite o 5º valor: 7\n",
            "Digite o 6º valor: 7\n",
            "Digite o 7º valor: 6\n",
            "Digite o 8º valor: 5\n",
            "Digite o 9º valor: 4\n",
            "Digite o 10º valor: 2\n",
            "-=-=-=-=-=-=-=-=-=-=-=-=\n",
            "Soma dos 10 valores: 46\n"
          ]
        }
      ]
    },
    {
      "cell_type": "code",
      "metadata": {
        "colab": {
          "base_uri": "https://localhost:8080/"
        },
        "id": "nTEYjk2BIxMp",
        "outputId": "410440e4-1c56-46f4-bd38-9644e79806e9"
      },
      "source": [
        "n = 1\n",
        "soma = 0\n",
        "while n <= 5:\n",
        "  numero = int(input(f'Digite a {n}ª nota: '))\n",
        "  soma+=numero\n",
        "  n+=1\n",
        "media = soma / (n-1)  \n",
        "print('-='*12)  \n",
        "print(f'A media das {n-1} notas: {media}')  "
      ],
      "execution_count": 74,
      "outputs": [
        {
          "output_type": "stream",
          "name": "stdout",
          "text": [
            "Digite a 1ª nota: 5\n",
            "Digite a 2ª nota: 4\n",
            "Digite a 3ª nota: 3\n",
            "Digite a 4ª nota: 5\n",
            "Digite a 5ª nota: 6\n",
            "-=-=-=-=-=-=-=-=-=-=-=-=\n",
            "A media das 5 notas: 4.6\n"
          ]
        }
      ]
    },
    {
      "cell_type": "code",
      "metadata": {
        "colab": {
          "base_uri": "https://localhost:8080/"
        },
        "id": "ZRpUe6OHOx4i",
        "outputId": "e36891c8-6887-425f-c850-199f1144bf30"
      },
      "source": [
        "deposito = 0\n",
        "taxa = 0\n",
        "deposito = float(input(\"Digite o seu depósito inicial: R$\"))\n",
        "taxa = float(input('Digite a taxa de rendimento: '))\n",
        "periodo = 1\n",
        "totalRendimento = 0\n",
        "while periodo <= 24:\n",
        "  rendimento = deposito * taxa / 100\n",
        "  deposito = deposito + rendimento\n",
        "  totalRendimento = totalRendimento + rendimento\n",
        "  periodo+=1\n",
        "print(f'Deposito inicial: R${deposito-totalRendimento:.2f}')  \n",
        "print(f'Total de rendimentos: R$ {totalRendimento:.2f}')  \n",
        "print(f'Saldo: {deposito:.2f}')"
      ],
      "execution_count": 88,
      "outputs": [
        {
          "output_type": "stream",
          "name": "stdout",
          "text": [
            "Digite o seu depósito inicial: R$100\n",
            "Digite a taxa de rendimento: 5\n",
            "Deposito inicial: R$100.00\n",
            "Total de rendimentos: R$ 222.51\n",
            "Saldo: 322.51\n"
          ]
        }
      ]
    },
    {
      "cell_type": "code",
      "metadata": {
        "colab": {
          "base_uri": "https://localhost:8080/"
        },
        "id": "eGvVhs8HTlXu",
        "outputId": "32d48aa1-f048-43fa-c7d3-fd2e80aace6a"
      },
      "source": [
        "tabuada = 1\n",
        "while tabuada <=10:\n",
        "  print(\"-=\"*10)\n",
        "  numero = 1\n",
        "  print(f'Tabuada do {tabuada}')\n",
        "  print(\"-=\"*10) \n",
        "  while numero<=10:\n",
        "    print(f'{tabuada:3d} x {numero:3d} = {tabuada * numero:3d}')\n",
        "    numero+=1 \n",
        "  tabuada+=1  \n",
        "  "
      ],
      "execution_count": 112,
      "outputs": [
        {
          "output_type": "stream",
          "name": "stdout",
          "text": [
            "-=-=-=-=-=-=-=-=-=-=\n",
            "Tabuada do 1\n",
            "-=-=-=-=-=-=-=-=-=-=\n",
            "  1 x   1 =   1\n",
            "  1 x   2 =   2\n",
            "  1 x   3 =   3\n",
            "  1 x   4 =   4\n",
            "  1 x   5 =   5\n",
            "  1 x   6 =   6\n",
            "  1 x   7 =   7\n",
            "  1 x   8 =   8\n",
            "  1 x   9 =   9\n",
            "  1 x  10 =  10\n",
            "-=-=-=-=-=-=-=-=-=-=\n",
            "Tabuada do 2\n",
            "-=-=-=-=-=-=-=-=-=-=\n",
            "  2 x   1 =   2\n",
            "  2 x   2 =   4\n",
            "  2 x   3 =   6\n",
            "  2 x   4 =   8\n",
            "  2 x   5 =  10\n",
            "  2 x   6 =  12\n",
            "  2 x   7 =  14\n",
            "  2 x   8 =  16\n",
            "  2 x   9 =  18\n",
            "  2 x  10 =  20\n",
            "-=-=-=-=-=-=-=-=-=-=\n",
            "Tabuada do 3\n",
            "-=-=-=-=-=-=-=-=-=-=\n",
            "  3 x   1 =   3\n",
            "  3 x   2 =   6\n",
            "  3 x   3 =   9\n",
            "  3 x   4 =  12\n",
            "  3 x   5 =  15\n",
            "  3 x   6 =  18\n",
            "  3 x   7 =  21\n",
            "  3 x   8 =  24\n",
            "  3 x   9 =  27\n",
            "  3 x  10 =  30\n",
            "-=-=-=-=-=-=-=-=-=-=\n",
            "Tabuada do 4\n",
            "-=-=-=-=-=-=-=-=-=-=\n",
            "  4 x   1 =   4\n",
            "  4 x   2 =   8\n",
            "  4 x   3 =  12\n",
            "  4 x   4 =  16\n",
            "  4 x   5 =  20\n",
            "  4 x   6 =  24\n",
            "  4 x   7 =  28\n",
            "  4 x   8 =  32\n",
            "  4 x   9 =  36\n",
            "  4 x  10 =  40\n",
            "-=-=-=-=-=-=-=-=-=-=\n",
            "Tabuada do 5\n",
            "-=-=-=-=-=-=-=-=-=-=\n",
            "  5 x   1 =   5\n",
            "  5 x   2 =  10\n",
            "  5 x   3 =  15\n",
            "  5 x   4 =  20\n",
            "  5 x   5 =  25\n",
            "  5 x   6 =  30\n",
            "  5 x   7 =  35\n",
            "  5 x   8 =  40\n",
            "  5 x   9 =  45\n",
            "  5 x  10 =  50\n",
            "-=-=-=-=-=-=-=-=-=-=\n",
            "Tabuada do 6\n",
            "-=-=-=-=-=-=-=-=-=-=\n",
            "  6 x   1 =   6\n",
            "  6 x   2 =  12\n",
            "  6 x   3 =  18\n",
            "  6 x   4 =  24\n",
            "  6 x   5 =  30\n",
            "  6 x   6 =  36\n",
            "  6 x   7 =  42\n",
            "  6 x   8 =  48\n",
            "  6 x   9 =  54\n",
            "  6 x  10 =  60\n",
            "-=-=-=-=-=-=-=-=-=-=\n",
            "Tabuada do 7\n",
            "-=-=-=-=-=-=-=-=-=-=\n",
            "  7 x   1 =   7\n",
            "  7 x   2 =  14\n",
            "  7 x   3 =  21\n",
            "  7 x   4 =  28\n",
            "  7 x   5 =  35\n",
            "  7 x   6 =  42\n",
            "  7 x   7 =  49\n",
            "  7 x   8 =  56\n",
            "  7 x   9 =  63\n",
            "  7 x  10 =  70\n",
            "-=-=-=-=-=-=-=-=-=-=\n",
            "Tabuada do 8\n",
            "-=-=-=-=-=-=-=-=-=-=\n",
            "  8 x   1 =   8\n",
            "  8 x   2 =  16\n",
            "  8 x   3 =  24\n",
            "  8 x   4 =  32\n",
            "  8 x   5 =  40\n",
            "  8 x   6 =  48\n",
            "  8 x   7 =  56\n",
            "  8 x   8 =  64\n",
            "  8 x   9 =  72\n",
            "  8 x  10 =  80\n",
            "-=-=-=-=-=-=-=-=-=-=\n",
            "Tabuada do 9\n",
            "-=-=-=-=-=-=-=-=-=-=\n",
            "  9 x   1 =   9\n",
            "  9 x   2 =  18\n",
            "  9 x   3 =  27\n",
            "  9 x   4 =  36\n",
            "  9 x   5 =  45\n",
            "  9 x   6 =  54\n",
            "  9 x   7 =  63\n",
            "  9 x   8 =  72\n",
            "  9 x   9 =  81\n",
            "  9 x  10 =  90\n",
            "-=-=-=-=-=-=-=-=-=-=\n",
            "Tabuada do 10\n",
            "-=-=-=-=-=-=-=-=-=-=\n",
            " 10 x   1 =  10\n",
            " 10 x   2 =  20\n",
            " 10 x   3 =  30\n",
            " 10 x   4 =  40\n",
            " 10 x   5 =  50\n",
            " 10 x   6 =  60\n",
            " 10 x   7 =  70\n",
            " 10 x   8 =  80\n",
            " 10 x   9 =  90\n",
            " 10 x  10 = 100\n"
          ]
        }
      ]
    }
  ]
}