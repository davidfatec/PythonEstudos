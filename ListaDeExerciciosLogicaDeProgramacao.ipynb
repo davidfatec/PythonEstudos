{
  "nbformat": 4,
  "nbformat_minor": 0,
  "metadata": {
    "colab": {
      "name": "ListaDeExerciciosLogicaDeProgramacao.ipynb",
      "provenance": [],
      "authorship_tag": "ABX9TyNVMV3t6P63kAjPEE8JYUHu",
      "include_colab_link": true
    },
    "kernelspec": {
      "name": "python3",
      "display_name": "Python 3"
    },
    "language_info": {
      "name": "python"
    }
  },
  "cells": [
    {
      "cell_type": "markdown",
      "metadata": {
        "id": "view-in-github",
        "colab_type": "text"
      },
      "source": [
        "<a href=\"https://colab.research.google.com/github/davidfatec/PythonEstudos/blob/main/ListaDeExerciciosLogicaDeProgramacao.ipynb\" target=\"_parent\"><img src=\"https://colab.research.google.com/assets/colab-badge.svg\" alt=\"Open In Colab\"/></a>"
      ]
    },
    {
      "cell_type": "markdown",
      "metadata": {
        "id": "LyFQm9DZhzl6"
      },
      "source": [
        "**Listagem de exerciciospara estudo de Lógica de Programação**"
      ]
    },
    {
      "cell_type": "markdown",
      "metadata": {
        "id": "cBmOlAwZh9UA"
      },
      "source": [
        "**Primeiros programas**\n",
        "\n",
        "**1)Converta as seguintes expressões matemáticas para que possam ser calculadas usando o interpretador Python.**\n",
        "\n",
        "10 + 20 × 30\n",
        "\n",
        "4² ÷ 30\n",
        "\n",
        "(9^4 + 2) × 6 –1"
      ]
    },
    {
      "cell_type": "code",
      "metadata": {
        "colab": {
          "base_uri": "https://localhost:8080/"
        },
        "id": "TyTLbzyGhpaB",
        "outputId": "692c949e-4036-4dda-ef3c-d05a3d16472e"
      },
      "source": [
        "print(10+20*30)\n",
        "print(4**2/30)\n",
        "print((9**4+2)*6-1)"
      ],
      "execution_count": 56,
      "outputs": [
        {
          "output_type": "stream",
          "name": "stdout",
          "text": [
            "610\n",
            "0.5333333333333333\n",
            "39377\n"
          ]
        }
      ]
    },
    {
      "cell_type": "markdown",
      "metadata": {
        "id": "V2rhTxbok2va"
      },
      "source": [
        "**2)Digite a seguinte expressão no interpretador:**\n",
        "\n",
        "10 % 3 * 10 ** 2 + 1 -10 * 4 / 2\n",
        "\n",
        "Tente  resolver  o  mesmo  cálculo,  usando  apenas  lápis  e  papel.  Observe  como  a  prioridade  das operações é importante."
      ]
    },
    {
      "cell_type": "code",
      "metadata": {
        "colab": {
          "base_uri": "https://localhost:8080/"
        },
        "id": "KltvOenTk8X8",
        "outputId": "ebbb3138-f57e-4984-c3cf-98b928662cae"
      },
      "source": [
        "print(10 % 3 * 10 ** 2 + 1 -10 * 4 / 2)"
      ],
      "execution_count": 2,
      "outputs": [
        {
          "output_type": "stream",
          "name": "stdout",
          "text": [
            "81.0\n"
          ]
        }
      ]
    },
    {
      "cell_type": "markdown",
      "metadata": {
        "id": "MVv9G-jDlJOA"
      },
      "source": [
        "**3)Faça um programa que exiba seu nome na tela.**"
      ]
    },
    {
      "cell_type": "code",
      "metadata": {
        "colab": {
          "base_uri": "https://localhost:8080/"
        },
        "id": "v5G9rjh8lXQE",
        "outputId": "f6cc2ea1-d248-415a-96c0-e30540baad91"
      },
      "source": [
        "print('David')"
      ],
      "execution_count": 3,
      "outputs": [
        {
          "output_type": "stream",
          "name": "stdout",
          "text": [
            "David\n"
          ]
        }
      ]
    },
    {
      "cell_type": "markdown",
      "metadata": {
        "id": "KjtonpOPlzY4"
      },
      "source": [
        "**4)Escreva um programa que exiba o resultado de 2a × 3b, onde a vale 3 e b vale 5.**"
      ]
    },
    {
      "cell_type": "code",
      "metadata": {
        "colab": {
          "base_uri": "https://localhost:8080/"
        },
        "id": "kwAnUc-sl-xT",
        "outputId": "806eb25d-c7a8-4342-d71e-9830cff553a6"
      },
      "source": [
        "a = 3\n",
        "b = 5\n",
        "resultado = (2 * a) * (3 * b)\n",
        "print(resultado)"
      ],
      "execution_count": 4,
      "outputs": [
        {
          "output_type": "stream",
          "name": "stdout",
          "text": [
            "90\n"
          ]
        }
      ]
    },
    {
      "cell_type": "markdown",
      "metadata": {
        "id": "y8VS9FJtmm8a"
      },
      "source": [
        "**5)Modifique o primeiro programa, listagem abaixo ,de forma a calcular a soma de três variáveis.**\n",
        "\n",
        "a=2\n",
        "\n",
        "b=3\n",
        "\n",
        "print (a + b)"
      ]
    },
    {
      "cell_type": "code",
      "metadata": {
        "colab": {
          "base_uri": "https://localhost:8080/"
        },
        "id": "nFOB8hpxm1hv",
        "outputId": "498c1fe9-35c1-4eb5-f5df-e2fc8e06dda4"
      },
      "source": [
        "a = 2\n",
        "b = 3\n",
        "c = 4\n",
        "soma = a + b + c\n",
        "print(soma)"
      ],
      "execution_count": 5,
      "outputs": [
        {
          "output_type": "stream",
          "name": "stdout",
          "text": [
            "9\n"
          ]
        }
      ]
    },
    {
      "cell_type": "markdown",
      "metadata": {
        "id": "Pq5TlG_InM_C"
      },
      "source": [
        "**6)Modifique o programa da listagem a seguir, de forma que ele calcule um aumento de 15% para um salário de R$750.**\n",
        " \n",
        "salário = 1500\n",
        "\n",
        "aumento = 5\n",
        "\n",
        "print (salário + (salário * aumento / 100)"
      ]
    },
    {
      "cell_type": "code",
      "metadata": {
        "colab": {
          "base_uri": "https://localhost:8080/"
        },
        "id": "Q6i5QqmwnmLK",
        "outputId": "86fc671b-fa85-453f-8409-678ebdc52d53"
      },
      "source": [
        "salario = 750\n",
        "aumento = 15 * salario / 100\n",
        "print(f'R${salario + aumento:.2f}')\n"
      ],
      "execution_count": 16,
      "outputs": [
        {
          "output_type": "stream",
          "name": "stdout",
          "text": [
            "R$862.50\n"
          ]
        }
      ]
    },
    {
      "cell_type": "markdown",
      "metadata": {
        "id": "xcvLXWrSopWb"
      },
      "source": [
        "**Variáveis e entrada de dados**\n",
        "\n",
        "**Expressões lógicas**\n",
        "\n",
        "**1)Escreva uma expressão para determinar se uma pessoa deve ou não  pagar imposto. Considere que pagam imposto pessoas cujo salário é maior que R$1.200,00.**"
      ]
    },
    {
      "cell_type": "code",
      "metadata": {
        "colab": {
          "base_uri": "https://localhost:8080/"
        },
        "id": "vs_1FXprryo8",
        "outputId": "a2d83455-1975-46ab-8de5-9179dd237ecb"
      },
      "source": [
        "salario = float(input('Digite seu salário: R$ '))\n",
        "print('Deve pagar imposto' if salario > 1200 else 'Não precisa pagar imposto')"
      ],
      "execution_count": 18,
      "outputs": [
        {
          "output_type": "stream",
          "name": "stdout",
          "text": [
            "Digite seu salário: R$ 1201\n",
            "Deve pagar imposto\n"
          ]
        }
      ]
    },
    {
      "cell_type": "markdown",
      "metadata": {
        "id": "7d1mQIWjs4fN"
      },
      "source": [
        "**2)Calcule o resultado da expressão A > B and C or D, utilizando os valores da tabela a seguir.**\n",
        "\n",
        "![image.png](data:image/png;base64,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)"
      ]
    },
    {
      "cell_type": "code",
      "metadata": {
        "colab": {
          "base_uri": "https://localhost:8080/"
        },
        "id": "gPkG-kwNqG-1",
        "outputId": "f7069a7c-d780-44cb-aec7-c8cd991a1fa0"
      },
      "source": [
        "a = 1\n",
        "b = 2\n",
        "c = True\n",
        "d = False\n",
        "print(a > b and c or d)"
      ],
      "execution_count": 19,
      "outputs": [
        {
          "output_type": "stream",
          "name": "stdout",
          "text": [
            "False\n"
          ]
        }
      ]
    },
    {
      "cell_type": "code",
      "metadata": {
        "colab": {
          "base_uri": "https://localhost:8080/"
        },
        "id": "rCIt1ON8upVg",
        "outputId": "0af81350-be42-49e9-a9b6-049873b0b6d2"
      },
      "source": [
        "a = 10\n",
        "b = 3\n",
        "c = False\n",
        "d = False\n",
        "print(a > b and c or d)"
      ],
      "execution_count": 20,
      "outputs": [
        {
          "output_type": "stream",
          "name": "stdout",
          "text": [
            "False\n"
          ]
        }
      ]
    },
    {
      "cell_type": "code",
      "metadata": {
        "colab": {
          "base_uri": "https://localhost:8080/"
        },
        "id": "Lmt3QoCgus0u",
        "outputId": "0c06c55a-a5bc-4dd3-e91d-953144574339"
      },
      "source": [
        "a = 5\n",
        "b = 1\n",
        "c = True\n",
        "d = True\n",
        "print(a > b and c or d)"
      ],
      "execution_count": 21,
      "outputs": [
        {
          "output_type": "stream",
          "name": "stdout",
          "text": [
            "True\n"
          ]
        }
      ]
    },
    {
      "cell_type": "markdown",
      "metadata": {
        "id": "y4yUDp9_u-OA"
      },
      "source": [
        "**3)Escreva uma expressão que será utilizada para decidir se um aluno foi ou não aprovado. Para ser aprovado, todas as médias do aluno devem ser maiores que 7. Considere que o aluno cursa apenas três matérias, e que a nota de cada uma está armazenada nas seguintes variáveis: matéria1 , matéria2 e matéria3.**"
      ]
    },
    {
      "cell_type": "code",
      "metadata": {
        "colab": {
          "base_uri": "https://localhost:8080/"
        },
        "id": "9MJ8NiDpvom5",
        "outputId": "174573f9-ba82-4125-ac66-0a9a35fe6ba8"
      },
      "source": [
        "materia1 = float(input('Digite a média da primeira materia: '))\n",
        "materia2 = float(input('Digite a média da segunda materia: '))\n",
        "materia3 = float(input('Digite a média da terceira materia: '))\n",
        "notaCorte = 7\n",
        "aprovado = False\n",
        "if materia1 > notaCorte and materia2 > notaCorte and materia3 > notaCorte:\n",
        "  aprovado = True\n",
        "print('Aprovado' if aprovado else 'Reprovado')"
      ],
      "execution_count": 26,
      "outputs": [
        {
          "output_type": "stream",
          "name": "stdout",
          "text": [
            "Digite a média da primeira materia: 7.1\n",
            "Digite a média da segunda materia: 7.2\n",
            "Digite a média da terceira materia: 7.3\n",
            "Aprovado\n"
          ]
        }
      ]
    },
    {
      "cell_type": "markdown",
      "metadata": {
        "id": "AnLR6_yvyEOq"
      },
      "source": [
        "**Entrada de dados**\n",
        "\n",
        "**1)Faça um programa que peça dois números inteiros. Imprima a soma desses dois números na tela.**"
      ]
    },
    {
      "cell_type": "code",
      "metadata": {
        "id": "ncygnAanzRdu"
      },
      "source": [
        "n1 = int(input('Digite um número: '))\n",
        "n2 = int(input('Digite outro número: '))\n",
        "soma = n1 + n2\n",
        "print(f'A soma de {n1} e {n2} é {soma}')"
      ],
      "execution_count": null,
      "outputs": []
    },
    {
      "cell_type": "markdown",
      "metadata": {
        "id": "IlwuSBdVzSOb"
      },
      "source": [
        "**2)Escreva um programa que leia um valor em metros e o exiba convertido em milimetros**"
      ]
    },
    {
      "cell_type": "code",
      "metadata": {
        "colab": {
          "base_uri": "https://localhost:8080/"
        },
        "id": "TifDCogOhVsa",
        "outputId": "9f1bac6a-ec69-47cc-ae7a-d8ec435ebfc0"
      },
      "source": [
        "valor = float(input('Digite um valor em metro: '))\n",
        "milimetros = valor * 1000\n",
        "print(f'O valor de {valor} metros Corresponde a {milimetros:.0f} milimetros')"
      ],
      "execution_count": 27,
      "outputs": [
        {
          "output_type": "stream",
          "name": "stdout",
          "text": [
            "Digite um valor em metro: 120\n",
            "O valor de 120.0 metros Corresponde a 120000 milimetros\n"
          ]
        }
      ]
    },
    {
      "cell_type": "markdown",
      "metadata": {
        "id": "UzxyAzKjaURO"
      },
      "source": [
        "**3)Escreva um programa que leia a quantidade de dias, horas, minutos e segundos do usuario. Calcule o total em segundos**"
      ]
    },
    {
      "cell_type": "code",
      "metadata": {
        "id": "3Ab6J1IMh58_",
        "colab": {
          "base_uri": "https://localhost:8080/"
        },
        "outputId": "1208ac40-feaf-43b6-8b9c-c4434086c5b5"
      },
      "source": [
        "dias = int(input('Digite quantos dias: '))\n",
        "horas = int(input('Digite quantas horas: '))\n",
        "minutos = int(input('Digite quantos minutos: '))\n",
        "segundos = int(input('Digite quantos segundos: '))\n",
        "totalSegundos = (dias*24*60*60)+(horas*60*60)+(minutos * 60)+segundos\n",
        "print(f'{dias} dia(s)\\n{horas} hora(s)\\n{minutos} minuto(s)\\n{segundos} segundo(s)\\nCorresponde a {totalSegundos} segundo(s)')"
      ],
      "execution_count": 28,
      "outputs": [
        {
          "output_type": "stream",
          "name": "stdout",
          "text": [
            "Digite quantos dias: 1\n",
            "Digite quantas horas: 0\n",
            "Digite quantos minutos: 1\n",
            "Digite quantos segundos: 2\n",
            "1 dia(s)\n",
            "0 hora(s)\n",
            "1 minuto(s)\n",
            "2 segundo(s)\n",
            "Corresponde a 86462 segundo(s)\n"
          ]
        }
      ]
    },
    {
      "cell_type": "markdown",
      "metadata": {
        "id": "hebm2dJlamvR"
      },
      "source": [
        "**4)Faça um programa que calcule o aumento de um salário. Ele deve solicitar o valor do salário e a porcentagem do aumento. exiba o valor do aumento e do novo salário**"
      ]
    },
    {
      "cell_type": "code",
      "metadata": {
        "colab": {
          "base_uri": "https://localhost:8080/"
        },
        "id": "JvbfEaVZiYvl",
        "outputId": "d047bb1c-d574-402d-9faf-898f5d7f6123"
      },
      "source": [
        "salarioAtual = float(input('Digite o valor do salario atual: R$'))\n",
        "percentualAumento = float(input('Digite o persentual de aumento: '))\n",
        "valorDoAjuste = percentualAumento/100 * salarioAtual\n",
        "novoSalario = salarioAtual + valorDoAjuste\n",
        "print(f'O seu novo salário teve um aumento de R${valorDoAjuste:.2f} e passa a ser R${novoSalario:.2f} a partir de hoje')"
      ],
      "execution_count": null,
      "outputs": [
        {
          "output_type": "stream",
          "name": "stdout",
          "text": [
            "Digite o valor do salario atual: R$2900\n",
            "Digite o persentual de aumento: 10\n",
            "O seu novo salário teve um aumento de R$290.00 e passa a ser R$3190.00 a partir de hoje\n"
          ]
        }
      ]
    },
    {
      "cell_type": "markdown",
      "metadata": {
        "id": "pOOl-CgJa9gU"
      },
      "source": [
        "**5)Faça um programa que solicite o preço de uma mercadoria e o percentual de desconto. Exiba o valor do desconto e o preço a pagar.**"
      ]
    },
    {
      "cell_type": "code",
      "metadata": {
        "colab": {
          "base_uri": "https://localhost:8080/"
        },
        "id": "RJhqSkmki2zC",
        "outputId": "6a0a681b-c898-4b58-8973-6146e4f9c5fe"
      },
      "source": [
        "preco = float(input('Digite o preço: R$'))\n",
        "perDesconto = float(input('Digite o percentual de desconto: '))\n",
        "valorDesconto = perDesconto/100 * preco\n",
        "precoDesconto = preco - valorDesconto\n",
        "print(f'O desconto foi de R${valorDesconto:.2f} e o preço com desconto é R${precoDesconto:.2f}')\n"
      ],
      "execution_count": null,
      "outputs": [
        {
          "output_type": "stream",
          "name": "stdout",
          "text": [
            "Digite o preço: R$1100\n",
            "Digite o percentual de desconto: 10\n",
            "O desconto foi de R$110.00 e o preço com desconto é R$990.00\n"
          ]
        }
      ]
    },
    {
      "cell_type": "markdown",
      "metadata": {
        "id": "IcRXnrR4bSmo"
      },
      "source": [
        "**6)Escreva um programa que calcule o tempo de uma viagem de carro. Pergunte a distancia a percorrer e a velocidade média esperada para a viagem**"
      ]
    },
    {
      "cell_type": "code",
      "metadata": {
        "colab": {
          "base_uri": "https://localhost:8080/"
        },
        "id": "xVvBZzrRjTqI",
        "outputId": "b290cae4-9a13-403e-e0ca-62d4edc99938"
      },
      "source": [
        "distancia = float(input('Digite a distancia a percorrer em km: '))\n",
        "velocidadeMedia = float(input('Digite a velocidade media km/h: '))\n",
        "tempo = distancia / velocidadeMedia\n",
        "\n",
        "tempo_segundo = int(tempo * 3600) # converte o tempo em horas para segundos ex 1.5 horas = 5400 segundos\n",
        "horas = int(tempo_segundo // 3600) # parte inteira apenas a hora 5400 / 3600 = 1.5 nesse codigo a variavel recebe apena o 1\n",
        "tempo_segundo = int(tempo_segundo % 3600) # o resto de 5400 % 3600 = que equivale a 0.5 de 3600 (1800)\n",
        "minutos = int(tempo_segundo // 60) #recebe os 1800 / 60 = 30 \n",
        "segundos = int(tempo_segundo % 60) #recebe o resto de 1800 / 60 = 0\n",
        "\n",
        "print(f'''\n",
        "Para percorrer {distancia:.2f} kilometros,\n",
        "a uma velocidade de {velocidadeMedia:.2f} km/h\n",
        "levaremos {horas:02d}:{minutos:02d}:{segundos:02d}''')"
      ],
      "execution_count": null,
      "outputs": [
        {
          "output_type": "stream",
          "name": "stdout",
          "text": [
            "Digite a distancia a percorrer em km: 515\n",
            "Digite a velocidade media km/h: 180\n",
            "\n",
            "Para percorrer 515.00 kilometros,\n",
            "a uma velocidade de: 180.00 km/h\n",
            "levaremos 02:51:40\n"
          ]
        }
      ]
    },
    {
      "cell_type": "markdown",
      "metadata": {
        "id": "cQ0Img9xcY3g"
      },
      "source": [
        "**7)Escreva um programa que converta uma temperatura digitada em °C para °F.** \n",
        "\n",
        "**F = (9 x C / 5) + 32**"
      ]
    },
    {
      "cell_type": "code",
      "metadata": {
        "colab": {
          "base_uri": "https://localhost:8080/"
        },
        "id": "R0cd7LdkgZ61",
        "outputId": "1aefc71e-b456-48d1-db09-542646a2bc68"
      },
      "source": [
        "c = float(input('Digite quantos graus Celsius deseja converter: '))\n",
        "f = (9*c/5) + 32\n",
        "print(f'{c:.2f} grau(s) Celsius equivale a {f:.2f} grau(s) Fahrenheit')"
      ],
      "execution_count": null,
      "outputs": [
        {
          "output_type": "stream",
          "name": "stdout",
          "text": [
            "Digite quantos graus Celsius deseja converter: 45\n",
            "45.00 grau(s) Celsius equivale a 113.00 grau(s) Fahrenheit\n"
          ]
        }
      ]
    },
    {
      "cell_type": "markdown",
      "metadata": {
        "id": "4Xil84_sbq27"
      },
      "source": [
        "**8)Escreva um programa que pergunte a quantidade de km percorridos por um carro alugado pelo usuário, assim como a quantidade de dias pelos quais o carro foi alugado. Calcule o preço a pagar, sabendo que o carro custa 60 por dia e 0,15 por km rodado**"
      ]
    },
    {
      "cell_type": "code",
      "metadata": {
        "colab": {
          "base_uri": "https://localhost:8080/"
        },
        "id": "CNey9QWIkaDV",
        "outputId": "b5607970-56c1-411e-fedb-fc40014ed901"
      },
      "source": [
        "kmPercorrido = int(input('Digite a kilometragem percorrida: '))\n",
        "diasLocados  = int(input('Digite o numero de dias que o carro foi locado: '))\n",
        "valorDia = 60\n",
        "valorkm = 0.15\n",
        "totalPagar = (diasLocados * valorDia) + (kmPercorrido * valorkm)\n",
        "print(f'''Descrição da locação \n",
        "Dias locados: {diasLocados} dias → R${diasLocados * valorDia:.2f}\n",
        "Km Rodado:    {kmPercorrido}km   → R${kmPercorrido * valorkm:.2f}\n",
        "=================================\n",
        "          Total a pagar R${totalPagar:.2f}''')"
      ],
      "execution_count": null,
      "outputs": [
        {
          "output_type": "stream",
          "name": "stdout",
          "text": [
            "Digite a kilometragem percorrida: 100\n",
            "Digite o numero de dias que o carro foi locado: 2\n",
            "Descrição da locação ↓\n",
            "Dias locados: 2 dias → R$120.00\n",
            "Km Rodado:    100km   → R$15.00\n",
            "=================================\n",
            "          Total a pagar R$135.00\n"
          ]
        }
      ]
    },
    {
      "cell_type": "markdown",
      "metadata": {
        "id": "STGFZSVAfEyr"
      },
      "source": [
        "**9)Escreva um programa para calcular a redução do tempo de vida de um fumante. Pergunte a quantidade de cigarros fumados por dia e quantos anos ele ja fumou. Considere que um fumante perde 10 minutos de vida a cada cigarro, calcule quantos dias de vida um fumante perdera. Exiba o total em dias.**\n",
        "\n"
      ]
    },
    {
      "cell_type": "code",
      "metadata": {
        "colab": {
          "base_uri": "https://localhost:8080/"
        },
        "id": "sthYf6MgLZnt",
        "outputId": "2bf57c12-e23d-45d5-d5ca-c3561e78772f"
      },
      "source": [
        "cigarrosDia = int(input('Quantos cigarro fuma por dia? '))\n",
        "anosQueFuma = float(input('quantos anos fuma? '))\n",
        "cigarroFumados = (anosQueFuma * 365) * cigarrosDia\n",
        "tempoDeVidaPerdido = (cigarroFumados * 10) / 1440 #1440 é a quantidade de minutos que tem um dia\n",
        "print('Por ter fumado {:.0f} cigarros durante {:.0f} ano(s), sinto lhe informar que perdeu {:.0f}'\n",
        "      ' dias de sua vida'.format(cigarroFumados,anosQueFuma,tempoDeVidaPerdido))\n"
      ],
      "execution_count": null,
      "outputs": [
        {
          "output_type": "stream",
          "name": "stdout",
          "text": [
            "Quantos cigarro fuma por dia? 12\n",
            "quantos anos fuma? 20\n",
            "Por ter fumado 87600 cigarros durante 20 ano(s), sinto lhe informar que perdeu 608 dias de sua vida\n"
          ]
        }
      ]
    },
    {
      "cell_type": "markdown",
      "metadata": {
        "id": "pQSeT7Gup-Yu"
      },
      "source": [
        "**10)O custo de um carro novo ao consumidor é a soma do custo de fábrica com a porcentagem do distribuidor e dos impostos(aplicados ao custo de fábrica). Supondo que o percentual do distribuidor seja de 28% e os impostos de 45%, escrever um algoritmo para ler o custo de fabrica de um carro, calcular e escrever o custo final para o consumidor**"
      ]
    },
    {
      "cell_type": "code",
      "metadata": {
        "colab": {
          "base_uri": "https://localhost:8080/"
        },
        "id": "ILjFRzvdshve",
        "outputId": "5330f370-ab5a-4a3d-ca4b-caee43195954"
      },
      "source": [
        "custoDeFabrica = float(input('Digite o custo de fábrica do carro: R$'))\n",
        "impostoCFabrica = custoDeFabrica * 45 / 100\n",
        "percDistribuidor = custoDeFabrica * 28 / 100\n",
        "custoFinal = custoDeFabrica+impostoCFabrica+percDistribuidor\n",
        "\n",
        "print(f'''\n",
        "===================================================\n",
        "            Detalhamento do Custo\n",
        "===================================================\n",
        "Custo de fabrica sem impostos    R${custoDeFabrica:5.2f}\n",
        "Imposto                          R${impostoCFabrica:5.2f}\n",
        "Lucro distribuidor               R${percDistribuidor:5.2f}\n",
        "===================================================\n",
        "                  Preço final →  R${custoFinal:5.2f}\n",
        "''')\n"
      ],
      "execution_count": null,
      "outputs": [
        {
          "output_type": "stream",
          "name": "stdout",
          "text": [
            "Digite o custo de fábrica do carro: R$58000\n",
            "\n",
            "===================================================\n",
            "            Detalhamento do Custo\n",
            "===================================================\n",
            "Custo de fabrica sem impostos    R$58000.00\n",
            "Imposto                          R$26100.00\n",
            "Lucro distribuidor               R$16240.00\n",
            "===================================================\n",
            "                  Preço final →  R$100340.00\n",
            "\n"
          ]
        }
      ]
    },
    {
      "cell_type": "markdown",
      "metadata": {
        "id": "o-bRVHbyp-o6"
      },
      "source": [
        "**11)Faça um programa que receba o tempo em segundos de 3 voltas que um piloto de formula 1 percorreu. Mostre qual foi a volta mais rápida**"
      ]
    },
    {
      "cell_type": "code",
      "metadata": {
        "id": "zeVcwaaZv0lR",
        "colab": {
          "base_uri": "https://localhost:8080/"
        },
        "outputId": "6f7b3ef2-142d-4c25-9496-54a666dd83cb"
      },
      "source": [
        "volta1 = int(input(\"Digite quantos segundos foi a primeira volta: \"))\n",
        "volta2 = int(input(\"Digite quantos segundos foi a segunda volta: \"))\n",
        "volta3 = int(input(\"Digite quantos segundos foi a terceira volta: \"))\n",
        "maisRapida = volta1\n",
        "msg = 'A primeira volta foi a mais rápida'\n",
        "if volta2 < volta1 and volta2 < volta3:\n",
        "  maisRapida = volta2\n",
        "  msg = 'A segunda volta foi a mais rápida'\n",
        "if volta3 < volta1 and volta3 < volta2:\n",
        "  maisRapida = volta3\n",
        "  msg = 'A terceira volta foi a mais rápida'\n",
        "if volta1 == volta2 == volta3:\n",
        "  msg = 'As três voltas tiveram o mesmo tempo,\\n Isso é INCRÍVEL' \n",
        "if volta1 == volta2 < volta3:\n",
        "  msg = 'A primeira e a segunda volta foram\\n mais rápidas com o mesmo tempo'\n",
        "if volta1 == volta3 < volta2:\n",
        "  msg = 'A primeira e a terceira volta foram\\n mais rápidas com o mesmo tempo' \n",
        "if volta2 == volta3 < volta1:\n",
        "  msg = 'A segunda e a terceira volta foram\\n mais rápidas com o mesmo tempo'    \n",
        "print(f'''\n",
        "==================================\n",
        "    GP do Brasil de fórmula 1\n",
        "==================================\n",
        "Volta 1 {volta1} segundos\n",
        "Volta 2 {volta2} segundos\n",
        "Volta 3 {volta3} segundos\n",
        "==================================\n",
        "{msg} \n",
        "''')  "
      ],
      "execution_count": 36,
      "outputs": [
        {
          "output_type": "stream",
          "name": "stdout",
          "text": [
            "Digite quantos segundos foi a primeira volta: 121\n",
            "Digite quantos segundos foi a segunda volta: 121\n",
            "Digite quantos segundos foi a terceira volta: 119\n",
            "\n",
            "==================================\n",
            "    GP do Brasil de fórmula 1\n",
            "==================================\n",
            "Volta 1 121 segundos\n",
            "Volta 2 121 segundos\n",
            "Volta 3 119 segundos\n",
            "==================================\n",
            "A terceira volta foi a mais rápida \n",
            "\n"
          ]
        }
      ]
    },
    {
      "cell_type": "markdown",
      "metadata": {
        "id": "R7TQpNY67bxx"
      },
      "source": [
        "**Condições(IF-ELSE-ELIF)**"
      ]
    },
    {
      "cell_type": "markdown",
      "metadata": {
        "id": "doX-XWPp01xu"
      },
      "source": [
        "**1)Escreva um programa que leia três números e que imprima o maior e o menor**"
      ]
    },
    {
      "cell_type": "code",
      "metadata": {
        "colab": {
          "base_uri": "https://localhost:8080/"
        },
        "id": "IjDRliI-02BP",
        "outputId": "c08fd4be-8735-4d6e-8bff-8c1d96720077"
      },
      "source": [
        "n1 = int(input('Digite o primeiro número: '))\n",
        "n2 = int(input('Digite o segundo número: '))\n",
        "n3 = int(input('Digite o terceiro número: '))\n",
        "menor = n1\n",
        "if n2 < n1 and n2 < n3:\n",
        "    menor = n2\n",
        "if n3 < n1 and n3 < n2:\n",
        "    menor = n3\n",
        "maior = n1\n",
        "if n2 > n1 and n2 > n3:\n",
        "    maior = n2\n",
        "if n3 > n1 and n3 > n2:\n",
        "    maior = n3     \n",
        "    \n",
        "print(f'Dentre os três números digitados {n1}, {n2} e {n3}\\nO maior é: {maior}\\nO menor é: {menor}')       "
      ],
      "execution_count": null,
      "outputs": [
        {
          "output_type": "stream",
          "name": "stdout",
          "text": [
            "Digite o primeiro número: 5\n",
            "Digite o segundo número: 4\n",
            "Digite o terceiro número: 3\n",
            "Dentre os três números digitados 5, 4 e 3\n",
            "O maior é: 5\n",
            "O menor é: 3\n"
          ]
        }
      ]
    },
    {
      "cell_type": "markdown",
      "metadata": {
        "id": "C1_kjfWLp-9q"
      },
      "source": [
        "**2)Escreva um programa que pergunte o salário do funcionário e calcule o valor do aumento. Para salários superiores a 'R$1250.00', calcule um aumento de '10%'. Para os inferiores e iguais, de '15%'**"
      ]
    },
    {
      "cell_type": "code",
      "metadata": {
        "colab": {
          "base_uri": "https://localhost:8080/"
        },
        "id": "18nCHkrk2q4V",
        "outputId": "fd805478-7b7f-43fa-c533-7894dbf6f75a"
      },
      "source": [
        "salario = float(input('Digite seu salário: R$'))\n",
        "aumento1 = 10 * salario / 100\n",
        "aumento2 = 15 * salario / 100\n",
        "print(f'Salário novo R${salario + aumento1:.2f}' if salario > 1250 else f'Salário novo R${salario + aumento2:.2f}')"
      ],
      "execution_count": null,
      "outputs": [
        {
          "output_type": "stream",
          "name": "stdout",
          "text": [
            "Digite seu salário: R$2000\n",
            "Salário novo R$2200.00\n"
          ]
        }
      ]
    },
    {
      "cell_type": "markdown",
      "metadata": {
        "id": "sXXf0XWz4wRU"
      },
      "source": [
        "**3)Escreva um programa que pergunte a velocidade de um usuário. Caso ultrapasse 80km/h, exiba uma mensagem dizendo que ele foi multado. Nesse caso exiba o valor da multa cobrando R$5,00 por km acima do permitido**"
      ]
    },
    {
      "cell_type": "code",
      "metadata": {
        "colab": {
          "base_uri": "https://localhost:8080/"
        },
        "id": "UJTVpEgq4wip",
        "outputId": "fe129fe9-b9f6-4995-8b82-de0c928ea8a9"
      },
      "source": [
        "velocidade = float(input('Digite a velocidade do carro: '))\n",
        "velocidadeMaxima = 80\n",
        "velocidadeAcima = velocidade - velocidadeMaxima\n",
        "ValormultaPorKm = float(5)\n",
        "if(velocidade <= 80):\n",
        "    print(f'Você esta a {velocidade} km/h, Obrigado por respeitar as leis de transito')\n",
        "else:\n",
        "    valorTotalMulta = velocidadeAcima * ValormultaPorKm\n",
        "    print('Você excedeu a velocidade maxima permitida em {:.0f} km/h, sua multa foi gerada.\\nValor da Multa: R${:.2f}'\n",
        "          '\\nVelocidade permitida {}'.format(velocidadeAcima,valorTotalMulta,velocidadeMaxima))\n",
        "print('Governo do Estado de São Paulo')"
      ],
      "execution_count": null,
      "outputs": [
        {
          "output_type": "stream",
          "name": "stdout",
          "text": [
            "Digite a velocidade do carro: 120\n",
            "Você excedeu a velocidade maxima permitida em 40 km/h, sua multa foi gerada.\n",
            "Valor da Multa: R$200.00\n",
            "Velocidade permitida 80\n",
            "Governo do Estado de São Paulo\n"
          ]
        }
      ]
    },
    {
      "cell_type": "markdown",
      "metadata": {
        "id": "ioGE2fudsjtW"
      },
      "source": [
        "**4)Escreva um programa que pergunte a distância que um passageiro deseja percorrer em km. Calcule o preço da passagem, cobrando '0,50' para viagens de até '200km', e '0,45' para viagens mais longas**"
      ]
    },
    {
      "cell_type": "code",
      "metadata": {
        "colab": {
          "base_uri": "https://localhost:8080/"
        },
        "id": "s238F414sj8p",
        "outputId": "b0c5bde6-adc3-409e-ce48-17f93346ce20"
      },
      "source": [
        "distancia = int(input(\"Digite a distancia a ser percorrida: \"))\n",
        "print(f'Sua viagem de {distancia}km vai custar R${distancia * 0.50:.2f}' if distancia <= 200 else f'Sua viagem de {distancia}km vai custar R${distancia * 0.45:.2f}')"
      ],
      "execution_count": null,
      "outputs": [
        {
          "output_type": "stream",
          "name": "stdout",
          "text": [
            "Digite a distancia a ser percorrida: 300\n",
            "Sua viagem de 300km vai custar R$135.00\n"
          ]
        }
      ]
    },
    {
      "cell_type": "markdown",
      "metadata": {
        "id": "F97msRD0xDz7"
      },
      "source": [
        "**5)Escreva um programa que leia dois números e que pergunte qual operação voce deseja realizar. Você deve poder calcular a soma, subtração, multiplicação e divisão. Exiba o resultado da operação solicitada**"
      ]
    },
    {
      "cell_type": "code",
      "metadata": {
        "id": "aZH4sw85xEZ0",
        "colab": {
          "base_uri": "https://localhost:8080/"
        },
        "outputId": "c70694c6-a7de-4fc9-f7c4-986cfe5fd039"
      },
      "source": [
        "numero1 = int(input('Digite o primeiro número: '))\n",
        "numero2 = int(input('Digite o segundo numero: '))\n",
        "escolha = int(input('''\n",
        "=======================\n",
        "= Escolha a operação: =\n",
        "=======================\n",
        "=[0] Soma             =\n",
        "=[1] Subtração        =\n",
        "=[2] Multiplicação    =\n",
        "=[3] Divisão          =\n",
        "=======================\n",
        "Digite sua opção: '''))\n",
        "if escolha == 0:\n",
        "  print(f'A soma de {numero1} e {numero2} é {numero1 + numero2}')\n",
        "elif escolha == 1:\n",
        "  print(f'A subtração de {numero1} por {numero2} é {numero1 - numero2}')\n",
        "elif escolha == 2:\n",
        "  print(f'A multiplicação de {numero1} por {numero2} é {numero1 * numero2}')\n",
        "elif escolha == 3:\n",
        "  print(f'A divisão de {numero1} por {numero2} é {numero1 / numero2}')\n",
        "else:\n",
        "  print(f'A opção {escolha} não é valida, encerrando o sistema ....')\n",
        "print('Fim do sistema')       "
      ],
      "execution_count": null,
      "outputs": [
        {
          "output_type": "stream",
          "name": "stdout",
          "text": [
            "Digite o primeiro número: 5\n",
            "Digite o segundo numero: 9\n",
            "\n",
            "=======================\n",
            "= Escolha a operação: =\n",
            "=======================\n",
            "=[0] Soma             =\n",
            "=[1] Subtração        =\n",
            "=[2] Multiplicação    =\n",
            "=[3] Divisão          =\n",
            "=======================\n",
            "Digite sua opção: 3\n",
            "A divisão de 5 por 9 é 0.5555555555555556\n",
            "Fim do sistema\n"
          ]
        }
      ]
    },
    {
      "cell_type": "markdown",
      "metadata": {
        "id": "KlQCxNmRKMnT"
      },
      "source": [
        "**6)Escreva  um programa para aprovar um empréstimo bancário para a compra de uma casa. O programa vai perguntar o valor da casa, o salário e a quantidade de anos a pagar. O valor da prestação mensal não pode ser superior a 30% do salário.**"
      ]
    },
    {
      "cell_type": "code",
      "metadata": {
        "colab": {
          "base_uri": "https://localhost:8080/"
        },
        "id": "0yGBb-ChKM4w",
        "outputId": "3840b782-0ea2-4a2c-affa-820628867c64"
      },
      "source": [
        "valorCasa = float(input('Digite o valor da casa desejada: R$ '))\n",
        "salario = float(input('Digite o valor do seu salário: R$ '))\n",
        "anos = int(input('Digite em quantos anos deseja pagar: '))\n",
        "meses = anos * 12\n",
        "prestacao = valorCasa / meses\n",
        "valorAprovado = salario * 30/100\n",
        "if prestacao <= valorAprovado:\n",
        "    print('Empréstimo aprovado, parabéns\\nValor financiado: R${:.2f}\\nNúmero de parcelas: {} meses\\nValor da parcela: R${:.2f}'.format(valorCasa,meses,prestacao))\n",
        "else:\n",
        "    print('Infelizmente nessa condição não poderemos efetuar o empréstimo, tente aumentar o tempo de financiamento')\n",
        "print('Fim do sistema')"
      ],
      "execution_count": null,
      "outputs": [
        {
          "output_type": "stream",
          "name": "stdout",
          "text": [
            "Digite o valor da casa desejada: R$ 120000\n",
            "Digite o valor do seu salário: R$ 1200\n",
            "Digite em quantos anos deseja pagar: 25\n",
            "Infelizmente nessa condição não poderemos efetuar o empréstimo, tente aumentar o tempo de financiamento\n",
            "Fim do sistema\n"
          ]
        }
      ]
    },
    {
      "cell_type": "markdown",
      "metadata": {
        "id": "RFzti7JddreT"
      },
      "source": [
        "**7)Escreva um programa que calcule o preço a pagar pelo fornecimento de energia elétrica. Pergunte a quantidade de KWh consumida e o tipo de instalação R → para residencias, I → para industrias e C → para Comércios. Calcule o preço a pagar conforme a tabela a seguir.**\n",
        "\n",
        "![image.png](data:image/png;base64,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)"
      ]
    },
    {
      "cell_type": "code",
      "metadata": {
        "colab": {
          "base_uri": "https://localhost:8080/"
        },
        "id": "5ICpRv0Ie5PN",
        "outputId": "091e31f8-5bc0-4bf3-95d1-cb5f91a9cc8c"
      },
      "source": [
        "consumo = int(input('Digite o consumo de KWh: '))\n",
        "tipo = str(input('''\n",
        "================================\n",
        "= Digite o tipo do instalação: =\n",
        "================================\n",
        "=     [R] → Residencial        =\n",
        "=     [C] → Comercial          =\n",
        "=     [I] → Industrial         =\n",
        "================================\n",
        "      Sua Opção → ''' )).upper().strip()[0]\n",
        "total = 0\n",
        "descTarifa = 0\n",
        "tarifa = [0.4,0.55,0.6,0.65]\n",
        "if (consumo <= 500 and tipo == \"R\"):\n",
        "   total = consumo * tarifa[0]\n",
        "   descTarifa = tarifa[0]\n",
        "elif (consumo > 500 and tipo == \"R\"):   \n",
        "   total = consumo * tarifa[3]\n",
        "   descTarifa = tarifa[3]\n",
        "elif (consumo <= 1000 and tipo == \"C\" ):\n",
        "   total = consumo * tarifa[1]\n",
        "   descTarifa = tarifa[1]\n",
        "elif (consumo > 1000 and tipo == \"C\"):\n",
        "   total = consumo * tarifa[2]\n",
        "   descTarifa = tarifa[2]\n",
        "elif (consumo <= 5000 and tipo == \"I\"):\n",
        "   total = consumo * tarifa[1]\n",
        "   descTarifa = tarifa[1]\n",
        "elif (consumo > 5000 and tipo == \"I\"):\n",
        "   total = consumo * tarifa[2]  \n",
        "   descTarifa = tarifa[2]\n",
        "else:\n",
        "   total = 0\n",
        " \n",
        "if total == 0:\n",
        "  print('Valor inválido, repita a operação com os valores corretos') \n",
        "else:   \n",
        "  print(f'''\n",
        "================================\n",
        "=      Sua conta de Energia    =\n",
        "================================\n",
        "Tipo de instalação → {tipo}\n",
        "Consumo em KWh     → {consumo}\n",
        "Tarifa             → R${descTarifa:.2f}\n",
        "================================\n",
        "       Total a pagar R${total:.2f}\n",
        "================================''')   \n",
        "\n",
        "print('Fim do sistema')\n"
      ],
      "execution_count": 37,
      "outputs": [
        {
          "output_type": "stream",
          "name": "stdout",
          "text": [
            "Digite o consumo de KWh: 121\n",
            "\n",
            "================================\n",
            "= Digite o tipo do instalação: =\n",
            "================================\n",
            "=     [R] → Residencial        =\n",
            "=     [C] → Comercial          =\n",
            "=     [I] → Industrial         =\n",
            "================================\n",
            "      Sua Opção → r\n",
            "\n",
            "================================\n",
            "=      Sua conta de Energia    =\n",
            "================================\n",
            "Tipo de instalação → R\n",
            "Consumo em KWh     → 121\n",
            "Tarifa             → R$0.40\n",
            "================================\n",
            "       Total a pagar R$48.40\n",
            "================================\n",
            "Fim do sistema\n"
          ]
        }
      ]
    },
    {
      "cell_type": "markdown",
      "metadata": {
        "id": "lv6f6_L19X51"
      },
      "source": [
        "**Repetições(WHILE)**"
      ]
    },
    {
      "cell_type": "markdown",
      "metadata": {
        "id": "cJievi1j-atS"
      },
      "source": [
        "**1)Modifique o programa abaixo para imprimir de 1 até o número digitado pelo usuário, mas, dessa vez, apenas os números ímpares.**\n",
        "\n",
        "fim=int(input(\"Digite o numero limite\"))\n",
        "\n",
        " x=0\n",
        "\n",
        " while x<=fim:\n",
        " \n",
        "      if x %2 == 0:\n",
        "      print(x)\n",
        "      x=x+1"
      ]
    },
    {
      "cell_type": "code",
      "metadata": {
        "colab": {
          "base_uri": "https://localhost:8080/"
        },
        "id": "KcFh0jHF_GAP",
        "outputId": "e0330fc5-f377-4cd6-f45b-866289b83518"
      },
      "source": [
        "fim=int(input(\"Digite o numero limite: \"))\n",
        "x=0\n",
        "while x<=fim:\n",
        "  if x % 2 == 1:\n",
        "    print(x, end=' ')\n",
        "  x+=1"
      ],
      "execution_count": 43,
      "outputs": [
        {
          "output_type": "stream",
          "name": "stdout",
          "text": [
            "Digite o numero limite: 154\n",
            "1 3 5 7 9 11 13 15 17 19 21 23 25 27 29 31 33 35 37 39 41 43 45 47 49 51 53 55 57 59 61 63 65 67 69 71 73 75 77 79 81 83 85 87 89 91 93 95 97 99 101 103 105 107 109 111 113 115 117 119 121 123 125 127 129 131 133 135 137 139 141 143 145 147 149 151 153 "
          ]
        }
      ]
    },
    {
      "cell_type": "markdown",
      "metadata": {
        "id": "bIhyKGvLAEeY"
      },
      "source": [
        "**2)Reescreva o programa anterior para escrever os 10 primeiros múltiplos de 3**"
      ]
    },
    {
      "cell_type": "code",
      "metadata": {
        "colab": {
          "base_uri": "https://localhost:8080/"
        },
        "id": "xKcrpIIgAIqW",
        "outputId": "eb3e248a-6474-40ce-d4fc-148832179783"
      },
      "source": [
        "multiplos = 1\n",
        "numero = 1\n",
        "while multiplos <= 10:\n",
        "  if numero % 3 == 0:\n",
        "    print(numero)\n",
        "    multiplos +=1  \n",
        "  numero +=1  "
      ],
      "execution_count": 47,
      "outputs": [
        {
          "output_type": "stream",
          "name": "stdout",
          "text": [
            "3\n",
            "6\n",
            "9\n",
            "12\n",
            "15\n",
            "18\n",
            "21\n",
            "24\n",
            "27\n",
            "30\n"
          ]
        }
      ]
    },
    {
      "cell_type": "markdown",
      "metadata": {
        "id": "GzcsgaC2eB3n"
      },
      "source": [
        "**3)Imagine ter que imprimir a tabuada de adição de um número digitado pelo usuário. Essa tabuada deve ser impressa de 1 a 10, sendo n o número digitado pelo usuário. Teríamos, assim, n+1, n+2, ... n+10.**"
      ]
    },
    {
      "cell_type": "code",
      "metadata": {
        "colab": {
          "base_uri": "https://localhost:8080/"
        },
        "id": "y2nS0L6IeCHq",
        "outputId": "e3060f51-05ac-457b-cb7a-5f73e6e38c22"
      },
      "source": [
        "numero = int(input(\"Digite um número: \"))\n",
        "print('Tabuada de adição')\n",
        "cont = 1\n",
        "while cont <= 10:\n",
        "  print(f''' {numero}  + {cont:3d} = {numero+cont:3d}''')\n",
        "  cont+=1\n"
      ],
      "execution_count": 50,
      "outputs": [
        {
          "output_type": "stream",
          "name": "stdout",
          "text": [
            "Digite um número: 6\n",
            "Tabuada de adição\n",
            " 6  +   1 =   7\n",
            " 6  +   2 =   8\n",
            " 6  +   3 =   9\n",
            " 6  +   4 =  10\n",
            " 6  +   5 =  11\n",
            " 6  +   6 =  12\n",
            " 6  +   7 =  13\n",
            " 6  +   8 =  14\n",
            " 6  +   9 =  15\n",
            " 6  +  10 =  16\n"
          ]
        }
      ]
    },
    {
      "cell_type": "markdown",
      "metadata": {
        "id": "gk2VNQphhk0o"
      },
      "source": [
        "**4)Altere o programa anterior para exibir os resultados no mesmo formato de uma tabuada: 2x1 = 2, 2x2=4,**"
      ]
    },
    {
      "cell_type": "code",
      "metadata": {
        "colab": {
          "base_uri": "https://localhost:8080/"
        },
        "id": "N0tNfBeDhsBG",
        "outputId": "2f531dbc-755d-4ac0-b7db-ecdbda380bc7"
      },
      "source": [
        "numero = int(input(\"Digite um número: \"))\n",
        "print(f'Tabuada do {numero}')\n",
        "cont = 1\n",
        "while cont <= 10:\n",
        "  print(f'''{numero}  x {cont:3d} = {numero*cont:3d}''')\n",
        "  cont+=1"
      ],
      "execution_count": 51,
      "outputs": [
        {
          "output_type": "stream",
          "name": "stdout",
          "text": [
            "Digite um número: 12\n",
            "Tabuada do 12\n",
            "12  x   1 =  12\n",
            "12  x   2 =  24\n",
            "12  x   3 =  36\n",
            "12  x   4 =  48\n",
            "12  x   5 =  60\n",
            "12  x   6 =  72\n",
            "12  x   7 =  84\n",
            "12  x   8 =  96\n",
            "12  x   9 = 108\n",
            "12  x  10 = 120\n"
          ]
        }
      ]
    },
    {
      "cell_type": "markdown",
      "metadata": {
        "id": "6tFiyyAmiIA3"
      },
      "source": [
        "**5)Escreva um programa que leia dois números.Imprima o resultado da multiplicação do primeiro pelo segundo. Utilize apenas os operadores de soma e subtração para calcular o resultado. Lembre-se de que podemos entender a multiplicação de dois números como somas sucessivas de um deles. Assim, 4 ×5 = 5+ 5 + 5 + 5 = 4 + 4 + 4 + 4 + 4.**"
      ]
    },
    {
      "cell_type": "code",
      "metadata": {
        "colab": {
          "base_uri": "https://localhost:8080/"
        },
        "id": "Di73y_-siISp",
        "outputId": "16912030-23a9-46f7-c44a-130f2a8ec32b"
      },
      "source": [
        "num1 = int(input(\"Digite o primeiro número: \"))\n",
        "num2 = int(input(\"Digite o segundo número: \"))\n",
        "cont = 1\n",
        "doisNegativos = False\n",
        "if num1 < 0 and num2 < 0: #verifica se os dois são negativos e modifica o primeiro para positivo\n",
        "  num1 = num1 - num1 - num1\n",
        "  doisNegativos = True\n",
        "maior = num1\n",
        "menor = num2\n",
        "if num2 > num1:\n",
        "  maior = num2\n",
        "  menor = num1  \n",
        "mult = 0  \n",
        "while cont <= maior:\n",
        "    mult = mult + menor  \n",
        "    cont+=1\n",
        "if doisNegativos == True:\n",
        "  mult = mult - mult - mult    \n",
        "print(mult)\n"
      ],
      "execution_count": null,
      "outputs": [
        {
          "output_type": "stream",
          "name": "stdout",
          "text": [
            "Digite o primeiro número: -5\n",
            "Digite o segundo número: -5\n",
            "25\n"
          ]
        }
      ]
    },
    {
      "cell_type": "markdown",
      "metadata": {
        "id": "cSFcbiVYC_cJ"
      },
      "source": [
        "**6)Escreva um programa que leia dois números. Imprima a divisão inteira do primeiro pelo segundo, assim como o resto da divisão. Utilize apenas os operadores de soma e subtração para calcular o resultado. Lembre-se de que podemos entender o quociente da divisão de dois números como a quantidade de vezes que podemos retirar o divisor do dividendo. Logo, 20 ÷ 4 = 5, uma vez que podemos subtrair 4 cinco vezes de 20**"
      ]
    },
    {
      "cell_type": "code",
      "metadata": {
        "colab": {
          "base_uri": "https://localhost:8080/"
        },
        "id": "ZW5t_6NEDRlq",
        "outputId": "a2e6ff32-9e04-4d20-96f2-eff8357a9115"
      },
      "source": [
        "dividendo = int(input(\"Digite o número que será dividido: \"))\n",
        "divisor = int(input(\"Digite o divisor:\"))\n",
        "quociente = 0\n",
        "x = dividendo\n",
        "while x >= divisor:\n",
        "    x = x - divisor\n",
        "    quociente = quociente + 1\n",
        "resto = x\n",
        "print(f'O resultado da divisão de {dividendo} por {divisor} é {quociente}')\n",
        "print(f\"O resto de {dividendo} por {divisor} é {resto}\")"
      ],
      "execution_count": 55,
      "outputs": [
        {
          "output_type": "stream",
          "name": "stdout",
          "text": [
            "Digite o número que será dividido: 45\n",
            "Digite o divisor:4\n",
            "O resultado da divisão de 45 por 4 é 11\n",
            "O resto de 45 por 4 é 1\n"
          ]
        }
      ]
    },
    {
      "cell_type": "markdown",
      "metadata": {
        "id": "cuZv5g3Xui2a"
      },
      "source": [
        "**7)Modifique o programa ContagemQuestoes.py para que aceite respostas com letras maiúsculas e minúsculas em todas as questões.**"
      ]
    },
    {
      "cell_type": "code",
      "metadata": {
        "colab": {
          "base_uri": "https://localhost:8080/"
        },
        "id": "hiqdhHCroq6T",
        "outputId": "32ff1e07-af06-45f0-9679-1441fb065998"
      },
      "source": [
        "pontos = 0\n",
        "questao = 1\n",
        "gabarito = ['a','b','c','d']\n",
        "while questao <= 3:\n",
        "  resposta = str(input(f'Digite sua resposta da questão {questao}: ')).strip().lower()\n",
        "  if questao == 1 and resposta == gabarito[1]:\n",
        "    pontos+=1\n",
        "  if questao == 2 and resposta == gabarito[0]:\n",
        "    pontos+=1  \n",
        "  if questao == 3 and resposta == gabarito[3]:\n",
        "    pontos+=1  \n",
        "  questao += 1\n",
        "print(f'Total de pontos: {pontos}') "
      ],
      "execution_count": 57,
      "outputs": [
        {
          "output_type": "stream",
          "name": "stdout",
          "text": [
            "Digite sua resposta da questão 1: A\n",
            "Digite sua resposta da questão 2: b\n",
            "Digite sua resposta da questão 3: c\n",
            "Total de pontos: 0\n"
          ]
        }
      ]
    },
    {
      "cell_type": "markdown",
      "metadata": {
        "id": "gqrTKgDSv0dv"
      },
      "source": [
        "**8)Escreva um programa que pergunte o depósito inicial e a taxa de juros de uma poupança. Exiba os valores mês a mês para os 24 primeiros meses. Escreva o total ganho com juros no período.**"
      ]
    },
    {
      "cell_type": "code",
      "metadata": {
        "id": "NhsxCo6uv1J9",
        "colab": {
          "base_uri": "https://localhost:8080/"
        },
        "outputId": "b9a4c387-6f9c-4ffe-f4c2-b93bffe87ef1"
      },
      "source": [
        "deposito = float(input(\"Digite o seu depósito inicial: R$\"))\n",
        "taxa = float(input('Digite a taxa de rendimento: '))\n",
        "periodo = 1\n",
        "totalRendimento = 0\n",
        "while periodo <= 24:\n",
        "  rendimento = deposito * taxa / 100\n",
        "  deposito = deposito + rendimento\n",
        "  totalRendimento = totalRendimento + rendimento\n",
        "  print(f'Mês {periodo} → R${deposito:.2f}')\n",
        "  periodo+=1\n",
        "print(f'Deposito inicial:     → R${deposito-totalRendimento:.2f}')  \n",
        "print(f'Total de rendimentos: → R$ {totalRendimento:.2f}')  \n",
        "print(f'Saldo:                → R${deposito:.2f}')"
      ],
      "execution_count": 58,
      "outputs": [
        {
          "output_type": "stream",
          "name": "stdout",
          "text": [
            "Digite o seu depósito inicial: R$1000\n",
            "Digite a taxa de rendimento: 1\n",
            "Mês 1 → R$1010.00\n",
            "Mês 2 → R$1020.10\n",
            "Mês 3 → R$1030.30\n",
            "Mês 4 → R$1040.60\n",
            "Mês 5 → R$1051.01\n",
            "Mês 6 → R$1061.52\n",
            "Mês 7 → R$1072.14\n",
            "Mês 8 → R$1082.86\n",
            "Mês 9 → R$1093.69\n",
            "Mês 10 → R$1104.62\n",
            "Mês 11 → R$1115.67\n",
            "Mês 12 → R$1126.83\n",
            "Mês 13 → R$1138.09\n",
            "Mês 14 → R$1149.47\n",
            "Mês 15 → R$1160.97\n",
            "Mês 16 → R$1172.58\n",
            "Mês 17 → R$1184.30\n",
            "Mês 18 → R$1196.15\n",
            "Mês 19 → R$1208.11\n",
            "Mês 20 → R$1220.19\n",
            "Mês 21 → R$1232.39\n",
            "Mês 22 → R$1244.72\n",
            "Mês 23 → R$1257.16\n",
            "Mês 24 → R$1269.73\n",
            "Deposito inicial:     → R$1000.00\n",
            "Total de rendimentos: → R$ 269.73\n",
            "Saldo:                → R$1269.73\n"
          ]
        }
      ]
    },
    {
      "cell_type": "markdown",
      "metadata": {
        "id": "2g-LuiDuxVuP"
      },
      "source": [
        "**9)Altere o programa anterior de forma a perguntar também o valor depositado mensalmente. Esse valor será depositado no início de cada mês, e você deve considerá-lo para o cálculo de juros do mês seguinte.**"
      ]
    },
    {
      "cell_type": "code",
      "metadata": {
        "id": "g42FZW-YxWFm",
        "colab": {
          "base_uri": "https://localhost:8080/"
        },
        "outputId": "cd1a250b-cd80-45d6-b2af-839283cfc9be"
      },
      "source": [
        "depositoInicial = float(input(\"Depósito inicial: \"))\n",
        "taxa = float(input(\"Taxa de juros: \"))\n",
        "depositoMensal = float(input(\"Depósito mensal:\"))\n",
        "periodo = 1\n",
        "saldo = depositoInicial\n",
        "ttDepositoMensal = 0\n",
        "print(f'''\n",
        "{'-='*30}\n",
        "                          EXTRATO\n",
        "{'-='*30} \n",
        "''')\n",
        "while periodo <= 24:\n",
        "    print (f\"Mês → {periodo}\")\n",
        "    print(f'Rendimento R${saldo * (taxa / 100):.2f}')\n",
        "    print(f'Deposito → {depositoMensal:.2f}')\n",
        "    ttDepositoMensal+=depositoMensal\n",
        "    saldo += (saldo * (taxa / 100)) + depositoMensal\n",
        "    print (f\"Saldo → R${saldo:.2f}\")\n",
        "    periodo += 1\n",
        "print (f'''\n",
        "{'-='*30}\n",
        "Deposito Inicial        → R${depositoInicial:.2f}\n",
        "Total depositado Mensal → R${ttDepositoMensal:.2f}\n",
        "Rendimento (juros)      → R${saldo-(depositoInicial+ttDepositoMensal):.2f}\n",
        "{'-='*30}\n",
        "                  Saldo → R${saldo:.2f}\n",
        "''')"
      ],
      "execution_count": 60,
      "outputs": [
        {
          "output_type": "stream",
          "name": "stdout",
          "text": [
            "Depósito inicial: 1000\n",
            "Taxa de juros: 1\n",
            "Depósito mensal:100\n",
            "\n",
            "-=-=-=-=-=-=-=-=-=-=-=-=-=-=-=-=-=-=-=-=-=-=-=-=-=-=-=-=-=-=\n",
            "                          EXTRATO\n",
            "-=-=-=-=-=-=-=-=-=-=-=-=-=-=-=-=-=-=-=-=-=-=-=-=-=-=-=-=-=-= \n",
            "\n",
            "Mês → 1\n",
            "Rendimento R$10.00\n",
            "Deposito → 100.00\n",
            "Saldo → R$1110.00\n",
            "Mês → 2\n",
            "Rendimento R$11.10\n",
            "Deposito → 100.00\n",
            "Saldo → R$1221.10\n",
            "Mês → 3\n",
            "Rendimento R$12.21\n",
            "Deposito → 100.00\n",
            "Saldo → R$1333.31\n",
            "Mês → 4\n",
            "Rendimento R$13.33\n",
            "Deposito → 100.00\n",
            "Saldo → R$1446.64\n",
            "Mês → 5\n",
            "Rendimento R$14.47\n",
            "Deposito → 100.00\n",
            "Saldo → R$1561.11\n",
            "Mês → 6\n",
            "Rendimento R$15.61\n",
            "Deposito → 100.00\n",
            "Saldo → R$1676.72\n",
            "Mês → 7\n",
            "Rendimento R$16.77\n",
            "Deposito → 100.00\n",
            "Saldo → R$1793.49\n",
            "Mês → 8\n",
            "Rendimento R$17.93\n",
            "Deposito → 100.00\n",
            "Saldo → R$1911.42\n",
            "Mês → 9\n",
            "Rendimento R$19.11\n",
            "Deposito → 100.00\n",
            "Saldo → R$2030.54\n",
            "Mês → 10\n",
            "Rendimento R$20.31\n",
            "Deposito → 100.00\n",
            "Saldo → R$2150.84\n",
            "Mês → 11\n",
            "Rendimento R$21.51\n",
            "Deposito → 100.00\n",
            "Saldo → R$2272.35\n",
            "Mês → 12\n",
            "Rendimento R$22.72\n",
            "Deposito → 100.00\n",
            "Saldo → R$2395.08\n",
            "Mês → 13\n",
            "Rendimento R$23.95\n",
            "Deposito → 100.00\n",
            "Saldo → R$2519.03\n",
            "Mês → 14\n",
            "Rendimento R$25.19\n",
            "Deposito → 100.00\n",
            "Saldo → R$2644.22\n",
            "Mês → 15\n",
            "Rendimento R$26.44\n",
            "Deposito → 100.00\n",
            "Saldo → R$2770.66\n",
            "Mês → 16\n",
            "Rendimento R$27.71\n",
            "Deposito → 100.00\n",
            "Saldo → R$2898.37\n",
            "Mês → 17\n",
            "Rendimento R$28.98\n",
            "Deposito → 100.00\n",
            "Saldo → R$3027.35\n",
            "Mês → 18\n",
            "Rendimento R$30.27\n",
            "Deposito → 100.00\n",
            "Saldo → R$3157.62\n",
            "Mês → 19\n",
            "Rendimento R$31.58\n",
            "Deposito → 100.00\n",
            "Saldo → R$3289.20\n",
            "Mês → 20\n",
            "Rendimento R$32.89\n",
            "Deposito → 100.00\n",
            "Saldo → R$3422.09\n",
            "Mês → 21\n",
            "Rendimento R$34.22\n",
            "Deposito → 100.00\n",
            "Saldo → R$3556.31\n",
            "Mês → 22\n",
            "Rendimento R$35.56\n",
            "Deposito → 100.00\n",
            "Saldo → R$3691.87\n",
            "Mês → 23\n",
            "Rendimento R$36.92\n",
            "Deposito → 100.00\n",
            "Saldo → R$3828.79\n",
            "Mês → 24\n",
            "Rendimento R$38.29\n",
            "Deposito → 100.00\n",
            "Saldo → R$3967.08\n",
            "\n",
            "-=-=-=-=-=-=-=-=-=-=-=-=-=-=-=-=-=-=-=-=-=-=-=-=-=-=-=-=-=-=\n",
            "Deposito Inicial        → R$1000.00\n",
            "Total depositado Mensal → R$2400.00\n",
            "Rendimento (juros)      → R$567.08\n",
            "-=-=-=-=-=-=-=-=-=-=-=-=-=-=-=-=-=-=-=-=-=-=-=-=-=-=-=-=-=-=\n",
            "                  Saldo → R$3967.08\n",
            "\n"
          ]
        }
      ]
    },
    {
      "cell_type": "markdown",
      "metadata": {
        "id": "OIIbBcsC31-E"
      },
      "source": [
        "**10)Escreva um programa que pergunte o valor inicial de uma dívida e o juro mensal. Pergunte também o valor mensal que será pago. Imprima o número de meses para que a dívida seja paga, o total pago e o total de juros pago.**"
      ]
    },
    {
      "cell_type": "code",
      "metadata": {
        "colab": {
          "base_uri": "https://localhost:8080/"
        },
        "id": "GfhniiGYeBhw",
        "outputId": "837e5665-c1dc-4b14-b12b-8621a848633f"
      },
      "source": [
        "divida = float(input(\"Digite sua dívida inicial: R$\"))\n",
        "taxa = float(input(\"Juros: \"))\n",
        "pagamentoMensal = float(input(\"Pagamento mensal: R$\"))\n",
        "periodo = 1\n",
        "if (divida * (taxa/100) > pagamentoMensal):\n",
        "    print(\"Rever os juros, dessa forma sua divida será eterna.\")\n",
        "else:\n",
        "    saldo = divida\n",
        "    jurosPago = 0\n",
        "    while saldo > pagamentoMensal:\n",
        "        juros = saldo * taxa / 100\n",
        "        saldo = saldo + juros - pagamentoMensal\n",
        "        jurosPago = jurosPago + juros\n",
        "        print(f'Juros da dívida R${juros:.2f}')\n",
        "        print (f\"Saldo da dívida no mês {periodo} é de R${saldo:.2f}.\")\n",
        "        periodo += 1\n",
        "    print(f'''\n",
        "{\"=-\"*29}\n",
        "Sua dívida de R${divida:.2f} a juros de {taxa}%, será pago em {periodo - 1} meses, \n",
        "o total de juros pago foi de R${jurosPago:.2f} e voce precisa \n",
        "pagar o saldo residual de R${saldo:.2f} para quitar.\n",
        "{\"=-\"*29}\n",
        "    ''')    "
      ],
      "execution_count": null,
      "outputs": [
        {
          "output_type": "stream",
          "name": "stdout",
          "text": [
            "Digite sua dívida inicial: R$1000\n",
            "Juros: 5\n",
            "Pagamento mensal: R$100\n",
            "Juros da dívida R$50.00\n",
            "Saldo da dívida no mês 1 é de R$950.00.\n",
            "Juros da dívida R$47.50\n",
            "Saldo da dívida no mês 2 é de R$897.50.\n",
            "Juros da dívida R$44.88\n",
            "Saldo da dívida no mês 3 é de R$842.38.\n",
            "Juros da dívida R$42.12\n",
            "Saldo da dívida no mês 4 é de R$784.49.\n",
            "Juros da dívida R$39.22\n",
            "Saldo da dívida no mês 5 é de R$723.72.\n",
            "Juros da dívida R$36.19\n",
            "Saldo da dívida no mês 6 é de R$659.90.\n",
            "Juros da dívida R$33.00\n",
            "Saldo da dívida no mês 7 é de R$592.90.\n",
            "Juros da dívida R$29.64\n",
            "Saldo da dívida no mês 8 é de R$522.54.\n",
            "Juros da dívida R$26.13\n",
            "Saldo da dívida no mês 9 é de R$448.67.\n",
            "Juros da dívida R$22.43\n",
            "Saldo da dívida no mês 10 é de R$371.11.\n",
            "Juros da dívida R$18.56\n",
            "Saldo da dívida no mês 11 é de R$289.66.\n",
            "Juros da dívida R$14.48\n",
            "Saldo da dívida no mês 12 é de R$204.14.\n",
            "Juros da dívida R$10.21\n",
            "Saldo da dívida no mês 13 é de R$114.35.\n",
            "Juros da dívida R$5.72\n",
            "Saldo da dívida no mês 14 é de R$20.07.\n",
            "\n",
            "=-=-=-=-=-=-=-=-=-=-=-=-=-=-=-=-=-=-=-=-=-=-=-=-=-=-=-=-=-\n",
            "Sua dívida de R$1000.00 a juros de 5.0%, será pago em 14 meses, \n",
            "o total de juros pago foi de R$420.07 e voce precisa \n",
            "pagar o saldo residual de R$20.07 para quitar.\n",
            "=-=-=-=-=-=-=-=-=-=-=-=-=-=-=-=-=-=-=-=-=-=-=-=-=-=-=-=-=-\n",
            "    \n"
          ]
        }
      ]
    },
    {
      "cell_type": "markdown",
      "metadata": {
        "id": "1Z23EJZX33zm"
      },
      "source": [
        "**11)Escreva um programa que leia números inteiros do teclado. O programa deve ler os números até que o usuário digite 0 (zero). No final da execução, exiba a quantidade de números digitados, assim como a soma e a média aritmética.**"
      ]
    },
    {
      "cell_type": "code",
      "metadata": {
        "colab": {
          "base_uri": "https://localhost:8080/"
        },
        "id": "9tD-1rNX39oz",
        "outputId": "431b65d8-491a-4cff-b0f4-3ba39381b0f4"
      },
      "source": [
        "soma = 0\n",
        "totalizador = 0\n",
        "print(\"{:-^40}\".format(' INICIO DO SISTEMA '))\n",
        "while True:\n",
        "  numero = int(input('Digite um número: '))\n",
        "  if numero == 0:\n",
        "    break\n",
        "  totalizador+=1\n",
        "  soma+=numero  \n",
        "media = soma / totalizador  \n",
        "print(f'''{\"=\"*40}\n",
        "Total de números digitados → {totalizador}\n",
        "Soma dos números           → {soma}\n",
        "Média                      → {media:.2f}\n",
        "''')\n",
        "print(\"{:-^40}\".format(' FIM DO SISTEMA '))"
      ],
      "execution_count": null,
      "outputs": [
        {
          "output_type": "stream",
          "name": "stdout",
          "text": [
            "---------- INICIO DO SISTEMA -----------\n",
            "Digite um número: 5\n",
            "Digite um número: 6\n",
            "Digite um número: 9\n",
            "Digite um número: 0\n",
            "========================================\n",
            "Total de números digitados → 3\n",
            "Soma dos números           → 20\n",
            "Média                      → 6.67\n",
            "\n",
            "------------ FIM DO SISTEMA ------------\n"
          ]
        }
      ]
    },
    {
      "cell_type": "markdown",
      "metadata": {
        "id": "2d3RgQax3-jJ"
      },
      "source": [
        "**12)Escreva um programa para controlar uma pequena máquina registradora. Você deve solicitar ao usuário que digite o código do produto e a quantidade comprada. Utilize a tabela de códigos a seguir para obter o preço de cada produto:**\n",
        "![image.png](data:image/png;base64,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)\n",
        "\n",
        "**Seu programa deve exibir o total das compras depois que o usuário digitar 0.Qualquer outro código deve gerar a mensagem de erro “Códigoinválido”.**"
      ]
    },
    {
      "cell_type": "code",
      "metadata": {
        "colab": {
          "base_uri": "https://localhost:8080/"
        },
        "id": "3SdsKWe1AHDc",
        "outputId": "270846ee-c308-4111-8d5b-010aca8228f8"
      },
      "source": [
        "totalCompra = 0\n",
        "while True:\n",
        "  codigoProduto = int(input(\"Digite o código do produto: \"))\n",
        "  if codigoProduto == 0:\n",
        "    break\n",
        "  elif codigoProduto ==  1:\n",
        "     preco = 0.5\n",
        "  elif codigoProduto ==  2:\n",
        "     preco = 1   \n",
        "  elif codigoProduto ==  3:\n",
        "     preco = 4\n",
        "  elif codigoProduto ==  5:\n",
        "     preco = 7\n",
        "  elif codigoProduto ==  9:\n",
        "     preco = 8\n",
        "  else:\n",
        "    print('Código inválido!') \n",
        "    preco = 0        \n",
        "  if preco != 0:\n",
        "        quantidade = int(input(\"Quantidade desejada: \"))\n",
        "        totalCompra += (preco * quantidade)\n",
        "print(f\"Total a pagar R${totalCompra:.2f}\")  \n",
        "    "
      ],
      "execution_count": 62,
      "outputs": [
        {
          "output_type": "stream",
          "name": "stdout",
          "text": [
            "Digite o código do produto: 8\n",
            "Código inválido!\n",
            "Digite o código do produto: 5\n",
            "Quantidade desejada: 2\n",
            "Digite o código do produto: 8\n",
            "Código inválido!\n",
            "Digite o código do produto: 9\n",
            "Quantidade desejada: 3\n",
            "Digite o código do produto: 0\n",
            "Total a pagar R$38.00\n"
          ]
        }
      ]
    },
    {
      "cell_type": "markdown",
      "metadata": {
        "id": "G8PgKbeJ4bnf"
      },
      "source": [
        "**13)Faça um programa que leia um valor e que imprima a quantidade de cédulas necessárias para pagar esse mesmo valor, apresentado no programa ContaCedulas.py. Para simplificar, vamos trabalhar apenas com valores inteiros e com cédulas de  50, 20, 10, 5 e 1.**"
      ]
    },
    {
      "cell_type": "code",
      "metadata": {
        "colab": {
          "base_uri": "https://localhost:8080/"
        },
        "id": "AFtTML0iHDYW",
        "outputId": "ec522509-132d-4076-a657-85840c8aa515"
      },
      "source": [
        "print('{:^30}'.format('INICIO DO SISTEMA'))   \n",
        "valor = float(input('Digite um valor R$ '))\n",
        "total = valor\n",
        "cedula = 50 #inicia atribuindo o valor de 50 para a cedula\n",
        "totalCedula = 0\n",
        "while True:\n",
        "  if total >= cedula:  #se o total é maior que o valor da cedula\n",
        "    total = total - cedula #tira o valor da cedula do total \n",
        "    totalCedula += 1 #Faz a contagem da Cedula\n",
        "  else:  #quando o total passa a ser menor passa para cá\n",
        "    if totalCedula > 0:\n",
        "      print(f'Total de {totalCedula} cédulas de R${cedula}') #mostra as celulas ja contadas\n",
        "    if cedula == 50: # muda o valor da variavel cedula para retornar pro primeiro if\n",
        "      cedula = 20   \n",
        "    elif cedula == 20:\n",
        "      cedula = 10\n",
        "    elif cedula == 10:\n",
        "      cedula = 5\n",
        "    elif cedula == 5:\n",
        "      cedula = 1\n",
        "    totalCedula = 0\n",
        "    if total < 1:\n",
        "      break\n",
        "print('{:^30}'.format('FIM DO SISTEMA'))            "
      ],
      "execution_count": 78,
      "outputs": [
        {
          "output_type": "stream",
          "name": "stdout",
          "text": [
            "      INICIO DO SISTEMA       \n",
            "Digite um valor R$ 50\n",
            "Total de 1 cédulas de R$50\n",
            "        FIM DO SISTEMA        \n"
          ]
        }
      ]
    },
    {
      "cell_type": "markdown",
      "metadata": {
        "id": "iM_a6xWOI_3N"
      },
      "source": [
        "**14)O que acontece se digitarmos 0 (zero) no valor a pagar?**\n",
        "\n",
        "Ele encerra o sistema, pois tratei com um break no final"
      ]
    },
    {
      "cell_type": "markdown",
      "metadata": {
        "id": "sC76o4ep4brF"
      },
      "source": [
        "**15)Modifique o programa para também trabalhar com notas de R$ 100.**"
      ]
    },
    {
      "cell_type": "code",
      "metadata": {
        "colab": {
          "base_uri": "https://localhost:8080/"
        },
        "id": "GgLxg5ZILauM",
        "outputId": "5f73abc6-bfc6-4991-d409-8a1b96dce1b3"
      },
      "source": [
        "print('{:^30}'.format('INICIO DO SISTEMA'))   \n",
        "valor = float(input('Digite um valor R$ '))\n",
        "total = valor\n",
        "cedula = 100 #inicia atribuindo o valor de 50 para a cedula\n",
        "totalCedula = 0\n",
        "while True:\n",
        "  if total >= cedula:  #se o total é maior que o valor da cedula\n",
        "    total = total - cedula #tira o valor da cedula do total \n",
        "    totalCedula += 1 #Faz a contagem da Cedula\n",
        "  else:  #quando o total passa a ser menor passa para cá\n",
        "    if totalCedula > 0:\n",
        "      print(f'Total de {totalCedula} cédulas de R${cedula}') #mostra as celulas ja contadas\n",
        "    if cedula == 100: # muda o valor da variavel cedula para retornar pro primeiro if\n",
        "      cedula = 50   \n",
        "    elif cedula == 50:\n",
        "      cedula = 20  \n",
        "    elif cedula == 20:\n",
        "      cedula = 10\n",
        "    elif cedula == 10:\n",
        "      cedula = 5\n",
        "    elif cedula == 5:\n",
        "      cedula = 1\n",
        "    totalCedula = 0\n",
        "    if total < 1:\n",
        "      break\n",
        "print('{:^30}'.format('FIM DO SISTEMA'))"
      ],
      "execution_count": 79,
      "outputs": [
        {
          "output_type": "stream",
          "name": "stdout",
          "text": [
            "      INICIO DO SISTEMA       \n",
            "Digite um valor R$ 158\n",
            "Total de 1 cédulas de R$100\n",
            "Total de 1 cédulas de R$50\n",
            "Total de 1 cédulas de R$5\n",
            "Total de 3 cédulas de R$1\n",
            "        FIM DO SISTEMA        \n"
          ]
        }
      ]
    },
    {
      "cell_type": "markdown",
      "metadata": {
        "id": "GMfvFR_L4Qks"
      },
      "source": [
        "**35)Modifique o programa para aceitar valores decimais, ou seja, também contar moedas de 0,01, 0,02, 0,05, 0,10 e 0,50.**"
      ]
    },
    {
      "cell_type": "code",
      "metadata": {
        "colab": {
          "base_uri": "https://localhost:8080/"
        },
        "id": "Sh5z1yE-M_s5",
        "outputId": "ba827dbb-73b7-4c01-cc4f-f7da4d976f59"
      },
      "source": [
        "print('{:^30}'.format('INICIO DO SISTEMA'))   \n",
        "valor = float(input('Digite um valor R$ '))\n",
        "total = valor\n",
        "cedulaMoeda = 100 #inicia atribuindo o valor de 50 para a cedula\n",
        "totalCedula = 0\n",
        "msg = 'cédula(s)'\n",
        "while True:\n",
        "  if total >= cedulaMoeda:  #se o total é maior que o valor da cedulaMoeda\n",
        "    total = total - cedulaMoeda #tira o valor da cedula do total \n",
        "    totalCedula += 1 #Faz a contagem da Cedula\n",
        "  else:  #quando o total passa a ser menor passa para cá\n",
        "    if totalCedula > 0:\n",
        "      print(f'Total de {totalCedula} {msg} de R${cedulaMoeda:.2f}') #mostra as celulas ja contadas\n",
        "    if cedulaMoeda == 100: # muda o valor da variavel cedulaMoeda para retornar pro primeiro if\n",
        "      cedulaMoeda = 50   \n",
        "    elif cedulaMoeda == 50:\n",
        "      cedulaMoeda = 20  \n",
        "    elif cedulaMoeda == 20:\n",
        "      cedulaMoeda = 10\n",
        "    elif cedulaMoeda == 10:\n",
        "      cedulaMoeda = 5\n",
        "    elif cedulaMoeda == 5:\n",
        "      cedulaMoeda = 1\n",
        "    elif cedulaMoeda == 1:\n",
        "      msg = 'moeda(s)'\n",
        "      cedulaMoeda = 0.5\n",
        "    elif cedulaMoeda == 0.5:\n",
        "      cedulaMoeda = 0.1\n",
        "    elif cedulaMoeda == 0.1:\n",
        "      cedulaMoeda = 0.05\n",
        "    elif cedulaMoeda == 0.05:\n",
        "      cedulaMoeda = 0.02\n",
        "    elif cedulaMoeda == 0.02:\n",
        "      cedulaMoeda = 0.01         \n",
        "    totalCedula = 0\n",
        "    if total < 0.01:\n",
        "      break \n",
        "print('{:^30}'.format('FIM DO SISTEMA'))"
      ],
      "execution_count": 85,
      "outputs": [
        {
          "output_type": "stream",
          "name": "stdout",
          "text": [
            "      INICIO DO SISTEMA       \n",
            "Digite um valor R$ 0.001\n",
            "        FIM DO SISTEMA        \n"
          ]
        }
      ]
    },
    {
      "cell_type": "markdown",
      "metadata": {
        "id": "pBN1GNNjQwvC"
      },
      "source": [
        "**18)O  que  acontece  se  digitarmos  0,001  noprograma  anterior? Caso  ele  não  funcione,  altere-o  de forma a corrigir o problema.**\n",
        "\n",
        "fiz a correção acima \n",
        "\n",
        "    if total < 0.01:\n",
        "      break "
      ]
    }
  ]
}