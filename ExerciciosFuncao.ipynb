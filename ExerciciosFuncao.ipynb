{
  "nbformat": 4,
  "nbformat_minor": 0,
  "metadata": {
    "colab": {
      "name": "ExerciciosFuncao.ipynb",
      "provenance": [],
      "collapsed_sections": [],
      "authorship_tag": "ABX9TyNVYBUGJacXj8VYUyQbBfEQ",
      "include_colab_link": true
    },
    "kernelspec": {
      "display_name": "Python 3",
      "name": "python3"
    },
    "language_info": {
      "name": "python"
    }
  },
  "cells": [
    {
      "cell_type": "markdown",
      "metadata": {
        "id": "view-in-github",
        "colab_type": "text"
      },
      "source": [
        "<a href=\"https://colab.research.google.com/github/davidfatec/PythonEstudos/blob/main/ExerciciosFuncao.ipynb\" target=\"_parent\"><img src=\"https://colab.research.google.com/assets/colab-badge.svg\" alt=\"Open In Colab\"/></a>"
      ]
    },
    {
      "cell_type": "markdown",
      "metadata": {
        "id": "j11t0F-ILDEm"
      },
      "source": [
        "**1- Faça   um   programa   para   imprimir:(para   um n informado   pelo   usuário.   Use   uma   função   que   receba   um valor n inteiro e imprima até a n-ésima linha.)**"
      ]
    },
    {
      "cell_type": "code",
      "metadata": {
        "colab": {
          "base_uri": "https://localhost:8080/"
        },
        "id": "NU0mVIF3K_Z6",
        "outputId": "dde03dff-91a7-4983-d501-ee0fd1f5269a"
      },
      "source": [
        "def enesimo(n):\n",
        "  n = int(input('Digite um valor: '))\n",
        "  for i in range(1,n+1):\n",
        "    print(n, end=' ') \n",
        "enesimo(3)    \n"
      ],
      "execution_count": null,
      "outputs": [
        {
          "name": "stdout",
          "output_type": "stream",
          "text": [
            "Digite um valor: 7\n",
            "7 7 7 7 7 7 7 "
          ]
        }
      ]
    },
    {
      "cell_type": "markdown",
      "metadata": {
        "id": "yFnoCHh7Msks"
      },
      "source": [
        "**2- Faça  um programa,  com  uma  função  que  necessite  de  três  argumentos,  e  que  forneça  a  soma  desses  três argumentos.**"
      ]
    },
    {
      "cell_type": "code",
      "metadata": {
        "colab": {
          "base_uri": "https://localhost:8080/"
        },
        "id": "nZRdUB5BMs2J",
        "outputId": "3c68bdd1-86dc-4edc-9713-19a00bfdde41"
      },
      "source": [
        "def soma(a,b,c):\n",
        "  s = a + b + c\n",
        "  return s \n",
        "print(soma(3,8,12))  "
      ],
      "execution_count": null,
      "outputs": [
        {
          "name": "stdout",
          "output_type": "stream",
          "text": [
            "23\n"
          ]
        }
      ]
    },
    {
      "cell_type": "markdown",
      "metadata": {
        "id": "brDvbcRWNJj2"
      },
      "source": [
        "**3- Faça  um  programa,  com  uma  função  que  necessite  de  um  argumento numérico.  A  função  retorna  o  valor  de caractere ‘P’, se seu argumento for positivo, e ‘N’, se seu argumento for zero ou negativo.**"
      ]
    },
    {
      "cell_type": "code",
      "metadata": {
        "colab": {
          "base_uri": "https://localhost:8080/"
        },
        "id": "MDklw3hyNJ3y",
        "outputId": "6d3e4f81-e12b-4f54-e129-0f888d7e01bb"
      },
      "source": [
        "def negPos(x):\n",
        "  if x > 0:\n",
        "    return 'P'\n",
        "  else:\n",
        "    return 'N'  \n",
        "print(negPos(1) )   "
      ],
      "execution_count": null,
      "outputs": [
        {
          "name": "stdout",
          "output_type": "stream",
          "text": [
            "P\n"
          ]
        }
      ]
    },
    {
      "cell_type": "markdown",
      "metadata": {
        "id": "5x7IwF1ZN6Je"
      },
      "source": [
        "**4- Faça   um   programa   com   uma   função   chamada   somaImposto.   A   função   possui   dois   parâmetros   formais: taxaImposto, que é a quantia de imposto sobre vendas expressa em porcentagem e custo, que é o custo de um item antes do imposto. A função “altera” o valor de custo para incluir o imposto sobre vendas.**"
      ]
    },
    {
      "cell_type": "code",
      "metadata": {
        "colab": {
          "base_uri": "https://localhost:8080/"
        },
        "id": "uutpBo9uN6nk",
        "outputId": "e0fce2e2-b5d4-421c-ff63-9d271301b5e7"
      },
      "source": [
        "def somaImposto(taxaImposto, custo):\n",
        "  custo = custo + ((custo*taxaImposto)/100)\n",
        "  return custo\n",
        "custo = float(input('Digite o preço de custo do produto: R$'))\n",
        "taxaImposto = float(input('Digite o percentual de imposto: ex.35: '))  \n",
        "print(f'Custo com imposto de {taxaImposto:.2f}%: R${somaImposto(taxaImposto, custo):.2f}')"
      ],
      "execution_count": null,
      "outputs": [
        {
          "name": "stdout",
          "output_type": "stream",
          "text": [
            "Digite o preço de custo do produto: R$120\n",
            "Digite o percentual de imposto: ex.35: 36\n",
            "Custo com imposto de 36.00%: R$163.20\n"
          ]
        }
      ]
    },
    {
      "cell_type": "markdown",
      "metadata": {
        "id": "7Oxh5yTLQ018"
      },
      "source": [
        "**5- Faça um programa que converta da notação de 24 horas para a notação de 12 horas. Por exemplo, o programa deve converter 14:25 em 2:25 P.M. A entrada é dada em dois inteiros. Deve haver pelo menos duas funções: uma para fazer a conversão e uma para a saída. Registre a informação A.M./P.M. como um valor ‘A’ para A.M. e ‘P’ para P.M. Assim, a função para efetuar as conversões terá um parâmetro formal para registrar se é A.M. ou P.M. Inclua um loop que permita que o usuário repita esse cálculo para novos valores de entrada todas as vezes que desejar.**"
      ]
    },
    {
      "cell_type": "code",
      "metadata": {
        "colab": {
          "base_uri": "https://localhost:8080/"
        },
        "id": "jUCIvsDfiIdM",
        "outputId": "091cf59f-97c2-4dec-f0f1-3f484a94df1b"
      },
      "source": [
        "P = 'P.M'\n",
        "A = 'A.M'\n",
        "\n",
        "def converter_hora(hora):\n",
        "    return (hora - 12)\n",
        "\n",
        "def imprime_hora(hora,minuto):\n",
        "    if(hora == 0 and minuto > 9):\n",
        "        hora = 12\n",
        "        print(f'{hora}:{minuto} {A}')\n",
        "    elif(hora == 0 and minuto < 10):\n",
        "        hora = 12\n",
        "        print(f'{hora}:0{minuto} {A}')  \n",
        "    elif(hora < 12 and minuto > 9):\n",
        "        print(f'{hora}:{minuto} {A}')  \n",
        "    elif(hora < 12 and minuto < 10):\n",
        "        print(f'{hora}:0{minuto} {A}')     \n",
        "    elif(hora > 12 and minuto > 9):\n",
        "        print(f'{converter_hora(hora)}:{minuto} {P}')\n",
        "    elif(hora > 12 and minuto < 10):\n",
        "        print(f'{converter_hora(hora)}:0{minuto} {P}') \n",
        "    elif(hora == 12 and minuto < 10):\n",
        "        print(f'{hora}:0{minuto} {P}')             \n",
        "    else:\n",
        "        print(f'{hora}:{minuto} {P}') \n",
        "\n",
        "hora = int(input(\"Digite a hora: \"))\n",
        "while hora < 0 or hora > 23:\n",
        "  print('Digite um valor válido entre 0 e 23')\n",
        "  hora = int(input(\"Digite a hora: \"))\n",
        "minuto = int(input(\"Digite os minutos: \"))  \n",
        "while minuto < 0 or minuto > 59:\n",
        "  print('Digite um valor válido entre 0 e 59')  \n",
        "  minuto = int(input(\"Digite os minutos: \"))\n",
        "pergunta = ''\n",
        "while pergunta != '1':\n",
        "  imprime_hora(hora, minuto)\n",
        "  pergunta = str(input('Digite 1 para sair ou qualquer tecla para continuar: '))\n",
        "  if pergunta == '1':\n",
        "    print('Tecla 1 acionada saindo do programa')\n",
        "    break\n",
        "  hora = int(input(\"Digite a hora: \"))\n",
        "  while hora < 0 or hora > 23:\n",
        "    print('Digite um valor válido entre 0 e 23')\n",
        "    hora = int(input(\"Digite a hora: \"))\n",
        "  minuto = int(input(\"Digite os minutos: \"))\n",
        "  while minuto < 0 or minuto > 59:\n",
        "    print('Digite um valor válido entre 0 e 59')  \n",
        "    minuto = int(input(\"Digite os minutos: \"))\n",
        "  \n",
        "          \n",
        "\n"
      ],
      "execution_count": 79,
      "outputs": [
        {
          "output_type": "stream",
          "name": "stdout",
          "text": [
            "Digite a hora: 12\n",
            "Digite os minutos: 5\n",
            "12:05 P.M\n",
            "Digite 1 para sair ou qualquer tecla para continuar: 1\n",
            "Tecla 1 acionada saindo do programa\n"
          ]
        }
      ]
    },
    {
      "cell_type": "markdown",
      "metadata": {
        "id": "lApGwYGH1nca"
      },
      "source": [
        "**6- Faça um programa que use a função valorPagamento para determinar o valor a ser pago por uma prestação de uma conta. O programa deverá solicitar ao usuário o valor da prestação e o número de dias em atraso e passar estes valores para a função valorPagamento, que calculará o valor a ser pago e devolverá este valor ao programa que  a  chamou.  O  programa  deverá  então  exibir  o  valor  a  ser  pago  na  tela.  Após  a  execução  o  programa  deverá voltar  a  pedir  outro  valor  de  prestação  e  assim  continuar  até  que  seja  informado  um  valor  igual  a  zero  para  a prestação.  Neste  momento  o  programa  deverá  ser  encerrado,  exibindo  o  relatório  do  dia,  que  conterá  a quantidade  e  o  valor  total de  prestações  pagas  no  dia.  O  cálculo  do  valor  a  ser pago  é  feito  da  seguinte  forma. Para pagamentos sem atraso, cobrar o valor da prestação. Quando houver atraso, cobrar 3% de multa, mais 0,1% de juros por dia de atraso.**"
      ]
    },
    {
      "cell_type": "code",
      "metadata": {
        "colab": {
          "base_uri": "https://localhost:8080/"
        },
        "id": "cRpyZ9pE3Kb0",
        "outputId": "ff2550db-2627-443a-ac99-265278a00dfb"
      },
      "source": [
        "print('Digite 0 para sair do sistema e emitir o relatório')\n",
        "totalDePrestacoesPagas = 0\n",
        "valorTotalPago = 0.0\n",
        "temp = 0.0\n",
        "def valorPagamento(valorPrestacao,diasAtraso):\n",
        "  if diasAtraso > 0:\n",
        "     multa = valorPrestacao * 0.03\n",
        "  else:\n",
        "     multa = 0   \n",
        "  juros = (valorPrestacao * 0.001)* diasAtraso\n",
        "  vp = valorPrestacao + multa + juros\n",
        "  return vp\n",
        "  \n",
        "valorPrestacao = ''\n",
        "while valorPrestacao != 0:\n",
        "  valorPrestacao = float(input('Digite o valor da prestação: R$'))\n",
        "  if valorPrestacao == 0:\n",
        "     break\n",
        "  diasAtraso = int(input('Digite os dias em atraso: '))\n",
        "  valorPagamento(valorPrestacao,diasAtraso)\n",
        "  totalDePrestacoesPagas+=1\n",
        "  valorTotalPago = valorTotalPago + valorPagamento(valorPrestacao,diasAtraso)\n",
        "  print(f'Valor da prestação → R${valorPrestacao:.2f} \\nValor a ser pago → R${valorPagamento(valorPrestacao,diasAtraso):.2f}') \n",
        "print()   \n",
        "print('Relatório do dia')\n",
        "print(f'Total de prestações pagas → {totalDePrestacoesPagas}\\nValor Total Recebido → R${valorTotalPago:.2f}')  \n"
      ],
      "execution_count": 117,
      "outputs": [
        {
          "output_type": "stream",
          "name": "stdout",
          "text": [
            "Digite 0 para sair do sistema e emitir o relatório\n",
            "Digite o valor da prestação: R$158\n",
            "Digite os dias em atraso: 0\n",
            "Valor da prestação → R$158.00 \n",
            "Valor a ser pago → R$158.00\n",
            "Digite o valor da prestação: R$0\n",
            "\n",
            "Relatório do dia\n",
            "Total de prestações pagas → 1\n",
            "Valor Total Recebido → R$158.00\n"
          ]
        }
      ]
    },
    {
      "cell_type": "markdown",
      "metadata": {
        "id": "Eq1t1bBZEzCF"
      },
      "source": [
        "**7- Faça uma função que informe a quantidade de dígitos de um determinado número inteiro informado.**"
      ]
    },
    {
      "cell_type": "code",
      "metadata": {
        "colab": {
          "base_uri": "https://localhost:8080/"
        },
        "id": "0YKkF53TE1zm",
        "outputId": "e1b9a99a-7a65-44bf-859d-0a4f621fe913"
      },
      "source": [
        "def contador(numero):\n",
        "  numero = len(str(numero))\n",
        "  return numero\n",
        "numero = int(input('Digite um número inteiro: '))  \n",
        "print(contador(numero))"
      ],
      "execution_count": 123,
      "outputs": [
        {
          "output_type": "stream",
          "name": "stdout",
          "text": [
            "Digite um número inteiro: 457\n",
            "3\n"
          ]
        }
      ]
    },
    {
      "cell_type": "markdown",
      "metadata": {
        "id": "D2Byr7BEFyyB"
      },
      "source": [
        "**8- Reverso do número. Faça uma função que retorne o reverso de um número inteiro informado. Por exemplo: 127 -> 721.**"
      ]
    },
    {
      "cell_type": "code",
      "metadata": {
        "colab": {
          "base_uri": "https://localhost:8080/"
        },
        "id": "FcctuHziF5o5",
        "outputId": "71bb7ae0-6ac2-4659-b86b-d166fd6b316f"
      },
      "source": [
        "def reverso(num):\n",
        "  num = str(num)\n",
        "  num = num[::-1]\n",
        "  return num\n",
        "num = int(input('Digite um número inteiro: '))\n",
        "print(reverso(num))  "
      ],
      "execution_count": 129,
      "outputs": [
        {
          "output_type": "stream",
          "name": "stdout",
          "text": [
            "Digite um número inteiro: 10321\n",
            "12301\n"
          ]
        }
      ]
    },
    {
      "cell_type": "markdown",
      "metadata": {
        "id": "81fe735OHY97"
      },
      "source": [
        "**9- Data com mês por extenso. Construa uma função que receba uma data no formato DD/MM/AAAA e devolva uma string no formato D de mes PorExtenso de AAAA. Opcionalmente, valide a data e retorne NULL caso a data seja inválida.**"
      ]
    },
    {
      "cell_type": "code",
      "metadata": {
        "colab": {
          "base_uri": "https://localhost:8080/"
        },
        "id": "CCVA3Mi0Hbzs",
        "outputId": "084990ee-396b-494e-d118-16bb556bd2cf"
      },
      "source": [
        "def extenso(data):\n",
        "  lista = list(data)\n",
        "  mes = lista[3:5]\n",
        "  dia = lista[0:2]\n",
        "  dia = ''.join(dia)\n",
        "  ano = lista[6:10]\n",
        "  ano = ''.join(ano)\n",
        "  if mes[0] == '0' and mes[1] == '1':\n",
        "    mesExt = f'{dia} de Janeiro de {ano}' \n",
        "    return mesExt\n",
        "  elif mes[0] == '0' and mes[1] == '2':\n",
        "    mesExt = f'{dia} de Fevereiro de {ano}' \n",
        "    return mesExt \n",
        "  elif mes[0] == '0' and mes[1] == '3':\n",
        "    mesExt = f'{dia} de Março de {ano}'\n",
        "    return mesExt  \n",
        "  elif mes[0] == '0' and mes[1] == '4':\n",
        "    mesExt = f'{dia} de Abril de {ano}' \n",
        "    return mesExt \n",
        "  elif mes[0] == '0' and mes[1] == '5':\n",
        "    mesExt = f'{dia} de Maio de {ano}'\n",
        "    return mesExt  \n",
        "  elif mes[0] == '0' and mes[1] == '6':\n",
        "    mesExt = f'{dia} de Junho de {ano}'\n",
        "    return mesExt  \n",
        "  elif mes[0] == '0' and mes[1] == '7':\n",
        "    mesExt = f'{dia} de Julho de {ano}' \n",
        "    return mesExt  \n",
        "  elif mes[0] == '0' and mes[1] == '8':\n",
        "    mesExt = f'{dia} de Agosto de {ano}'\n",
        "    return mesExt  \n",
        "  elif mes[0] == '0' and mes[1] == '9':\n",
        "    mesExt = f'{dia} de Setembro de {ano}'  \n",
        "    return mesExt \n",
        "  elif mes[0] == '1' and mes[1] == '0':\n",
        "    mesExt = f'{dia} de Outubro de {ano}' \n",
        "    return mesExt   \n",
        "  elif mes[0] == '1' and mes[1] == '1':\n",
        "    mesExt = f'{dia} de Novembro de {ano}' \n",
        "    return mesExt \n",
        "  elif mes[0] == '1' and mes[1] == '2':\n",
        "    mesExt = f'{dia} de Dezembro de {ano}'\n",
        "    return mesExt \n",
        "  elif len(lista) != 10 or lista[3] != '/' or lista[6] != '/':  \n",
        "    msg = 'Data inválida'\n",
        "    return msg \n",
        "pergunta = ''\n",
        "while pergunta != '1':\n",
        "  data = str(input('Digite uma data no formato 21/05/1979: '))\n",
        "  print(f'{extenso(data)}')\n",
        "  pergunta = str(input('Digite 1 para sair ou qualquer tecla para continuar: '))\n",
        "  if pergunta == '1':\n",
        "    print('Tecla 1 acionada, volte sempre')\n",
        "    break\n",
        "\n",
        "\n",
        "\n"
      ],
      "execution_count": 181,
      "outputs": [
        {
          "output_type": "stream",
          "name": "stdout",
          "text": [
            "Digite uma data no formato 21/05/1979: 05/18/1979\n",
            "Data inválida\n",
            "Digite 1 para sair ou qualquer tecla para continuar: 31/05/\n",
            "Digite uma data no formato 21/05/1979: 05/21/1979\n",
            "Data inválida\n",
            "Digite 1 para sair ou qualquer tecla para continuar: 21/05/1979\n",
            "Digite uma data no formato 21/05/1979: 21/05/1979\n",
            "21 de Maio de 1979\n",
            "Digite 1 para sair ou qualquer tecla para continuar: \n",
            "Digite uma data no formato 21/05/1979: 06/09/1995\n",
            "06 de Setembro de 1995\n",
            "Digite 1 para sair ou qualquer tecla para continuar: 1\n",
            "Tecla 1 acionada, volte sempre\n"
          ]
        }
      ]
    },
    {
      "cell_type": "markdown",
      "metadata": {
        "id": "wOYl62DuYVAK"
      },
      "source": [
        "**10- Embaralha palavra. Construa uma função que receba uma string como parâmetro e devolva outra string com os carateres embaralhados. Por exemplo: se função receber a palavra python, pode retornar npthyo,ophtyn ou qualquer outra combinação possível, de forma aleatória. Padronize em sua função que todos os caracteres serão devolvidos em caixa alta ou caixa baixa, independentemente de como foram digitados.**"
      ]
    },
    {
      "cell_type": "code",
      "metadata": {
        "colab": {
          "base_uri": "https://localhost:8080/"
        },
        "id": "n4vsSgFTYiH8",
        "outputId": "8880b706-c434-467a-ec30-ff2ae59247cd"
      },
      "source": [
        "def embaralhar(palavra):\n",
        "  palavra = list(palavra)\n",
        "  palavra = sorted(palavra)\n",
        "  palavra = ''.join(palavra)\n",
        "  return palavra\n",
        "\n",
        "palavra = str(input('Digite qualquer palavra: ')).upper()\n",
        "print(embaralhar(palavra)) "
      ],
      "execution_count": 187,
      "outputs": [
        {
          "output_type": "stream",
          "name": "stdout",
          "text": [
            "Digite qualquer palavra: david\n",
            "ADDIV\n"
          ]
        }
      ]
    },
    {
      "cell_type": "markdown",
      "metadata": {
        "id": "_JEkUqraZ-Lq"
      },
      "source": [
        "**11- Desenha moldura. Construa uma função que desenhe um retângulo usando os caracteres ‘+’ , ‘−’ e ‘| ‘. Esta função deve  receber  dois  parâmetros,linhas e colunas,  sendo  que  o  valor  por omissão  é  o  valor  mínimo  igual  a  1  e  o valor máximo é 20. Se valores fora da faixa forem informados, eles devem ser modificados para valores dentro da faixa de forma elegante.**"
      ]
    },
    {
      "cell_type": "code",
      "metadata": {
        "colab": {
          "base_uri": "https://localhost:8080/"
        },
        "id": "3IXxpwWkaSKM",
        "outputId": "08e4f357-6f7c-446d-c231-e0427e32972b"
      },
      "source": [
        "def moldura(linha,coluna):\n",
        "  l = linha\n",
        "  c = coluna\n",
        "  while linha > 0:\n",
        "    aux = 0\n",
        "    while aux < coluna:\n",
        "      if linha == l or aux == c-1 or linha == 1 or aux == 0:\n",
        "        print('+',end='')\n",
        "      else:\n",
        "        print(' ', end='')\n",
        "      aux+=1\n",
        "    linha-=1\n",
        "    print()    \n",
        "\n",
        "\n",
        "linha = int(input('Digite o valor da linha entre  1 e 20: '))\n",
        "coluna = int(input('Digite o valor da coluna entre  1 e 20: '))\n",
        "moldura(linha,coluna)"
      ],
      "execution_count": 200,
      "outputs": [
        {
          "output_type": "stream",
          "name": "stdout",
          "text": [
            "Digite o valor da linha entre  1 e 20: 9\n",
            "Digite o valor da coluna entre  1 e 20: 8\n",
            "++++++++\n",
            "+      +\n",
            "+      +\n",
            "+      +\n",
            "+      +\n",
            "+      +\n",
            "+      +\n",
            "+      +\n",
            "++++++++\n"
          ]
        }
      ]
    }
  ]
}